{
 "cells": [
  {
   "cell_type": "code",
   "execution_count": 32,
   "id": "941f640f",
   "metadata": {},
   "outputs": [
    {
     "data": {
      "text/plain": [
       "untitled: Int\n",
       "txid: Int\n",
       "blockid: Int\n",
       "status: Double\n",
       "creator_msp_id: String\n",
       "validation_code: String\n",
       "chaincode_proposal_input: Double\n",
       "chaincode: String\n",
       "key: String\n",
       "access_type: String\n",
       "version_block: Double?\n",
       "version_tx: Double?\n",
       "mvcc_cause: Int\n"
      ]
     },
     "execution_count": 32,
     "metadata": {},
     "output_type": "execute_result"
    }
   ],
   "source": [
    "%use dataframe\n",
    "%use coroutines\n",
    "import java.time.LocalDateTime\n",
    "\n",
    "var df = DataFrame.readCSV(\"data/pre_fault_dump.csv\")\n",
    "df.schema()"
   ]
  },
  {
   "cell_type": "code",
   "execution_count": 33,
   "id": "954f33c1",
   "metadata": {},
   "outputs": [
    {
     "name": "stdout",
     "output_type": "stream",
     "text": [
      "137"
     ]
    },
    {
     "data": {
      "text/html": [
       "        <html>\n",
       "        <head>\n",
       "            <style type=\"text/css\">\n",
       "                \n",
       "\n",
       "            </style>\n",
       "        </head>\n",
       "        <body>\n",
       "            <table class=\"dataframe\" id=\"df_-889192436\"></table>\n",
       "\n",
       "<p>... showing only top 20 of 92883 rows</p><p>DataFrame: rowsCount = 92883, columnsCount = 13</p>\n",
       "        </body>\n",
       "        <script>\n",
       "            /*<!--*/\n",
       "call_DataFrame(function() { DataFrame.addTable({ cols: [{ name: \"<span title=\\\"untitled: Int\\\">untitled</span>\", children: [], rightAlign: true, values: [\"<span class=\\\"formatted\\\" title=\\\"\\\"><span class=\\\"numbers\\\">161216</span></span>\",\"<span class=\\\"formatted\\\" title=\\\"\\\"><span class=\\\"numbers\\\">161218</span></span>\",\"<span class=\\\"formatted\\\" title=\\\"\\\"><span class=\\\"numbers\\\">161220</span></span>\",\"<span class=\\\"formatted\\\" title=\\\"\\\"><span class=\\\"numbers\\\">161221</span></span>\",\"<span class=\\\"formatted\\\" title=\\\"\\\"><span class=\\\"numbers\\\">161223</span></span>\",\"<span class=\\\"formatted\\\" title=\\\"\\\"><span class=\\\"numbers\\\">161224</span></span>\",\"<span class=\\\"formatted\\\" title=\\\"\\\"><span class=\\\"numbers\\\">161226</span></span>\",\"<span class=\\\"formatted\\\" title=\\\"\\\"><span class=\\\"numbers\\\">161227</span></span>\",\"<span class=\\\"formatted\\\" title=\\\"\\\"><span class=\\\"numbers\\\">161229</span></span>\",\"<span class=\\\"formatted\\\" title=\\\"\\\"><span class=\\\"numbers\\\">161230</span></span>\",\"<span class=\\\"formatted\\\" title=\\\"\\\"><span class=\\\"numbers\\\">161232</span></span>\",\"<span class=\\\"formatted\\\" title=\\\"\\\"><span class=\\\"numbers\\\">161233</span></span>\",\"<span class=\\\"formatted\\\" title=\\\"\\\"><span class=\\\"numbers\\\">161235</span></span>\",\"<span class=\\\"formatted\\\" title=\\\"\\\"><span class=\\\"numbers\\\">161236</span></span>\",\"<span class=\\\"formatted\\\" title=\\\"\\\"><span class=\\\"numbers\\\">161238</span></span>\",\"<span class=\\\"formatted\\\" title=\\\"\\\"><span class=\\\"numbers\\\">161239</span></span>\",\"<span class=\\\"formatted\\\" title=\\\"\\\"><span class=\\\"numbers\\\">161241</span></span>\",\"<span class=\\\"formatted\\\" title=\\\"\\\"><span class=\\\"numbers\\\">161242</span></span>\",\"<span class=\\\"formatted\\\" title=\\\"\\\"><span class=\\\"numbers\\\">161244</span></span>\",\"<span class=\\\"formatted\\\" title=\\\"\\\"><span class=\\\"numbers\\\">161245</span></span>\"] }, \n",
       "{ name: \"<span title=\\\"txid: Int\\\">txid</span>\", children: [], rightAlign: true, values: [\"<span class=\\\"formatted\\\" title=\\\"\\\"><span class=\\\"numbers\\\">10</span></span>\",\"<span class=\\\"formatted\\\" title=\\\"\\\"><span class=\\\"numbers\\\">11</span></span>\",\"<span class=\\\"formatted\\\" title=\\\"\\\"><span class=\\\"numbers\\\">12</span></span>\",\"<span class=\\\"formatted\\\" title=\\\"\\\"><span class=\\\"numbers\\\">12</span></span>\",\"<span class=\\\"formatted\\\" title=\\\"\\\"><span class=\\\"numbers\\\">13</span></span>\",\"<span class=\\\"formatted\\\" title=\\\"\\\"><span class=\\\"numbers\\\">13</span></span>\",\"<span class=\\\"formatted\\\" title=\\\"\\\"><span class=\\\"numbers\\\">14</span></span>\",\"<span class=\\\"formatted\\\" title=\\\"\\\"><span class=\\\"numbers\\\">14</span></span>\",\"<span class=\\\"formatted\\\" title=\\\"\\\"><span class=\\\"numbers\\\">15</span></span>\",\"<span class=\\\"formatted\\\" title=\\\"\\\"><span class=\\\"numbers\\\">15</span></span>\",\"<span class=\\\"formatted\\\" title=\\\"\\\"><span class=\\\"numbers\\\">16</span></span>\",\"<span class=\\\"formatted\\\" title=\\\"\\\"><span class=\\\"numbers\\\">16</span></span>\",\"<span class=\\\"formatted\\\" title=\\\"\\\"><span class=\\\"numbers\\\">17</span></span>\",\"<span class=\\\"formatted\\\" title=\\\"\\\"><span class=\\\"numbers\\\">17</span></span>\",\"<span class=\\\"formatted\\\" title=\\\"\\\"><span class=\\\"numbers\\\">18</span></span>\",\"<span class=\\\"formatted\\\" title=\\\"\\\"><span class=\\\"numbers\\\">18</span></span>\",\"<span class=\\\"formatted\\\" title=\\\"\\\"><span class=\\\"numbers\\\">19</span></span>\",\"<span class=\\\"formatted\\\" title=\\\"\\\"><span class=\\\"numbers\\\">19</span></span>\",\"<span class=\\\"formatted\\\" title=\\\"\\\"><span class=\\\"numbers\\\">20</span></span>\",\"<span class=\\\"formatted\\\" title=\\\"\\\"><span class=\\\"numbers\\\">20</span></span>\"] }, \n",
       "{ name: \"<span title=\\\"blockid: Int\\\">blockid</span>\", children: [], rightAlign: true, values: [\"<span class=\\\"formatted\\\" title=\\\"\\\"><span class=\\\"numbers\\\">4</span></span>\",\"<span class=\\\"formatted\\\" title=\\\"\\\"><span class=\\\"numbers\\\">5</span></span>\",\"<span class=\\\"formatted\\\" title=\\\"\\\"><span class=\\\"numbers\\\">6</span></span>\",\"<span class=\\\"formatted\\\" title=\\\"\\\"><span class=\\\"numbers\\\">6</span></span>\",\"<span class=\\\"formatted\\\" title=\\\"\\\"><span class=\\\"numbers\\\">6</span></span>\",\"<span class=\\\"formatted\\\" title=\\\"\\\"><span class=\\\"numbers\\\">6</span></span>\",\"<span class=\\\"formatted\\\" title=\\\"\\\"><span class=\\\"numbers\\\">7</span></span>\",\"<span class=\\\"formatted\\\" title=\\\"\\\"><span class=\\\"numbers\\\">7</span></span>\",\"<span class=\\\"formatted\\\" title=\\\"\\\"><span class=\\\"numbers\\\">7</span></span>\",\"<span class=\\\"formatted\\\" title=\\\"\\\"><span class=\\\"numbers\\\">7</span></span>\",\"<span class=\\\"formatted\\\" title=\\\"\\\"><span class=\\\"numbers\\\">7</span></span>\",\"<span class=\\\"formatted\\\" title=\\\"\\\"><span class=\\\"numbers\\\">7</span></span>\",\"<span class=\\\"formatted\\\" title=\\\"\\\"><span class=\\\"numbers\\\">7</span></span>\",\"<span class=\\\"formatted\\\" title=\\\"\\\"><span class=\\\"numbers\\\">7</span></span>\",\"<span class=\\\"formatted\\\" title=\\\"\\\"><span class=\\\"numbers\\\">7</span></span>\",\"<span class=\\\"formatted\\\" title=\\\"\\\"><span class=\\\"numbers\\\">7</span></span>\",\"<span class=\\\"formatted\\\" title=\\\"\\\"><span class=\\\"numbers\\\">7</span></span>\",\"<span class=\\\"formatted\\\" title=\\\"\\\"><span class=\\\"numbers\\\">7</span></span>\",\"<span class=\\\"formatted\\\" title=\\\"\\\"><span class=\\\"numbers\\\">7</span></span>\",\"<span class=\\\"formatted\\\" title=\\\"\\\"><span class=\\\"numbers\\\">7</span></span>\"] }, \n",
       "{ name: \"<span title=\\\"status: Double\\\">status</span>\", children: [], rightAlign: true, values: [\"<span class=\\\"formatted\\\" title=\\\"\\\"><span class=\\\"numbers\\\">200.0</span></span>\",\"<span class=\\\"formatted\\\" title=\\\"\\\"><span class=\\\"numbers\\\">200.0</span></span>\",\"<span class=\\\"formatted\\\" title=\\\"\\\"><span class=\\\"numbers\\\">200.0</span></span>\",\"<span class=\\\"formatted\\\" title=\\\"\\\"><span class=\\\"numbers\\\">200.0</span></span>\",\"<span class=\\\"formatted\\\" title=\\\"\\\"><span class=\\\"numbers\\\">200.0</span></span>\",\"<span class=\\\"formatted\\\" title=\\\"\\\"><span class=\\\"numbers\\\">200.0</span></span>\",\"<span class=\\\"formatted\\\" title=\\\"\\\"><span class=\\\"numbers\\\">200.0</span></span>\",\"<span class=\\\"formatted\\\" title=\\\"\\\"><span class=\\\"numbers\\\">200.0</span></span>\",\"<span class=\\\"formatted\\\" title=\\\"\\\"><span class=\\\"numbers\\\">200.0</span></span>\",\"<span class=\\\"formatted\\\" title=\\\"\\\"><span class=\\\"numbers\\\">200.0</span></span>\",\"<span class=\\\"formatted\\\" title=\\\"\\\"><span class=\\\"numbers\\\">200.0</span></span>\",\"<span class=\\\"formatted\\\" title=\\\"\\\"><span class=\\\"numbers\\\">200.0</span></span>\",\"<span class=\\\"formatted\\\" title=\\\"\\\"><span class=\\\"numbers\\\">200.0</span></span>\",\"<span class=\\\"formatted\\\" title=\\\"\\\"><span class=\\\"numbers\\\">200.0</span></span>\",\"<span class=\\\"formatted\\\" title=\\\"\\\"><span class=\\\"numbers\\\">200.0</span></span>\",\"<span class=\\\"formatted\\\" title=\\\"\\\"><span class=\\\"numbers\\\">200.0</span></span>\",\"<span class=\\\"formatted\\\" title=\\\"\\\"><span class=\\\"numbers\\\">200.0</span></span>\",\"<span class=\\\"formatted\\\" title=\\\"\\\"><span class=\\\"numbers\\\">200.0</span></span>\",\"<span class=\\\"formatted\\\" title=\\\"\\\"><span class=\\\"numbers\\\">200.0</span></span>\",\"<span class=\\\"formatted\\\" title=\\\"\\\"><span class=\\\"numbers\\\">200.0</span></span>\"] }, \n",
       "{ name: \"<span title=\\\"creator_msp_id: String\\\">creator_msp_id</span>\", children: [], rightAlign: false, values: [\"CentralBankOrgMSP\",\"CentralBankOrgMSP\",\"FIOrgMSP\",\"FIOrgMSP\",\"FIOrgMSP\",\"FIOrgMSP\",\"FIOrgMSP\",\"FIOrgMSP\",\"FIOrgMSP\",\"FIOrgMSP\",\"FIOrgMSP\",\"FIOrgMSP\",\"FIOrgMSP\",\"FIOrgMSP\",\"FIOrgMSP\",\"FIOrgMSP\",\"FIOrgMSP\",\"FIOrgMSP\",\"FIOrgMSP\",\"FIOrgMSP\"] }, \n",
       "{ name: \"<span title=\\\"validation_code: String\\\">validation_code</span>\", children: [], rightAlign: false, values: [\"VALID\",\"VALID\",\"VALID\",\"VALID\",\"VALID\",\"VALID\",\"VALID\",\"VALID\",\"VALID\",\"VALID\",\"VALID\",\"VALID\",\"VALID\",\"VALID\",\"VALID\",\"VALID\",\"VALID\",\"VALID\",\"VALID\",\"VALID\"] }, \n",
       "{ name: \"<span title=\\\"chaincode_proposal_input: Double\\\">chaincode_proposal_input</span>\", children: [], rightAlign: true, values: [\"<span class=\\\"formatted\\\" title=\\\"73657406907469070000000000000000000000000000000000000000000\\\"><span class=\\\"numbers\\\">7365740690746907000000000000000000000<span class=\\\"structural\\\">...</span></span></span>\",\"<span class=\\\"formatted\\\" title=\\\"73657406907469070000000000000000000000000000000000000000000\\\"><span class=\\\"numbers\\\">7365740690746907000000000000000000000<span class=\\\"structural\\\">...</span></span></span>\",\"<span class=\\\"formatted\\\" title=\\\"63726561746541640000000000000000000000000000000000000000000000000000000000000000000000000000000000000000000000000000000000000000000000000000000000000000000000000000000000000000000000000000000000000000000000000000000000000000000000000000000000000000000000000000000\\\"><span class=\\\"numbers\\\">6372656174654164000000000000000000000<span class=\\\"structural\\\">...</span></span></span>\",\"<span class=\\\"formatted\\\" title=\\\"63726561746541640000000000000000000000000000000000000000000000000000000000000000000000000000000000000000000000000000000000000000000000000000000000000000000000000000000000000000000000000000000000000000000000000000000000000000000000000000000000000000000000000000000\\\"><span class=\\\"numbers\\\">6372656174654164000000000000000000000<span class=\\\"structural\\\">...</span></span></span>\",\"<span class=\\\"formatted\\\" title=\\\"637265617465416400000000000000000000000000000000000000000000000000000000000000000000000000000000000000000000000000000000000000000000000000000000000000000000000000000000000000000000000000000000000000000000000000000000000000000000000000000000000000000000000000000000000\\\"><span class=\\\"numbers\\\">6372656174654164000000000000000000000<span class=\\\"structural\\\">...</span></span></span>\",\"<span class=\\\"formatted\\\" title=\\\"637265617465416400000000000000000000000000000000000000000000000000000000000000000000000000000000000000000000000000000000000000000000000000000000000000000000000000000000000000000000000000000000000000000000000000000000000000000000000000000000000000000000000000000000000\\\"><span class=\\\"numbers\\\">6372656174654164000000000000000000000<span class=\\\"structural\\\">...</span></span></span>\",\"<span class=\\\"formatted\\\" title=\\\"6372656174654165000000000000000000000000000000000000000000000000000000000000000000000000000000000000000000000000000000000000000000000000000000000000000000000000000000000000000000000000000000000000000000000000000000000000000000000000000000000000000000000000000000000000000\\\"><span class=\\\"numbers\\\">6372656174654165000000000000000000000<span class=\\\"structural\\\">...</span></span></span>\",\"<span class=\\\"formatted\\\" title=\\\"6372656174654165000000000000000000000000000000000000000000000000000000000000000000000000000000000000000000000000000000000000000000000000000000000000000000000000000000000000000000000000000000000000000000000000000000000000000000000000000000000000000000000000000000000000000\\\"><span class=\\\"numbers\\\">6372656174654165000000000000000000000<span class=\\\"structural\\\">...</span></span></span>\",\"<span class=\\\"formatted\\\" title=\\\"637265617465416400000000000000000000000000000000000000000000000000000000000000000000000000000000000000000000000000000000000000000000000000000000000000000000000000000000000000000000000000000000000000000000000000000000000000000000000000000000000000000000000000000000\\\"><span class=\\\"numbers\\\">6372656174654164000000000000000000000<span class=\\\"structural\\\">...</span></span></span>\",\"<span class=\\\"formatted\\\" title=\\\"637265617465416400000000000000000000000000000000000000000000000000000000000000000000000000000000000000000000000000000000000000000000000000000000000000000000000000000000000000000000000000000000000000000000000000000000000000000000000000000000000000000000000000000000\\\"><span class=\\\"numbers\\\">6372656174654164000000000000000000000<span class=\\\"structural\\\">...</span></span></span>\",\"<span class=\\\"formatted\\\" title=\\\"637265617465416500000000000000000000000000000000000000000000000000000000000000000000000000000000000000000000000000000000000000000000000000000000000000000000000000000000000000000000000000000000000000000000000000000000000000000000000000000000000000000000000000000000000000000\\\"><span class=\\\"numbers\\\">6372656174654165000000000000000000000<span class=\\\"structural\\\">...</span></span></span>\",\"<span class=\\\"formatted\\\" title=\\\"637265617465416500000000000000000000000000000000000000000000000000000000000000000000000000000000000000000000000000000000000000000000000000000000000000000000000000000000000000000000000000000000000000000000000000000000000000000000000000000000000000000000000000000000000000000\\\"><span class=\\\"numbers\\\">6372656174654165000000000000000000000<span class=\\\"structural\\\">...</span></span></span>\",\"<span class=\\\"formatted\\\" title=\\\"6372656174654164500000000000000000000000000000000000000000000000000000000000000000000000000000000000000000000000000000000000000000000000000000000000000000000000000000000000000000000000000000000000000000000000000000000000000000000000000000000000000000000000000000000000\\\"><span class=\\\"numbers\\\">6372656174654164500000000000000000000<span class=\\\"structural\\\">...</span></span></span>\",\"<span class=\\\"formatted\\\" title=\\\"6372656174654164500000000000000000000000000000000000000000000000000000000000000000000000000000000000000000000000000000000000000000000000000000000000000000000000000000000000000000000000000000000000000000000000000000000000000000000000000000000000000000000000000000000000\\\"><span class=\\\"numbers\\\">6372656174654164500000000000000000000<span class=\\\"structural\\\">...</span></span></span>\",\"<span class=\\\"formatted\\\" title=\\\"63726561746541650000000000000000000000000000000000000000000000000000000000000000000000000000000000000000000000000000000000000000000000000000000000000000000000000000000000000000000000000000000000000000000000000000000000000000000000000000000000000000000000000000000000000\\\"><span class=\\\"numbers\\\">6372656174654165000000000000000000000<span class=\\\"structural\\\">...</span></span></span>\",\"<span class=\\\"formatted\\\" title=\\\"63726561746541650000000000000000000000000000000000000000000000000000000000000000000000000000000000000000000000000000000000000000000000000000000000000000000000000000000000000000000000000000000000000000000000000000000000000000000000000000000000000000000000000000000000000\\\"><span class=\\\"numbers\\\">6372656174654165000000000000000000000<span class=\\\"structural\\\">...</span></span></span>\",\"<span class=\\\"formatted\\\" title=\\\"6372656174654164000000000000000000000000000000000000000000000000000000000000000000000000000000000000000000000000000000000000000000000000000000000000000000000000000000000000000000000000000000000000000000000000000000000000000000000000000000000000000000000000000000\\\"><span class=\\\"numbers\\\">6372656174654164000000000000000000000<span class=\\\"structural\\\">...</span></span></span>\",\"<span class=\\\"formatted\\\" title=\\\"6372656174654164000000000000000000000000000000000000000000000000000000000000000000000000000000000000000000000000000000000000000000000000000000000000000000000000000000000000000000000000000000000000000000000000000000000000000000000000000000000000000000000000000000\\\"><span class=\\\"numbers\\\">6372656174654164000000000000000000000<span class=\\\"structural\\\">...</span></span></span>\",\"<span class=\\\"formatted\\\" title=\\\"637265617465416500000000000000000000000000000000000000000000000000000000000000000000000000000000000000000000000000000000000000000000000000000000000000000000000000000000000000000000000000000000000000000000000000000000000000000000000000000000000000000000000000000\\\"><span class=\\\"numbers\\\">6372656174654165000000000000000000000<span class=\\\"structural\\\">...</span></span></span>\",\"<span class=\\\"formatted\\\" title=\\\"637265617465416500000000000000000000000000000000000000000000000000000000000000000000000000000000000000000000000000000000000000000000000000000000000000000000000000000000000000000000000000000000000000000000000000000000000000000000000000000000000000000000000000000\\\"><span class=\\\"numbers\\\">6372656174654165000000000000000000000<span class=\\\"structural\\\">...</span></span></span>\"] }, \n",
       "{ name: \"<span title=\\\"chaincode: String\\\">chaincode</span>\", children: [], rightAlign: false, values: [\"cbdc\",\"cbdc\",\"cbdc\",\"cbdc\",\"cbdc\",\"cbdc\",\"cbdc\",\"cbdc\",\"cbdc\",\"cbdc\",\"cbdc\",\"cbdc\",\"cbdc\",\"cbdc\",\"cbdc\",\"cbdc\",\"cbdc\",\"cbdc\",\"cbdc\",\"cbdc\"] }, \n",
       "{ name: \"<span title=\\\"key: String\\\">key</span>\", children: [], rightAlign: false, values: [\"MFIOrgMSP\",\"MFIOrgMSP\",\"<span class=\\\"formatted\\\" title=\\\"A0x901363d68e5e7869861628964b508eedce70ead1\\\">A0x901363d68e5e7869861628964b508eedce<span class=\\\"structural\\\">...</span></span>\",\"<span class=\\\"formatted\\\" title=\\\"K0x901363d68e5e7869861628964b508eedce70ead1\\\">K0x901363d68e5e7869861628964b508eedce<span class=\\\"structural\\\">...</span></span>\",\"<span class=\\\"formatted\\\" title=\\\"A0x3df37eccad281a01d7f70d95c5fee92e3625f404\\\">A0x3df37eccad281a01d7f70d95c5fee92e36<span class=\\\"structural\\\">...</span></span>\",\"<span class=\\\"formatted\\\" title=\\\"K0x3df37eccad281a01d7f70d95c5fee92e3625f404\\\">K0x3df37eccad281a01d7f70d95c5fee92e36<span class=\\\"structural\\\">...</span></span>\",\"<span class=\\\"formatted\\\" title=\\\"A0x49332e817c16b9d0d6c32c412215588ce03e86e4\\\">A0x49332e817c16b9d0d6c32c412215588ce0<span class=\\\"structural\\\">...</span></span>\",\"<span class=\\\"formatted\\\" title=\\\"K0x49332e817c16b9d0d6c32c412215588ce03e86e4\\\">K0x49332e817c16b9d0d6c32c412215588ce0<span class=\\\"structural\\\">...</span></span>\",\"<span class=\\\"formatted\\\" title=\\\"A0x16b738df53de26e0d02b6c8b2a0c6a0b091ae00e\\\">A0x16b738df53de26e0d02b6c8b2a0c6a0b09<span class=\\\"structural\\\">...</span></span>\",\"<span class=\\\"formatted\\\" title=\\\"K0x16b738df53de26e0d02b6c8b2a0c6a0b091ae00e\\\">K0x16b738df53de26e0d02b6c8b2a0c6a0b09<span class=\\\"structural\\\">...</span></span>\",\"<span class=\\\"formatted\\\" title=\\\"A0x874cf3749169388dca6488e460ade4e99c4112dc\\\">A0x874cf3749169388dca6488e460ade4e99c<span class=\\\"structural\\\">...</span></span>\",\"<span class=\\\"formatted\\\" title=\\\"K0x874cf3749169388dca6488e460ade4e99c4112dc\\\">K0x874cf3749169388dca6488e460ade4e99c<span class=\\\"structural\\\">...</span></span>\",\"<span class=\\\"formatted\\\" title=\\\"A0xda0e8928b5c3bc00586679fb082453b92c458dce\\\">A0xda0e8928b5c3bc00586679fb082453b92c<span class=\\\"structural\\\">...</span></span>\",\"<span class=\\\"formatted\\\" title=\\\"K0xda0e8928b5c3bc00586679fb082453b92c458dce\\\">K0xda0e8928b5c3bc00586679fb082453b92c<span class=\\\"structural\\\">...</span></span>\",\"<span class=\\\"formatted\\\" title=\\\"A0x2578eb28ba3db5be29d691cff61bc048ff4599c1\\\">A0x2578eb28ba3db5be29d691cff61bc048ff<span class=\\\"structural\\\">...</span></span>\",\"<span class=\\\"formatted\\\" title=\\\"K0x2578eb28ba3db5be29d691cff61bc048ff4599c1\\\">K0x2578eb28ba3db5be29d691cff61bc048ff<span class=\\\"structural\\\">...</span></span>\",\"<span class=\\\"formatted\\\" title=\\\"A0xa37bcd6a92d246ec5a085d9c74584f109872276c\\\">A0xa37bcd6a92d246ec5a085d9c74584f1098<span class=\\\"structural\\\">...</span></span>\",\"<span class=\\\"formatted\\\" title=\\\"K0xa37bcd6a92d246ec5a085d9c74584f109872276c\\\">K0xa37bcd6a92d246ec5a085d9c74584f1098<span class=\\\"structural\\\">...</span></span>\",\"<span class=\\\"formatted\\\" title=\\\"A0xb16d1f5f168c75ccc6f0b287171347f08740c223\\\">A0xb16d1f5f168c75ccc6f0b287171347f087<span class=\\\"structural\\\">...</span></span>\",\"<span class=\\\"formatted\\\" title=\\\"K0xb16d1f5f168c75ccc6f0b287171347f08740c223\\\">K0xb16d1f5f168c75ccc6f0b287171347f087<span class=\\\"structural\\\">...</span></span>\"] }, \n",
       "{ name: \"<span title=\\\"access_type: String\\\">access_type</span>\", children: [], rightAlign: false, values: [\"WRITE\",\"WRITE\",\"WRITE\",\"WRITE\",\"WRITE\",\"WRITE\",\"WRITE\",\"WRITE\",\"WRITE\",\"WRITE\",\"WRITE\",\"WRITE\",\"WRITE\",\"WRITE\",\"WRITE\",\"WRITE\",\"WRITE\",\"WRITE\",\"WRITE\",\"WRITE\"] }, \n",
       "{ name: \"<span title=\\\"version_block: Double?\\\">version_block</span>\", children: [], rightAlign: true, values: [\"<span class=\\\"formatted\\\" title=\\\"\\\"><span class=\\\"null\\\">null</span></span>\",\"<span class=\\\"formatted\\\" title=\\\"\\\"><span class=\\\"null\\\">null</span></span>\",\"<span class=\\\"formatted\\\" title=\\\"\\\"><span class=\\\"null\\\">null</span></span>\",\"<span class=\\\"formatted\\\" title=\\\"\\\"><span class=\\\"null\\\">null</span></span>\",\"<span class=\\\"formatted\\\" title=\\\"\\\"><span class=\\\"null\\\">null</span></span>\",\"<span class=\\\"formatted\\\" title=\\\"\\\"><span class=\\\"null\\\">null</span></span>\",\"<span class=\\\"formatted\\\" title=\\\"\\\"><span class=\\\"null\\\">null</span></span>\",\"<span class=\\\"formatted\\\" title=\\\"\\\"><span class=\\\"null\\\">null</span></span>\",\"<span class=\\\"formatted\\\" title=\\\"\\\"><span class=\\\"null\\\">null</span></span>\",\"<span class=\\\"formatted\\\" title=\\\"\\\"><span class=\\\"null\\\">null</span></span>\",\"<span class=\\\"formatted\\\" title=\\\"\\\"><span class=\\\"null\\\">null</span></span>\",\"<span class=\\\"formatted\\\" title=\\\"\\\"><span class=\\\"null\\\">null</span></span>\",\"<span class=\\\"formatted\\\" title=\\\"\\\"><span class=\\\"null\\\">null</span></span>\",\"<span class=\\\"formatted\\\" title=\\\"\\\"><span class=\\\"null\\\">null</span></span>\",\"<span class=\\\"formatted\\\" title=\\\"\\\"><span class=\\\"null\\\">null</span></span>\",\"<span class=\\\"formatted\\\" title=\\\"\\\"><span class=\\\"null\\\">null</span></span>\",\"<span class=\\\"formatted\\\" title=\\\"\\\"><span class=\\\"null\\\">null</span></span>\",\"<span class=\\\"formatted\\\" title=\\\"\\\"><span class=\\\"null\\\">null</span></span>\",\"<span class=\\\"formatted\\\" title=\\\"\\\"><span class=\\\"null\\\">null</span></span>\",\"<span class=\\\"formatted\\\" title=\\\"\\\"><span class=\\\"null\\\">null</span></span>\"] }, \n",
       "{ name: \"<span title=\\\"version_tx: Double?\\\">version_tx</span>\", children: [], rightAlign: true, values: [\"<span class=\\\"formatted\\\" title=\\\"\\\"><span class=\\\"null\\\">null</span></span>\",\"<span class=\\\"formatted\\\" title=\\\"\\\"><span class=\\\"null\\\">null</span></span>\",\"<span class=\\\"formatted\\\" title=\\\"\\\"><span class=\\\"null\\\">null</span></span>\",\"<span class=\\\"formatted\\\" title=\\\"\\\"><span class=\\\"null\\\">null</span></span>\",\"<span class=\\\"formatted\\\" title=\\\"\\\"><span class=\\\"null\\\">null</span></span>\",\"<span class=\\\"formatted\\\" title=\\\"\\\"><span class=\\\"null\\\">null</span></span>\",\"<span class=\\\"formatted\\\" title=\\\"\\\"><span class=\\\"null\\\">null</span></span>\",\"<span class=\\\"formatted\\\" title=\\\"\\\"><span class=\\\"null\\\">null</span></span>\",\"<span class=\\\"formatted\\\" title=\\\"\\\"><span class=\\\"null\\\">null</span></span>\",\"<span class=\\\"formatted\\\" title=\\\"\\\"><span class=\\\"null\\\">null</span></span>\",\"<span class=\\\"formatted\\\" title=\\\"\\\"><span class=\\\"null\\\">null</span></span>\",\"<span class=\\\"formatted\\\" title=\\\"\\\"><span class=\\\"null\\\">null</span></span>\",\"<span class=\\\"formatted\\\" title=\\\"\\\"><span class=\\\"null\\\">null</span></span>\",\"<span class=\\\"formatted\\\" title=\\\"\\\"><span class=\\\"null\\\">null</span></span>\",\"<span class=\\\"formatted\\\" title=\\\"\\\"><span class=\\\"null\\\">null</span></span>\",\"<span class=\\\"formatted\\\" title=\\\"\\\"><span class=\\\"null\\\">null</span></span>\",\"<span class=\\\"formatted\\\" title=\\\"\\\"><span class=\\\"null\\\">null</span></span>\",\"<span class=\\\"formatted\\\" title=\\\"\\\"><span class=\\\"null\\\">null</span></span>\",\"<span class=\\\"formatted\\\" title=\\\"\\\"><span class=\\\"null\\\">null</span></span>\",\"<span class=\\\"formatted\\\" title=\\\"\\\"><span class=\\\"null\\\">null</span></span>\"] }, \n",
       "{ name: \"<span title=\\\"mvcc_cause: Int\\\">mvcc_cause</span>\", children: [], rightAlign: true, values: [\"<span class=\\\"formatted\\\" title=\\\"\\\"><span class=\\\"numbers\\\">0</span></span>\",\"<span class=\\\"formatted\\\" title=\\\"\\\"><span class=\\\"numbers\\\">0</span></span>\",\"<span class=\\\"formatted\\\" title=\\\"\\\"><span class=\\\"numbers\\\">0</span></span>\",\"<span class=\\\"formatted\\\" title=\\\"\\\"><span class=\\\"numbers\\\">0</span></span>\",\"<span class=\\\"formatted\\\" title=\\\"\\\"><span class=\\\"numbers\\\">0</span></span>\",\"<span class=\\\"formatted\\\" title=\\\"\\\"><span class=\\\"numbers\\\">0</span></span>\",\"<span class=\\\"formatted\\\" title=\\\"\\\"><span class=\\\"numbers\\\">0</span></span>\",\"<span class=\\\"formatted\\\" title=\\\"\\\"><span class=\\\"numbers\\\">0</span></span>\",\"<span class=\\\"formatted\\\" title=\\\"\\\"><span class=\\\"numbers\\\">0</span></span>\",\"<span class=\\\"formatted\\\" title=\\\"\\\"><span class=\\\"numbers\\\">0</span></span>\",\"<span class=\\\"formatted\\\" title=\\\"\\\"><span class=\\\"numbers\\\">0</span></span>\",\"<span class=\\\"formatted\\\" title=\\\"\\\"><span class=\\\"numbers\\\">0</span></span>\",\"<span class=\\\"formatted\\\" title=\\\"\\\"><span class=\\\"numbers\\\">0</span></span>\",\"<span class=\\\"formatted\\\" title=\\\"\\\"><span class=\\\"numbers\\\">0</span></span>\",\"<span class=\\\"formatted\\\" title=\\\"\\\"><span class=\\\"numbers\\\">0</span></span>\",\"<span class=\\\"formatted\\\" title=\\\"\\\"><span class=\\\"numbers\\\">0</span></span>\",\"<span class=\\\"formatted\\\" title=\\\"\\\"><span class=\\\"numbers\\\">0</span></span>\",\"<span class=\\\"formatted\\\" title=\\\"\\\"><span class=\\\"numbers\\\">0</span></span>\",\"<span class=\\\"formatted\\\" title=\\\"\\\"><span class=\\\"numbers\\\">0</span></span>\",\"<span class=\\\"formatted\\\" title=\\\"\\\"><span class=\\\"numbers\\\">0</span></span>\"] }, \n",
       "], id: -889192436, rootId: -889192436, totalRows: 92883 } ) });\n",
       "/*-->*/\n",
       "\n",
       "call_DataFrame(function() { DataFrame.renderTable(-889192436) });\n",
       "\n",
       "\n",
       "        </script>\n",
       "        </html>"
      ]
     },
     "execution_count": 33,
     "metadata": {},
     "output_type": "execute_result"
    }
   ],
   "source": [
    "import kotlinx.coroutines.sync.Mutex\n",
    "import kotlinx.coroutines.sync.withLock\n",
    "import kotlinx.coroutines.Dispatchers.Default\n",
    "\n",
    "val start = System.currentTimeMillis()\n",
    "val mutex = Mutex()\n",
    "\n",
    "for(i in 0 until(df.rowsCount())){\n",
    "    val row = df[i]\n",
    "    if(row[\"validation_code\"]==\"MVCC_READ_CONFLICT\" && row[\"access_type\"]==\"READ\"){\n",
    "        var j = i\n",
    "        val blockId = row.blockid\n",
    "        val key = row[\"key\"]\n",
    "        val versionB = row.version_block\n",
    "        if(versionB!=null){\n",
    "            CoroutineScope(Default).launch{\n",
    "                while(df.blockid[j]>versionB || j==0){\n",
    "                    j--\n",
    "                    val rowj = df[j]\n",
    "                    if(rowj.key==key && rowj.validation_code==\"VALID\" && rowj.access_type==\"WRITE\"){\n",
    "                        mutex.withLock{\n",
    "                            df = df.update{ mvcc_cause }.at(j).with { it+1 }\n",
    "                        }\n",
    "                    break\n",
    "                    }\n",
    "                } \n",
    "            }  \n",
    "        }\n",
    "    }\n",
    "}\n",
    "val end = System.currentTimeMillis()\n",
    "print(end-start)\n",
    "df"
   ]
  },
  {
   "cell_type": "code",
   "execution_count": 45,
   "id": "588f137b",
   "metadata": {},
   "outputs": [
    {
     "data": {
      "text/html": [
       "   <div id=\"pHIqlL\"></div>\n",
       "   <script type=\"text/javascript\" data-lets-plot-script=\"library\">\n",
       "       if(!window.letsPlotCallQueue) {\n",
       "           window.letsPlotCallQueue = [];\n",
       "       }; \n",
       "       window.letsPlotCall = function(f) {\n",
       "           window.letsPlotCallQueue.push(f);\n",
       "       };\n",
       "       (function() {\n",
       "           var script = document.createElement(\"script\");\n",
       "           script.type = \"text/javascript\";\n",
       "           script.src = \"https://cdn.jsdelivr.net/gh/JetBrains/lets-plot@v2.2.1/js-package/distr/lets-plot.min.js\";\n",
       "           script.onload = function() {\n",
       "               window.letsPlotCall = function(f) {f();};\n",
       "               window.letsPlotCallQueue.forEach(function(f) {f();});\n",
       "               window.letsPlotCallQueue = [];\n",
       "               \n",
       "               \n",
       "           };\n",
       "           script.onerror = function(event) {\n",
       "               window.letsPlotCall = function(f) {};\n",
       "               window.letsPlotCallQueue = [];\n",
       "               var div = document.createElement(\"div\");\n",
       "               div.style.color = 'darkred';\n",
       "               div.textContent = 'Error loading Lets-Plot JS';\n",
       "               document.getElementById(\"pHIqlL\").appendChild(div);\n",
       "           };\n",
       "           var e = document.getElementById(\"pHIqlL\");\n",
       "           e.appendChild(script);\n",
       "       })();\n",
       "   </script>"
      ]
     },
     "metadata": {},
     "output_type": "display_data"
    },
    {
     "data": {
      "text/html": [
       "        <html>\n",
       "        <head>\n",
       "            <style type=\"text/css\">\n",
       "                \n",
       "\n",
       "            </style>\n",
       "        </head>\n",
       "        <body>\n",
       "            <table class=\"dataframe\" id=\"df_-889192433\"></table>\n",
       "\n",
       "<p>DataFrame: rowsCount = 3, columnsCount = 2</p>\n",
       "        </body>\n",
       "        <script>\n",
       "            /*<!--*/\n",
       "call_DataFrame(function() { DataFrame.addTable({ cols: [{ name: \"<span title=\\\"key: String\\\">key</span>\", children: [], rightAlign: false, values: [\"MFIOrgMSP\",\"<span class=\\\"formatted\\\" title=\\\"A0xe00fb17df7e4994af519770a95b2c45f65d213ca\\\">A0xe00fb17df7e4994af519770a95b2c45f65<span class=\\\"structural\\\">...</span></span>\",\"<span class=\\\"formatted\\\" title=\\\"A0xa959b1366f8d97cd69b5db2d007f676e7a8c963a\\\">A0xa959b1366f8d97cd69b5db2d007f676e7a<span class=\\\"structural\\\">...</span></span>\"] }, \n",
       "{ name: \"<span title=\\\"mvccs_caused: Int\\\">mvccs_caused</span>\", children: [], rightAlign: true, values: [\"<span class=\\\"formatted\\\" title=\\\"\\\"><span class=\\\"numbers\\\">11253</span></span>\",\"<span class=\\\"formatted\\\" title=\\\"\\\"><span class=\\\"numbers\\\">1</span></span>\",\"<span class=\\\"formatted\\\" title=\\\"\\\"><span class=\\\"numbers\\\">1</span></span>\"] }, \n",
       "], id: -889192433, rootId: -889192433, totalRows: 3 } ) });\n",
       "/*-->*/\n",
       "\n",
       "call_DataFrame(function() { DataFrame.renderTable(-889192433) });\n",
       "\n",
       "\n",
       "        </script>\n",
       "        </html>"
      ]
     },
     "execution_count": 45,
     "metadata": {},
     "output_type": "execute_result"
    }
   ],
   "source": [
    "%use lets-plot\n",
    "%use lets-plot-dataframe\n",
    "import jetbrains.letsPlot.*\n",
    "import jetbrains.letsPlot.geom.*\n",
    "import jetbrains.letsPlot.stat.*\n",
    "\n",
    "var idk = df.groupBy{ key }.sum(\"mvccs_caused\"){ mvcc_cause }\n",
    "idk = idk.sortByDesc(\"mvccs_caused\").filter { \"mvccs_caused\"<Int>() > 0 }\n",
    "idk\n",
    "// val data = mapOf(\"keys\" to idk[\"key\"],\n",
    "//                 \"mvccs caused\" to idk[\"mvccs_caused\"])\n",
    "// var p = letsPlot(data)\n",
    "// p+= geomBar(width=0.1)\n",
    "// p\n",
    "\n",
    "// df = df.sortByDesc{ mvccs_caused }"
   ]
  }
 ],
 "metadata": {
  "kernelspec": {
   "display_name": "Kotlin",
   "language": "kotlin",
   "name": "kotlin"
  },
  "language_info": {
   "codemirror_mode": "text/x-kotlin",
   "file_extension": ".kt",
   "mimetype": "text/x-kotlin",
   "name": "kotlin",
   "nbconvert_exporter": "",
   "pygments_lexer": "kotlin",
   "version": "1.7.0-dev-1825"
  }
 },
 "nbformat": 4,
 "nbformat_minor": 5
}
