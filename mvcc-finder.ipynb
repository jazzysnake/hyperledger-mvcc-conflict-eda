{
 "cells": [
  {
   "cell_type": "markdown",
   "id": "e4c8a465",
   "metadata": {},
   "source": [
    " # MVCC cause finder\n",
    " *This notebook uses the kotlin kernel (https://github.com/Kotlin/kotlin-jupyter) to process datasets with \n",
    " large amounts of read conflicts.*\n",
    " Please export the dataframe from the python notebook so the csv can be read here."
   ]
  },
  {
   "cell_type": "code",
   "execution_count": null,
   "id": "20a22938-b299-45e6-a8a3-05c8f35f9007",
   "metadata": {},
   "outputs": [],
   "source": [
    "%use dataframe\n",
    "%use coroutines\n",
    "import java.time.LocalDateTime"
   ]
  },
  {
   "cell_type": "code",
   "execution_count": null,
   "id": "941f640f",
   "metadata": {},
   "outputs": [],
   "source": [
    "// dataframe containing all keyaccesses, sorted by txid, and access type, ascending\n",
    "var df = DataFrame.readCSV(\"data/txsmvccs_pre.csv\")\n",
    "val txid by column<Int>()\n",
    "val access_type by column<String>()\n",
    "df = df.sortBy{ txid }\n",
    "df = df.replace(\"untitled\").with{(0..df.rowsCount()-1).toList().toColumn(\"untitled\")}\n",
    "df.schema()"
   ]
  },
  {
   "cell_type": "code",
   "execution_count": null,
   "id": "954f33c1",
   "metadata": {},
   "outputs": [],
   "source": [
    "import kotlinx.coroutines.sync.Mutex\n",
    "import kotlinx.coroutines.sync.withLock\n",
    "import kotlinx.coroutines.Dispatchers.Default\n",
    "\n",
    "val mutex = Mutex()\n",
    "// list to store the background jobs in\n",
    "val jobs = mutableListOf<Job>()\n",
    "val start = System.currentTimeMillis()\n",
    "val rowCount = df.rowsCount()\n",
    "val percentile = 10\n",
    "val threshold = rowCount.toDouble()/percentile.toDouble()\n",
    "runBlocking{\n",
    "    var k = 1\n",
    "    // iterate over all rows(keyaccesses)\n",
    "    for(i in 0 until(rowCount)){\n",
    "        // print iteration progress\n",
    "        if(i>threshold*k){\n",
    "            val done = (percentile*k)\n",
    "            print(\"$done%...\")\n",
    "            k++\n",
    "        }\n",
    "        val row = df[i]\n",
    "        // if keyaccess' validation code is MVCC and its access type is READ\n",
    "        if(row[\"validation_code\"]==\"MVCC_READ_CONFLICT\" && row[\"access_type\"]==\"READ\"){\n",
    "            // save the key and its block version\n",
    "            val current_key = row[\"key\"]\n",
    "            val current_versionBlock = row.version_block\n",
    "            val current_versionTx = row.version_tx\n",
    "            val current_txid = row.txid\n",
    "            // start a new thread\n",
    "            val job = CoroutineScope(Default).launch{\n",
    "                // find all valid writes for the given key, in the interval between the keyaccess\n",
    "                // and the block specified in the keyaccess' version\n",
    "                val subset = df.filter {\n",
    "                    txid < current_txid &&\n",
    "                    (blockid > current_versionBlock || (blockid==current_versionBlock && current_versionTx<version_tx)) &&\n",
    "                    current_key == key &&\n",
    "                    access_type == \"WRITE\" &&\n",
    "                    validation_code==\"VALID\"\n",
    "                }\n",
    "                // if successful mark last one as mvcc causing\n",
    "                if(subset.rowsCount()>0){\n",
    "                    val index = subset.last().untitled\n",
    "                    mutex.withLock{\n",
    "                        df = df.update{ mvcc_cause }.at(index).with { it+1 }\n",
    "                        if(df[index].mvcc_caused_at == null){\n",
    "                            df = df.update{ mvcc_caused_at }.at(index).with { \"\" + df[i].txid + \",\"}\n",
    "                        }else {\n",
    "                            df = df.update{ mvcc_caused_at }.at(index).with { it +df[i].txid + \",\" } \n",
    "                        }\n",
    "                        // find out if any other key has been marked as mvcc causing in the transaction\n",
    "                        val tx = df.filter{ txid == current_txid && mvcc_cause_found_for_tx == true }\n",
    "                        // if not mark this row as mvcc causing\n",
    "                        if(tx.rowsCount()==0){\n",
    "                            df = df.update{ mvcc_cause_for_tx }.at(index).with { it+1 }\n",
    "                            if(df[index].mvcc_caused_at_for_tx == null){\n",
    "                                df = df.update{ mvcc_caused_at_for_tx }.at(index).with { \"\" + df[i].txid + \",\"}\n",
    "                            }else {\n",
    "                                df = df.update{ mvcc_caused_at_for_tx }.at(index).with { it +df[i].txid + \",\" } \n",
    "                            }\n",
    "                            df = df.update { mvcc_cause_found_for_tx }.where { txid == current_txid }.withValue( true )\n",
    "                        }\n",
    "                    }\n",
    "                }\n",
    "            }\n",
    "            // save the job so it can be waited for\n",
    "            jobs.add(job)\n",
    "        }\n",
    "    }\n",
    "    val done = k*percentile\n",
    "    println(\"$done%\")\n",
    "    print(\"waiting for background threads...\")\n",
    "    // wait for all background jobs to complete\n",
    "    jobs.joinAll()\n",
    "}\n",
    "val end = System.currentTimeMillis()\n",
    "val diff = end-start\n",
    "print(\"Operation took: $diff ms\")\n",
    "df.writeCSV(\"data/txsmvccs_post_no_gb.csv\")\n",
    "df"
   ]
  },
  {
   "cell_type": "code",
   "execution_count": null,
   "id": "588f137b",
   "metadata": {},
   "outputs": [],
   "source": [
    "// group by keys and calculate the sum of mvccs they caused\n",
    "var processed = df.groupBy{ key }.sum(\"mvccs_caused\"){ mvcc_cause }\n",
    "// sort by mvccs caused descending, only keep ones that caused more than 0\n",
    "processed = processed.sortByDesc(\"mvccs_caused\").filter { \"mvccs_caused\"<Int>() > 0 }\n",
    "// write it to disk as csv\n",
    "processed.writeCSV(\"data/txsmvccs_post.csv\")\n",
    "print(\"done!\")"
   ]
  },
  {
   "cell_type": "code",
   "execution_count": null,
   "id": "49cdbf2e-9011-4510-a13d-24fba4c39150",
   "metadata": {},
   "outputs": [],
   "source": [
    "println(\"distinct caused at: \" + df.mvcc_caused_at.countDistinct())\n",
    "println(\"mvcc causes found: \" + df.mvcc_cause.sum())"
   ]
  }
 ],
 "metadata": {
  "kernelspec": {
   "display_name": "Kotlin",
   "language": "kotlin",
   "name": "kotlin"
  },
  "language_info": {
   "codemirror_mode": "text/x-kotlin",
   "file_extension": ".kt",
   "mimetype": "text/x-kotlin",
   "name": "kotlin",
   "nbconvert_exporter": "",
   "pygments_lexer": "kotlin",
   "version": "1.7.0-dev-1825"
  }
 },
 "nbformat": 4,
 "nbformat_minor": 5
}
