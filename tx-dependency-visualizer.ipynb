{
 "cells": [
  {
   "cell_type": "code",
   "execution_count": 3,
   "metadata": {
    "scrolled": true
   },
   "outputs": [
    {
     "data": {
      "application/vnd.jupyter.widget-view+json": {
       "model_id": "896d8b725d814399ac6e3b94ce230e95"
      },
      "text/plain": [
       "      id  blockid chaincodename  status     creator_msp_id  \\\n",
       "0      6        3          lscc   200.0  CentralBankOrgMSP   \n",
       "4     10        4          cbdc   200.0  CentralBankOrgMSP   \n",
       "5     11        5          cbdc   200.0           FIOrgMSP   \n",
       "6     12        6          cbdc   200.0           FIOrgMSP   \n",
       "7     13        7          cbdc   200.0           FIOrgMSP   \n",
       "..   ...      ...           ...     ...                ...   \n",
       "578  584      225          cbdc   200.0           FIOrgMSP   \n",
       "579  585      225          cbdc   200.0           FIOrgMSP   \n",
       "580  586      226          cbdc   200.0           FIOrgMSP   \n",
       "581  587      227          cbdc   200.0           FIOrgMSP   \n",
       "582  588      228          cbdc   200.0           FIOrgMSP   \n",
       "\n",
       "                                              read_set  \\\n",
       "0    [{'chaincode': 'lscc', 'set': [{'key': 'cbdc'}]}]   \n",
       "4    [{'chaincode': 'cbdc', 'set': []}, {'chaincode...   \n",
       "5    [{'chaincode': 'cbdc', 'set': [{'key': 'A0x73b...   \n",
       "6    [{'chaincode': 'cbdc', 'set': [{'key': 'A0xb8e...   \n",
       "7    [{'chaincode': 'cbdc', 'set': [{'key': 'A0xa8b...   \n",
       "..                                                 ...   \n",
       "578  [{'chaincode': 'cbdc', 'set': [{'key': 'A0x47b...   \n",
       "579  [{'chaincode': 'cbdc', 'set': [{'key': 'A0x7d2...   \n",
       "580  [{'chaincode': 'cbdc', 'set': [{'key': 'A0x2b1...   \n",
       "581  [{'chaincode': 'cbdc', 'set': [{'key': 'A0x0e0...   \n",
       "582  [{'chaincode': 'cbdc', 'set': [{'key': 'A0x0e0...   \n",
       "\n",
       "                                             write_set  \\\n",
       "0    [{'chaincode': 'lscc', 'set': [{'key': 'cbdc',...   \n",
       "4    [{'chaincode': 'cbdc', 'set': [{'key': 'MFIOrg...   \n",
       "5    [{'chaincode': 'cbdc', 'set': [{'key': 'A0x73b...   \n",
       "6    [{'chaincode': 'cbdc', 'set': [{'key': 'A0xb8e...   \n",
       "7    [{'chaincode': 'cbdc', 'set': [{'key': 'A0xa8b...   \n",
       "..                                                 ...   \n",
       "578  [{'chaincode': 'cbdc', 'set': [{'key': 'A0x47b...   \n",
       "579  [{'chaincode': 'cbdc', 'set': [{'key': 'A0x7d2...   \n",
       "580  [{'chaincode': 'cbdc', 'set': [{'key': 'A0x2b1...   \n",
       "581  [{'chaincode': 'cbdc', 'set': [{'key': 'A0x0e0...   \n",
       "582  [{'chaincode': 'cbdc', 'set': [{'key': 'A0x0e0...   \n",
       "\n",
       "                validation_code  \\\n",
       "0                         VALID   \n",
       "4                         VALID   \n",
       "5                         VALID   \n",
       "6                         VALID   \n",
       "7                         VALID   \n",
       "..                          ...   \n",
       "578  ENDORSEMENT_POLICY_FAILURE   \n",
       "579          MVCC_READ_CONFLICT   \n",
       "580          MVCC_READ_CONFLICT   \n",
       "581                       VALID   \n",
       "582                       VALID   \n",
       "\n",
       "                              chaincode_proposal_input  \n",
       "0    6465700079,6570650670063686100650,013811201246...  \n",
       "4    7365740690746906741000776106365,46490726705350...  \n",
       "5    63726561746541646472657373,3078373362613431366...  \n",
       "6    63726561746541646472657373,3078623865323937313...  \n",
       "7    63726561746541646472657373,3078613862666337356...  \n",
       "..                                                 ...  \n",
       "578  747261073666572,307834376263646134643234306334...  \n",
       "579  747261073666572,307837643261383765333731343932...  \n",
       "580  747261073666572,307836363666343536396335613231...  \n",
       "581  747261073666572,307830653065386233306361353366...  \n",
       "582  747261073666572,307830653065386233306361353366...  \n",
       "\n",
       "[580 rows x 9 columns]"
      ]
     },
     "metadata": {},
     "output_type": "display_data"
    }
   ],
   "source": [
    "DATABASE_HOST=\"172.22.0.2\"\n",
    "DATABASE_DATABASE=\"fabricexplorer\"\n",
    "DATABASE_USERNAME=\"hppoc\"\n",
    "DATABASE_PASSWORD=\"password\"\n",
    "\n",
    "import pandas as pd\n",
    "import numpy as np\n",
    "from sqlalchemy import create_engine\n",
    "import bamboolib as bam\n",
    "import matplotlib.pyplot as ptlib\n",
    "import plotly.express as px\n",
    "import json\n",
    "\n",
    "# list all user defined tables and schemas\n",
    "# \"SELECT * FROM pg_catalog.pg_tables WHERE schemaname != 'information_schema' AND schemaname != 'pg_catalog';\"\n",
    "\n",
    "#initializing resources\n",
    "engine = create_engine('postgresql://'+DATABASE_USERNAME+':'+DATABASE_PASSWORD+'@'+DATABASE_HOST+':5432/'+DATABASE_DATABASE)\n",
    "\n",
    "txQuery = \"SELECT * FROM transactions\"\n",
    "txDf = pd.read_sql(txQuery,con=engine)\n",
    "# txDf.to_csv('backup.csv')\n",
    "txDf=txDf[txDf['read_set'].isna()==False]\n",
    "txDf=txDf[txDf['chaincodename'].str.contains('_lifecycle')==False]\n",
    "txDf=txDf[txDf['type'].str.contains('CONFIG')==False]\n",
    "txDf=txDf.drop(columns=[\"txhash\",\"chaincode_id\",\"endorser_msp_id\",\"type\",\"createdt\",\"channel_genesis_hash\",\"envelope_signature\",\"creator_id_bytes\", \"creator_nonce\", \"payload_extension\",\"tx_response\",\"payload_proposal_hash\",\"endorser_id_bytes\",\"endorser_signature\", \"network_name\"])\n",
    "txDf"
   ]
  },
  {
   "cell_type": "code",
   "execution_count": 4,
   "metadata": {
    "scrolled": true
   },
   "outputs": [
    {
     "data": {
      "application/vnd.jupyter.widget-view+json": {
       "model_id": "dee55c6349f144ce8aeb23c49b8e4f17"
      },
      "text/plain": [
       "      id  blockid chaincodename  status     creator_msp_id  \\\n",
       "4     10        4          cbdc   200.0  CentralBankOrgMSP   \n",
       "4     10        4          cbdc   200.0  CentralBankOrgMSP   \n",
       "5     11        5          cbdc   200.0           FIOrgMSP   \n",
       "5     11        5          cbdc   200.0           FIOrgMSP   \n",
       "6     12        6          cbdc   200.0           FIOrgMSP   \n",
       "..   ...      ...           ...     ...                ...   \n",
       "581  587      227          cbdc   200.0           FIOrgMSP   \n",
       "582  588      228          cbdc   200.0           FIOrgMSP   \n",
       "582  588      228          cbdc   200.0           FIOrgMSP   \n",
       "582  588      228          cbdc   200.0           FIOrgMSP   \n",
       "582  588      228          cbdc   200.0           FIOrgMSP   \n",
       "\n",
       "                                              read_set  \\\n",
       "4    {'chaincode': 'lscc', 'set': [{'key': 'cbdc', ...   \n",
       "4    {'chaincode': 'lscc', 'set': [{'key': 'cbdc', ...   \n",
       "5    {'chaincode': 'lscc', 'set': [{'key': 'cbdc', ...   \n",
       "5    {'chaincode': 'lscc', 'set': [{'key': 'cbdc', ...   \n",
       "6    {'chaincode': 'lscc', 'set': [{'key': 'cbdc', ...   \n",
       "..                                                 ...   \n",
       "581  {'chaincode': 'lscc', 'set': [{'key': 'cbdc', ...   \n",
       "582  {'chaincode': 'cbdc', 'set': [{'key': 'A0x0e0e...   \n",
       "582  {'chaincode': 'cbdc', 'set': [{'key': 'A0x0e0e...   \n",
       "582  {'chaincode': 'lscc', 'set': [{'key': 'cbdc', ...   \n",
       "582  {'chaincode': 'lscc', 'set': [{'key': 'cbdc', ...   \n",
       "\n",
       "                                             write_set validation_code  \\\n",
       "4    {'chaincode': 'cbdc', 'set': [{'key': 'MFIOrgM...           VALID   \n",
       "4                     {'chaincode': 'lscc', 'set': []}           VALID   \n",
       "5    {'chaincode': 'cbdc', 'set': [{'key': 'A0x73ba...           VALID   \n",
       "5                     {'chaincode': 'lscc', 'set': []}           VALID   \n",
       "6    {'chaincode': 'cbdc', 'set': [{'key': 'A0xb8e2...           VALID   \n",
       "..                                                 ...             ...   \n",
       "581                   {'chaincode': 'lscc', 'set': []}           VALID   \n",
       "582  {'chaincode': 'cbdc', 'set': [{'key': 'A0x0e0e...           VALID   \n",
       "582                   {'chaincode': 'lscc', 'set': []}           VALID   \n",
       "582  {'chaincode': 'cbdc', 'set': [{'key': 'A0x0e0e...           VALID   \n",
       "582                   {'chaincode': 'lscc', 'set': []}           VALID   \n",
       "\n",
       "                              chaincode_proposal_input  \n",
       "4    7365740690746906741000776106365,46490726705350...  \n",
       "4    7365740690746906741000776106365,46490726705350...  \n",
       "5    63726561746541646472657373,3078373362613431366...  \n",
       "5    63726561746541646472657373,3078373362613431366...  \n",
       "6    63726561746541646472657373,3078623865323937313...  \n",
       "..                                                 ...  \n",
       "581  747261073666572,307830653065386233306361353366...  \n",
       "582  747261073666572,307830653065386233306361353366...  \n",
       "582  747261073666572,307830653065386233306361353366...  \n",
       "582  747261073666572,307830653065386233306361353366...  \n",
       "582  747261073666572,307830653065386233306361353366...  \n",
       "\n",
       "[1912 rows x 9 columns]"
      ]
     },
     "metadata": {},
     "output_type": "display_data"
    }
   ],
   "source": [
    "# txDf['read_set']=read_set\n",
    "# txDf['write_set']=write_set\n",
    "txDf = txDf.explode('read_set')\n",
    "txDf = txDf.explode('write_set')\n",
    "txDf = txDf.loc[(txDf['read_set'].astype('string').str.contains('version', case=False, regex=False, na=False))]\n",
    "txDf"
   ]
  },
  {
   "cell_type": "code",
   "execution_count": 5,
   "metadata": {
    "scrolled": true
   },
   "outputs": [
    {
     "data": {
      "application/vnd.jupyter.widget-view+json": {
       "model_id": "e5057306d904470baa09d9cc6c793bb7"
      },
      "text/plain": [
       "      id  blockid  status     creator_msp_id validation_code  \\\n",
       "4     10        4   200.0  CentralBankOrgMSP           VALID   \n",
       "4     10        4   200.0  CentralBankOrgMSP           VALID   \n",
       "5     11        5   200.0           FIOrgMSP           VALID   \n",
       "5     11        5   200.0           FIOrgMSP           VALID   \n",
       "6     12        6   200.0           FIOrgMSP           VALID   \n",
       "..   ...      ...     ...                ...             ...   \n",
       "581  587      227   200.0           FIOrgMSP           VALID   \n",
       "582  588      228   200.0           FIOrgMSP           VALID   \n",
       "582  588      228   200.0           FIOrgMSP           VALID   \n",
       "582  588      228   200.0           FIOrgMSP           VALID   \n",
       "582  588      228   200.0           FIOrgMSP           VALID   \n",
       "\n",
       "                              chaincode_proposal_input r_chaincode  \\\n",
       "4    7365740690746906741000776106365,46490726705350...        lscc   \n",
       "4    7365740690746906741000776106365,46490726705350...        lscc   \n",
       "5    63726561746541646472657373,3078373362613431366...        lscc   \n",
       "5    63726561746541646472657373,3078373362613431366...        lscc   \n",
       "6    63726561746541646472657373,3078623865323937313...        lscc   \n",
       "..                                                 ...         ...   \n",
       "581  747261073666572,307830653065386233306361353366...        lscc   \n",
       "582  747261073666572,307830653065386233306361353366...        cbdc   \n",
       "582  747261073666572,307830653065386233306361353366...        cbdc   \n",
       "582  747261073666572,307830653065386233306361353366...        lscc   \n",
       "582  747261073666572,307830653065386233306361353366...        lscc   \n",
       "\n",
       "                                                    rs w_chaincode  \\\n",
       "4    [{'key': 'cbdc', 'version': {'block_num': {'lo...        cbdc   \n",
       "4    [{'key': 'cbdc', 'version': {'block_num': {'lo...        lscc   \n",
       "5    [{'key': 'cbdc', 'version': {'block_num': {'lo...        cbdc   \n",
       "5    [{'key': 'cbdc', 'version': {'block_num': {'lo...        lscc   \n",
       "6    [{'key': 'cbdc', 'version': {'block_num': {'lo...        cbdc   \n",
       "..                                                 ...         ...   \n",
       "581  [{'key': 'cbdc', 'version': {'block_num': {'lo...        lscc   \n",
       "582  [{'key': 'A0x0e0e8b30ca53fdb1a1b78d0d8e8040884...        cbdc   \n",
       "582  [{'key': 'A0x0e0e8b30ca53fdb1a1b78d0d8e8040884...        lscc   \n",
       "582  [{'key': 'cbdc', 'version': {'block_num': {'lo...        cbdc   \n",
       "582  [{'key': 'cbdc', 'version': {'block_num': {'lo...        lscc   \n",
       "\n",
       "                                                    ws  \n",
       "4    [{'key': 'MFIOrgMSP', 'is_delete': False, 'val...  \n",
       "4                                                   []  \n",
       "5    [{'key': 'A0x73ba416ebcb00a81a9f94beb3995d8d25...  \n",
       "5                                                   []  \n",
       "6    [{'key': 'A0xb8e29712346ac4a2d8f44ea9c8008c3f4...  \n",
       "..                                                 ...  \n",
       "581                                                 []  \n",
       "582  [{'key': 'A0x0e0e8b30ca53fdb1a1b78d0d8e8040884...  \n",
       "582                                                 []  \n",
       "582  [{'key': 'A0x0e0e8b30ca53fdb1a1b78d0d8e8040884...  \n",
       "582                                                 []  \n",
       "\n",
       "[1912 rows x 10 columns]"
      ]
     },
     "metadata": {},
     "output_type": "display_data"
    }
   ],
   "source": [
    "txDf['r_chaincode'] =txDf['read_set'].apply(lambda x: x['chaincode'])\n",
    "txDf['rs'] =txDf['read_set'].apply(lambda x: x['set'])\n",
    "txDf = txDf.drop(columns=['chaincodename','read_set'])\n",
    "txDf['w_chaincode'] =txDf['write_set'].apply(lambda x: x['chaincode'])\n",
    "txDf['ws'] =txDf['write_set'].apply(lambda x: x['set'])\n",
    "txDf = txDf.drop(columns=['write_set'])\n",
    "txDf"
   ]
  },
  {
   "cell_type": "code",
   "execution_count": 6,
   "metadata": {},
   "outputs": [
    {
     "data": {
      "application/vnd.jupyter.widget-view+json": {
       "model_id": "5e3050694ee64b3eb1d8d830b4219ea1"
      },
      "text/plain": [
       "      txid  blockid  status creator_msp_id validation_code  \\\n",
       "396    208      105   200.0       FIOrgMSP           VALID   \n",
       "397    208      105   200.0       FIOrgMSP           VALID   \n",
       "398    208      105   200.0       FIOrgMSP           VALID   \n",
       "399    208      105   200.0       FIOrgMSP           VALID   \n",
       "402    209      106   200.0       FIOrgMSP           VALID   \n",
       "...    ...      ...     ...            ...             ...   \n",
       "5524   587      227   200.0       FIOrgMSP           VALID   \n",
       "5526   588      228   200.0       FIOrgMSP           VALID   \n",
       "5527   588      228   200.0       FIOrgMSP           VALID   \n",
       "5529   588      228   200.0       FIOrgMSP           VALID   \n",
       "5530   588      228   200.0       FIOrgMSP           VALID   \n",
       "\n",
       "                               chaincode_proposal_input chaincode  \\\n",
       "396   069074550697473,307837336261343136656263623030...      cbdc   \n",
       "397   069074550697473,307837336261343136656263623030...      cbdc   \n",
       "398   069074550697473,307837336261343136656263623030...      cbdc   \n",
       "399   069074550697473,307837336261343136656263623030...      cbdc   \n",
       "402   069074550697473,307862386532393731323334366163...      cbdc   \n",
       "...                                                 ...       ...   \n",
       "5524  747261073666572,307830653065386233306361353366...      cbdc   \n",
       "5526  747261073666572,307830653065386233306361353366...      cbdc   \n",
       "5527  747261073666572,307830653065386233306361353366...      cbdc   \n",
       "5529  747261073666572,307830653065386233306361353366...      cbdc   \n",
       "5530  747261073666572,307830653065386233306361353366...      cbdc   \n",
       "\n",
       "                                              key access_type  version_block  \\\n",
       "396   A0x73ba416ebcb00a81a9f94beb3995d8d257eb3c1c        READ            5.0   \n",
       "397                                     MFIOrgMSP        READ            8.0   \n",
       "398   A0x73ba416ebcb00a81a9f94beb3995d8d257eb3c1c        READ            5.0   \n",
       "399                                     MFIOrgMSP        READ            8.0   \n",
       "402   A0xb8e29712346ac4a2d8f44ea9c8008c3f4bf79831        READ            6.0   \n",
       "...                                           ...         ...            ...   \n",
       "5524  A0x3830650ef4e52b6a58a830fb1efee3b2e3e8ad8d       WRITE            NaN   \n",
       "5526  A0x0e0e8b30ca53fdb1a1b78d0d8e804088424078ea       WRITE            NaN   \n",
       "5527  A0x5fa7c7927b806090725841b9eafdea2238003460       WRITE            NaN   \n",
       "5529  A0x0e0e8b30ca53fdb1a1b78d0d8e804088424078ea       WRITE            NaN   \n",
       "5530  A0x5fa7c7927b806090725841b9eafdea2238003460       WRITE            NaN   \n",
       "\n",
       "      version_tx  \n",
       "396          0.0  \n",
       "397          1.0  \n",
       "398          0.0  \n",
       "399          1.0  \n",
       "402          0.0  \n",
       "...          ...  \n",
       "5524         NaN  \n",
       "5526         NaN  \n",
       "5527         NaN  \n",
       "5529         NaN  \n",
       "5530         NaN  \n",
       "\n",
       "[3418 rows x 11 columns]"
      ]
     },
     "metadata": {},
     "output_type": "display_data"
    }
   ],
   "source": [
    "def classifyWrite(ws):\n",
    "    if str(ws)=='nan':\n",
    "        return np.nan\n",
    "    elif ws['is_delete']:\n",
    "        return 'DELETE'\n",
    "    else:\n",
    "        return 'WRITE'\n",
    "txDfr = txDf.drop(columns=['w_chaincode','ws']).explode('rs')\n",
    "txDfr = txDfr.rename(columns={'r_chaincode': 'chaincode','rs':'key'})\n",
    "txDfr['access_type'] = txDfr['key'].apply(lambda x: 'READ')\n",
    "txDfr['version_block'] = txDfr['key'].apply(lambda x: np.nan if str(x) == 'nan' else x['version']['block_num']['low'])\n",
    "txDfr['version_tx'] = txDfr['key'].apply(lambda x: np.nan if str(x) == 'nan' else x['version']['tx_num']['low'])\n",
    "txDfw = txDf.drop(columns=['r_chaincode','rs']).explode('ws')\n",
    "txDfw = txDfw.rename(columns={'w_chaincode': 'chaincode','ws':'key'})\n",
    "txDfw['access_type'] = txDfw['key'].apply(lambda x: classifyWrite(x))\n",
    "txDf = txDfr.append(txDfw).reset_index(drop=True).rename(columns={'id':'txid'})\n",
    "txDf['key']=txDf['key'].apply(lambda x:np.nan if str(x) == 'nan' else x['key'])\n",
    "# Step: Drop missing values in ['key']\n",
    "txDf = txDf.dropna(subset=['key'])\n",
    "# Step: Drop rows where chaincode is one of: lscc\n",
    "txDf = txDf.loc[~(txDf['chaincode'].isin(['lscc','_lifecycle']))]\n",
    "txDf"
   ]
  },
  {
   "cell_type": "code",
   "execution_count": 31,
   "metadata": {},
   "outputs": [
    {
     "data": {
      "application/vnd.plotly.v1+json": {
       "config": {
        "plotlyServerURL": "https://plot.ly"
       },
       "data": [
        {
         "alignmentgroup": "True",
         "hovertemplate": "key=%{x}<br>reads=%{y}<extra></extra>",
         "legendgroup": "",
         "marker": {
          "color": "#636efa"
         },
         "name": "",
         "offsetgroup": "",
         "orientation": "v",
         "showlegend": false,
         "textposition": "auto",
         "type": "bar",
         "x": [
          "MFIOrgMSP",
          "A0x9f806eb85af2e8a00b22499966d450c277064343",
          "A0x0e085ccc6d804abdff0c704d8ce3e96dffbd1de8",
          "A0x1f16ec496f67770a95485ae817412e5e972fd3f0",
          "A0xc7fd85a482959b8c56958cd91b127a45171c19b7",
          "A0xb7c027e32b5dcfa44ed481dcadf41778b8f24cdc",
          "A0x2b1f1adeb10645efa1a7cb26306bfa57117d2266",
          "A0x5c0bcd3688421889c39dde697542cdf40fdd932f",
          "A0x2d84a437082721461ed4c1cf0c2a19939e7f0059",
          "A0x7d2a87e3714922a0c52ba0096ccb501d9585a492",
          "A0x3fe329340ead5fff587252304fa012fb43521517",
          "A0xeeafc639dc16596fac574e318803d799db8b8de4",
          "A0x3796818941c68e5888da14b3cacd342bd6e4cefd",
          "A0x664f1d0b98f077ffa74e5ddd798bfc6f1fc437d3",
          "A0xb095fb897149b08a1b29a6ca74bb66f55d30d6f2",
          "A0x68415af95b8e704c70a236deb07a47418aa2aa58",
          "A0x6bbbb02aca0851cef054ed1f73c2fa84ba52b1d1",
          "A0x1b57a9193495d6cc3355d652c5c1397565b2ec38",
          "A0x67d8589793e9155932f9087ff4f03f6c76528254",
          "A0x3830650ef4e52b6a58a830fb1efee3b2e3e8ad8d",
          "A0xcfb9ea2f484399e68e99fed4bce1c2da0ece92e1",
          "A0xbf45b32208988a2a02f9a4e0989c7fd6b121130f",
          "A0xe5c1dbc76b0962cf29ab5772fc1934d0bbb7ac68",
          "A0xbf65a1d1c1f56e6507bd847ba7aced70ecce0cda",
          "A0xc4e76b8e93569ed1cbc702635a4e04aa036bdd4f",
          "A0xd35b6a327d9616ea49b8aafeeab5deb02079d6e4",
          "A0xbe70d4544b35e435b8ee1aa24dc6f0271b12ccd3",
          "A0xd1c0b781fb4e33c936a1b9c82c34ad67bf060e61",
          "A0xb96484250607bf42c7841e056dd333a4f90b8dcc",
          "A0x4516106aa231922658ff2834ca1fb39ceeddf88a",
          "A0xe007eff5481ec0cd4ae5a5b71196d8cf8983bd87",
          "A0xdd2b9ecf1a0a41ea9ef3d5201051759b9ef6f257",
          "A0xcd032b158e95e01d6938e4c45fca9a116d1069c6",
          "A0xce6862563d7fe971e77a0f798e176d2d471c4c0c",
          "A0x6a3e4dacd4be636738bdd385b19068500dbed4d3",
          "A0x75b595abe8093f097d826f3ecf5484a9163e892c",
          "A0x7629a88b72c521e860b9abfddd38a16631ddc170",
          "A0x945f1fdf01a6127ffac0af4773e61e68955017c4",
          "A0x9479bb1b65b5ec578fe970c45d0ca82ecef427bd",
          "A0x97f26e31acc1bf35cd8706f87c6b70a11eb2ce50",
          "A0xa8bfc75daf5989f7da100025b60554838aa72409",
          "A0x7da7b51c8ff0551ee6f80b4b29c80708ea30871a",
          "A0x16e0464b67e95eed311f2654936add548c00ec62",
          "A0x297be78d71173f473e793dc4dc228a0082ce7b2c",
          "A0x213ce06a3580d126d87978ac72f345ee6072053e",
          "A0x1b1502a4b725b307aa6d2dad6604d1c631e2d24a",
          "A0x0e0e8b30ca53fdb1a1b78d0d8e804088424078ea",
          "A0xc5fa7e4f4caa5bfb8315350ba663bf0d329b5065",
          "A0x74aa18b2ac25287356e55a05cf536a6e90cb2d5c",
          "A0x7a5d41ce24afc33459ad9600bcf6ae586636d8b9",
          "A0x7a671755d21b5fb4e2bdca61be8cda8a0482363c",
          "A0x9c17ce07fe0f3969ac12cb0784d426f64b98b0b2",
          "A0x62b4671d570d83103ab964d9071a273a5d001fee",
          "A0x61dfc7ad6d199d395d5dc74bf0f393006005789d",
          "A0xb8e29712346ac4a2d8f44ea9c8008c3f4bf79831",
          "A0xbd98dcdb4c33c360a1ad056243f8483f93144619",
          "A0xbf0ec4d5b5ff3d7d789824238590b030cbf11ef9",
          "A0x02e778a99dadc6a96658957ab44af0ff300792d6",
          "A0x124352fad855e20416ceb3df50ceb6084a0fbd72",
          "A0xd8958a9716cd74062b89c36b5f13abd89a4a502b",
          "A0x04b0451cfa41b61975d8f02d92fe49805ae51aa1",
          "A0xe289c8674f7788abbcf2d2f5775ba96cf73cf8bd",
          "A0x31eee26fc04f2d260892874d2d7b2f8aac47c40e",
          "A0xd13cb0faf2fed2d27e485075a8e1ef96f2bf249f",
          "A0x73ba416ebcb00a81a9f94beb3995d8d257eb3c1c",
          "A0x08933d8ee8e4e562a9ed3ca42d4e6e9bd255fe3d",
          "A0xa42fb67f20cb24e175b0c1c060738305856710fa",
          "A0xe040280fb103744f6b26c15a68fb193040743fc1",
          "A0x7050849edd9ae8631d0984c9f6beaedcca505175",
          "A0x13aefaeee20d6dc6b57c819ca25fc57dd156fc18",
          "A0x9349aa6c6e72fe86a83e72e15fd1c9c4dd2987b3",
          "A0x19d4773547082d233c8baadc23d38548a8a0a05e",
          "A0x8cc1b870aa785254f0aace6e8b71160ec1e72a16",
          "A0xe826cc045021e88f5e942a010753f66bd4430ba3",
          "A0x7bc741576c17970a309df156d73978ccd1aa45f0",
          "A0xea4e09f9c8778403edf3c79a8225b298acfdbb1d",
          "A0xc887549295bda98cb91a41cef27fab706d7eea03",
          "A0xf1dbc9e8dfaccadcb7ccff1e03c7663819e36191",
          "A0xfa3d15572db66b98bfb29c0ccbefd04db1a6abe8",
          "A0x8d9b5dd881b373f1eb9f9bcd4f1c892c9c9c7d9d",
          "A0xa3be17a089d05578b82ceb0f61b01570855c71c6",
          "A0x45dc40853174f09f1510bff4a37b93a0377a95d2",
          "A0x48fc11486d3ccb3d863fed58ba12f7be7f63a2ca",
          "A0x666f4569c5a215ce4891e5e8cc5b61ce7a22415d",
          "A0x41d886eda61871b64c0f46042016c15115c4558a",
          "A0x6258efcf7368388f0ad132ed9b40e377ff201c0a",
          "A0x47bcda4d240c456198c861022f30e16f3e8e8173",
          "A0x2d2a95d499911f247203a859aa91be50bf8d2ae1",
          "A0xd185cbc8d2773a731ec1396559d4b9778297569d",
          "A0xa7b7e9bc992068625357f84a93275b9c8fbaf175",
          "A0x4147644a2ee313152ed302b5b668fe4e6a41e802",
          "A0xdae57a345a6af516b210500e4f4569721d3c6e28",
          "A0x0609bf26af445f294a6aae69cb3cc075a2e68707",
          "A0x18ee7b93cda2e269952ea7365492d0d42604bb2d",
          "A0xdf229c482d3ba4930a2ad72bfe864a80d6007819",
          "A0x18debee65be9cadb3b3e9fb08c83b94557e00edb",
          "A0x5fa7c7927b806090725841b9eafdea2238003460",
          "A0xbc6d5b83e75c2d6bb85d9d7177f2b2b97eb237bc",
          "A0xd72b576e6c42e2b9f20feb1097b8d413a01cddb9",
          "A0xea8d69bd2fb64968cdb05238fbbdeb918c62f6a4",
          "A0xbf168810ed85f240d565273768c62cb383f2130a",
          "A0xc4267c3d2a5ae47ad329633438c20f1c73a7c849",
          "A0xd36a21c511621c71a6d01336db005d5997c18882",
          "A0x0a0b5c4e689b4f2ac909d83e9ddf8838eadbed4d",
          "A0xd307fa9296118538c9ef3fb4f4bbbb9f79c1a202",
          "A0xc6770aae5b9565ddd942253126365e0da725f048",
          "A0x51413253eacd1953f918bb30273fabe0a58c6928",
          "A0xcc0ed3a331cea379c0a43ca7783507bc726ec016",
          "A0x11bff0a264952798dca922bd47ad4b481d116621",
          "A0xcd6891ea7ea976689e0ab33ce1dee20d51708ebb",
          "A0xa1892bdfeee38914bab98c74f730600b6c1d7b7d",
          "A0x56fece89b531dd8cb8ff924d531fabd5530c73fb",
          "A0xa0c5af67f246d7bda1da64948abc5f1cfa8d0787",
          "A0x831e364c22b5f20e7be3aaf48d60e965da067472",
          "A0x032e378b8adfea64782e895294879ae9c626a70b",
          "A0xf95f6e4e95b14f86d2af7ee5d54fcc8baa6fc721",
          "A0x2ab90eb5b986904c465e7cfee8d54f15dc6458e3",
          "A0x2aafabaa6b764dda5c1b567918d3b621b4bef34a",
          "A0xf6bd3b92489777c0ae41adb868e5624df65bd1ab",
          "A0x8dde22fa2ede10d42db13d344bf817b67d5b8f8f",
          "A0xfad922de28a0202404cda237e99cc3edd5525eba",
          "A0x924d8ac1f0673994ad95e27afa3288635a3ed2e5",
          "A0x291c06a0cb6af5a67a057749efe04d5c619349e5",
          "A0x6443a7fe6aefd8c43c624431d19897ac8f942bf0",
          "A0x1dc865311ccd631646abf3160e832a5e106aea40",
          "A0x1db60780fae6d93aab523d82be5418800759869a",
          "A0x979bfa220d2ae311d3e7fae200f387abdfcbf8de",
          "A0x399860889955c6573619a57a138eabe4155b0a63",
          "A0xfb8ff2fcd599a8c6c0384c2446f49a7a613f66d2",
          "A0x9d32eae47d32b52a161c3eec8c92fa8021fbe15d",
          "A0x6331434cce34419719caf6dcd787c41ecab56c1b",
          "A0xfea2f9fef7e7af0fb3c8f74dd3654a26e902bb27",
          "A0x7dd01d254074db8e926e4f0c6d6ba8b4f6c7c809",
          "A0xfde9aea364294c9da1697471df052c7adc377dfe",
          "A0xfac184ecc4afe6cc570ebb07a33936918ea5e53d",
          "A0x0c20d5d370b869dd728b1092d99367262cde9c77",
          "A0x327d476ee7192cf54ff457c9f3a990994a4876d1",
          "A0xd8526a276ecb901685865a0bab5b222608a1849a",
          "A0xd48e13ada40330ca515a3648bc1bff2e7eb9af49",
          "A0xd4a0760f2abc986554915a08a0e12a46e14b655e",
          "A0xfa3a79bfec22aa4debaf8d03b90f84546b4c1f63",
          "A0x3c66165a873e24f5348b8b8ea0fb499d88f3d3c8",
          "A0x2fd59c2f49772c4e9ef42a7491290ff3037253d1",
          "A0xdbad20e48e5d7ea50dc78fd33b2457f9e7aa941b",
          "A0x427e1d84fd7b89e8faeefa9d8d8fc459496a7e53",
          "A0x3ae053323c103b1c7aff9fe8c75b6a7e0126b8aa",
          "A0x04d2f242952d9bb815fba44a0af38d6bef96d555",
          "A0xe6c689b3268f297e4c269f99d6b970944e7f433f",
          "A0xeae39848c40aecc6abd11cd88e0a7c020ce8666a",
          "A0x3dcaa3605aa8d30d2b434ead05ea4653b29b50b9",
          "A0x6d631080e8daef28463e6b5c4c125a6df03bf1e5",
          "A0x10c264fa3c7a49eceb469dcaa6eecb4e16eb0304",
          "A0x8c23dd5326261def14aa29eab9085de810f68301",
          "A0x34bdb0cd02062d27365ab4d56f2332e405a572ae",
          "A0xa10e856fff434c6290b0507514b57908b79c75fc",
          "A0x9f983750d09650afe3822dea047b96f97065915a",
          "A0x6348c71de25feaa41227fc9e2ba3a84be0bb7117",
          "A0x1d81ebc3c2b351dad2473a00c54d218ece20ca0d",
          "A0x650a1cbda525a273b84d42ee578f479c849f7e32",
          "A0x8a04864db111d27aade3a955b06d4babfc312ec6",
          "A0x53978e41fb14e4963ab6f15fe641374c76c66b08",
          "A0x7d3449ec07b776ec75c4ebca96f41a59d7da5881",
          "A0x7c8c1f9081244c7d3835f162a61dad68a3f5c247",
          "A0x29ae2d92c17e2324aeb20aa9ddf6fcc788739099",
          "A0x7690a5351bb887949b0d676ad4fb03a096caf8a9",
          "A0x27c3679ec8674e87a44e5e453b069b81e60fc136",
          "A0x27d64af4c23870c5a421f6da0b3869c9a9cb482c",
          "A0xa715e36063182c9854123f9c649e75059be2d8aa",
          "A0xa786797e0adb67871dd6b6cfbded649a20c14739",
          "A0xa8a8885e7bc2c575139380f3d5d707b8e20e7574",
          "A0x618621c24c42e6a138f7db0a82dad2a152e5f8c9",
          "A0xab787dc6bb494bb1159b52705b18b90c46752be5",
          "A0xaca9a990390f22f73b04132cac6d6afdc494279f",
          "A0xb58bcd432d285b0b62c61b3cc651e3651241fad1",
          "A0xb7e8d8cff92adaa5e568c88cdd80196e070bc1f3",
          "A0x1806efe37becc930700028e73e654f8b51078fd0",
          "A0xbca33cc14108595949f856b4fd307bbcf2e29f7b",
          "A0xbca9fbdcc84ff2ddde35f1992b4448c7ecb2e619",
          "A0x5d4ef8a4196f27a81d1b1a471998e6f14daae07e",
          "A0x6bf52ef2502c4fb4aaf41b5cd1df640208738fe9",
          "A0x547ff01418ac59609ced50067c67f091f0fcd19b",
          "A0x1309ca5daf888fc4ebc4204895e2d65b8e4dc775",
          "A0x12488da5c23a2382c2c5671590b23bcc2360123b",
          "A0xc5ca9702ea21eeaef22abe6e5c98ce27fe0890fb",
          "A0x34c23638fdbf18bb4e973cb3d6d3b55b2cd42b95"
         ],
         "xaxis": "x",
         "y": [
          390,
          20,
          16,
          16,
          16,
          16,
          14,
          14,
          14,
          14,
          14,
          14,
          14,
          12,
          12,
          12,
          12,
          12,
          12,
          12,
          12,
          12,
          12,
          12,
          12,
          12,
          12,
          12,
          10,
          10,
          10,
          10,
          10,
          10,
          10,
          10,
          10,
          10,
          10,
          10,
          10,
          10,
          10,
          10,
          10,
          10,
          10,
          8,
          8,
          8,
          8,
          8,
          8,
          8,
          8,
          8,
          8,
          8,
          8,
          8,
          8,
          8,
          8,
          8,
          8,
          6,
          6,
          6,
          6,
          6,
          6,
          6,
          6,
          6,
          6,
          6,
          6,
          6,
          6,
          6,
          6,
          6,
          6,
          6,
          6,
          6,
          6,
          6,
          4,
          4,
          4,
          4,
          4,
          4,
          4,
          4,
          4,
          4,
          4,
          4,
          4,
          4,
          4,
          4,
          4,
          4,
          4,
          4,
          4,
          4,
          4,
          4,
          4,
          4,
          4,
          4,
          4,
          4,
          4,
          4,
          4,
          4,
          4,
          4,
          4,
          4,
          4,
          4,
          4,
          4,
          4,
          4,
          4,
          2,
          2,
          2,
          2,
          2,
          2,
          2,
          2,
          2,
          2,
          2,
          2,
          2,
          2,
          2,
          2,
          2,
          2,
          2,
          2,
          2,
          2,
          2,
          2,
          2,
          2,
          2,
          2,
          2,
          2,
          2,
          2,
          2,
          2,
          2,
          2,
          2,
          2,
          2,
          2,
          2,
          2,
          2,
          2,
          2,
          2,
          2,
          2,
          2,
          2,
          2,
          2
         ],
         "yaxis": "y"
        }
       ],
       "layout": {
        "barmode": "relative",
        "legend": {
         "tracegroupgap": 0
        },
        "margin": {
         "t": 60
        },
        "template": {
         "data": {
          "bar": [
           {
            "error_x": {
             "color": "#2a3f5f"
            },
            "error_y": {
             "color": "#2a3f5f"
            },
            "marker": {
             "line": {
              "color": "#E5ECF6",
              "width": 0.5
             }
            },
            "type": "bar"
           }
          ],
          "barpolar": [
           {
            "marker": {
             "line": {
              "color": "#E5ECF6",
              "width": 0.5
             }
            },
            "type": "barpolar"
           }
          ],
          "carpet": [
           {
            "aaxis": {
             "endlinecolor": "#2a3f5f",
             "gridcolor": "white",
             "linecolor": "white",
             "minorgridcolor": "white",
             "startlinecolor": "#2a3f5f"
            },
            "baxis": {
             "endlinecolor": "#2a3f5f",
             "gridcolor": "white",
             "linecolor": "white",
             "minorgridcolor": "white",
             "startlinecolor": "#2a3f5f"
            },
            "type": "carpet"
           }
          ],
          "choropleth": [
           {
            "colorbar": {
             "outlinewidth": 0,
             "ticks": ""
            },
            "type": "choropleth"
           }
          ],
          "contour": [
           {
            "colorbar": {
             "outlinewidth": 0,
             "ticks": ""
            },
            "colorscale": [
             [
              0,
              "#0d0887"
             ],
             [
              0.1111111111111111,
              "#46039f"
             ],
             [
              0.2222222222222222,
              "#7201a8"
             ],
             [
              0.3333333333333333,
              "#9c179e"
             ],
             [
              0.4444444444444444,
              "#bd3786"
             ],
             [
              0.5555555555555556,
              "#d8576b"
             ],
             [
              0.6666666666666666,
              "#ed7953"
             ],
             [
              0.7777777777777778,
              "#fb9f3a"
             ],
             [
              0.8888888888888888,
              "#fdca26"
             ],
             [
              1,
              "#f0f921"
             ]
            ],
            "type": "contour"
           }
          ],
          "contourcarpet": [
           {
            "colorbar": {
             "outlinewidth": 0,
             "ticks": ""
            },
            "type": "contourcarpet"
           }
          ],
          "heatmap": [
           {
            "colorbar": {
             "outlinewidth": 0,
             "ticks": ""
            },
            "colorscale": [
             [
              0,
              "#0d0887"
             ],
             [
              0.1111111111111111,
              "#46039f"
             ],
             [
              0.2222222222222222,
              "#7201a8"
             ],
             [
              0.3333333333333333,
              "#9c179e"
             ],
             [
              0.4444444444444444,
              "#bd3786"
             ],
             [
              0.5555555555555556,
              "#d8576b"
             ],
             [
              0.6666666666666666,
              "#ed7953"
             ],
             [
              0.7777777777777778,
              "#fb9f3a"
             ],
             [
              0.8888888888888888,
              "#fdca26"
             ],
             [
              1,
              "#f0f921"
             ]
            ],
            "type": "heatmap"
           }
          ],
          "heatmapgl": [
           {
            "colorbar": {
             "outlinewidth": 0,
             "ticks": ""
            },
            "colorscale": [
             [
              0,
              "#0d0887"
             ],
             [
              0.1111111111111111,
              "#46039f"
             ],
             [
              0.2222222222222222,
              "#7201a8"
             ],
             [
              0.3333333333333333,
              "#9c179e"
             ],
             [
              0.4444444444444444,
              "#bd3786"
             ],
             [
              0.5555555555555556,
              "#d8576b"
             ],
             [
              0.6666666666666666,
              "#ed7953"
             ],
             [
              0.7777777777777778,
              "#fb9f3a"
             ],
             [
              0.8888888888888888,
              "#fdca26"
             ],
             [
              1,
              "#f0f921"
             ]
            ],
            "type": "heatmapgl"
           }
          ],
          "histogram": [
           {
            "marker": {
             "colorbar": {
              "outlinewidth": 0,
              "ticks": ""
             }
            },
            "type": "histogram"
           }
          ],
          "histogram2d": [
           {
            "colorbar": {
             "outlinewidth": 0,
             "ticks": ""
            },
            "colorscale": [
             [
              0,
              "#0d0887"
             ],
             [
              0.1111111111111111,
              "#46039f"
             ],
             [
              0.2222222222222222,
              "#7201a8"
             ],
             [
              0.3333333333333333,
              "#9c179e"
             ],
             [
              0.4444444444444444,
              "#bd3786"
             ],
             [
              0.5555555555555556,
              "#d8576b"
             ],
             [
              0.6666666666666666,
              "#ed7953"
             ],
             [
              0.7777777777777778,
              "#fb9f3a"
             ],
             [
              0.8888888888888888,
              "#fdca26"
             ],
             [
              1,
              "#f0f921"
             ]
            ],
            "type": "histogram2d"
           }
          ],
          "histogram2dcontour": [
           {
            "colorbar": {
             "outlinewidth": 0,
             "ticks": ""
            },
            "colorscale": [
             [
              0,
              "#0d0887"
             ],
             [
              0.1111111111111111,
              "#46039f"
             ],
             [
              0.2222222222222222,
              "#7201a8"
             ],
             [
              0.3333333333333333,
              "#9c179e"
             ],
             [
              0.4444444444444444,
              "#bd3786"
             ],
             [
              0.5555555555555556,
              "#d8576b"
             ],
             [
              0.6666666666666666,
              "#ed7953"
             ],
             [
              0.7777777777777778,
              "#fb9f3a"
             ],
             [
              0.8888888888888888,
              "#fdca26"
             ],
             [
              1,
              "#f0f921"
             ]
            ],
            "type": "histogram2dcontour"
           }
          ],
          "mesh3d": [
           {
            "colorbar": {
             "outlinewidth": 0,
             "ticks": ""
            },
            "type": "mesh3d"
           }
          ],
          "parcoords": [
           {
            "line": {
             "colorbar": {
              "outlinewidth": 0,
              "ticks": ""
             }
            },
            "type": "parcoords"
           }
          ],
          "pie": [
           {
            "automargin": true,
            "type": "pie"
           }
          ],
          "scatter": [
           {
            "marker": {
             "colorbar": {
              "outlinewidth": 0,
              "ticks": ""
             }
            },
            "type": "scatter"
           }
          ],
          "scatter3d": [
           {
            "line": {
             "colorbar": {
              "outlinewidth": 0,
              "ticks": ""
             }
            },
            "marker": {
             "colorbar": {
              "outlinewidth": 0,
              "ticks": ""
             }
            },
            "type": "scatter3d"
           }
          ],
          "scattercarpet": [
           {
            "marker": {
             "colorbar": {
              "outlinewidth": 0,
              "ticks": ""
             }
            },
            "type": "scattercarpet"
           }
          ],
          "scattergeo": [
           {
            "marker": {
             "colorbar": {
              "outlinewidth": 0,
              "ticks": ""
             }
            },
            "type": "scattergeo"
           }
          ],
          "scattergl": [
           {
            "marker": {
             "colorbar": {
              "outlinewidth": 0,
              "ticks": ""
             }
            },
            "type": "scattergl"
           }
          ],
          "scattermapbox": [
           {
            "marker": {
             "colorbar": {
              "outlinewidth": 0,
              "ticks": ""
             }
            },
            "type": "scattermapbox"
           }
          ],
          "scatterpolar": [
           {
            "marker": {
             "colorbar": {
              "outlinewidth": 0,
              "ticks": ""
             }
            },
            "type": "scatterpolar"
           }
          ],
          "scatterpolargl": [
           {
            "marker": {
             "colorbar": {
              "outlinewidth": 0,
              "ticks": ""
             }
            },
            "type": "scatterpolargl"
           }
          ],
          "scatterternary": [
           {
            "marker": {
             "colorbar": {
              "outlinewidth": 0,
              "ticks": ""
             }
            },
            "type": "scatterternary"
           }
          ],
          "surface": [
           {
            "colorbar": {
             "outlinewidth": 0,
             "ticks": ""
            },
            "colorscale": [
             [
              0,
              "#0d0887"
             ],
             [
              0.1111111111111111,
              "#46039f"
             ],
             [
              0.2222222222222222,
              "#7201a8"
             ],
             [
              0.3333333333333333,
              "#9c179e"
             ],
             [
              0.4444444444444444,
              "#bd3786"
             ],
             [
              0.5555555555555556,
              "#d8576b"
             ],
             [
              0.6666666666666666,
              "#ed7953"
             ],
             [
              0.7777777777777778,
              "#fb9f3a"
             ],
             [
              0.8888888888888888,
              "#fdca26"
             ],
             [
              1,
              "#f0f921"
             ]
            ],
            "type": "surface"
           }
          ],
          "table": [
           {
            "cells": {
             "fill": {
              "color": "#EBF0F8"
             },
             "line": {
              "color": "white"
             }
            },
            "header": {
             "fill": {
              "color": "#C8D4E3"
             },
             "line": {
              "color": "white"
             }
            },
            "type": "table"
           }
          ]
         },
         "layout": {
          "annotationdefaults": {
           "arrowcolor": "#2a3f5f",
           "arrowhead": 0,
           "arrowwidth": 1
          },
          "autotypenumbers": "strict",
          "coloraxis": {
           "colorbar": {
            "outlinewidth": 0,
            "ticks": ""
           }
          },
          "colorscale": {
           "diverging": [
            [
             0,
             "#8e0152"
            ],
            [
             0.1,
             "#c51b7d"
            ],
            [
             0.2,
             "#de77ae"
            ],
            [
             0.3,
             "#f1b6da"
            ],
            [
             0.4,
             "#fde0ef"
            ],
            [
             0.5,
             "#f7f7f7"
            ],
            [
             0.6,
             "#e6f5d0"
            ],
            [
             0.7,
             "#b8e186"
            ],
            [
             0.8,
             "#7fbc41"
            ],
            [
             0.9,
             "#4d9221"
            ],
            [
             1,
             "#276419"
            ]
           ],
           "sequential": [
            [
             0,
             "#0d0887"
            ],
            [
             0.1111111111111111,
             "#46039f"
            ],
            [
             0.2222222222222222,
             "#7201a8"
            ],
            [
             0.3333333333333333,
             "#9c179e"
            ],
            [
             0.4444444444444444,
             "#bd3786"
            ],
            [
             0.5555555555555556,
             "#d8576b"
            ],
            [
             0.6666666666666666,
             "#ed7953"
            ],
            [
             0.7777777777777778,
             "#fb9f3a"
            ],
            [
             0.8888888888888888,
             "#fdca26"
            ],
            [
             1,
             "#f0f921"
            ]
           ],
           "sequentialminus": [
            [
             0,
             "#0d0887"
            ],
            [
             0.1111111111111111,
             "#46039f"
            ],
            [
             0.2222222222222222,
             "#7201a8"
            ],
            [
             0.3333333333333333,
             "#9c179e"
            ],
            [
             0.4444444444444444,
             "#bd3786"
            ],
            [
             0.5555555555555556,
             "#d8576b"
            ],
            [
             0.6666666666666666,
             "#ed7953"
            ],
            [
             0.7777777777777778,
             "#fb9f3a"
            ],
            [
             0.8888888888888888,
             "#fdca26"
            ],
            [
             1,
             "#f0f921"
            ]
           ]
          },
          "colorway": [
           "#636efa",
           "#EF553B",
           "#00cc96",
           "#ab63fa",
           "#FFA15A",
           "#19d3f3",
           "#FF6692",
           "#B6E880",
           "#FF97FF",
           "#FECB52"
          ],
          "font": {
           "color": "#2a3f5f"
          },
          "geo": {
           "bgcolor": "white",
           "lakecolor": "white",
           "landcolor": "#E5ECF6",
           "showlakes": true,
           "showland": true,
           "subunitcolor": "white"
          },
          "hoverlabel": {
           "align": "left"
          },
          "hovermode": "closest",
          "mapbox": {
           "style": "light"
          },
          "paper_bgcolor": "white",
          "plot_bgcolor": "#E5ECF6",
          "polar": {
           "angularaxis": {
            "gridcolor": "white",
            "linecolor": "white",
            "ticks": ""
           },
           "bgcolor": "#E5ECF6",
           "radialaxis": {
            "gridcolor": "white",
            "linecolor": "white",
            "ticks": ""
           }
          },
          "scene": {
           "xaxis": {
            "backgroundcolor": "#E5ECF6",
            "gridcolor": "white",
            "gridwidth": 2,
            "linecolor": "white",
            "showbackground": true,
            "ticks": "",
            "zerolinecolor": "white"
           },
           "yaxis": {
            "backgroundcolor": "#E5ECF6",
            "gridcolor": "white",
            "gridwidth": 2,
            "linecolor": "white",
            "showbackground": true,
            "ticks": "",
            "zerolinecolor": "white"
           },
           "zaxis": {
            "backgroundcolor": "#E5ECF6",
            "gridcolor": "white",
            "gridwidth": 2,
            "linecolor": "white",
            "showbackground": true,
            "ticks": "",
            "zerolinecolor": "white"
           }
          },
          "shapedefaults": {
           "line": {
            "color": "#2a3f5f"
           }
          },
          "ternary": {
           "aaxis": {
            "gridcolor": "white",
            "linecolor": "white",
            "ticks": ""
           },
           "baxis": {
            "gridcolor": "white",
            "linecolor": "white",
            "ticks": ""
           },
           "bgcolor": "#E5ECF6",
           "caxis": {
            "gridcolor": "white",
            "linecolor": "white",
            "ticks": ""
           }
          },
          "title": {
           "x": 0.05
          },
          "xaxis": {
           "automargin": true,
           "gridcolor": "white",
           "linecolor": "white",
           "ticks": "",
           "title": {
            "standoff": 15
           },
           "zerolinecolor": "white",
           "zerolinewidth": 2
          },
          "yaxis": {
           "automargin": true,
           "gridcolor": "white",
           "linecolor": "white",
           "ticks": "",
           "title": {
            "standoff": 15
           },
           "zerolinecolor": "white",
           "zerolinewidth": 2
          }
         }
        },
        "xaxis": {
         "anchor": "y",
         "domain": [
          0,
          1
         ],
         "title": {
          "text": "key"
         }
        },
        "yaxis": {
         "anchor": "x",
         "domain": [
          0,
          1
         ],
         "title": {
          "text": "reads"
         }
        }
       }
      },
      "text/html": [
       "<div>                            <div id=\"c697b59d-8e9b-4c92-98a0-0fcb8b56ef90\" class=\"plotly-graph-div\" style=\"height:525px; width:100%;\"></div>            <script type=\"text/javascript\">                require([\"plotly\"], function(Plotly) {                    window.PLOTLYENV=window.PLOTLYENV || {};                                    if (document.getElementById(\"c697b59d-8e9b-4c92-98a0-0fcb8b56ef90\")) {                    Plotly.newPlot(                        \"c697b59d-8e9b-4c92-98a0-0fcb8b56ef90\",                        [{\"alignmentgroup\": \"True\", \"hovertemplate\": \"key=%{x}<br>reads=%{y}<extra></extra>\", \"legendgroup\": \"\", \"marker\": {\"color\": \"#636efa\"}, \"name\": \"\", \"offsetgroup\": \"\", \"orientation\": \"v\", \"showlegend\": false, \"textposition\": \"auto\", \"type\": \"bar\", \"x\": [\"MFIOrgMSP\", \"A0x9f806eb85af2e8a00b22499966d450c277064343\", \"A0x0e085ccc6d804abdff0c704d8ce3e96dffbd1de8\", \"A0x1f16ec496f67770a95485ae817412e5e972fd3f0\", \"A0xc7fd85a482959b8c56958cd91b127a45171c19b7\", \"A0xb7c027e32b5dcfa44ed481dcadf41778b8f24cdc\", \"A0x2b1f1adeb10645efa1a7cb26306bfa57117d2266\", \"A0x5c0bcd3688421889c39dde697542cdf40fdd932f\", \"A0x2d84a437082721461ed4c1cf0c2a19939e7f0059\", \"A0x7d2a87e3714922a0c52ba0096ccb501d9585a492\", \"A0x3fe329340ead5fff587252304fa012fb43521517\", \"A0xeeafc639dc16596fac574e318803d799db8b8de4\", \"A0x3796818941c68e5888da14b3cacd342bd6e4cefd\", \"A0x664f1d0b98f077ffa74e5ddd798bfc6f1fc437d3\", \"A0xb095fb897149b08a1b29a6ca74bb66f55d30d6f2\", \"A0x68415af95b8e704c70a236deb07a47418aa2aa58\", \"A0x6bbbb02aca0851cef054ed1f73c2fa84ba52b1d1\", \"A0x1b57a9193495d6cc3355d652c5c1397565b2ec38\", \"A0x67d8589793e9155932f9087ff4f03f6c76528254\", \"A0x3830650ef4e52b6a58a830fb1efee3b2e3e8ad8d\", \"A0xcfb9ea2f484399e68e99fed4bce1c2da0ece92e1\", \"A0xbf45b32208988a2a02f9a4e0989c7fd6b121130f\", \"A0xe5c1dbc76b0962cf29ab5772fc1934d0bbb7ac68\", \"A0xbf65a1d1c1f56e6507bd847ba7aced70ecce0cda\", \"A0xc4e76b8e93569ed1cbc702635a4e04aa036bdd4f\", \"A0xd35b6a327d9616ea49b8aafeeab5deb02079d6e4\", \"A0xbe70d4544b35e435b8ee1aa24dc6f0271b12ccd3\", \"A0xd1c0b781fb4e33c936a1b9c82c34ad67bf060e61\", \"A0xb96484250607bf42c7841e056dd333a4f90b8dcc\", \"A0x4516106aa231922658ff2834ca1fb39ceeddf88a\", \"A0xe007eff5481ec0cd4ae5a5b71196d8cf8983bd87\", \"A0xdd2b9ecf1a0a41ea9ef3d5201051759b9ef6f257\", \"A0xcd032b158e95e01d6938e4c45fca9a116d1069c6\", \"A0xce6862563d7fe971e77a0f798e176d2d471c4c0c\", \"A0x6a3e4dacd4be636738bdd385b19068500dbed4d3\", \"A0x75b595abe8093f097d826f3ecf5484a9163e892c\", \"A0x7629a88b72c521e860b9abfddd38a16631ddc170\", \"A0x945f1fdf01a6127ffac0af4773e61e68955017c4\", \"A0x9479bb1b65b5ec578fe970c45d0ca82ecef427bd\", \"A0x97f26e31acc1bf35cd8706f87c6b70a11eb2ce50\", \"A0xa8bfc75daf5989f7da100025b60554838aa72409\", \"A0x7da7b51c8ff0551ee6f80b4b29c80708ea30871a\", \"A0x16e0464b67e95eed311f2654936add548c00ec62\", \"A0x297be78d71173f473e793dc4dc228a0082ce7b2c\", \"A0x213ce06a3580d126d87978ac72f345ee6072053e\", \"A0x1b1502a4b725b307aa6d2dad6604d1c631e2d24a\", \"A0x0e0e8b30ca53fdb1a1b78d0d8e804088424078ea\", \"A0xc5fa7e4f4caa5bfb8315350ba663bf0d329b5065\", \"A0x74aa18b2ac25287356e55a05cf536a6e90cb2d5c\", \"A0x7a5d41ce24afc33459ad9600bcf6ae586636d8b9\", \"A0x7a671755d21b5fb4e2bdca61be8cda8a0482363c\", \"A0x9c17ce07fe0f3969ac12cb0784d426f64b98b0b2\", \"A0x62b4671d570d83103ab964d9071a273a5d001fee\", \"A0x61dfc7ad6d199d395d5dc74bf0f393006005789d\", \"A0xb8e29712346ac4a2d8f44ea9c8008c3f4bf79831\", \"A0xbd98dcdb4c33c360a1ad056243f8483f93144619\", \"A0xbf0ec4d5b5ff3d7d789824238590b030cbf11ef9\", \"A0x02e778a99dadc6a96658957ab44af0ff300792d6\", \"A0x124352fad855e20416ceb3df50ceb6084a0fbd72\", \"A0xd8958a9716cd74062b89c36b5f13abd89a4a502b\", \"A0x04b0451cfa41b61975d8f02d92fe49805ae51aa1\", \"A0xe289c8674f7788abbcf2d2f5775ba96cf73cf8bd\", \"A0x31eee26fc04f2d260892874d2d7b2f8aac47c40e\", \"A0xd13cb0faf2fed2d27e485075a8e1ef96f2bf249f\", \"A0x73ba416ebcb00a81a9f94beb3995d8d257eb3c1c\", \"A0x08933d8ee8e4e562a9ed3ca42d4e6e9bd255fe3d\", \"A0xa42fb67f20cb24e175b0c1c060738305856710fa\", \"A0xe040280fb103744f6b26c15a68fb193040743fc1\", \"A0x7050849edd9ae8631d0984c9f6beaedcca505175\", \"A0x13aefaeee20d6dc6b57c819ca25fc57dd156fc18\", \"A0x9349aa6c6e72fe86a83e72e15fd1c9c4dd2987b3\", \"A0x19d4773547082d233c8baadc23d38548a8a0a05e\", \"A0x8cc1b870aa785254f0aace6e8b71160ec1e72a16\", \"A0xe826cc045021e88f5e942a010753f66bd4430ba3\", \"A0x7bc741576c17970a309df156d73978ccd1aa45f0\", \"A0xea4e09f9c8778403edf3c79a8225b298acfdbb1d\", \"A0xc887549295bda98cb91a41cef27fab706d7eea03\", \"A0xf1dbc9e8dfaccadcb7ccff1e03c7663819e36191\", \"A0xfa3d15572db66b98bfb29c0ccbefd04db1a6abe8\", \"A0x8d9b5dd881b373f1eb9f9bcd4f1c892c9c9c7d9d\", \"A0xa3be17a089d05578b82ceb0f61b01570855c71c6\", \"A0x45dc40853174f09f1510bff4a37b93a0377a95d2\", \"A0x48fc11486d3ccb3d863fed58ba12f7be7f63a2ca\", \"A0x666f4569c5a215ce4891e5e8cc5b61ce7a22415d\", \"A0x41d886eda61871b64c0f46042016c15115c4558a\", \"A0x6258efcf7368388f0ad132ed9b40e377ff201c0a\", \"A0x47bcda4d240c456198c861022f30e16f3e8e8173\", \"A0x2d2a95d499911f247203a859aa91be50bf8d2ae1\", \"A0xd185cbc8d2773a731ec1396559d4b9778297569d\", \"A0xa7b7e9bc992068625357f84a93275b9c8fbaf175\", \"A0x4147644a2ee313152ed302b5b668fe4e6a41e802\", \"A0xdae57a345a6af516b210500e4f4569721d3c6e28\", \"A0x0609bf26af445f294a6aae69cb3cc075a2e68707\", \"A0x18ee7b93cda2e269952ea7365492d0d42604bb2d\", \"A0xdf229c482d3ba4930a2ad72bfe864a80d6007819\", \"A0x18debee65be9cadb3b3e9fb08c83b94557e00edb\", \"A0x5fa7c7927b806090725841b9eafdea2238003460\", \"A0xbc6d5b83e75c2d6bb85d9d7177f2b2b97eb237bc\", \"A0xd72b576e6c42e2b9f20feb1097b8d413a01cddb9\", \"A0xea8d69bd2fb64968cdb05238fbbdeb918c62f6a4\", \"A0xbf168810ed85f240d565273768c62cb383f2130a\", \"A0xc4267c3d2a5ae47ad329633438c20f1c73a7c849\", \"A0xd36a21c511621c71a6d01336db005d5997c18882\", \"A0x0a0b5c4e689b4f2ac909d83e9ddf8838eadbed4d\", \"A0xd307fa9296118538c9ef3fb4f4bbbb9f79c1a202\", \"A0xc6770aae5b9565ddd942253126365e0da725f048\", \"A0x51413253eacd1953f918bb30273fabe0a58c6928\", \"A0xcc0ed3a331cea379c0a43ca7783507bc726ec016\", \"A0x11bff0a264952798dca922bd47ad4b481d116621\", \"A0xcd6891ea7ea976689e0ab33ce1dee20d51708ebb\", \"A0xa1892bdfeee38914bab98c74f730600b6c1d7b7d\", \"A0x56fece89b531dd8cb8ff924d531fabd5530c73fb\", \"A0xa0c5af67f246d7bda1da64948abc5f1cfa8d0787\", \"A0x831e364c22b5f20e7be3aaf48d60e965da067472\", \"A0x032e378b8adfea64782e895294879ae9c626a70b\", \"A0xf95f6e4e95b14f86d2af7ee5d54fcc8baa6fc721\", \"A0x2ab90eb5b986904c465e7cfee8d54f15dc6458e3\", \"A0x2aafabaa6b764dda5c1b567918d3b621b4bef34a\", \"A0xf6bd3b92489777c0ae41adb868e5624df65bd1ab\", \"A0x8dde22fa2ede10d42db13d344bf817b67d5b8f8f\", \"A0xfad922de28a0202404cda237e99cc3edd5525eba\", \"A0x924d8ac1f0673994ad95e27afa3288635a3ed2e5\", \"A0x291c06a0cb6af5a67a057749efe04d5c619349e5\", \"A0x6443a7fe6aefd8c43c624431d19897ac8f942bf0\", \"A0x1dc865311ccd631646abf3160e832a5e106aea40\", \"A0x1db60780fae6d93aab523d82be5418800759869a\", \"A0x979bfa220d2ae311d3e7fae200f387abdfcbf8de\", \"A0x399860889955c6573619a57a138eabe4155b0a63\", \"A0xfb8ff2fcd599a8c6c0384c2446f49a7a613f66d2\", \"A0x9d32eae47d32b52a161c3eec8c92fa8021fbe15d\", \"A0x6331434cce34419719caf6dcd787c41ecab56c1b\", \"A0xfea2f9fef7e7af0fb3c8f74dd3654a26e902bb27\", \"A0x7dd01d254074db8e926e4f0c6d6ba8b4f6c7c809\", \"A0xfde9aea364294c9da1697471df052c7adc377dfe\", \"A0xfac184ecc4afe6cc570ebb07a33936918ea5e53d\", \"A0x0c20d5d370b869dd728b1092d99367262cde9c77\", \"A0x327d476ee7192cf54ff457c9f3a990994a4876d1\", \"A0xd8526a276ecb901685865a0bab5b222608a1849a\", \"A0xd48e13ada40330ca515a3648bc1bff2e7eb9af49\", \"A0xd4a0760f2abc986554915a08a0e12a46e14b655e\", \"A0xfa3a79bfec22aa4debaf8d03b90f84546b4c1f63\", \"A0x3c66165a873e24f5348b8b8ea0fb499d88f3d3c8\", \"A0x2fd59c2f49772c4e9ef42a7491290ff3037253d1\", \"A0xdbad20e48e5d7ea50dc78fd33b2457f9e7aa941b\", \"A0x427e1d84fd7b89e8faeefa9d8d8fc459496a7e53\", \"A0x3ae053323c103b1c7aff9fe8c75b6a7e0126b8aa\", \"A0x04d2f242952d9bb815fba44a0af38d6bef96d555\", \"A0xe6c689b3268f297e4c269f99d6b970944e7f433f\", \"A0xeae39848c40aecc6abd11cd88e0a7c020ce8666a\", \"A0x3dcaa3605aa8d30d2b434ead05ea4653b29b50b9\", \"A0x6d631080e8daef28463e6b5c4c125a6df03bf1e5\", \"A0x10c264fa3c7a49eceb469dcaa6eecb4e16eb0304\", \"A0x8c23dd5326261def14aa29eab9085de810f68301\", \"A0x34bdb0cd02062d27365ab4d56f2332e405a572ae\", \"A0xa10e856fff434c6290b0507514b57908b79c75fc\", \"A0x9f983750d09650afe3822dea047b96f97065915a\", \"A0x6348c71de25feaa41227fc9e2ba3a84be0bb7117\", \"A0x1d81ebc3c2b351dad2473a00c54d218ece20ca0d\", \"A0x650a1cbda525a273b84d42ee578f479c849f7e32\", \"A0x8a04864db111d27aade3a955b06d4babfc312ec6\", \"A0x53978e41fb14e4963ab6f15fe641374c76c66b08\", \"A0x7d3449ec07b776ec75c4ebca96f41a59d7da5881\", \"A0x7c8c1f9081244c7d3835f162a61dad68a3f5c247\", \"A0x29ae2d92c17e2324aeb20aa9ddf6fcc788739099\", \"A0x7690a5351bb887949b0d676ad4fb03a096caf8a9\", \"A0x27c3679ec8674e87a44e5e453b069b81e60fc136\", \"A0x27d64af4c23870c5a421f6da0b3869c9a9cb482c\", \"A0xa715e36063182c9854123f9c649e75059be2d8aa\", \"A0xa786797e0adb67871dd6b6cfbded649a20c14739\", \"A0xa8a8885e7bc2c575139380f3d5d707b8e20e7574\", \"A0x618621c24c42e6a138f7db0a82dad2a152e5f8c9\", \"A0xab787dc6bb494bb1159b52705b18b90c46752be5\", \"A0xaca9a990390f22f73b04132cac6d6afdc494279f\", \"A0xb58bcd432d285b0b62c61b3cc651e3651241fad1\", \"A0xb7e8d8cff92adaa5e568c88cdd80196e070bc1f3\", \"A0x1806efe37becc930700028e73e654f8b51078fd0\", \"A0xbca33cc14108595949f856b4fd307bbcf2e29f7b\", \"A0xbca9fbdcc84ff2ddde35f1992b4448c7ecb2e619\", \"A0x5d4ef8a4196f27a81d1b1a471998e6f14daae07e\", \"A0x6bf52ef2502c4fb4aaf41b5cd1df640208738fe9\", \"A0x547ff01418ac59609ced50067c67f091f0fcd19b\", \"A0x1309ca5daf888fc4ebc4204895e2d65b8e4dc775\", \"A0x12488da5c23a2382c2c5671590b23bcc2360123b\", \"A0xc5ca9702ea21eeaef22abe6e5c98ce27fe0890fb\", \"A0x34c23638fdbf18bb4e973cb3d6d3b55b2cd42b95\"], \"xaxis\": \"x\", \"y\": [390, 20, 16, 16, 16, 16, 14, 14, 14, 14, 14, 14, 14, 12, 12, 12, 12, 12, 12, 12, 12, 12, 12, 12, 12, 12, 12, 12, 10, 10, 10, 10, 10, 10, 10, 10, 10, 10, 10, 10, 10, 10, 10, 10, 10, 10, 10, 8, 8, 8, 8, 8, 8, 8, 8, 8, 8, 8, 8, 8, 8, 8, 8, 8, 8, 6, 6, 6, 6, 6, 6, 6, 6, 6, 6, 6, 6, 6, 6, 6, 6, 6, 6, 6, 6, 6, 6, 6, 4, 4, 4, 4, 4, 4, 4, 4, 4, 4, 4, 4, 4, 4, 4, 4, 4, 4, 4, 4, 4, 4, 4, 4, 4, 4, 4, 4, 4, 4, 4, 4, 4, 4, 4, 4, 4, 4, 4, 4, 4, 4, 4, 4, 4, 2, 2, 2, 2, 2, 2, 2, 2, 2, 2, 2, 2, 2, 2, 2, 2, 2, 2, 2, 2, 2, 2, 2, 2, 2, 2, 2, 2, 2, 2, 2, 2, 2, 2, 2, 2, 2, 2, 2, 2, 2, 2, 2, 2, 2, 2, 2, 2, 2, 2, 2, 2], \"yaxis\": \"y\"}],                        {\"barmode\": \"relative\", \"legend\": {\"tracegroupgap\": 0}, \"margin\": {\"t\": 60}, \"template\": {\"data\": {\"bar\": [{\"error_x\": {\"color\": \"#2a3f5f\"}, \"error_y\": {\"color\": \"#2a3f5f\"}, \"marker\": {\"line\": {\"color\": \"#E5ECF6\", \"width\": 0.5}}, \"type\": \"bar\"}], \"barpolar\": [{\"marker\": {\"line\": {\"color\": \"#E5ECF6\", \"width\": 0.5}}, \"type\": \"barpolar\"}], \"carpet\": [{\"aaxis\": {\"endlinecolor\": \"#2a3f5f\", \"gridcolor\": \"white\", \"linecolor\": \"white\", \"minorgridcolor\": \"white\", \"startlinecolor\": \"#2a3f5f\"}, \"baxis\": {\"endlinecolor\": \"#2a3f5f\", \"gridcolor\": \"white\", \"linecolor\": \"white\", \"minorgridcolor\": \"white\", \"startlinecolor\": \"#2a3f5f\"}, \"type\": \"carpet\"}], \"choropleth\": [{\"colorbar\": {\"outlinewidth\": 0, \"ticks\": \"\"}, \"type\": \"choropleth\"}], \"contour\": [{\"colorbar\": {\"outlinewidth\": 0, \"ticks\": \"\"}, \"colorscale\": [[0.0, \"#0d0887\"], [0.1111111111111111, \"#46039f\"], [0.2222222222222222, \"#7201a8\"], [0.3333333333333333, \"#9c179e\"], [0.4444444444444444, \"#bd3786\"], [0.5555555555555556, \"#d8576b\"], [0.6666666666666666, \"#ed7953\"], [0.7777777777777778, \"#fb9f3a\"], [0.8888888888888888, \"#fdca26\"], [1.0, \"#f0f921\"]], \"type\": \"contour\"}], \"contourcarpet\": [{\"colorbar\": {\"outlinewidth\": 0, \"ticks\": \"\"}, \"type\": \"contourcarpet\"}], \"heatmap\": [{\"colorbar\": {\"outlinewidth\": 0, \"ticks\": \"\"}, \"colorscale\": [[0.0, \"#0d0887\"], [0.1111111111111111, \"#46039f\"], [0.2222222222222222, \"#7201a8\"], [0.3333333333333333, \"#9c179e\"], [0.4444444444444444, \"#bd3786\"], [0.5555555555555556, \"#d8576b\"], [0.6666666666666666, \"#ed7953\"], [0.7777777777777778, \"#fb9f3a\"], [0.8888888888888888, \"#fdca26\"], [1.0, \"#f0f921\"]], \"type\": \"heatmap\"}], \"heatmapgl\": [{\"colorbar\": {\"outlinewidth\": 0, \"ticks\": \"\"}, \"colorscale\": [[0.0, \"#0d0887\"], [0.1111111111111111, \"#46039f\"], [0.2222222222222222, \"#7201a8\"], [0.3333333333333333, \"#9c179e\"], [0.4444444444444444, \"#bd3786\"], [0.5555555555555556, \"#d8576b\"], [0.6666666666666666, \"#ed7953\"], [0.7777777777777778, \"#fb9f3a\"], [0.8888888888888888, \"#fdca26\"], [1.0, \"#f0f921\"]], \"type\": \"heatmapgl\"}], \"histogram\": [{\"marker\": {\"colorbar\": {\"outlinewidth\": 0, \"ticks\": \"\"}}, \"type\": \"histogram\"}], \"histogram2d\": [{\"colorbar\": {\"outlinewidth\": 0, \"ticks\": \"\"}, \"colorscale\": [[0.0, \"#0d0887\"], [0.1111111111111111, \"#46039f\"], [0.2222222222222222, \"#7201a8\"], [0.3333333333333333, \"#9c179e\"], [0.4444444444444444, \"#bd3786\"], [0.5555555555555556, \"#d8576b\"], [0.6666666666666666, \"#ed7953\"], [0.7777777777777778, \"#fb9f3a\"], [0.8888888888888888, \"#fdca26\"], [1.0, \"#f0f921\"]], \"type\": \"histogram2d\"}], \"histogram2dcontour\": [{\"colorbar\": {\"outlinewidth\": 0, \"ticks\": \"\"}, \"colorscale\": [[0.0, \"#0d0887\"], [0.1111111111111111, \"#46039f\"], [0.2222222222222222, \"#7201a8\"], [0.3333333333333333, \"#9c179e\"], [0.4444444444444444, \"#bd3786\"], [0.5555555555555556, \"#d8576b\"], [0.6666666666666666, \"#ed7953\"], [0.7777777777777778, \"#fb9f3a\"], [0.8888888888888888, \"#fdca26\"], [1.0, \"#f0f921\"]], \"type\": \"histogram2dcontour\"}], \"mesh3d\": [{\"colorbar\": {\"outlinewidth\": 0, \"ticks\": \"\"}, \"type\": \"mesh3d\"}], \"parcoords\": [{\"line\": {\"colorbar\": {\"outlinewidth\": 0, \"ticks\": \"\"}}, \"type\": \"parcoords\"}], \"pie\": [{\"automargin\": true, \"type\": \"pie\"}], \"scatter\": [{\"marker\": {\"colorbar\": {\"outlinewidth\": 0, \"ticks\": \"\"}}, \"type\": \"scatter\"}], \"scatter3d\": [{\"line\": {\"colorbar\": {\"outlinewidth\": 0, \"ticks\": \"\"}}, \"marker\": {\"colorbar\": {\"outlinewidth\": 0, \"ticks\": \"\"}}, \"type\": \"scatter3d\"}], \"scattercarpet\": [{\"marker\": {\"colorbar\": {\"outlinewidth\": 0, \"ticks\": \"\"}}, \"type\": \"scattercarpet\"}], \"scattergeo\": [{\"marker\": {\"colorbar\": {\"outlinewidth\": 0, \"ticks\": \"\"}}, \"type\": \"scattergeo\"}], \"scattergl\": [{\"marker\": {\"colorbar\": {\"outlinewidth\": 0, \"ticks\": \"\"}}, \"type\": \"scattergl\"}], \"scattermapbox\": [{\"marker\": {\"colorbar\": {\"outlinewidth\": 0, \"ticks\": \"\"}}, \"type\": \"scattermapbox\"}], \"scatterpolar\": [{\"marker\": {\"colorbar\": {\"outlinewidth\": 0, \"ticks\": \"\"}}, \"type\": \"scatterpolar\"}], \"scatterpolargl\": [{\"marker\": {\"colorbar\": {\"outlinewidth\": 0, \"ticks\": \"\"}}, \"type\": \"scatterpolargl\"}], \"scatterternary\": [{\"marker\": {\"colorbar\": {\"outlinewidth\": 0, \"ticks\": \"\"}}, \"type\": \"scatterternary\"}], \"surface\": [{\"colorbar\": {\"outlinewidth\": 0, \"ticks\": \"\"}, \"colorscale\": [[0.0, \"#0d0887\"], [0.1111111111111111, \"#46039f\"], [0.2222222222222222, \"#7201a8\"], [0.3333333333333333, \"#9c179e\"], [0.4444444444444444, \"#bd3786\"], [0.5555555555555556, \"#d8576b\"], [0.6666666666666666, \"#ed7953\"], [0.7777777777777778, \"#fb9f3a\"], [0.8888888888888888, \"#fdca26\"], [1.0, \"#f0f921\"]], \"type\": \"surface\"}], \"table\": [{\"cells\": {\"fill\": {\"color\": \"#EBF0F8\"}, \"line\": {\"color\": \"white\"}}, \"header\": {\"fill\": {\"color\": \"#C8D4E3\"}, \"line\": {\"color\": \"white\"}}, \"type\": \"table\"}]}, \"layout\": {\"annotationdefaults\": {\"arrowcolor\": \"#2a3f5f\", \"arrowhead\": 0, \"arrowwidth\": 1}, \"autotypenumbers\": \"strict\", \"coloraxis\": {\"colorbar\": {\"outlinewidth\": 0, \"ticks\": \"\"}}, \"colorscale\": {\"diverging\": [[0, \"#8e0152\"], [0.1, \"#c51b7d\"], [0.2, \"#de77ae\"], [0.3, \"#f1b6da\"], [0.4, \"#fde0ef\"], [0.5, \"#f7f7f7\"], [0.6, \"#e6f5d0\"], [0.7, \"#b8e186\"], [0.8, \"#7fbc41\"], [0.9, \"#4d9221\"], [1, \"#276419\"]], \"sequential\": [[0.0, \"#0d0887\"], [0.1111111111111111, \"#46039f\"], [0.2222222222222222, \"#7201a8\"], [0.3333333333333333, \"#9c179e\"], [0.4444444444444444, \"#bd3786\"], [0.5555555555555556, \"#d8576b\"], [0.6666666666666666, \"#ed7953\"], [0.7777777777777778, \"#fb9f3a\"], [0.8888888888888888, \"#fdca26\"], [1.0, \"#f0f921\"]], \"sequentialminus\": [[0.0, \"#0d0887\"], [0.1111111111111111, \"#46039f\"], [0.2222222222222222, \"#7201a8\"], [0.3333333333333333, \"#9c179e\"], [0.4444444444444444, \"#bd3786\"], [0.5555555555555556, \"#d8576b\"], [0.6666666666666666, \"#ed7953\"], [0.7777777777777778, \"#fb9f3a\"], [0.8888888888888888, \"#fdca26\"], [1.0, \"#f0f921\"]]}, \"colorway\": [\"#636efa\", \"#EF553B\", \"#00cc96\", \"#ab63fa\", \"#FFA15A\", \"#19d3f3\", \"#FF6692\", \"#B6E880\", \"#FF97FF\", \"#FECB52\"], \"font\": {\"color\": \"#2a3f5f\"}, \"geo\": {\"bgcolor\": \"white\", \"lakecolor\": \"white\", \"landcolor\": \"#E5ECF6\", \"showlakes\": true, \"showland\": true, \"subunitcolor\": \"white\"}, \"hoverlabel\": {\"align\": \"left\"}, \"hovermode\": \"closest\", \"mapbox\": {\"style\": \"light\"}, \"paper_bgcolor\": \"white\", \"plot_bgcolor\": \"#E5ECF6\", \"polar\": {\"angularaxis\": {\"gridcolor\": \"white\", \"linecolor\": \"white\", \"ticks\": \"\"}, \"bgcolor\": \"#E5ECF6\", \"radialaxis\": {\"gridcolor\": \"white\", \"linecolor\": \"white\", \"ticks\": \"\"}}, \"scene\": {\"xaxis\": {\"backgroundcolor\": \"#E5ECF6\", \"gridcolor\": \"white\", \"gridwidth\": 2, \"linecolor\": \"white\", \"showbackground\": true, \"ticks\": \"\", \"zerolinecolor\": \"white\"}, \"yaxis\": {\"backgroundcolor\": \"#E5ECF6\", \"gridcolor\": \"white\", \"gridwidth\": 2, \"linecolor\": \"white\", \"showbackground\": true, \"ticks\": \"\", \"zerolinecolor\": \"white\"}, \"zaxis\": {\"backgroundcolor\": \"#E5ECF6\", \"gridcolor\": \"white\", \"gridwidth\": 2, \"linecolor\": \"white\", \"showbackground\": true, \"ticks\": \"\", \"zerolinecolor\": \"white\"}}, \"shapedefaults\": {\"line\": {\"color\": \"#2a3f5f\"}}, \"ternary\": {\"aaxis\": {\"gridcolor\": \"white\", \"linecolor\": \"white\", \"ticks\": \"\"}, \"baxis\": {\"gridcolor\": \"white\", \"linecolor\": \"white\", \"ticks\": \"\"}, \"bgcolor\": \"#E5ECF6\", \"caxis\": {\"gridcolor\": \"white\", \"linecolor\": \"white\", \"ticks\": \"\"}}, \"title\": {\"x\": 0.05}, \"xaxis\": {\"automargin\": true, \"gridcolor\": \"white\", \"linecolor\": \"white\", \"ticks\": \"\", \"title\": {\"standoff\": 15}, \"zerolinecolor\": \"white\", \"zerolinewidth\": 2}, \"yaxis\": {\"automargin\": true, \"gridcolor\": \"white\", \"linecolor\": \"white\", \"ticks\": \"\", \"title\": {\"standoff\": 15}, \"zerolinecolor\": \"white\", \"zerolinewidth\": 2}}}, \"xaxis\": {\"anchor\": \"y\", \"domain\": [0.0, 1.0], \"title\": {\"text\": \"key\"}}, \"yaxis\": {\"anchor\": \"x\", \"domain\": [0.0, 1.0], \"title\": {\"text\": \"reads\"}}},                        {\"responsive\": true}                    ).then(function(){\n",
       "                            \n",
       "var gd = document.getElementById('c697b59d-8e9b-4c92-98a0-0fcb8b56ef90');\n",
       "var x = new MutationObserver(function (mutations, observer) {{\n",
       "        var display = window.getComputedStyle(gd).display;\n",
       "        if (!display || display === 'none') {{\n",
       "            console.log([gd, 'removed!']);\n",
       "            Plotly.purge(gd);\n",
       "            observer.disconnect();\n",
       "        }}\n",
       "}});\n",
       "\n",
       "// Listen for the removal of the full notebook cells\n",
       "var notebookContainer = gd.closest('#notebook-container');\n",
       "if (notebookContainer) {{\n",
       "    x.observe(notebookContainer, {childList: true});\n",
       "}}\n",
       "\n",
       "// Listen for the clearing of the current output cell\n",
       "var outputEl = gd.closest('.output');\n",
       "if (outputEl) {{\n",
       "    x.observe(outputEl, {childList: true});\n",
       "}}\n",
       "\n",
       "                        })                };                });            </script>        </div>"
      ]
     },
     "metadata": {},
     "output_type": "display_data"
    }
   ],
   "source": [
    "txDfr=txDf[txDf['access_type']=='READ']\n",
    "labels={\"x\":\"Read keys\",\"y\":\"Number of reads\"}\n",
    "reads= txDfr.groupby(['key']).size()\n",
    "reads = pd.DataFrame(reads)\n",
    "reads.columns = [str(column) for column in reads.columns]\n",
    "reads = reads.reset_index()\n",
    "reads = reads.sort_values(by=['0'], ascending=[False])\n",
    "fig = px.bar(reads, x='key', y='0', labels={'0':'reads'})\n",
    "fig"
   ]
  },
  {
   "cell_type": "code",
   "execution_count": 8,
   "metadata": {
    "scrolled": true
   },
   "outputs": [
    {
     "data": {
      "application/vnd.plotly.v1+json": {
       "config": {
        "plotlyServerURL": "https://plot.ly"
       },
       "data": [
        {
         "alignmentgroup": "True",
         "hovertemplate": "Written keys=%{x}<br>Number of writes=%{y}<extra></extra>",
         "legendgroup": "",
         "marker": {
          "color": "#636efa"
         },
         "name": "",
         "offsetgroup": "",
         "orientation": "v",
         "showlegend": false,
         "textposition": "auto",
         "type": "bar",
         "x": [
          "MFIOrgMSP",
          "A0x73ba416ebcb00a81a9f94beb3995d8d257eb3c1c",
          "K0x73ba416ebcb00a81a9f94beb3995d8d257eb3c1c",
          "A0xb8e29712346ac4a2d8f44ea9c8008c3f4bf79831",
          "K0xb8e29712346ac4a2d8f44ea9c8008c3f4bf79831",
          "A0xa8bfc75daf5989f7da100025b60554838aa72409",
          "K0xa8bfc75daf5989f7da100025b60554838aa72409",
          "A0x3796818941c68e5888da14b3cacd342bd6e4cefd",
          "K0x3796818941c68e5888da14b3cacd342bd6e4cefd",
          "A0x9f806eb85af2e8a00b22499966d450c277064343",
          "K0x9f806eb85af2e8a00b22499966d450c277064343",
          "A0x31eee26fc04f2d260892874d2d7b2f8aac47c40e",
          "K0x31eee26fc04f2d260892874d2d7b2f8aac47c40e",
          "A0xd13cb0faf2fed2d27e485075a8e1ef96f2bf249f",
          "K0xd13cb0faf2fed2d27e485075a8e1ef96f2bf249f",
          "A0x62b4671d570d83103ab964d9071a273a5d001fee",
          "K0x62b4671d570d83103ab964d9071a273a5d001fee",
          "A0x7690a5351bb887949b0d676ad4fb03a096caf8a9",
          "K0x7690a5351bb887949b0d676ad4fb03a096caf8a9",
          "A0x7a671755d21b5fb4e2bdca61be8cda8a0482363c",
          "K0x7a671755d21b5fb4e2bdca61be8cda8a0482363c",
          "A0x3ae053323c103b1c7aff9fe8c75b6a7e0126b8aa",
          "K0x3ae053323c103b1c7aff9fe8c75b6a7e0126b8aa",
          "A0xb095fb897149b08a1b29a6ca74bb66f55d30d6f2",
          "K0xb095fb897149b08a1b29a6ca74bb66f55d30d6f2",
          "A0x831e364c22b5f20e7be3aaf48d60e965da067472",
          "K0x831e364c22b5f20e7be3aaf48d60e965da067472",
          "A0x7629a88b72c521e860b9abfddd38a16631ddc170",
          "K0x7629a88b72c521e860b9abfddd38a16631ddc170",
          "A0xdf229c482d3ba4930a2ad72bfe864a80d6007819",
          "K0xdf229c482d3ba4930a2ad72bfe864a80d6007819",
          "A0x7050849edd9ae8631d0984c9f6beaedcca505175",
          "K0x7050849edd9ae8631d0984c9f6beaedcca505175",
          "A0xa0c5af67f246d7bda1da64948abc5f1cfa8d0787",
          "K0xa0c5af67f246d7bda1da64948abc5f1cfa8d0787",
          "A0xd36a21c511621c71a6d01336db005d5997c18882",
          "K0xd36a21c511621c71a6d01336db005d5997c18882",
          "A0xb7e8d8cff92adaa5e568c88cdd80196e070bc1f3",
          "K0xb7e8d8cff92adaa5e568c88cdd80196e070bc1f3",
          "A0xb96484250607bf42c7841e056dd333a4f90b8dcc",
          "K0xb96484250607bf42c7841e056dd333a4f90b8dcc",
          "A0x1309ca5daf888fc4ebc4204895e2d65b8e4dc775",
          "K0x1309ca5daf888fc4ebc4204895e2d65b8e4dc775",
          "A0x8d9b5dd881b373f1eb9f9bcd4f1c892c9c9c7d9d",
          "K0x8d9b5dd881b373f1eb9f9bcd4f1c892c9c9c7d9d",
          "A0xfa3a79bfec22aa4debaf8d03b90f84546b4c1f63",
          "K0xfa3a79bfec22aa4debaf8d03b90f84546b4c1f63",
          "A0xfb8ff2fcd599a8c6c0384c2446f49a7a613f66d2",
          "K0xfb8ff2fcd599a8c6c0384c2446f49a7a613f66d2",
          "A0xa715e36063182c9854123f9c649e75059be2d8aa",
          "K0xa715e36063182c9854123f9c649e75059be2d8aa",
          "A0x34bdb0cd02062d27365ab4d56f2332e405a572ae",
          "K0x34bdb0cd02062d27365ab4d56f2332e405a572ae",
          "A0x97f26e31acc1bf35cd8706f87c6b70a11eb2ce50",
          "K0x97f26e31acc1bf35cd8706f87c6b70a11eb2ce50",
          "A0xd4a0760f2abc986554915a08a0e12a46e14b655e",
          "K0xd4a0760f2abc986554915a08a0e12a46e14b655e",
          "A0x9479bb1b65b5ec578fe970c45d0ca82ecef427bd",
          "K0x9479bb1b65b5ec578fe970c45d0ca82ecef427bd",
          "A0xbca9fbdcc84ff2ddde35f1992b4448c7ecb2e619",
          "K0xbca9fbdcc84ff2ddde35f1992b4448c7ecb2e619",
          "A0xa3be17a089d05578b82ceb0f61b01570855c71c6",
          "K0xa3be17a089d05578b82ceb0f61b01570855c71c6",
          "A0xce6862563d7fe971e77a0f798e176d2d471c4c0c",
          "K0xce6862563d7fe971e77a0f798e176d2d471c4c0c",
          "A0xa1892bdfeee38914bab98c74f730600b6c1d7b7d",
          "K0xa1892bdfeee38914bab98c74f730600b6c1d7b7d",
          "A0x8c23dd5326261def14aa29eab9085de810f68301",
          "K0x8c23dd5326261def14aa29eab9085de810f68301",
          "A0xb7c027e32b5dcfa44ed481dcadf41778b8f24cdc",
          "K0xb7c027e32b5dcfa44ed481dcadf41778b8f24cdc",
          "A0x1b57a9193495d6cc3355d652c5c1397565b2ec38",
          "K0x1b57a9193495d6cc3355d652c5c1397565b2ec38",
          "A0x6bf52ef2502c4fb4aaf41b5cd1df640208738fe9",
          "K0x6bf52ef2502c4fb4aaf41b5cd1df640208738fe9",
          "A0xdd2b9ecf1a0a41ea9ef3d5201051759b9ef6f257",
          "K0xdd2b9ecf1a0a41ea9ef3d5201051759b9ef6f257",
          "A0xcc0ed3a331cea379c0a43ca7783507bc726ec016",
          "K0xcc0ed3a331cea379c0a43ca7783507bc726ec016",
          "A0xd35b6a327d9616ea49b8aafeeab5deb02079d6e4",
          "K0xd35b6a327d9616ea49b8aafeeab5deb02079d6e4",
          "A0xfde9aea364294c9da1697471df052c7adc377dfe",
          "K0xfde9aea364294c9da1697471df052c7adc377dfe",
          "A0x6a3e4dacd4be636738bdd385b19068500dbed4d3",
          "K0x6a3e4dacd4be636738bdd385b19068500dbed4d3",
          "A0x0609bf26af445f294a6aae69cb3cc075a2e68707",
          "K0x0609bf26af445f294a6aae69cb3cc075a2e68707",
          "A0x7bc741576c17970a309df156d73978ccd1aa45f0",
          "K0x7bc741576c17970a309df156d73978ccd1aa45f0",
          "A0xdbad20e48e5d7ea50dc78fd33b2457f9e7aa941b",
          "K0xdbad20e48e5d7ea50dc78fd33b2457f9e7aa941b",
          "A0xd185cbc8d2773a731ec1396559d4b9778297569d",
          "K0xd185cbc8d2773a731ec1396559d4b9778297569d",
          "A0x1d81ebc3c2b351dad2473a00c54d218ece20ca0d",
          "K0x1d81ebc3c2b351dad2473a00c54d218ece20ca0d",
          "A0x51413253eacd1953f918bb30273fabe0a58c6928",
          "K0x51413253eacd1953f918bb30273fabe0a58c6928",
          "A0x2aafabaa6b764dda5c1b567918d3b621b4bef34a",
          "K0x2aafabaa6b764dda5c1b567918d3b621b4bef34a",
          "A0xfa3d15572db66b98bfb29c0ccbefd04db1a6abe8",
          "K0xfa3d15572db66b98bfb29c0ccbefd04db1a6abe8",
          "A0xb58bcd432d285b0b62c61b3cc651e3651241fad1",
          "K0xb58bcd432d285b0b62c61b3cc651e3651241fad1",
          "A0x48fc11486d3ccb3d863fed58ba12f7be7f63a2ca",
          "K0x48fc11486d3ccb3d863fed58ba12f7be7f63a2ca",
          "A0x427e1d84fd7b89e8faeefa9d8d8fc459496a7e53",
          "K0x427e1d84fd7b89e8faeefa9d8d8fc459496a7e53",
          "A0xa7b7e9bc992068625357f84a93275b9c8fbaf175",
          "K0xa7b7e9bc992068625357f84a93275b9c8fbaf175",
          "A0xa10e856fff434c6290b0507514b57908b79c75fc",
          "K0xa10e856fff434c6290b0507514b57908b79c75fc",
          "A0x945f1fdf01a6127ffac0af4773e61e68955017c4",
          "K0x945f1fdf01a6127ffac0af4773e61e68955017c4",
          "A0x7dd01d254074db8e926e4f0c6d6ba8b4f6c7c809",
          "K0x7dd01d254074db8e926e4f0c6d6ba8b4f6c7c809",
          "A0xbd98dcdb4c33c360a1ad056243f8483f93144619",
          "K0xbd98dcdb4c33c360a1ad056243f8483f93144619",
          "A0x1dc865311ccd631646abf3160e832a5e106aea40",
          "K0x1dc865311ccd631646abf3160e832a5e106aea40",
          "A0x666f4569c5a215ce4891e5e8cc5b61ce7a22415d",
          "K0x666f4569c5a215ce4891e5e8cc5b61ce7a22415d",
          "A0x04d2f242952d9bb815fba44a0af38d6bef96d555",
          "K0x04d2f242952d9bb815fba44a0af38d6bef96d555",
          "A0x3830650ef4e52b6a58a830fb1efee3b2e3e8ad8d",
          "K0x3830650ef4e52b6a58a830fb1efee3b2e3e8ad8d",
          "A0x34c23638fdbf18bb4e973cb3d6d3b55b2cd42b95",
          "K0x34c23638fdbf18bb4e973cb3d6d3b55b2cd42b95",
          "A0x4516106aa231922658ff2834ca1fb39ceeddf88a",
          "K0x4516106aa231922658ff2834ca1fb39ceeddf88a",
          "A0x650a1cbda525a273b84d42ee578f479c849f7e32",
          "K0x650a1cbda525a273b84d42ee578f479c849f7e32",
          "A0xbf45b32208988a2a02f9a4e0989c7fd6b121130f",
          "K0xbf45b32208988a2a02f9a4e0989c7fd6b121130f",
          "A0x9d32eae47d32b52a161c3eec8c92fa8021fbe15d",
          "K0x9d32eae47d32b52a161c3eec8c92fa8021fbe15d",
          "A0x0a0b5c4e689b4f2ac909d83e9ddf8838eadbed4d",
          "K0x0a0b5c4e689b4f2ac909d83e9ddf8838eadbed4d",
          "A0xe826cc045021e88f5e942a010753f66bd4430ba3",
          "K0xe826cc045021e88f5e942a010753f66bd4430ba3",
          "A0x19d4773547082d233c8baadc23d38548a8a0a05e",
          "K0x19d4773547082d233c8baadc23d38548a8a0a05e",
          "A0xfad922de28a0202404cda237e99cc3edd5525eba",
          "K0xfad922de28a0202404cda237e99cc3edd5525eba",
          "A0xea4e09f9c8778403edf3c79a8225b298acfdbb1d",
          "K0xea4e09f9c8778403edf3c79a8225b298acfdbb1d",
          "A0xf1dbc9e8dfaccadcb7ccff1e03c7663819e36191",
          "K0xf1dbc9e8dfaccadcb7ccff1e03c7663819e36191",
          "A0x979bfa220d2ae311d3e7fae200f387abdfcbf8de",
          "K0x979bfa220d2ae311d3e7fae200f387abdfcbf8de",
          "A0x1db60780fae6d93aab523d82be5418800759869a",
          "K0x1db60780fae6d93aab523d82be5418800759869a",
          "A0xfea2f9fef7e7af0fb3c8f74dd3654a26e902bb27",
          "K0xfea2f9fef7e7af0fb3c8f74dd3654a26e902bb27",
          "A0xea8d69bd2fb64968cdb05238fbbdeb918c62f6a4",
          "K0xea8d69bd2fb64968cdb05238fbbdeb918c62f6a4",
          "A0xe040280fb103744f6b26c15a68fb193040743fc1",
          "K0xe040280fb103744f6b26c15a68fb193040743fc1",
          "A0x56fece89b531dd8cb8ff924d531fabd5530c73fb",
          "K0x56fece89b531dd8cb8ff924d531fabd5530c73fb",
          "A0x6443a7fe6aefd8c43c624431d19897ac8f942bf0",
          "K0x6443a7fe6aefd8c43c624431d19897ac8f942bf0",
          "A0x4147644a2ee313152ed302b5b668fe4e6a41e802",
          "K0x4147644a2ee313152ed302b5b668fe4e6a41e802",
          "A0x18debee65be9cadb3b3e9fb08c83b94557e00edb",
          "K0x18debee65be9cadb3b3e9fb08c83b94557e00edb",
          "A0xbc6d5b83e75c2d6bb85d9d7177f2b2b97eb237bc",
          "K0xbc6d5b83e75c2d6bb85d9d7177f2b2b97eb237bc",
          "A0xf95f6e4e95b14f86d2af7ee5d54fcc8baa6fc721",
          "K0xf95f6e4e95b14f86d2af7ee5d54fcc8baa6fc721",
          "A0xaca9a990390f22f73b04132cac6d6afdc494279f",
          "K0xaca9a990390f22f73b04132cac6d6afdc494279f",
          "A0x7d2a87e3714922a0c52ba0096ccb501d9585a492",
          "K0x7d2a87e3714922a0c52ba0096ccb501d9585a492",
          "A0x41d886eda61871b64c0f46042016c15115c4558a",
          "K0x41d886eda61871b64c0f46042016c15115c4558a",
          "A0x45dc40853174f09f1510bff4a37b93a0377a95d2",
          "K0x45dc40853174f09f1510bff4a37b93a0377a95d2",
          "A0xdae57a345a6af516b210500e4f4569721d3c6e28",
          "K0xdae57a345a6af516b210500e4f4569721d3c6e28",
          "A0x2d2a95d499911f247203a859aa91be50bf8d2ae1",
          "K0x2d2a95d499911f247203a859aa91be50bf8d2ae1",
          "A0x8dde22fa2ede10d42db13d344bf817b67d5b8f8f",
          "K0x8dde22fa2ede10d42db13d344bf817b67d5b8f8f",
          "A0xa786797e0adb67871dd6b6cfbded649a20c14739",
          "K0xa786797e0adb67871dd6b6cfbded649a20c14739",
          "A0x13aefaeee20d6dc6b57c819ca25fc57dd156fc18",
          "K0x13aefaeee20d6dc6b57c819ca25fc57dd156fc18",
          "A0x5c0bcd3688421889c39dde697542cdf40fdd932f",
          "K0x5c0bcd3688421889c39dde697542cdf40fdd932f",
          "A0x9349aa6c6e72fe86a83e72e15fd1c9c4dd2987b3",
          "K0x9349aa6c6e72fe86a83e72e15fd1c9c4dd2987b3",
          "A0x297be78d71173f473e793dc4dc228a0082ce7b2c",
          "K0x297be78d71173f473e793dc4dc228a0082ce7b2c",
          "A0xd8526a276ecb901685865a0bab5b222608a1849a",
          "K0xd8526a276ecb901685865a0bab5b222608a1849a",
          "A0x6331434cce34419719caf6dcd787c41ecab56c1b",
          "K0x6331434cce34419719caf6dcd787c41ecab56c1b",
          "A0x3c66165a873e24f5348b8b8ea0fb499d88f3d3c8",
          "K0x3c66165a873e24f5348b8b8ea0fb499d88f3d3c8",
          "A0x2b1f1adeb10645efa1a7cb26306bfa57117d2266",
          "K0x2b1f1adeb10645efa1a7cb26306bfa57117d2266",
          "A0x547ff01418ac59609ced50067c67f091f0fcd19b",
          "K0x547ff01418ac59609ced50067c67f091f0fcd19b",
          "A0xd1c0b781fb4e33c936a1b9c82c34ad67bf060e61",
          "K0xd1c0b781fb4e33c936a1b9c82c34ad67bf060e61",
          "A0x2fd59c2f49772c4e9ef42a7491290ff3037253d1",
          "K0x2fd59c2f49772c4e9ef42a7491290ff3037253d1",
          "A0xe5c1dbc76b0962cf29ab5772fc1934d0bbb7ac68",
          "K0xe5c1dbc76b0962cf29ab5772fc1934d0bbb7ac68",
          "A0x27d64af4c23870c5a421f6da0b3869c9a9cb482c",
          "K0x27d64af4c23870c5a421f6da0b3869c9a9cb482c",
          "A0x0e0e8b30ca53fdb1a1b78d0d8e804088424078ea",
          "K0x0e0e8b30ca53fdb1a1b78d0d8e804088424078ea",
          "A0x7c8c1f9081244c7d3835f162a61dad68a3f5c247",
          "K0x7c8c1f9081244c7d3835f162a61dad68a3f5c247",
          "A0x75b595abe8093f097d826f3ecf5484a9163e892c",
          "K0x75b595abe8093f097d826f3ecf5484a9163e892c",
          "A0xc5ca9702ea21eeaef22abe6e5c98ce27fe0890fb",
          "K0xc5ca9702ea21eeaef22abe6e5c98ce27fe0890fb",
          "A0x3fe329340ead5fff587252304fa012fb43521517",
          "K0x3fe329340ead5fff587252304fa012fb43521517",
          "A0x18ee7b93cda2e269952ea7365492d0d42604bb2d",
          "K0x18ee7b93cda2e269952ea7365492d0d42604bb2d",
          "A0x67d8589793e9155932f9087ff4f03f6c76528254",
          "K0x67d8589793e9155932f9087ff4f03f6c76528254",
          "A0xf6bd3b92489777c0ae41adb868e5624df65bd1ab",
          "K0xf6bd3b92489777c0ae41adb868e5624df65bd1ab",
          "A0xe007eff5481ec0cd4ae5a5b71196d8cf8983bd87",
          "K0xe007eff5481ec0cd4ae5a5b71196d8cf8983bd87",
          "A0x9f983750d09650afe3822dea047b96f97065915a",
          "K0x9f983750d09650afe3822dea047b96f97065915a",
          "A0x664f1d0b98f077ffa74e5ddd798bfc6f1fc437d3",
          "K0x664f1d0b98f077ffa74e5ddd798bfc6f1fc437d3",
          "A0xd48e13ada40330ca515a3648bc1bff2e7eb9af49",
          "K0xd48e13ada40330ca515a3648bc1bff2e7eb9af49",
          "A0xc4267c3d2a5ae47ad329633438c20f1c73a7c849",
          "K0xc4267c3d2a5ae47ad329633438c20f1c73a7c849",
          "A0x5d4ef8a4196f27a81d1b1a471998e6f14daae07e",
          "K0x5d4ef8a4196f27a81d1b1a471998e6f14daae07e",
          "A0xd307fa9296118538c9ef3fb4f4bbbb9f79c1a202",
          "K0xd307fa9296118538c9ef3fb4f4bbbb9f79c1a202",
          "A0x53978e41fb14e4963ab6f15fe641374c76c66b08",
          "K0x53978e41fb14e4963ab6f15fe641374c76c66b08",
          "A0xcd032b158e95e01d6938e4c45fca9a116d1069c6",
          "K0xcd032b158e95e01d6938e4c45fca9a116d1069c6",
          "A0xd72b576e6c42e2b9f20feb1097b8d413a01cddb9",
          "K0xd72b576e6c42e2b9f20feb1097b8d413a01cddb9",
          "A0xc4e76b8e93569ed1cbc702635a4e04aa036bdd4f",
          "K0xc4e76b8e93569ed1cbc702635a4e04aa036bdd4f",
          "A0x327d476ee7192cf54ff457c9f3a990994a4876d1",
          "K0x327d476ee7192cf54ff457c9f3a990994a4876d1",
          "A0x6d631080e8daef28463e6b5c4c125a6df03bf1e5",
          "K0x6d631080e8daef28463e6b5c4c125a6df03bf1e5",
          "A0xc7fd85a482959b8c56958cd91b127a45171c19b7",
          "K0xc7fd85a482959b8c56958cd91b127a45171c19b7",
          "A0x16e0464b67e95eed311f2654936add548c00ec62",
          "K0x16e0464b67e95eed311f2654936add548c00ec62",
          "A0x0c20d5d370b869dd728b1092d99367262cde9c77",
          "K0x0c20d5d370b869dd728b1092d99367262cde9c77",
          "A0x7da7b51c8ff0551ee6f80b4b29c80708ea30871a",
          "K0x7da7b51c8ff0551ee6f80b4b29c80708ea30871a",
          "A0x27c3679ec8674e87a44e5e453b069b81e60fc136",
          "K0x27c3679ec8674e87a44e5e453b069b81e60fc136",
          "A0xbf0ec4d5b5ff3d7d789824238590b030cbf11ef9",
          "K0xbf0ec4d5b5ff3d7d789824238590b030cbf11ef9",
          "A0x11bff0a264952798dca922bd47ad4b481d116621",
          "K0x11bff0a264952798dca922bd47ad4b481d116621",
          "A0xbf168810ed85f240d565273768c62cb383f2130a",
          "K0xbf168810ed85f240d565273768c62cb383f2130a",
          "A0x04b0451cfa41b61975d8f02d92fe49805ae51aa1",
          "K0x04b0451cfa41b61975d8f02d92fe49805ae51aa1",
          "A0x02e778a99dadc6a96658957ab44af0ff300792d6",
          "K0x02e778a99dadc6a96658957ab44af0ff300792d6",
          "A0xbf65a1d1c1f56e6507bd847ba7aced70ecce0cda",
          "K0xbf65a1d1c1f56e6507bd847ba7aced70ecce0cda",
          "A0xc887549295bda98cb91a41cef27fab706d7eea03",
          "K0xc887549295bda98cb91a41cef27fab706d7eea03",
          "A0x1f16ec496f67770a95485ae817412e5e972fd3f0",
          "K0x1f16ec496f67770a95485ae817412e5e972fd3f0",
          "A0x6348c71de25feaa41227fc9e2ba3a84be0bb7117",
          "K0x6348c71de25feaa41227fc9e2ba3a84be0bb7117",
          "A0x6258efcf7368388f0ad132ed9b40e377ff201c0a",
          "K0x6258efcf7368388f0ad132ed9b40e377ff201c0a",
          "A0x12488da5c23a2382c2c5671590b23bcc2360123b",
          "K0x12488da5c23a2382c2c5671590b23bcc2360123b",
          "A0x61dfc7ad6d199d395d5dc74bf0f393006005789d",
          "K0x61dfc7ad6d199d395d5dc74bf0f393006005789d",
          "A0x6bbbb02aca0851cef054ed1f73c2fa84ba52b1d1",
          "K0x6bbbb02aca0851cef054ed1f73c2fa84ba52b1d1",
          "A0x7d3449ec07b776ec75c4ebca96f41a59d7da5881",
          "K0x7d3449ec07b776ec75c4ebca96f41a59d7da5881",
          "A0x618621c24c42e6a138f7db0a82dad2a152e5f8c9",
          "K0x618621c24c42e6a138f7db0a82dad2a152e5f8c9",
          "A0xe289c8674f7788abbcf2d2f5775ba96cf73cf8bd",
          "K0xe289c8674f7788abbcf2d2f5775ba96cf73cf8bd",
          "A0x032e378b8adfea64782e895294879ae9c626a70b",
          "K0x032e378b8adfea64782e895294879ae9c626a70b",
          "A0x08933d8ee8e4e562a9ed3ca42d4e6e9bd255fe3d",
          "K0x08933d8ee8e4e562a9ed3ca42d4e6e9bd255fe3d",
          "A0x924d8ac1f0673994ad95e27afa3288635a3ed2e5",
          "K0x924d8ac1f0673994ad95e27afa3288635a3ed2e5",
          "A0x9c17ce07fe0f3969ac12cb0784d426f64b98b0b2",
          "K0x9c17ce07fe0f3969ac12cb0784d426f64b98b0b2",
          "A0x8a04864db111d27aade3a955b06d4babfc312ec6",
          "K0x8a04864db111d27aade3a955b06d4babfc312ec6",
          "A0xd8958a9716cd74062b89c36b5f13abd89a4a502b",
          "K0xd8958a9716cd74062b89c36b5f13abd89a4a502b",
          "A0x2ab90eb5b986904c465e7cfee8d54f15dc6458e3",
          "K0x2ab90eb5b986904c465e7cfee8d54f15dc6458e3",
          "A0xbe70d4544b35e435b8ee1aa24dc6f0271b12ccd3",
          "K0xbe70d4544b35e435b8ee1aa24dc6f0271b12ccd3",
          "A0x29ae2d92c17e2324aeb20aa9ddf6fcc788739099",
          "K0x29ae2d92c17e2324aeb20aa9ddf6fcc788739099",
          "A0x2d84a437082721461ed4c1cf0c2a19939e7f0059",
          "K0x2d84a437082721461ed4c1cf0c2a19939e7f0059",
          "A0xa8a8885e7bc2c575139380f3d5d707b8e20e7574",
          "K0xa8a8885e7bc2c575139380f3d5d707b8e20e7574",
          "A0x1b1502a4b725b307aa6d2dad6604d1c631e2d24a",
          "K0x1b1502a4b725b307aa6d2dad6604d1c631e2d24a",
          "A0x47bcda4d240c456198c861022f30e16f3e8e8173",
          "K0x47bcda4d240c456198c861022f30e16f3e8e8173",
          "A0x213ce06a3580d126d87978ac72f345ee6072053e",
          "K0x213ce06a3580d126d87978ac72f345ee6072053e",
          "A0x8cc1b870aa785254f0aace6e8b71160ec1e72a16",
          "K0x8cc1b870aa785254f0aace6e8b71160ec1e72a16",
          "A0x0e085ccc6d804abdff0c704d8ce3e96dffbd1de8",
          "K0x0e085ccc6d804abdff0c704d8ce3e96dffbd1de8",
          "A0x7a5d41ce24afc33459ad9600bcf6ae586636d8b9",
          "K0x7a5d41ce24afc33459ad9600bcf6ae586636d8b9",
          "A0xab787dc6bb494bb1159b52705b18b90c46752be5",
          "K0xab787dc6bb494bb1159b52705b18b90c46752be5",
          "A0x3dcaa3605aa8d30d2b434ead05ea4653b29b50b9",
          "K0x3dcaa3605aa8d30d2b434ead05ea4653b29b50b9",
          "A0xcd6891ea7ea976689e0ab33ce1dee20d51708ebb",
          "K0xcd6891ea7ea976689e0ab33ce1dee20d51708ebb",
          "A0x1806efe37becc930700028e73e654f8b51078fd0",
          "K0x1806efe37becc930700028e73e654f8b51078fd0",
          "A0xcfb9ea2f484399e68e99fed4bce1c2da0ece92e1",
          "K0xcfb9ea2f484399e68e99fed4bce1c2da0ece92e1",
          "A0xeae39848c40aecc6abd11cd88e0a7c020ce8666a",
          "K0xeae39848c40aecc6abd11cd88e0a7c020ce8666a",
          "A0x291c06a0cb6af5a67a057749efe04d5c619349e5",
          "K0x291c06a0cb6af5a67a057749efe04d5c619349e5",
          "A0xcc9af2dacd89c0333f31911696144e96c003c911",
          "K0xcc9af2dacd89c0333f31911696144e96c003c911",
          "A0x68415af95b8e704c70a236deb07a47418aa2aa58",
          "K0x68415af95b8e704c70a236deb07a47418aa2aa58",
          "A0xf4f9726c5d24a531f26b3a889717a9886a5dff18",
          "K0xf4f9726c5d24a531f26b3a889717a9886a5dff18",
          "A0xeeafc639dc16596fac574e318803d799db8b8de4",
          "K0xeeafc639dc16596fac574e318803d799db8b8de4",
          "A0x3b75e595ee34861f4fb483131c7331cbbc8ec580",
          "K0x3b75e595ee34861f4fb483131c7331cbbc8ec580",
          "A0x74aa18b2ac25287356e55a05cf536a6e90cb2d5c",
          "K0x74aa18b2ac25287356e55a05cf536a6e90cb2d5c",
          "A0xf95721919301d749dd7f2d57ecb7ca0a13db41ef",
          "K0xf95721919301d749dd7f2d57ecb7ca0a13db41ef",
          "A0xa42fb67f20cb24e175b0c1c060738305856710fa",
          "K0xa42fb67f20cb24e175b0c1c060738305856710fa",
          "A0xc5fa7e4f4caa5bfb8315350ba663bf0d329b5065",
          "K0xc5fa7e4f4caa5bfb8315350ba663bf0d329b5065",
          "A0x5a74b96e31c1f51f23b9ed94aad7647352857561",
          "K0x5a74b96e31c1f51f23b9ed94aad7647352857561",
          "A0x807ed2bcb74c265eaadee1fda2ce7187142b6131",
          "K0x807ed2bcb74c265eaadee1fda2ce7187142b6131",
          "A0x124352fad855e20416ceb3df50ceb6084a0fbd72",
          "K0x124352fad855e20416ceb3df50ceb6084a0fbd72",
          "A0x327015c2a1d84cbeeabe8b20197902387138470c",
          "K0x327015c2a1d84cbeeabe8b20197902387138470c",
          "A0x10c264fa3c7a49eceb469dcaa6eecb4e16eb0304",
          "K0x10c264fa3c7a49eceb469dcaa6eecb4e16eb0304",
          "A0x55d853e3ab59ad39766ae0ee2cb431d46c560254",
          "K0x55d853e3ab59ad39766ae0ee2cb431d46c560254",
          "A0x5fa7c7927b806090725841b9eafdea2238003460",
          "K0x5fa7c7927b806090725841b9eafdea2238003460",
          "A0x2786868e959f4914252f823baf50e024a1612d51",
          "K0x2786868e959f4914252f823baf50e024a1612d51",
          "A0x399860889955c6573619a57a138eabe4155b0a63",
          "K0x399860889955c6573619a57a138eabe4155b0a63",
          "A0xc37db82e947d795d8f49d4867b6c815a98e81b6b",
          "K0xc37db82e947d795d8f49d4867b6c815a98e81b6b",
          "A0xbca33cc14108595949f856b4fd307bbcf2e29f7b",
          "K0xbca33cc14108595949f856b4fd307bbcf2e29f7b",
          "A0xfac184ecc4afe6cc570ebb07a33936918ea5e53d",
          "K0xfac184ecc4afe6cc570ebb07a33936918ea5e53d",
          "A0xe6c689b3268f297e4c269f99d6b970944e7f433f",
          "K0xe6c689b3268f297e4c269f99d6b970944e7f433f",
          "A0xc6770aae5b9565ddd942253126365e0da725f048",
          "K0xc6770aae5b9565ddd942253126365e0da725f048",
          "A0x4badcfb5b9cc1905c1f91e62c6997657234b6813",
          "K0x4badcfb5b9cc1905c1f91e62c6997657234b6813",
          "A0x722cce1b163f3f0dbf16520e2c35083d3f9106ed",
          "K0x722cce1b163f3f0dbf16520e2c35083d3f9106ed",
          "A0x05fc1b366a291d486b7cb96f887771061ae13d84",
          "K0x05fc1b366a291d486b7cb96f887771061ae13d84",
          "A0x65ba29b6a13f15ea27399050917fbd46870a7f84",
          "K0x65ba29b6a13f15ea27399050917fbd46870a7f84",
          "A0x991eb936646dff94e2deed711b8f68abb3190d0c",
          "K0x991eb936646dff94e2deed711b8f68abb3190d0c",
          "A0x0f4ed877abb20009e2f88fec30edd14a83a8d0d6",
          "K0x0f4ed877abb20009e2f88fec30edd14a83a8d0d6"
         ],
         "xaxis": "x",
         "y": [
          392,
          21,
          17,
          17,
          17,
          17,
          15,
          15,
          15,
          15,
          15,
          15,
          15,
          13,
          13,
          13,
          13,
          13,
          13,
          13,
          13,
          13,
          13,
          13,
          13,
          13,
          13,
          13,
          11,
          11,
          11,
          11,
          11,
          11,
          11,
          11,
          11,
          11,
          11,
          11,
          11,
          11,
          11,
          11,
          11,
          11,
          11,
          9,
          9,
          9,
          9,
          9,
          9,
          9,
          9,
          9,
          9,
          9,
          9,
          9,
          9,
          9,
          9,
          9,
          9,
          7,
          7,
          7,
          7,
          7,
          7,
          7,
          7,
          7,
          7,
          7,
          7,
          7,
          7,
          7,
          7,
          7,
          7,
          7,
          7,
          7,
          7,
          7,
          5,
          5,
          5,
          5,
          5,
          5,
          5,
          5,
          5,
          5,
          5,
          5,
          5,
          5,
          5,
          5,
          5,
          5,
          5,
          5,
          5,
          5,
          5,
          5,
          5,
          5,
          5,
          5,
          5,
          5,
          5,
          5,
          5,
          5,
          5,
          5,
          5,
          5,
          5,
          5,
          5,
          5,
          5,
          5,
          5,
          3,
          3,
          3,
          3,
          3,
          3,
          3,
          3,
          3,
          3,
          3,
          3,
          3,
          3,
          3,
          3,
          3,
          3,
          3,
          3,
          3,
          3,
          3,
          3,
          3,
          3,
          3,
          3,
          3,
          3,
          3,
          3,
          3,
          3,
          3,
          3,
          3,
          3,
          3,
          3,
          3,
          3,
          3,
          3,
          3,
          3,
          3,
          3,
          3,
          3,
          3,
          3,
          1,
          1,
          1,
          1,
          1,
          1,
          1,
          1,
          1,
          1,
          1,
          1,
          1,
          1,
          1,
          1,
          1,
          1,
          1,
          1,
          1,
          1,
          1,
          1,
          1,
          1,
          1,
          1,
          1,
          1,
          1,
          1,
          1,
          1,
          1,
          1,
          1,
          1,
          1,
          1,
          1,
          1,
          1,
          1,
          1,
          1,
          1,
          1,
          1,
          1,
          1,
          1,
          1,
          1,
          1,
          1,
          1,
          1,
          1,
          1,
          1,
          1,
          1,
          1,
          1,
          1,
          1,
          1,
          1,
          1,
          1,
          1,
          1,
          1,
          1,
          1,
          1,
          1,
          1,
          1,
          1,
          1,
          1,
          1,
          1,
          1,
          1,
          1,
          1,
          1,
          1,
          1,
          1,
          1,
          1,
          1,
          1,
          1,
          1,
          1,
          1,
          1,
          1,
          1,
          1,
          1,
          1,
          1,
          1,
          1,
          1,
          1,
          1,
          1,
          1,
          1,
          1,
          1,
          1,
          1,
          1,
          1,
          1,
          1,
          1,
          1,
          1,
          1,
          1,
          1,
          1,
          1,
          1,
          1,
          1,
          1,
          1,
          1,
          1,
          1,
          1,
          1,
          1,
          1,
          1,
          1,
          1,
          1,
          1,
          1,
          1,
          1,
          1,
          1,
          1,
          1,
          1,
          1,
          1,
          1,
          1,
          1,
          1,
          1,
          1,
          1,
          1,
          1,
          1,
          1,
          1,
          1,
          1,
          1,
          1,
          1,
          1,
          1,
          1,
          1,
          1,
          1,
          1,
          1,
          1,
          1,
          1,
          1,
          1,
          1,
          1,
          1,
          1,
          1,
          1,
          1,
          1,
          1,
          1,
          1,
          1,
          1,
          1,
          1,
          1,
          1,
          1,
          1,
          1,
          1,
          1,
          1,
          1,
          1,
          1,
          1
         ],
         "yaxis": "y"
        }
       ],
       "layout": {
        "barmode": "relative",
        "legend": {
         "tracegroupgap": 0
        },
        "margin": {
         "t": 60
        },
        "template": {
         "data": {
          "bar": [
           {
            "error_x": {
             "color": "#2a3f5f"
            },
            "error_y": {
             "color": "#2a3f5f"
            },
            "marker": {
             "line": {
              "color": "#E5ECF6",
              "width": 0.5
             }
            },
            "type": "bar"
           }
          ],
          "barpolar": [
           {
            "marker": {
             "line": {
              "color": "#E5ECF6",
              "width": 0.5
             }
            },
            "type": "barpolar"
           }
          ],
          "carpet": [
           {
            "aaxis": {
             "endlinecolor": "#2a3f5f",
             "gridcolor": "white",
             "linecolor": "white",
             "minorgridcolor": "white",
             "startlinecolor": "#2a3f5f"
            },
            "baxis": {
             "endlinecolor": "#2a3f5f",
             "gridcolor": "white",
             "linecolor": "white",
             "minorgridcolor": "white",
             "startlinecolor": "#2a3f5f"
            },
            "type": "carpet"
           }
          ],
          "choropleth": [
           {
            "colorbar": {
             "outlinewidth": 0,
             "ticks": ""
            },
            "type": "choropleth"
           }
          ],
          "contour": [
           {
            "colorbar": {
             "outlinewidth": 0,
             "ticks": ""
            },
            "colorscale": [
             [
              0,
              "#0d0887"
             ],
             [
              0.1111111111111111,
              "#46039f"
             ],
             [
              0.2222222222222222,
              "#7201a8"
             ],
             [
              0.3333333333333333,
              "#9c179e"
             ],
             [
              0.4444444444444444,
              "#bd3786"
             ],
             [
              0.5555555555555556,
              "#d8576b"
             ],
             [
              0.6666666666666666,
              "#ed7953"
             ],
             [
              0.7777777777777778,
              "#fb9f3a"
             ],
             [
              0.8888888888888888,
              "#fdca26"
             ],
             [
              1,
              "#f0f921"
             ]
            ],
            "type": "contour"
           }
          ],
          "contourcarpet": [
           {
            "colorbar": {
             "outlinewidth": 0,
             "ticks": ""
            },
            "type": "contourcarpet"
           }
          ],
          "heatmap": [
           {
            "colorbar": {
             "outlinewidth": 0,
             "ticks": ""
            },
            "colorscale": [
             [
              0,
              "#0d0887"
             ],
             [
              0.1111111111111111,
              "#46039f"
             ],
             [
              0.2222222222222222,
              "#7201a8"
             ],
             [
              0.3333333333333333,
              "#9c179e"
             ],
             [
              0.4444444444444444,
              "#bd3786"
             ],
             [
              0.5555555555555556,
              "#d8576b"
             ],
             [
              0.6666666666666666,
              "#ed7953"
             ],
             [
              0.7777777777777778,
              "#fb9f3a"
             ],
             [
              0.8888888888888888,
              "#fdca26"
             ],
             [
              1,
              "#f0f921"
             ]
            ],
            "type": "heatmap"
           }
          ],
          "heatmapgl": [
           {
            "colorbar": {
             "outlinewidth": 0,
             "ticks": ""
            },
            "colorscale": [
             [
              0,
              "#0d0887"
             ],
             [
              0.1111111111111111,
              "#46039f"
             ],
             [
              0.2222222222222222,
              "#7201a8"
             ],
             [
              0.3333333333333333,
              "#9c179e"
             ],
             [
              0.4444444444444444,
              "#bd3786"
             ],
             [
              0.5555555555555556,
              "#d8576b"
             ],
             [
              0.6666666666666666,
              "#ed7953"
             ],
             [
              0.7777777777777778,
              "#fb9f3a"
             ],
             [
              0.8888888888888888,
              "#fdca26"
             ],
             [
              1,
              "#f0f921"
             ]
            ],
            "type": "heatmapgl"
           }
          ],
          "histogram": [
           {
            "marker": {
             "colorbar": {
              "outlinewidth": 0,
              "ticks": ""
             }
            },
            "type": "histogram"
           }
          ],
          "histogram2d": [
           {
            "colorbar": {
             "outlinewidth": 0,
             "ticks": ""
            },
            "colorscale": [
             [
              0,
              "#0d0887"
             ],
             [
              0.1111111111111111,
              "#46039f"
             ],
             [
              0.2222222222222222,
              "#7201a8"
             ],
             [
              0.3333333333333333,
              "#9c179e"
             ],
             [
              0.4444444444444444,
              "#bd3786"
             ],
             [
              0.5555555555555556,
              "#d8576b"
             ],
             [
              0.6666666666666666,
              "#ed7953"
             ],
             [
              0.7777777777777778,
              "#fb9f3a"
             ],
             [
              0.8888888888888888,
              "#fdca26"
             ],
             [
              1,
              "#f0f921"
             ]
            ],
            "type": "histogram2d"
           }
          ],
          "histogram2dcontour": [
           {
            "colorbar": {
             "outlinewidth": 0,
             "ticks": ""
            },
            "colorscale": [
             [
              0,
              "#0d0887"
             ],
             [
              0.1111111111111111,
              "#46039f"
             ],
             [
              0.2222222222222222,
              "#7201a8"
             ],
             [
              0.3333333333333333,
              "#9c179e"
             ],
             [
              0.4444444444444444,
              "#bd3786"
             ],
             [
              0.5555555555555556,
              "#d8576b"
             ],
             [
              0.6666666666666666,
              "#ed7953"
             ],
             [
              0.7777777777777778,
              "#fb9f3a"
             ],
             [
              0.8888888888888888,
              "#fdca26"
             ],
             [
              1,
              "#f0f921"
             ]
            ],
            "type": "histogram2dcontour"
           }
          ],
          "mesh3d": [
           {
            "colorbar": {
             "outlinewidth": 0,
             "ticks": ""
            },
            "type": "mesh3d"
           }
          ],
          "parcoords": [
           {
            "line": {
             "colorbar": {
              "outlinewidth": 0,
              "ticks": ""
             }
            },
            "type": "parcoords"
           }
          ],
          "pie": [
           {
            "automargin": true,
            "type": "pie"
           }
          ],
          "scatter": [
           {
            "marker": {
             "colorbar": {
              "outlinewidth": 0,
              "ticks": ""
             }
            },
            "type": "scatter"
           }
          ],
          "scatter3d": [
           {
            "line": {
             "colorbar": {
              "outlinewidth": 0,
              "ticks": ""
             }
            },
            "marker": {
             "colorbar": {
              "outlinewidth": 0,
              "ticks": ""
             }
            },
            "type": "scatter3d"
           }
          ],
          "scattercarpet": [
           {
            "marker": {
             "colorbar": {
              "outlinewidth": 0,
              "ticks": ""
             }
            },
            "type": "scattercarpet"
           }
          ],
          "scattergeo": [
           {
            "marker": {
             "colorbar": {
              "outlinewidth": 0,
              "ticks": ""
             }
            },
            "type": "scattergeo"
           }
          ],
          "scattergl": [
           {
            "marker": {
             "colorbar": {
              "outlinewidth": 0,
              "ticks": ""
             }
            },
            "type": "scattergl"
           }
          ],
          "scattermapbox": [
           {
            "marker": {
             "colorbar": {
              "outlinewidth": 0,
              "ticks": ""
             }
            },
            "type": "scattermapbox"
           }
          ],
          "scatterpolar": [
           {
            "marker": {
             "colorbar": {
              "outlinewidth": 0,
              "ticks": ""
             }
            },
            "type": "scatterpolar"
           }
          ],
          "scatterpolargl": [
           {
            "marker": {
             "colorbar": {
              "outlinewidth": 0,
              "ticks": ""
             }
            },
            "type": "scatterpolargl"
           }
          ],
          "scatterternary": [
           {
            "marker": {
             "colorbar": {
              "outlinewidth": 0,
              "ticks": ""
             }
            },
            "type": "scatterternary"
           }
          ],
          "surface": [
           {
            "colorbar": {
             "outlinewidth": 0,
             "ticks": ""
            },
            "colorscale": [
             [
              0,
              "#0d0887"
             ],
             [
              0.1111111111111111,
              "#46039f"
             ],
             [
              0.2222222222222222,
              "#7201a8"
             ],
             [
              0.3333333333333333,
              "#9c179e"
             ],
             [
              0.4444444444444444,
              "#bd3786"
             ],
             [
              0.5555555555555556,
              "#d8576b"
             ],
             [
              0.6666666666666666,
              "#ed7953"
             ],
             [
              0.7777777777777778,
              "#fb9f3a"
             ],
             [
              0.8888888888888888,
              "#fdca26"
             ],
             [
              1,
              "#f0f921"
             ]
            ],
            "type": "surface"
           }
          ],
          "table": [
           {
            "cells": {
             "fill": {
              "color": "#EBF0F8"
             },
             "line": {
              "color": "white"
             }
            },
            "header": {
             "fill": {
              "color": "#C8D4E3"
             },
             "line": {
              "color": "white"
             }
            },
            "type": "table"
           }
          ]
         },
         "layout": {
          "annotationdefaults": {
           "arrowcolor": "#2a3f5f",
           "arrowhead": 0,
           "arrowwidth": 1
          },
          "autotypenumbers": "strict",
          "coloraxis": {
           "colorbar": {
            "outlinewidth": 0,
            "ticks": ""
           }
          },
          "colorscale": {
           "diverging": [
            [
             0,
             "#8e0152"
            ],
            [
             0.1,
             "#c51b7d"
            ],
            [
             0.2,
             "#de77ae"
            ],
            [
             0.3,
             "#f1b6da"
            ],
            [
             0.4,
             "#fde0ef"
            ],
            [
             0.5,
             "#f7f7f7"
            ],
            [
             0.6,
             "#e6f5d0"
            ],
            [
             0.7,
             "#b8e186"
            ],
            [
             0.8,
             "#7fbc41"
            ],
            [
             0.9,
             "#4d9221"
            ],
            [
             1,
             "#276419"
            ]
           ],
           "sequential": [
            [
             0,
             "#0d0887"
            ],
            [
             0.1111111111111111,
             "#46039f"
            ],
            [
             0.2222222222222222,
             "#7201a8"
            ],
            [
             0.3333333333333333,
             "#9c179e"
            ],
            [
             0.4444444444444444,
             "#bd3786"
            ],
            [
             0.5555555555555556,
             "#d8576b"
            ],
            [
             0.6666666666666666,
             "#ed7953"
            ],
            [
             0.7777777777777778,
             "#fb9f3a"
            ],
            [
             0.8888888888888888,
             "#fdca26"
            ],
            [
             1,
             "#f0f921"
            ]
           ],
           "sequentialminus": [
            [
             0,
             "#0d0887"
            ],
            [
             0.1111111111111111,
             "#46039f"
            ],
            [
             0.2222222222222222,
             "#7201a8"
            ],
            [
             0.3333333333333333,
             "#9c179e"
            ],
            [
             0.4444444444444444,
             "#bd3786"
            ],
            [
             0.5555555555555556,
             "#d8576b"
            ],
            [
             0.6666666666666666,
             "#ed7953"
            ],
            [
             0.7777777777777778,
             "#fb9f3a"
            ],
            [
             0.8888888888888888,
             "#fdca26"
            ],
            [
             1,
             "#f0f921"
            ]
           ]
          },
          "colorway": [
           "#636efa",
           "#EF553B",
           "#00cc96",
           "#ab63fa",
           "#FFA15A",
           "#19d3f3",
           "#FF6692",
           "#B6E880",
           "#FF97FF",
           "#FECB52"
          ],
          "font": {
           "color": "#2a3f5f"
          },
          "geo": {
           "bgcolor": "white",
           "lakecolor": "white",
           "landcolor": "#E5ECF6",
           "showlakes": true,
           "showland": true,
           "subunitcolor": "white"
          },
          "hoverlabel": {
           "align": "left"
          },
          "hovermode": "closest",
          "mapbox": {
           "style": "light"
          },
          "paper_bgcolor": "white",
          "plot_bgcolor": "#E5ECF6",
          "polar": {
           "angularaxis": {
            "gridcolor": "white",
            "linecolor": "white",
            "ticks": ""
           },
           "bgcolor": "#E5ECF6",
           "radialaxis": {
            "gridcolor": "white",
            "linecolor": "white",
            "ticks": ""
           }
          },
          "scene": {
           "xaxis": {
            "backgroundcolor": "#E5ECF6",
            "gridcolor": "white",
            "gridwidth": 2,
            "linecolor": "white",
            "showbackground": true,
            "ticks": "",
            "zerolinecolor": "white"
           },
           "yaxis": {
            "backgroundcolor": "#E5ECF6",
            "gridcolor": "white",
            "gridwidth": 2,
            "linecolor": "white",
            "showbackground": true,
            "ticks": "",
            "zerolinecolor": "white"
           },
           "zaxis": {
            "backgroundcolor": "#E5ECF6",
            "gridcolor": "white",
            "gridwidth": 2,
            "linecolor": "white",
            "showbackground": true,
            "ticks": "",
            "zerolinecolor": "white"
           }
          },
          "shapedefaults": {
           "line": {
            "color": "#2a3f5f"
           }
          },
          "ternary": {
           "aaxis": {
            "gridcolor": "white",
            "linecolor": "white",
            "ticks": ""
           },
           "baxis": {
            "gridcolor": "white",
            "linecolor": "white",
            "ticks": ""
           },
           "bgcolor": "#E5ECF6",
           "caxis": {
            "gridcolor": "white",
            "linecolor": "white",
            "ticks": ""
           }
          },
          "title": {
           "x": 0.05
          },
          "xaxis": {
           "automargin": true,
           "gridcolor": "white",
           "linecolor": "white",
           "ticks": "",
           "title": {
            "standoff": 15
           },
           "zerolinecolor": "white",
           "zerolinewidth": 2
          },
          "yaxis": {
           "automargin": true,
           "gridcolor": "white",
           "linecolor": "white",
           "ticks": "",
           "title": {
            "standoff": 15
           },
           "zerolinecolor": "white",
           "zerolinewidth": 2
          }
         }
        },
        "xaxis": {
         "anchor": "y",
         "domain": [
          0,
          1
         ],
         "title": {
          "text": "Written keys"
         }
        },
        "yaxis": {
         "anchor": "x",
         "domain": [
          0,
          1
         ],
         "title": {
          "text": "Number of writes"
         }
        }
       }
      },
      "text/html": [
       "<div>                            <div id=\"252bd70f-d2ea-43a6-8bfa-bab7627b65ff\" class=\"plotly-graph-div\" style=\"height:525px; width:100%;\"></div>            <script type=\"text/javascript\">                require([\"plotly\"], function(Plotly) {                    window.PLOTLYENV=window.PLOTLYENV || {};                                    if (document.getElementById(\"252bd70f-d2ea-43a6-8bfa-bab7627b65ff\")) {                    Plotly.newPlot(                        \"252bd70f-d2ea-43a6-8bfa-bab7627b65ff\",                        [{\"alignmentgroup\": \"True\", \"hovertemplate\": \"Written keys=%{x}<br>Number of writes=%{y}<extra></extra>\", \"legendgroup\": \"\", \"marker\": {\"color\": \"#636efa\"}, \"name\": \"\", \"offsetgroup\": \"\", \"orientation\": \"v\", \"showlegend\": false, \"textposition\": \"auto\", \"type\": \"bar\", \"x\": [\"MFIOrgMSP\", \"A0x73ba416ebcb00a81a9f94beb3995d8d257eb3c1c\", \"K0x73ba416ebcb00a81a9f94beb3995d8d257eb3c1c\", \"A0xb8e29712346ac4a2d8f44ea9c8008c3f4bf79831\", \"K0xb8e29712346ac4a2d8f44ea9c8008c3f4bf79831\", \"A0xa8bfc75daf5989f7da100025b60554838aa72409\", \"K0xa8bfc75daf5989f7da100025b60554838aa72409\", \"A0x3796818941c68e5888da14b3cacd342bd6e4cefd\", \"K0x3796818941c68e5888da14b3cacd342bd6e4cefd\", \"A0x9f806eb85af2e8a00b22499966d450c277064343\", \"K0x9f806eb85af2e8a00b22499966d450c277064343\", \"A0x31eee26fc04f2d260892874d2d7b2f8aac47c40e\", \"K0x31eee26fc04f2d260892874d2d7b2f8aac47c40e\", \"A0xd13cb0faf2fed2d27e485075a8e1ef96f2bf249f\", \"K0xd13cb0faf2fed2d27e485075a8e1ef96f2bf249f\", \"A0x62b4671d570d83103ab964d9071a273a5d001fee\", \"K0x62b4671d570d83103ab964d9071a273a5d001fee\", \"A0x7690a5351bb887949b0d676ad4fb03a096caf8a9\", \"K0x7690a5351bb887949b0d676ad4fb03a096caf8a9\", \"A0x7a671755d21b5fb4e2bdca61be8cda8a0482363c\", \"K0x7a671755d21b5fb4e2bdca61be8cda8a0482363c\", \"A0x3ae053323c103b1c7aff9fe8c75b6a7e0126b8aa\", \"K0x3ae053323c103b1c7aff9fe8c75b6a7e0126b8aa\", \"A0xb095fb897149b08a1b29a6ca74bb66f55d30d6f2\", \"K0xb095fb897149b08a1b29a6ca74bb66f55d30d6f2\", \"A0x831e364c22b5f20e7be3aaf48d60e965da067472\", \"K0x831e364c22b5f20e7be3aaf48d60e965da067472\", \"A0x7629a88b72c521e860b9abfddd38a16631ddc170\", \"K0x7629a88b72c521e860b9abfddd38a16631ddc170\", \"A0xdf229c482d3ba4930a2ad72bfe864a80d6007819\", \"K0xdf229c482d3ba4930a2ad72bfe864a80d6007819\", \"A0x7050849edd9ae8631d0984c9f6beaedcca505175\", \"K0x7050849edd9ae8631d0984c9f6beaedcca505175\", \"A0xa0c5af67f246d7bda1da64948abc5f1cfa8d0787\", \"K0xa0c5af67f246d7bda1da64948abc5f1cfa8d0787\", \"A0xd36a21c511621c71a6d01336db005d5997c18882\", \"K0xd36a21c511621c71a6d01336db005d5997c18882\", \"A0xb7e8d8cff92adaa5e568c88cdd80196e070bc1f3\", \"K0xb7e8d8cff92adaa5e568c88cdd80196e070bc1f3\", \"A0xb96484250607bf42c7841e056dd333a4f90b8dcc\", \"K0xb96484250607bf42c7841e056dd333a4f90b8dcc\", \"A0x1309ca5daf888fc4ebc4204895e2d65b8e4dc775\", \"K0x1309ca5daf888fc4ebc4204895e2d65b8e4dc775\", \"A0x8d9b5dd881b373f1eb9f9bcd4f1c892c9c9c7d9d\", \"K0x8d9b5dd881b373f1eb9f9bcd4f1c892c9c9c7d9d\", \"A0xfa3a79bfec22aa4debaf8d03b90f84546b4c1f63\", \"K0xfa3a79bfec22aa4debaf8d03b90f84546b4c1f63\", \"A0xfb8ff2fcd599a8c6c0384c2446f49a7a613f66d2\", \"K0xfb8ff2fcd599a8c6c0384c2446f49a7a613f66d2\", \"A0xa715e36063182c9854123f9c649e75059be2d8aa\", \"K0xa715e36063182c9854123f9c649e75059be2d8aa\", \"A0x34bdb0cd02062d27365ab4d56f2332e405a572ae\", \"K0x34bdb0cd02062d27365ab4d56f2332e405a572ae\", \"A0x97f26e31acc1bf35cd8706f87c6b70a11eb2ce50\", \"K0x97f26e31acc1bf35cd8706f87c6b70a11eb2ce50\", \"A0xd4a0760f2abc986554915a08a0e12a46e14b655e\", \"K0xd4a0760f2abc986554915a08a0e12a46e14b655e\", \"A0x9479bb1b65b5ec578fe970c45d0ca82ecef427bd\", \"K0x9479bb1b65b5ec578fe970c45d0ca82ecef427bd\", \"A0xbca9fbdcc84ff2ddde35f1992b4448c7ecb2e619\", \"K0xbca9fbdcc84ff2ddde35f1992b4448c7ecb2e619\", \"A0xa3be17a089d05578b82ceb0f61b01570855c71c6\", \"K0xa3be17a089d05578b82ceb0f61b01570855c71c6\", \"A0xce6862563d7fe971e77a0f798e176d2d471c4c0c\", \"K0xce6862563d7fe971e77a0f798e176d2d471c4c0c\", \"A0xa1892bdfeee38914bab98c74f730600b6c1d7b7d\", \"K0xa1892bdfeee38914bab98c74f730600b6c1d7b7d\", \"A0x8c23dd5326261def14aa29eab9085de810f68301\", \"K0x8c23dd5326261def14aa29eab9085de810f68301\", \"A0xb7c027e32b5dcfa44ed481dcadf41778b8f24cdc\", \"K0xb7c027e32b5dcfa44ed481dcadf41778b8f24cdc\", \"A0x1b57a9193495d6cc3355d652c5c1397565b2ec38\", \"K0x1b57a9193495d6cc3355d652c5c1397565b2ec38\", \"A0x6bf52ef2502c4fb4aaf41b5cd1df640208738fe9\", \"K0x6bf52ef2502c4fb4aaf41b5cd1df640208738fe9\", \"A0xdd2b9ecf1a0a41ea9ef3d5201051759b9ef6f257\", \"K0xdd2b9ecf1a0a41ea9ef3d5201051759b9ef6f257\", \"A0xcc0ed3a331cea379c0a43ca7783507bc726ec016\", \"K0xcc0ed3a331cea379c0a43ca7783507bc726ec016\", \"A0xd35b6a327d9616ea49b8aafeeab5deb02079d6e4\", \"K0xd35b6a327d9616ea49b8aafeeab5deb02079d6e4\", \"A0xfde9aea364294c9da1697471df052c7adc377dfe\", \"K0xfde9aea364294c9da1697471df052c7adc377dfe\", \"A0x6a3e4dacd4be636738bdd385b19068500dbed4d3\", \"K0x6a3e4dacd4be636738bdd385b19068500dbed4d3\", \"A0x0609bf26af445f294a6aae69cb3cc075a2e68707\", \"K0x0609bf26af445f294a6aae69cb3cc075a2e68707\", \"A0x7bc741576c17970a309df156d73978ccd1aa45f0\", \"K0x7bc741576c17970a309df156d73978ccd1aa45f0\", \"A0xdbad20e48e5d7ea50dc78fd33b2457f9e7aa941b\", \"K0xdbad20e48e5d7ea50dc78fd33b2457f9e7aa941b\", \"A0xd185cbc8d2773a731ec1396559d4b9778297569d\", \"K0xd185cbc8d2773a731ec1396559d4b9778297569d\", \"A0x1d81ebc3c2b351dad2473a00c54d218ece20ca0d\", \"K0x1d81ebc3c2b351dad2473a00c54d218ece20ca0d\", \"A0x51413253eacd1953f918bb30273fabe0a58c6928\", \"K0x51413253eacd1953f918bb30273fabe0a58c6928\", \"A0x2aafabaa6b764dda5c1b567918d3b621b4bef34a\", \"K0x2aafabaa6b764dda5c1b567918d3b621b4bef34a\", \"A0xfa3d15572db66b98bfb29c0ccbefd04db1a6abe8\", \"K0xfa3d15572db66b98bfb29c0ccbefd04db1a6abe8\", \"A0xb58bcd432d285b0b62c61b3cc651e3651241fad1\", \"K0xb58bcd432d285b0b62c61b3cc651e3651241fad1\", \"A0x48fc11486d3ccb3d863fed58ba12f7be7f63a2ca\", \"K0x48fc11486d3ccb3d863fed58ba12f7be7f63a2ca\", \"A0x427e1d84fd7b89e8faeefa9d8d8fc459496a7e53\", \"K0x427e1d84fd7b89e8faeefa9d8d8fc459496a7e53\", \"A0xa7b7e9bc992068625357f84a93275b9c8fbaf175\", \"K0xa7b7e9bc992068625357f84a93275b9c8fbaf175\", \"A0xa10e856fff434c6290b0507514b57908b79c75fc\", \"K0xa10e856fff434c6290b0507514b57908b79c75fc\", \"A0x945f1fdf01a6127ffac0af4773e61e68955017c4\", \"K0x945f1fdf01a6127ffac0af4773e61e68955017c4\", \"A0x7dd01d254074db8e926e4f0c6d6ba8b4f6c7c809\", \"K0x7dd01d254074db8e926e4f0c6d6ba8b4f6c7c809\", \"A0xbd98dcdb4c33c360a1ad056243f8483f93144619\", \"K0xbd98dcdb4c33c360a1ad056243f8483f93144619\", \"A0x1dc865311ccd631646abf3160e832a5e106aea40\", \"K0x1dc865311ccd631646abf3160e832a5e106aea40\", \"A0x666f4569c5a215ce4891e5e8cc5b61ce7a22415d\", \"K0x666f4569c5a215ce4891e5e8cc5b61ce7a22415d\", \"A0x04d2f242952d9bb815fba44a0af38d6bef96d555\", \"K0x04d2f242952d9bb815fba44a0af38d6bef96d555\", \"A0x3830650ef4e52b6a58a830fb1efee3b2e3e8ad8d\", \"K0x3830650ef4e52b6a58a830fb1efee3b2e3e8ad8d\", \"A0x34c23638fdbf18bb4e973cb3d6d3b55b2cd42b95\", \"K0x34c23638fdbf18bb4e973cb3d6d3b55b2cd42b95\", \"A0x4516106aa231922658ff2834ca1fb39ceeddf88a\", \"K0x4516106aa231922658ff2834ca1fb39ceeddf88a\", \"A0x650a1cbda525a273b84d42ee578f479c849f7e32\", \"K0x650a1cbda525a273b84d42ee578f479c849f7e32\", \"A0xbf45b32208988a2a02f9a4e0989c7fd6b121130f\", \"K0xbf45b32208988a2a02f9a4e0989c7fd6b121130f\", \"A0x9d32eae47d32b52a161c3eec8c92fa8021fbe15d\", \"K0x9d32eae47d32b52a161c3eec8c92fa8021fbe15d\", \"A0x0a0b5c4e689b4f2ac909d83e9ddf8838eadbed4d\", \"K0x0a0b5c4e689b4f2ac909d83e9ddf8838eadbed4d\", \"A0xe826cc045021e88f5e942a010753f66bd4430ba3\", \"K0xe826cc045021e88f5e942a010753f66bd4430ba3\", \"A0x19d4773547082d233c8baadc23d38548a8a0a05e\", \"K0x19d4773547082d233c8baadc23d38548a8a0a05e\", \"A0xfad922de28a0202404cda237e99cc3edd5525eba\", \"K0xfad922de28a0202404cda237e99cc3edd5525eba\", \"A0xea4e09f9c8778403edf3c79a8225b298acfdbb1d\", \"K0xea4e09f9c8778403edf3c79a8225b298acfdbb1d\", \"A0xf1dbc9e8dfaccadcb7ccff1e03c7663819e36191\", \"K0xf1dbc9e8dfaccadcb7ccff1e03c7663819e36191\", \"A0x979bfa220d2ae311d3e7fae200f387abdfcbf8de\", \"K0x979bfa220d2ae311d3e7fae200f387abdfcbf8de\", \"A0x1db60780fae6d93aab523d82be5418800759869a\", \"K0x1db60780fae6d93aab523d82be5418800759869a\", \"A0xfea2f9fef7e7af0fb3c8f74dd3654a26e902bb27\", \"K0xfea2f9fef7e7af0fb3c8f74dd3654a26e902bb27\", \"A0xea8d69bd2fb64968cdb05238fbbdeb918c62f6a4\", \"K0xea8d69bd2fb64968cdb05238fbbdeb918c62f6a4\", \"A0xe040280fb103744f6b26c15a68fb193040743fc1\", \"K0xe040280fb103744f6b26c15a68fb193040743fc1\", \"A0x56fece89b531dd8cb8ff924d531fabd5530c73fb\", \"K0x56fece89b531dd8cb8ff924d531fabd5530c73fb\", \"A0x6443a7fe6aefd8c43c624431d19897ac8f942bf0\", \"K0x6443a7fe6aefd8c43c624431d19897ac8f942bf0\", \"A0x4147644a2ee313152ed302b5b668fe4e6a41e802\", \"K0x4147644a2ee313152ed302b5b668fe4e6a41e802\", \"A0x18debee65be9cadb3b3e9fb08c83b94557e00edb\", \"K0x18debee65be9cadb3b3e9fb08c83b94557e00edb\", \"A0xbc6d5b83e75c2d6bb85d9d7177f2b2b97eb237bc\", \"K0xbc6d5b83e75c2d6bb85d9d7177f2b2b97eb237bc\", \"A0xf95f6e4e95b14f86d2af7ee5d54fcc8baa6fc721\", \"K0xf95f6e4e95b14f86d2af7ee5d54fcc8baa6fc721\", \"A0xaca9a990390f22f73b04132cac6d6afdc494279f\", \"K0xaca9a990390f22f73b04132cac6d6afdc494279f\", \"A0x7d2a87e3714922a0c52ba0096ccb501d9585a492\", \"K0x7d2a87e3714922a0c52ba0096ccb501d9585a492\", \"A0x41d886eda61871b64c0f46042016c15115c4558a\", \"K0x41d886eda61871b64c0f46042016c15115c4558a\", \"A0x45dc40853174f09f1510bff4a37b93a0377a95d2\", \"K0x45dc40853174f09f1510bff4a37b93a0377a95d2\", \"A0xdae57a345a6af516b210500e4f4569721d3c6e28\", \"K0xdae57a345a6af516b210500e4f4569721d3c6e28\", \"A0x2d2a95d499911f247203a859aa91be50bf8d2ae1\", \"K0x2d2a95d499911f247203a859aa91be50bf8d2ae1\", \"A0x8dde22fa2ede10d42db13d344bf817b67d5b8f8f\", \"K0x8dde22fa2ede10d42db13d344bf817b67d5b8f8f\", \"A0xa786797e0adb67871dd6b6cfbded649a20c14739\", \"K0xa786797e0adb67871dd6b6cfbded649a20c14739\", \"A0x13aefaeee20d6dc6b57c819ca25fc57dd156fc18\", \"K0x13aefaeee20d6dc6b57c819ca25fc57dd156fc18\", \"A0x5c0bcd3688421889c39dde697542cdf40fdd932f\", \"K0x5c0bcd3688421889c39dde697542cdf40fdd932f\", \"A0x9349aa6c6e72fe86a83e72e15fd1c9c4dd2987b3\", \"K0x9349aa6c6e72fe86a83e72e15fd1c9c4dd2987b3\", \"A0x297be78d71173f473e793dc4dc228a0082ce7b2c\", \"K0x297be78d71173f473e793dc4dc228a0082ce7b2c\", \"A0xd8526a276ecb901685865a0bab5b222608a1849a\", \"K0xd8526a276ecb901685865a0bab5b222608a1849a\", \"A0x6331434cce34419719caf6dcd787c41ecab56c1b\", \"K0x6331434cce34419719caf6dcd787c41ecab56c1b\", \"A0x3c66165a873e24f5348b8b8ea0fb499d88f3d3c8\", \"K0x3c66165a873e24f5348b8b8ea0fb499d88f3d3c8\", \"A0x2b1f1adeb10645efa1a7cb26306bfa57117d2266\", \"K0x2b1f1adeb10645efa1a7cb26306bfa57117d2266\", \"A0x547ff01418ac59609ced50067c67f091f0fcd19b\", \"K0x547ff01418ac59609ced50067c67f091f0fcd19b\", \"A0xd1c0b781fb4e33c936a1b9c82c34ad67bf060e61\", \"K0xd1c0b781fb4e33c936a1b9c82c34ad67bf060e61\", \"A0x2fd59c2f49772c4e9ef42a7491290ff3037253d1\", \"K0x2fd59c2f49772c4e9ef42a7491290ff3037253d1\", \"A0xe5c1dbc76b0962cf29ab5772fc1934d0bbb7ac68\", \"K0xe5c1dbc76b0962cf29ab5772fc1934d0bbb7ac68\", \"A0x27d64af4c23870c5a421f6da0b3869c9a9cb482c\", \"K0x27d64af4c23870c5a421f6da0b3869c9a9cb482c\", \"A0x0e0e8b30ca53fdb1a1b78d0d8e804088424078ea\", \"K0x0e0e8b30ca53fdb1a1b78d0d8e804088424078ea\", \"A0x7c8c1f9081244c7d3835f162a61dad68a3f5c247\", \"K0x7c8c1f9081244c7d3835f162a61dad68a3f5c247\", \"A0x75b595abe8093f097d826f3ecf5484a9163e892c\", \"K0x75b595abe8093f097d826f3ecf5484a9163e892c\", \"A0xc5ca9702ea21eeaef22abe6e5c98ce27fe0890fb\", \"K0xc5ca9702ea21eeaef22abe6e5c98ce27fe0890fb\", \"A0x3fe329340ead5fff587252304fa012fb43521517\", \"K0x3fe329340ead5fff587252304fa012fb43521517\", \"A0x18ee7b93cda2e269952ea7365492d0d42604bb2d\", \"K0x18ee7b93cda2e269952ea7365492d0d42604bb2d\", \"A0x67d8589793e9155932f9087ff4f03f6c76528254\", \"K0x67d8589793e9155932f9087ff4f03f6c76528254\", \"A0xf6bd3b92489777c0ae41adb868e5624df65bd1ab\", \"K0xf6bd3b92489777c0ae41adb868e5624df65bd1ab\", \"A0xe007eff5481ec0cd4ae5a5b71196d8cf8983bd87\", \"K0xe007eff5481ec0cd4ae5a5b71196d8cf8983bd87\", \"A0x9f983750d09650afe3822dea047b96f97065915a\", \"K0x9f983750d09650afe3822dea047b96f97065915a\", \"A0x664f1d0b98f077ffa74e5ddd798bfc6f1fc437d3\", \"K0x664f1d0b98f077ffa74e5ddd798bfc6f1fc437d3\", \"A0xd48e13ada40330ca515a3648bc1bff2e7eb9af49\", \"K0xd48e13ada40330ca515a3648bc1bff2e7eb9af49\", \"A0xc4267c3d2a5ae47ad329633438c20f1c73a7c849\", \"K0xc4267c3d2a5ae47ad329633438c20f1c73a7c849\", \"A0x5d4ef8a4196f27a81d1b1a471998e6f14daae07e\", \"K0x5d4ef8a4196f27a81d1b1a471998e6f14daae07e\", \"A0xd307fa9296118538c9ef3fb4f4bbbb9f79c1a202\", \"K0xd307fa9296118538c9ef3fb4f4bbbb9f79c1a202\", \"A0x53978e41fb14e4963ab6f15fe641374c76c66b08\", \"K0x53978e41fb14e4963ab6f15fe641374c76c66b08\", \"A0xcd032b158e95e01d6938e4c45fca9a116d1069c6\", \"K0xcd032b158e95e01d6938e4c45fca9a116d1069c6\", \"A0xd72b576e6c42e2b9f20feb1097b8d413a01cddb9\", \"K0xd72b576e6c42e2b9f20feb1097b8d413a01cddb9\", \"A0xc4e76b8e93569ed1cbc702635a4e04aa036bdd4f\", \"K0xc4e76b8e93569ed1cbc702635a4e04aa036bdd4f\", \"A0x327d476ee7192cf54ff457c9f3a990994a4876d1\", \"K0x327d476ee7192cf54ff457c9f3a990994a4876d1\", \"A0x6d631080e8daef28463e6b5c4c125a6df03bf1e5\", \"K0x6d631080e8daef28463e6b5c4c125a6df03bf1e5\", \"A0xc7fd85a482959b8c56958cd91b127a45171c19b7\", \"K0xc7fd85a482959b8c56958cd91b127a45171c19b7\", \"A0x16e0464b67e95eed311f2654936add548c00ec62\", \"K0x16e0464b67e95eed311f2654936add548c00ec62\", \"A0x0c20d5d370b869dd728b1092d99367262cde9c77\", \"K0x0c20d5d370b869dd728b1092d99367262cde9c77\", \"A0x7da7b51c8ff0551ee6f80b4b29c80708ea30871a\", \"K0x7da7b51c8ff0551ee6f80b4b29c80708ea30871a\", \"A0x27c3679ec8674e87a44e5e453b069b81e60fc136\", \"K0x27c3679ec8674e87a44e5e453b069b81e60fc136\", \"A0xbf0ec4d5b5ff3d7d789824238590b030cbf11ef9\", \"K0xbf0ec4d5b5ff3d7d789824238590b030cbf11ef9\", \"A0x11bff0a264952798dca922bd47ad4b481d116621\", \"K0x11bff0a264952798dca922bd47ad4b481d116621\", \"A0xbf168810ed85f240d565273768c62cb383f2130a\", \"K0xbf168810ed85f240d565273768c62cb383f2130a\", \"A0x04b0451cfa41b61975d8f02d92fe49805ae51aa1\", \"K0x04b0451cfa41b61975d8f02d92fe49805ae51aa1\", \"A0x02e778a99dadc6a96658957ab44af0ff300792d6\", \"K0x02e778a99dadc6a96658957ab44af0ff300792d6\", \"A0xbf65a1d1c1f56e6507bd847ba7aced70ecce0cda\", \"K0xbf65a1d1c1f56e6507bd847ba7aced70ecce0cda\", \"A0xc887549295bda98cb91a41cef27fab706d7eea03\", \"K0xc887549295bda98cb91a41cef27fab706d7eea03\", \"A0x1f16ec496f67770a95485ae817412e5e972fd3f0\", \"K0x1f16ec496f67770a95485ae817412e5e972fd3f0\", \"A0x6348c71de25feaa41227fc9e2ba3a84be0bb7117\", \"K0x6348c71de25feaa41227fc9e2ba3a84be0bb7117\", \"A0x6258efcf7368388f0ad132ed9b40e377ff201c0a\", \"K0x6258efcf7368388f0ad132ed9b40e377ff201c0a\", \"A0x12488da5c23a2382c2c5671590b23bcc2360123b\", \"K0x12488da5c23a2382c2c5671590b23bcc2360123b\", \"A0x61dfc7ad6d199d395d5dc74bf0f393006005789d\", \"K0x61dfc7ad6d199d395d5dc74bf0f393006005789d\", \"A0x6bbbb02aca0851cef054ed1f73c2fa84ba52b1d1\", \"K0x6bbbb02aca0851cef054ed1f73c2fa84ba52b1d1\", \"A0x7d3449ec07b776ec75c4ebca96f41a59d7da5881\", \"K0x7d3449ec07b776ec75c4ebca96f41a59d7da5881\", \"A0x618621c24c42e6a138f7db0a82dad2a152e5f8c9\", \"K0x618621c24c42e6a138f7db0a82dad2a152e5f8c9\", \"A0xe289c8674f7788abbcf2d2f5775ba96cf73cf8bd\", \"K0xe289c8674f7788abbcf2d2f5775ba96cf73cf8bd\", \"A0x032e378b8adfea64782e895294879ae9c626a70b\", \"K0x032e378b8adfea64782e895294879ae9c626a70b\", \"A0x08933d8ee8e4e562a9ed3ca42d4e6e9bd255fe3d\", \"K0x08933d8ee8e4e562a9ed3ca42d4e6e9bd255fe3d\", \"A0x924d8ac1f0673994ad95e27afa3288635a3ed2e5\", \"K0x924d8ac1f0673994ad95e27afa3288635a3ed2e5\", \"A0x9c17ce07fe0f3969ac12cb0784d426f64b98b0b2\", \"K0x9c17ce07fe0f3969ac12cb0784d426f64b98b0b2\", \"A0x8a04864db111d27aade3a955b06d4babfc312ec6\", \"K0x8a04864db111d27aade3a955b06d4babfc312ec6\", \"A0xd8958a9716cd74062b89c36b5f13abd89a4a502b\", \"K0xd8958a9716cd74062b89c36b5f13abd89a4a502b\", \"A0x2ab90eb5b986904c465e7cfee8d54f15dc6458e3\", \"K0x2ab90eb5b986904c465e7cfee8d54f15dc6458e3\", \"A0xbe70d4544b35e435b8ee1aa24dc6f0271b12ccd3\", \"K0xbe70d4544b35e435b8ee1aa24dc6f0271b12ccd3\", \"A0x29ae2d92c17e2324aeb20aa9ddf6fcc788739099\", \"K0x29ae2d92c17e2324aeb20aa9ddf6fcc788739099\", \"A0x2d84a437082721461ed4c1cf0c2a19939e7f0059\", \"K0x2d84a437082721461ed4c1cf0c2a19939e7f0059\", \"A0xa8a8885e7bc2c575139380f3d5d707b8e20e7574\", \"K0xa8a8885e7bc2c575139380f3d5d707b8e20e7574\", \"A0x1b1502a4b725b307aa6d2dad6604d1c631e2d24a\", \"K0x1b1502a4b725b307aa6d2dad6604d1c631e2d24a\", \"A0x47bcda4d240c456198c861022f30e16f3e8e8173\", \"K0x47bcda4d240c456198c861022f30e16f3e8e8173\", \"A0x213ce06a3580d126d87978ac72f345ee6072053e\", \"K0x213ce06a3580d126d87978ac72f345ee6072053e\", \"A0x8cc1b870aa785254f0aace6e8b71160ec1e72a16\", \"K0x8cc1b870aa785254f0aace6e8b71160ec1e72a16\", \"A0x0e085ccc6d804abdff0c704d8ce3e96dffbd1de8\", \"K0x0e085ccc6d804abdff0c704d8ce3e96dffbd1de8\", \"A0x7a5d41ce24afc33459ad9600bcf6ae586636d8b9\", \"K0x7a5d41ce24afc33459ad9600bcf6ae586636d8b9\", \"A0xab787dc6bb494bb1159b52705b18b90c46752be5\", \"K0xab787dc6bb494bb1159b52705b18b90c46752be5\", \"A0x3dcaa3605aa8d30d2b434ead05ea4653b29b50b9\", \"K0x3dcaa3605aa8d30d2b434ead05ea4653b29b50b9\", \"A0xcd6891ea7ea976689e0ab33ce1dee20d51708ebb\", \"K0xcd6891ea7ea976689e0ab33ce1dee20d51708ebb\", \"A0x1806efe37becc930700028e73e654f8b51078fd0\", \"K0x1806efe37becc930700028e73e654f8b51078fd0\", \"A0xcfb9ea2f484399e68e99fed4bce1c2da0ece92e1\", \"K0xcfb9ea2f484399e68e99fed4bce1c2da0ece92e1\", \"A0xeae39848c40aecc6abd11cd88e0a7c020ce8666a\", \"K0xeae39848c40aecc6abd11cd88e0a7c020ce8666a\", \"A0x291c06a0cb6af5a67a057749efe04d5c619349e5\", \"K0x291c06a0cb6af5a67a057749efe04d5c619349e5\", \"A0xcc9af2dacd89c0333f31911696144e96c003c911\", \"K0xcc9af2dacd89c0333f31911696144e96c003c911\", \"A0x68415af95b8e704c70a236deb07a47418aa2aa58\", \"K0x68415af95b8e704c70a236deb07a47418aa2aa58\", \"A0xf4f9726c5d24a531f26b3a889717a9886a5dff18\", \"K0xf4f9726c5d24a531f26b3a889717a9886a5dff18\", \"A0xeeafc639dc16596fac574e318803d799db8b8de4\", \"K0xeeafc639dc16596fac574e318803d799db8b8de4\", \"A0x3b75e595ee34861f4fb483131c7331cbbc8ec580\", \"K0x3b75e595ee34861f4fb483131c7331cbbc8ec580\", \"A0x74aa18b2ac25287356e55a05cf536a6e90cb2d5c\", \"K0x74aa18b2ac25287356e55a05cf536a6e90cb2d5c\", \"A0xf95721919301d749dd7f2d57ecb7ca0a13db41ef\", \"K0xf95721919301d749dd7f2d57ecb7ca0a13db41ef\", \"A0xa42fb67f20cb24e175b0c1c060738305856710fa\", \"K0xa42fb67f20cb24e175b0c1c060738305856710fa\", \"A0xc5fa7e4f4caa5bfb8315350ba663bf0d329b5065\", \"K0xc5fa7e4f4caa5bfb8315350ba663bf0d329b5065\", \"A0x5a74b96e31c1f51f23b9ed94aad7647352857561\", \"K0x5a74b96e31c1f51f23b9ed94aad7647352857561\", \"A0x807ed2bcb74c265eaadee1fda2ce7187142b6131\", \"K0x807ed2bcb74c265eaadee1fda2ce7187142b6131\", \"A0x124352fad855e20416ceb3df50ceb6084a0fbd72\", \"K0x124352fad855e20416ceb3df50ceb6084a0fbd72\", \"A0x327015c2a1d84cbeeabe8b20197902387138470c\", \"K0x327015c2a1d84cbeeabe8b20197902387138470c\", \"A0x10c264fa3c7a49eceb469dcaa6eecb4e16eb0304\", \"K0x10c264fa3c7a49eceb469dcaa6eecb4e16eb0304\", \"A0x55d853e3ab59ad39766ae0ee2cb431d46c560254\", \"K0x55d853e3ab59ad39766ae0ee2cb431d46c560254\", \"A0x5fa7c7927b806090725841b9eafdea2238003460\", \"K0x5fa7c7927b806090725841b9eafdea2238003460\", \"A0x2786868e959f4914252f823baf50e024a1612d51\", \"K0x2786868e959f4914252f823baf50e024a1612d51\", \"A0x399860889955c6573619a57a138eabe4155b0a63\", \"K0x399860889955c6573619a57a138eabe4155b0a63\", \"A0xc37db82e947d795d8f49d4867b6c815a98e81b6b\", \"K0xc37db82e947d795d8f49d4867b6c815a98e81b6b\", \"A0xbca33cc14108595949f856b4fd307bbcf2e29f7b\", \"K0xbca33cc14108595949f856b4fd307bbcf2e29f7b\", \"A0xfac184ecc4afe6cc570ebb07a33936918ea5e53d\", \"K0xfac184ecc4afe6cc570ebb07a33936918ea5e53d\", \"A0xe6c689b3268f297e4c269f99d6b970944e7f433f\", \"K0xe6c689b3268f297e4c269f99d6b970944e7f433f\", \"A0xc6770aae5b9565ddd942253126365e0da725f048\", \"K0xc6770aae5b9565ddd942253126365e0da725f048\", \"A0x4badcfb5b9cc1905c1f91e62c6997657234b6813\", \"K0x4badcfb5b9cc1905c1f91e62c6997657234b6813\", \"A0x722cce1b163f3f0dbf16520e2c35083d3f9106ed\", \"K0x722cce1b163f3f0dbf16520e2c35083d3f9106ed\", \"A0x05fc1b366a291d486b7cb96f887771061ae13d84\", \"K0x05fc1b366a291d486b7cb96f887771061ae13d84\", \"A0x65ba29b6a13f15ea27399050917fbd46870a7f84\", \"K0x65ba29b6a13f15ea27399050917fbd46870a7f84\", \"A0x991eb936646dff94e2deed711b8f68abb3190d0c\", \"K0x991eb936646dff94e2deed711b8f68abb3190d0c\", \"A0x0f4ed877abb20009e2f88fec30edd14a83a8d0d6\", \"K0x0f4ed877abb20009e2f88fec30edd14a83a8d0d6\"], \"xaxis\": \"x\", \"y\": [392, 21, 17, 17, 17, 17, 15, 15, 15, 15, 15, 15, 15, 13, 13, 13, 13, 13, 13, 13, 13, 13, 13, 13, 13, 13, 13, 13, 11, 11, 11, 11, 11, 11, 11, 11, 11, 11, 11, 11, 11, 11, 11, 11, 11, 11, 11, 9, 9, 9, 9, 9, 9, 9, 9, 9, 9, 9, 9, 9, 9, 9, 9, 9, 9, 7, 7, 7, 7, 7, 7, 7, 7, 7, 7, 7, 7, 7, 7, 7, 7, 7, 7, 7, 7, 7, 7, 7, 5, 5, 5, 5, 5, 5, 5, 5, 5, 5, 5, 5, 5, 5, 5, 5, 5, 5, 5, 5, 5, 5, 5, 5, 5, 5, 5, 5, 5, 5, 5, 5, 5, 5, 5, 5, 5, 5, 5, 5, 5, 5, 5, 5, 5, 3, 3, 3, 3, 3, 3, 3, 3, 3, 3, 3, 3, 3, 3, 3, 3, 3, 3, 3, 3, 3, 3, 3, 3, 3, 3, 3, 3, 3, 3, 3, 3, 3, 3, 3, 3, 3, 3, 3, 3, 3, 3, 3, 3, 3, 3, 3, 3, 3, 3, 3, 3, 1, 1, 1, 1, 1, 1, 1, 1, 1, 1, 1, 1, 1, 1, 1, 1, 1, 1, 1, 1, 1, 1, 1, 1, 1, 1, 1, 1, 1, 1, 1, 1, 1, 1, 1, 1, 1, 1, 1, 1, 1, 1, 1, 1, 1, 1, 1, 1, 1, 1, 1, 1, 1, 1, 1, 1, 1, 1, 1, 1, 1, 1, 1, 1, 1, 1, 1, 1, 1, 1, 1, 1, 1, 1, 1, 1, 1, 1, 1, 1, 1, 1, 1, 1, 1, 1, 1, 1, 1, 1, 1, 1, 1, 1, 1, 1, 1, 1, 1, 1, 1, 1, 1, 1, 1, 1, 1, 1, 1, 1, 1, 1, 1, 1, 1, 1, 1, 1, 1, 1, 1, 1, 1, 1, 1, 1, 1, 1, 1, 1, 1, 1, 1, 1, 1, 1, 1, 1, 1, 1, 1, 1, 1, 1, 1, 1, 1, 1, 1, 1, 1, 1, 1, 1, 1, 1, 1, 1, 1, 1, 1, 1, 1, 1, 1, 1, 1, 1, 1, 1, 1, 1, 1, 1, 1, 1, 1, 1, 1, 1, 1, 1, 1, 1, 1, 1, 1, 1, 1, 1, 1, 1, 1, 1, 1, 1, 1, 1, 1, 1, 1, 1, 1, 1, 1, 1, 1, 1, 1, 1, 1, 1, 1, 1, 1, 1], \"yaxis\": \"y\"}],                        {\"barmode\": \"relative\", \"legend\": {\"tracegroupgap\": 0}, \"margin\": {\"t\": 60}, \"template\": {\"data\": {\"bar\": [{\"error_x\": {\"color\": \"#2a3f5f\"}, \"error_y\": {\"color\": \"#2a3f5f\"}, \"marker\": {\"line\": {\"color\": \"#E5ECF6\", \"width\": 0.5}}, \"type\": \"bar\"}], \"barpolar\": [{\"marker\": {\"line\": {\"color\": \"#E5ECF6\", \"width\": 0.5}}, \"type\": \"barpolar\"}], \"carpet\": [{\"aaxis\": {\"endlinecolor\": \"#2a3f5f\", \"gridcolor\": \"white\", \"linecolor\": \"white\", \"minorgridcolor\": \"white\", \"startlinecolor\": \"#2a3f5f\"}, \"baxis\": {\"endlinecolor\": \"#2a3f5f\", \"gridcolor\": \"white\", \"linecolor\": \"white\", \"minorgridcolor\": \"white\", \"startlinecolor\": \"#2a3f5f\"}, \"type\": \"carpet\"}], \"choropleth\": [{\"colorbar\": {\"outlinewidth\": 0, \"ticks\": \"\"}, \"type\": \"choropleth\"}], \"contour\": [{\"colorbar\": {\"outlinewidth\": 0, \"ticks\": \"\"}, \"colorscale\": [[0.0, \"#0d0887\"], [0.1111111111111111, \"#46039f\"], [0.2222222222222222, \"#7201a8\"], [0.3333333333333333, \"#9c179e\"], [0.4444444444444444, \"#bd3786\"], [0.5555555555555556, \"#d8576b\"], [0.6666666666666666, \"#ed7953\"], [0.7777777777777778, \"#fb9f3a\"], [0.8888888888888888, \"#fdca26\"], [1.0, \"#f0f921\"]], \"type\": \"contour\"}], \"contourcarpet\": [{\"colorbar\": {\"outlinewidth\": 0, \"ticks\": \"\"}, \"type\": \"contourcarpet\"}], \"heatmap\": [{\"colorbar\": {\"outlinewidth\": 0, \"ticks\": \"\"}, \"colorscale\": [[0.0, \"#0d0887\"], [0.1111111111111111, \"#46039f\"], [0.2222222222222222, \"#7201a8\"], [0.3333333333333333, \"#9c179e\"], [0.4444444444444444, \"#bd3786\"], [0.5555555555555556, \"#d8576b\"], [0.6666666666666666, \"#ed7953\"], [0.7777777777777778, \"#fb9f3a\"], [0.8888888888888888, \"#fdca26\"], [1.0, \"#f0f921\"]], \"type\": \"heatmap\"}], \"heatmapgl\": [{\"colorbar\": {\"outlinewidth\": 0, \"ticks\": \"\"}, \"colorscale\": [[0.0, \"#0d0887\"], [0.1111111111111111, \"#46039f\"], [0.2222222222222222, \"#7201a8\"], [0.3333333333333333, \"#9c179e\"], [0.4444444444444444, \"#bd3786\"], [0.5555555555555556, \"#d8576b\"], [0.6666666666666666, \"#ed7953\"], [0.7777777777777778, \"#fb9f3a\"], [0.8888888888888888, \"#fdca26\"], [1.0, \"#f0f921\"]], \"type\": \"heatmapgl\"}], \"histogram\": [{\"marker\": {\"colorbar\": {\"outlinewidth\": 0, \"ticks\": \"\"}}, \"type\": \"histogram\"}], \"histogram2d\": [{\"colorbar\": {\"outlinewidth\": 0, \"ticks\": \"\"}, \"colorscale\": [[0.0, \"#0d0887\"], [0.1111111111111111, \"#46039f\"], [0.2222222222222222, \"#7201a8\"], [0.3333333333333333, \"#9c179e\"], [0.4444444444444444, \"#bd3786\"], [0.5555555555555556, \"#d8576b\"], [0.6666666666666666, \"#ed7953\"], [0.7777777777777778, \"#fb9f3a\"], [0.8888888888888888, \"#fdca26\"], [1.0, \"#f0f921\"]], \"type\": \"histogram2d\"}], \"histogram2dcontour\": [{\"colorbar\": {\"outlinewidth\": 0, \"ticks\": \"\"}, \"colorscale\": [[0.0, \"#0d0887\"], [0.1111111111111111, \"#46039f\"], [0.2222222222222222, \"#7201a8\"], [0.3333333333333333, \"#9c179e\"], [0.4444444444444444, \"#bd3786\"], [0.5555555555555556, \"#d8576b\"], [0.6666666666666666, \"#ed7953\"], [0.7777777777777778, \"#fb9f3a\"], [0.8888888888888888, \"#fdca26\"], [1.0, \"#f0f921\"]], \"type\": \"histogram2dcontour\"}], \"mesh3d\": [{\"colorbar\": {\"outlinewidth\": 0, \"ticks\": \"\"}, \"type\": \"mesh3d\"}], \"parcoords\": [{\"line\": {\"colorbar\": {\"outlinewidth\": 0, \"ticks\": \"\"}}, \"type\": \"parcoords\"}], \"pie\": [{\"automargin\": true, \"type\": \"pie\"}], \"scatter\": [{\"marker\": {\"colorbar\": {\"outlinewidth\": 0, \"ticks\": \"\"}}, \"type\": \"scatter\"}], \"scatter3d\": [{\"line\": {\"colorbar\": {\"outlinewidth\": 0, \"ticks\": \"\"}}, \"marker\": {\"colorbar\": {\"outlinewidth\": 0, \"ticks\": \"\"}}, \"type\": \"scatter3d\"}], \"scattercarpet\": [{\"marker\": {\"colorbar\": {\"outlinewidth\": 0, \"ticks\": \"\"}}, \"type\": \"scattercarpet\"}], \"scattergeo\": [{\"marker\": {\"colorbar\": {\"outlinewidth\": 0, \"ticks\": \"\"}}, \"type\": \"scattergeo\"}], \"scattergl\": [{\"marker\": {\"colorbar\": {\"outlinewidth\": 0, \"ticks\": \"\"}}, \"type\": \"scattergl\"}], \"scattermapbox\": [{\"marker\": {\"colorbar\": {\"outlinewidth\": 0, \"ticks\": \"\"}}, \"type\": \"scattermapbox\"}], \"scatterpolar\": [{\"marker\": {\"colorbar\": {\"outlinewidth\": 0, \"ticks\": \"\"}}, \"type\": \"scatterpolar\"}], \"scatterpolargl\": [{\"marker\": {\"colorbar\": {\"outlinewidth\": 0, \"ticks\": \"\"}}, \"type\": \"scatterpolargl\"}], \"scatterternary\": [{\"marker\": {\"colorbar\": {\"outlinewidth\": 0, \"ticks\": \"\"}}, \"type\": \"scatterternary\"}], \"surface\": [{\"colorbar\": {\"outlinewidth\": 0, \"ticks\": \"\"}, \"colorscale\": [[0.0, \"#0d0887\"], [0.1111111111111111, \"#46039f\"], [0.2222222222222222, \"#7201a8\"], [0.3333333333333333, \"#9c179e\"], [0.4444444444444444, \"#bd3786\"], [0.5555555555555556, \"#d8576b\"], [0.6666666666666666, \"#ed7953\"], [0.7777777777777778, \"#fb9f3a\"], [0.8888888888888888, \"#fdca26\"], [1.0, \"#f0f921\"]], \"type\": \"surface\"}], \"table\": [{\"cells\": {\"fill\": {\"color\": \"#EBF0F8\"}, \"line\": {\"color\": \"white\"}}, \"header\": {\"fill\": {\"color\": \"#C8D4E3\"}, \"line\": {\"color\": \"white\"}}, \"type\": \"table\"}]}, \"layout\": {\"annotationdefaults\": {\"arrowcolor\": \"#2a3f5f\", \"arrowhead\": 0, \"arrowwidth\": 1}, \"autotypenumbers\": \"strict\", \"coloraxis\": {\"colorbar\": {\"outlinewidth\": 0, \"ticks\": \"\"}}, \"colorscale\": {\"diverging\": [[0, \"#8e0152\"], [0.1, \"#c51b7d\"], [0.2, \"#de77ae\"], [0.3, \"#f1b6da\"], [0.4, \"#fde0ef\"], [0.5, \"#f7f7f7\"], [0.6, \"#e6f5d0\"], [0.7, \"#b8e186\"], [0.8, \"#7fbc41\"], [0.9, \"#4d9221\"], [1, \"#276419\"]], \"sequential\": [[0.0, \"#0d0887\"], [0.1111111111111111, \"#46039f\"], [0.2222222222222222, \"#7201a8\"], [0.3333333333333333, \"#9c179e\"], [0.4444444444444444, \"#bd3786\"], [0.5555555555555556, \"#d8576b\"], [0.6666666666666666, \"#ed7953\"], [0.7777777777777778, \"#fb9f3a\"], [0.8888888888888888, \"#fdca26\"], [1.0, \"#f0f921\"]], \"sequentialminus\": [[0.0, \"#0d0887\"], [0.1111111111111111, \"#46039f\"], [0.2222222222222222, \"#7201a8\"], [0.3333333333333333, \"#9c179e\"], [0.4444444444444444, \"#bd3786\"], [0.5555555555555556, \"#d8576b\"], [0.6666666666666666, \"#ed7953\"], [0.7777777777777778, \"#fb9f3a\"], [0.8888888888888888, \"#fdca26\"], [1.0, \"#f0f921\"]]}, \"colorway\": [\"#636efa\", \"#EF553B\", \"#00cc96\", \"#ab63fa\", \"#FFA15A\", \"#19d3f3\", \"#FF6692\", \"#B6E880\", \"#FF97FF\", \"#FECB52\"], \"font\": {\"color\": \"#2a3f5f\"}, \"geo\": {\"bgcolor\": \"white\", \"lakecolor\": \"white\", \"landcolor\": \"#E5ECF6\", \"showlakes\": true, \"showland\": true, \"subunitcolor\": \"white\"}, \"hoverlabel\": {\"align\": \"left\"}, \"hovermode\": \"closest\", \"mapbox\": {\"style\": \"light\"}, \"paper_bgcolor\": \"white\", \"plot_bgcolor\": \"#E5ECF6\", \"polar\": {\"angularaxis\": {\"gridcolor\": \"white\", \"linecolor\": \"white\", \"ticks\": \"\"}, \"bgcolor\": \"#E5ECF6\", \"radialaxis\": {\"gridcolor\": \"white\", \"linecolor\": \"white\", \"ticks\": \"\"}}, \"scene\": {\"xaxis\": {\"backgroundcolor\": \"#E5ECF6\", \"gridcolor\": \"white\", \"gridwidth\": 2, \"linecolor\": \"white\", \"showbackground\": true, \"ticks\": \"\", \"zerolinecolor\": \"white\"}, \"yaxis\": {\"backgroundcolor\": \"#E5ECF6\", \"gridcolor\": \"white\", \"gridwidth\": 2, \"linecolor\": \"white\", \"showbackground\": true, \"ticks\": \"\", \"zerolinecolor\": \"white\"}, \"zaxis\": {\"backgroundcolor\": \"#E5ECF6\", \"gridcolor\": \"white\", \"gridwidth\": 2, \"linecolor\": \"white\", \"showbackground\": true, \"ticks\": \"\", \"zerolinecolor\": \"white\"}}, \"shapedefaults\": {\"line\": {\"color\": \"#2a3f5f\"}}, \"ternary\": {\"aaxis\": {\"gridcolor\": \"white\", \"linecolor\": \"white\", \"ticks\": \"\"}, \"baxis\": {\"gridcolor\": \"white\", \"linecolor\": \"white\", \"ticks\": \"\"}, \"bgcolor\": \"#E5ECF6\", \"caxis\": {\"gridcolor\": \"white\", \"linecolor\": \"white\", \"ticks\": \"\"}}, \"title\": {\"x\": 0.05}, \"xaxis\": {\"automargin\": true, \"gridcolor\": \"white\", \"linecolor\": \"white\", \"ticks\": \"\", \"title\": {\"standoff\": 15}, \"zerolinecolor\": \"white\", \"zerolinewidth\": 2}, \"yaxis\": {\"automargin\": true, \"gridcolor\": \"white\", \"linecolor\": \"white\", \"ticks\": \"\", \"title\": {\"standoff\": 15}, \"zerolinecolor\": \"white\", \"zerolinewidth\": 2}}}, \"xaxis\": {\"anchor\": \"y\", \"domain\": [0.0, 1.0], \"title\": {\"text\": \"Written keys\"}}, \"yaxis\": {\"anchor\": \"x\", \"domain\": [0.0, 1.0], \"title\": {\"text\": \"Number of writes\"}}},                        {\"responsive\": true}                    ).then(function(){\n",
       "                            \n",
       "var gd = document.getElementById('252bd70f-d2ea-43a6-8bfa-bab7627b65ff');\n",
       "var x = new MutationObserver(function (mutations, observer) {{\n",
       "        var display = window.getComputedStyle(gd).display;\n",
       "        if (!display || display === 'none') {{\n",
       "            console.log([gd, 'removed!']);\n",
       "            Plotly.purge(gd);\n",
       "            observer.disconnect();\n",
       "        }}\n",
       "}});\n",
       "\n",
       "// Listen for the removal of the full notebook cells\n",
       "var notebookContainer = gd.closest('#notebook-container');\n",
       "if (notebookContainer) {{\n",
       "    x.observe(notebookContainer, {childList: true});\n",
       "}}\n",
       "\n",
       "// Listen for the clearing of the current output cell\n",
       "var outputEl = gd.closest('.output');\n",
       "if (outputEl) {{\n",
       "    x.observe(outputEl, {childList: true});\n",
       "}}\n",
       "\n",
       "                        })                };                });            </script>        </div>"
      ]
     },
     "metadata": {},
     "output_type": "display_data"
    }
   ],
   "source": [
    "txDfw=txDf[txDf['access_type']=='WRITE']\n",
    "labels={\"x\":\"Written keys\",\"y\":\"Number of writes\"}\n",
    "fig = px.bar(x=txDfw['key'].unique(),y=txDfw['key'].value_counts(),labels=labels)\n",
    "fig"
   ]
  },
  {
   "cell_type": "code",
   "execution_count": 9,
   "metadata": {
    "scrolled": true
   },
   "outputs": [
    {
     "data": {
      "application/vnd.plotly.v1+json": {
       "config": {
        "plotlyServerURL": "https://plot.ly"
       },
       "data": [
        {
         "alignmentgroup": "True",
         "hovertemplate": "Key=%{x}<br>Ocurrence in transactions with MVCC=%{y}<extra></extra>",
         "legendgroup": "",
         "marker": {
          "color": "#636efa"
         },
         "name": "",
         "offsetgroup": "",
         "orientation": "v",
         "showlegend": false,
         "textposition": "auto",
         "type": "bar",
         "x": [
          "VALID",
          "MVCC_READ_CONFLICT",
          "ENDORSEMENT_POLICY_FAILURE"
         ],
         "xaxis": "x",
         "y": [
          820,
          668,
          20
         ],
         "yaxis": "y"
        }
       ],
       "layout": {
        "barmode": "relative",
        "legend": {
         "tracegroupgap": 0
        },
        "margin": {
         "t": 60
        },
        "template": {
         "data": {
          "bar": [
           {
            "error_x": {
             "color": "#2a3f5f"
            },
            "error_y": {
             "color": "#2a3f5f"
            },
            "marker": {
             "line": {
              "color": "#E5ECF6",
              "width": 0.5
             }
            },
            "type": "bar"
           }
          ],
          "barpolar": [
           {
            "marker": {
             "line": {
              "color": "#E5ECF6",
              "width": 0.5
             }
            },
            "type": "barpolar"
           }
          ],
          "carpet": [
           {
            "aaxis": {
             "endlinecolor": "#2a3f5f",
             "gridcolor": "white",
             "linecolor": "white",
             "minorgridcolor": "white",
             "startlinecolor": "#2a3f5f"
            },
            "baxis": {
             "endlinecolor": "#2a3f5f",
             "gridcolor": "white",
             "linecolor": "white",
             "minorgridcolor": "white",
             "startlinecolor": "#2a3f5f"
            },
            "type": "carpet"
           }
          ],
          "choropleth": [
           {
            "colorbar": {
             "outlinewidth": 0,
             "ticks": ""
            },
            "type": "choropleth"
           }
          ],
          "contour": [
           {
            "colorbar": {
             "outlinewidth": 0,
             "ticks": ""
            },
            "colorscale": [
             [
              0,
              "#0d0887"
             ],
             [
              0.1111111111111111,
              "#46039f"
             ],
             [
              0.2222222222222222,
              "#7201a8"
             ],
             [
              0.3333333333333333,
              "#9c179e"
             ],
             [
              0.4444444444444444,
              "#bd3786"
             ],
             [
              0.5555555555555556,
              "#d8576b"
             ],
             [
              0.6666666666666666,
              "#ed7953"
             ],
             [
              0.7777777777777778,
              "#fb9f3a"
             ],
             [
              0.8888888888888888,
              "#fdca26"
             ],
             [
              1,
              "#f0f921"
             ]
            ],
            "type": "contour"
           }
          ],
          "contourcarpet": [
           {
            "colorbar": {
             "outlinewidth": 0,
             "ticks": ""
            },
            "type": "contourcarpet"
           }
          ],
          "heatmap": [
           {
            "colorbar": {
             "outlinewidth": 0,
             "ticks": ""
            },
            "colorscale": [
             [
              0,
              "#0d0887"
             ],
             [
              0.1111111111111111,
              "#46039f"
             ],
             [
              0.2222222222222222,
              "#7201a8"
             ],
             [
              0.3333333333333333,
              "#9c179e"
             ],
             [
              0.4444444444444444,
              "#bd3786"
             ],
             [
              0.5555555555555556,
              "#d8576b"
             ],
             [
              0.6666666666666666,
              "#ed7953"
             ],
             [
              0.7777777777777778,
              "#fb9f3a"
             ],
             [
              0.8888888888888888,
              "#fdca26"
             ],
             [
              1,
              "#f0f921"
             ]
            ],
            "type": "heatmap"
           }
          ],
          "heatmapgl": [
           {
            "colorbar": {
             "outlinewidth": 0,
             "ticks": ""
            },
            "colorscale": [
             [
              0,
              "#0d0887"
             ],
             [
              0.1111111111111111,
              "#46039f"
             ],
             [
              0.2222222222222222,
              "#7201a8"
             ],
             [
              0.3333333333333333,
              "#9c179e"
             ],
             [
              0.4444444444444444,
              "#bd3786"
             ],
             [
              0.5555555555555556,
              "#d8576b"
             ],
             [
              0.6666666666666666,
              "#ed7953"
             ],
             [
              0.7777777777777778,
              "#fb9f3a"
             ],
             [
              0.8888888888888888,
              "#fdca26"
             ],
             [
              1,
              "#f0f921"
             ]
            ],
            "type": "heatmapgl"
           }
          ],
          "histogram": [
           {
            "marker": {
             "colorbar": {
              "outlinewidth": 0,
              "ticks": ""
             }
            },
            "type": "histogram"
           }
          ],
          "histogram2d": [
           {
            "colorbar": {
             "outlinewidth": 0,
             "ticks": ""
            },
            "colorscale": [
             [
              0,
              "#0d0887"
             ],
             [
              0.1111111111111111,
              "#46039f"
             ],
             [
              0.2222222222222222,
              "#7201a8"
             ],
             [
              0.3333333333333333,
              "#9c179e"
             ],
             [
              0.4444444444444444,
              "#bd3786"
             ],
             [
              0.5555555555555556,
              "#d8576b"
             ],
             [
              0.6666666666666666,
              "#ed7953"
             ],
             [
              0.7777777777777778,
              "#fb9f3a"
             ],
             [
              0.8888888888888888,
              "#fdca26"
             ],
             [
              1,
              "#f0f921"
             ]
            ],
            "type": "histogram2d"
           }
          ],
          "histogram2dcontour": [
           {
            "colorbar": {
             "outlinewidth": 0,
             "ticks": ""
            },
            "colorscale": [
             [
              0,
              "#0d0887"
             ],
             [
              0.1111111111111111,
              "#46039f"
             ],
             [
              0.2222222222222222,
              "#7201a8"
             ],
             [
              0.3333333333333333,
              "#9c179e"
             ],
             [
              0.4444444444444444,
              "#bd3786"
             ],
             [
              0.5555555555555556,
              "#d8576b"
             ],
             [
              0.6666666666666666,
              "#ed7953"
             ],
             [
              0.7777777777777778,
              "#fb9f3a"
             ],
             [
              0.8888888888888888,
              "#fdca26"
             ],
             [
              1,
              "#f0f921"
             ]
            ],
            "type": "histogram2dcontour"
           }
          ],
          "mesh3d": [
           {
            "colorbar": {
             "outlinewidth": 0,
             "ticks": ""
            },
            "type": "mesh3d"
           }
          ],
          "parcoords": [
           {
            "line": {
             "colorbar": {
              "outlinewidth": 0,
              "ticks": ""
             }
            },
            "type": "parcoords"
           }
          ],
          "pie": [
           {
            "automargin": true,
            "type": "pie"
           }
          ],
          "scatter": [
           {
            "marker": {
             "colorbar": {
              "outlinewidth": 0,
              "ticks": ""
             }
            },
            "type": "scatter"
           }
          ],
          "scatter3d": [
           {
            "line": {
             "colorbar": {
              "outlinewidth": 0,
              "ticks": ""
             }
            },
            "marker": {
             "colorbar": {
              "outlinewidth": 0,
              "ticks": ""
             }
            },
            "type": "scatter3d"
           }
          ],
          "scattercarpet": [
           {
            "marker": {
             "colorbar": {
              "outlinewidth": 0,
              "ticks": ""
             }
            },
            "type": "scattercarpet"
           }
          ],
          "scattergeo": [
           {
            "marker": {
             "colorbar": {
              "outlinewidth": 0,
              "ticks": ""
             }
            },
            "type": "scattergeo"
           }
          ],
          "scattergl": [
           {
            "marker": {
             "colorbar": {
              "outlinewidth": 0,
              "ticks": ""
             }
            },
            "type": "scattergl"
           }
          ],
          "scattermapbox": [
           {
            "marker": {
             "colorbar": {
              "outlinewidth": 0,
              "ticks": ""
             }
            },
            "type": "scattermapbox"
           }
          ],
          "scatterpolar": [
           {
            "marker": {
             "colorbar": {
              "outlinewidth": 0,
              "ticks": ""
             }
            },
            "type": "scatterpolar"
           }
          ],
          "scatterpolargl": [
           {
            "marker": {
             "colorbar": {
              "outlinewidth": 0,
              "ticks": ""
             }
            },
            "type": "scatterpolargl"
           }
          ],
          "scatterternary": [
           {
            "marker": {
             "colorbar": {
              "outlinewidth": 0,
              "ticks": ""
             }
            },
            "type": "scatterternary"
           }
          ],
          "surface": [
           {
            "colorbar": {
             "outlinewidth": 0,
             "ticks": ""
            },
            "colorscale": [
             [
              0,
              "#0d0887"
             ],
             [
              0.1111111111111111,
              "#46039f"
             ],
             [
              0.2222222222222222,
              "#7201a8"
             ],
             [
              0.3333333333333333,
              "#9c179e"
             ],
             [
              0.4444444444444444,
              "#bd3786"
             ],
             [
              0.5555555555555556,
              "#d8576b"
             ],
             [
              0.6666666666666666,
              "#ed7953"
             ],
             [
              0.7777777777777778,
              "#fb9f3a"
             ],
             [
              0.8888888888888888,
              "#fdca26"
             ],
             [
              1,
              "#f0f921"
             ]
            ],
            "type": "surface"
           }
          ],
          "table": [
           {
            "cells": {
             "fill": {
              "color": "#EBF0F8"
             },
             "line": {
              "color": "white"
             }
            },
            "header": {
             "fill": {
              "color": "#C8D4E3"
             },
             "line": {
              "color": "white"
             }
            },
            "type": "table"
           }
          ]
         },
         "layout": {
          "annotationdefaults": {
           "arrowcolor": "#2a3f5f",
           "arrowhead": 0,
           "arrowwidth": 1
          },
          "autotypenumbers": "strict",
          "coloraxis": {
           "colorbar": {
            "outlinewidth": 0,
            "ticks": ""
           }
          },
          "colorscale": {
           "diverging": [
            [
             0,
             "#8e0152"
            ],
            [
             0.1,
             "#c51b7d"
            ],
            [
             0.2,
             "#de77ae"
            ],
            [
             0.3,
             "#f1b6da"
            ],
            [
             0.4,
             "#fde0ef"
            ],
            [
             0.5,
             "#f7f7f7"
            ],
            [
             0.6,
             "#e6f5d0"
            ],
            [
             0.7,
             "#b8e186"
            ],
            [
             0.8,
             "#7fbc41"
            ],
            [
             0.9,
             "#4d9221"
            ],
            [
             1,
             "#276419"
            ]
           ],
           "sequential": [
            [
             0,
             "#0d0887"
            ],
            [
             0.1111111111111111,
             "#46039f"
            ],
            [
             0.2222222222222222,
             "#7201a8"
            ],
            [
             0.3333333333333333,
             "#9c179e"
            ],
            [
             0.4444444444444444,
             "#bd3786"
            ],
            [
             0.5555555555555556,
             "#d8576b"
            ],
            [
             0.6666666666666666,
             "#ed7953"
            ],
            [
             0.7777777777777778,
             "#fb9f3a"
            ],
            [
             0.8888888888888888,
             "#fdca26"
            ],
            [
             1,
             "#f0f921"
            ]
           ],
           "sequentialminus": [
            [
             0,
             "#0d0887"
            ],
            [
             0.1111111111111111,
             "#46039f"
            ],
            [
             0.2222222222222222,
             "#7201a8"
            ],
            [
             0.3333333333333333,
             "#9c179e"
            ],
            [
             0.4444444444444444,
             "#bd3786"
            ],
            [
             0.5555555555555556,
             "#d8576b"
            ],
            [
             0.6666666666666666,
             "#ed7953"
            ],
            [
             0.7777777777777778,
             "#fb9f3a"
            ],
            [
             0.8888888888888888,
             "#fdca26"
            ],
            [
             1,
             "#f0f921"
            ]
           ]
          },
          "colorway": [
           "#636efa",
           "#EF553B",
           "#00cc96",
           "#ab63fa",
           "#FFA15A",
           "#19d3f3",
           "#FF6692",
           "#B6E880",
           "#FF97FF",
           "#FECB52"
          ],
          "font": {
           "color": "#2a3f5f"
          },
          "geo": {
           "bgcolor": "white",
           "lakecolor": "white",
           "landcolor": "#E5ECF6",
           "showlakes": true,
           "showland": true,
           "subunitcolor": "white"
          },
          "hoverlabel": {
           "align": "left"
          },
          "hovermode": "closest",
          "mapbox": {
           "style": "light"
          },
          "paper_bgcolor": "white",
          "plot_bgcolor": "#E5ECF6",
          "polar": {
           "angularaxis": {
            "gridcolor": "white",
            "linecolor": "white",
            "ticks": ""
           },
           "bgcolor": "#E5ECF6",
           "radialaxis": {
            "gridcolor": "white",
            "linecolor": "white",
            "ticks": ""
           }
          },
          "scene": {
           "xaxis": {
            "backgroundcolor": "#E5ECF6",
            "gridcolor": "white",
            "gridwidth": 2,
            "linecolor": "white",
            "showbackground": true,
            "ticks": "",
            "zerolinecolor": "white"
           },
           "yaxis": {
            "backgroundcolor": "#E5ECF6",
            "gridcolor": "white",
            "gridwidth": 2,
            "linecolor": "white",
            "showbackground": true,
            "ticks": "",
            "zerolinecolor": "white"
           },
           "zaxis": {
            "backgroundcolor": "#E5ECF6",
            "gridcolor": "white",
            "gridwidth": 2,
            "linecolor": "white",
            "showbackground": true,
            "ticks": "",
            "zerolinecolor": "white"
           }
          },
          "shapedefaults": {
           "line": {
            "color": "#2a3f5f"
           }
          },
          "ternary": {
           "aaxis": {
            "gridcolor": "white",
            "linecolor": "white",
            "ticks": ""
           },
           "baxis": {
            "gridcolor": "white",
            "linecolor": "white",
            "ticks": ""
           },
           "bgcolor": "#E5ECF6",
           "caxis": {
            "gridcolor": "white",
            "linecolor": "white",
            "ticks": ""
           }
          },
          "title": {
           "x": 0.05
          },
          "xaxis": {
           "automargin": true,
           "gridcolor": "white",
           "linecolor": "white",
           "ticks": "",
           "title": {
            "standoff": 15
           },
           "zerolinecolor": "white",
           "zerolinewidth": 2
          },
          "yaxis": {
           "automargin": true,
           "gridcolor": "white",
           "linecolor": "white",
           "ticks": "",
           "title": {
            "standoff": 15
           },
           "zerolinecolor": "white",
           "zerolinewidth": 2
          }
         }
        },
        "xaxis": {
         "anchor": "y",
         "domain": [
          0,
          1
         ],
         "title": {
          "text": "Key"
         }
        },
        "yaxis": {
         "anchor": "x",
         "domain": [
          0,
          1
         ],
         "title": {
          "text": "Ocurrence in transactions with MVCC"
         }
        }
       }
      },
      "text/html": [
       "<div>                            <div id=\"3927c30e-2256-4198-935e-24408d58a26a\" class=\"plotly-graph-div\" style=\"height:525px; width:100%;\"></div>            <script type=\"text/javascript\">                require([\"plotly\"], function(Plotly) {                    window.PLOTLYENV=window.PLOTLYENV || {};                                    if (document.getElementById(\"3927c30e-2256-4198-935e-24408d58a26a\")) {                    Plotly.newPlot(                        \"3927c30e-2256-4198-935e-24408d58a26a\",                        [{\"alignmentgroup\": \"True\", \"hovertemplate\": \"Key=%{x}<br>Ocurrence in transactions with MVCC=%{y}<extra></extra>\", \"legendgroup\": \"\", \"marker\": {\"color\": \"#636efa\"}, \"name\": \"\", \"offsetgroup\": \"\", \"orientation\": \"v\", \"showlegend\": false, \"textposition\": \"auto\", \"type\": \"bar\", \"x\": [\"VALID\", \"MVCC_READ_CONFLICT\", \"ENDORSEMENT_POLICY_FAILURE\"], \"xaxis\": \"x\", \"y\": [820, 668, 20], \"yaxis\": \"y\"}],                        {\"barmode\": \"relative\", \"legend\": {\"tracegroupgap\": 0}, \"margin\": {\"t\": 60}, \"template\": {\"data\": {\"bar\": [{\"error_x\": {\"color\": \"#2a3f5f\"}, \"error_y\": {\"color\": \"#2a3f5f\"}, \"marker\": {\"line\": {\"color\": \"#E5ECF6\", \"width\": 0.5}}, \"type\": \"bar\"}], \"barpolar\": [{\"marker\": {\"line\": {\"color\": \"#E5ECF6\", \"width\": 0.5}}, \"type\": \"barpolar\"}], \"carpet\": [{\"aaxis\": {\"endlinecolor\": \"#2a3f5f\", \"gridcolor\": \"white\", \"linecolor\": \"white\", \"minorgridcolor\": \"white\", \"startlinecolor\": \"#2a3f5f\"}, \"baxis\": {\"endlinecolor\": \"#2a3f5f\", \"gridcolor\": \"white\", \"linecolor\": \"white\", \"minorgridcolor\": \"white\", \"startlinecolor\": \"#2a3f5f\"}, \"type\": \"carpet\"}], \"choropleth\": [{\"colorbar\": {\"outlinewidth\": 0, \"ticks\": \"\"}, \"type\": \"choropleth\"}], \"contour\": [{\"colorbar\": {\"outlinewidth\": 0, \"ticks\": \"\"}, \"colorscale\": [[0.0, \"#0d0887\"], [0.1111111111111111, \"#46039f\"], [0.2222222222222222, \"#7201a8\"], [0.3333333333333333, \"#9c179e\"], [0.4444444444444444, \"#bd3786\"], [0.5555555555555556, \"#d8576b\"], [0.6666666666666666, \"#ed7953\"], [0.7777777777777778, \"#fb9f3a\"], [0.8888888888888888, \"#fdca26\"], [1.0, \"#f0f921\"]], \"type\": \"contour\"}], \"contourcarpet\": [{\"colorbar\": {\"outlinewidth\": 0, \"ticks\": \"\"}, \"type\": \"contourcarpet\"}], \"heatmap\": [{\"colorbar\": {\"outlinewidth\": 0, \"ticks\": \"\"}, \"colorscale\": [[0.0, \"#0d0887\"], [0.1111111111111111, \"#46039f\"], [0.2222222222222222, \"#7201a8\"], [0.3333333333333333, \"#9c179e\"], [0.4444444444444444, \"#bd3786\"], [0.5555555555555556, \"#d8576b\"], [0.6666666666666666, \"#ed7953\"], [0.7777777777777778, \"#fb9f3a\"], [0.8888888888888888, \"#fdca26\"], [1.0, \"#f0f921\"]], \"type\": \"heatmap\"}], \"heatmapgl\": [{\"colorbar\": {\"outlinewidth\": 0, \"ticks\": \"\"}, \"colorscale\": [[0.0, \"#0d0887\"], [0.1111111111111111, \"#46039f\"], [0.2222222222222222, \"#7201a8\"], [0.3333333333333333, \"#9c179e\"], [0.4444444444444444, \"#bd3786\"], [0.5555555555555556, \"#d8576b\"], [0.6666666666666666, \"#ed7953\"], [0.7777777777777778, \"#fb9f3a\"], [0.8888888888888888, \"#fdca26\"], [1.0, \"#f0f921\"]], \"type\": \"heatmapgl\"}], \"histogram\": [{\"marker\": {\"colorbar\": {\"outlinewidth\": 0, \"ticks\": \"\"}}, \"type\": \"histogram\"}], \"histogram2d\": [{\"colorbar\": {\"outlinewidth\": 0, \"ticks\": \"\"}, \"colorscale\": [[0.0, \"#0d0887\"], [0.1111111111111111, \"#46039f\"], [0.2222222222222222, \"#7201a8\"], [0.3333333333333333, \"#9c179e\"], [0.4444444444444444, \"#bd3786\"], [0.5555555555555556, \"#d8576b\"], [0.6666666666666666, \"#ed7953\"], [0.7777777777777778, \"#fb9f3a\"], [0.8888888888888888, \"#fdca26\"], [1.0, \"#f0f921\"]], \"type\": \"histogram2d\"}], \"histogram2dcontour\": [{\"colorbar\": {\"outlinewidth\": 0, \"ticks\": \"\"}, \"colorscale\": [[0.0, \"#0d0887\"], [0.1111111111111111, \"#46039f\"], [0.2222222222222222, \"#7201a8\"], [0.3333333333333333, \"#9c179e\"], [0.4444444444444444, \"#bd3786\"], [0.5555555555555556, \"#d8576b\"], [0.6666666666666666, \"#ed7953\"], [0.7777777777777778, \"#fb9f3a\"], [0.8888888888888888, \"#fdca26\"], [1.0, \"#f0f921\"]], \"type\": \"histogram2dcontour\"}], \"mesh3d\": [{\"colorbar\": {\"outlinewidth\": 0, \"ticks\": \"\"}, \"type\": \"mesh3d\"}], \"parcoords\": [{\"line\": {\"colorbar\": {\"outlinewidth\": 0, \"ticks\": \"\"}}, \"type\": \"parcoords\"}], \"pie\": [{\"automargin\": true, \"type\": \"pie\"}], \"scatter\": [{\"marker\": {\"colorbar\": {\"outlinewidth\": 0, \"ticks\": \"\"}}, \"type\": \"scatter\"}], \"scatter3d\": [{\"line\": {\"colorbar\": {\"outlinewidth\": 0, \"ticks\": \"\"}}, \"marker\": {\"colorbar\": {\"outlinewidth\": 0, \"ticks\": \"\"}}, \"type\": \"scatter3d\"}], \"scattercarpet\": [{\"marker\": {\"colorbar\": {\"outlinewidth\": 0, \"ticks\": \"\"}}, \"type\": \"scattercarpet\"}], \"scattergeo\": [{\"marker\": {\"colorbar\": {\"outlinewidth\": 0, \"ticks\": \"\"}}, \"type\": \"scattergeo\"}], \"scattergl\": [{\"marker\": {\"colorbar\": {\"outlinewidth\": 0, \"ticks\": \"\"}}, \"type\": \"scattergl\"}], \"scattermapbox\": [{\"marker\": {\"colorbar\": {\"outlinewidth\": 0, \"ticks\": \"\"}}, \"type\": \"scattermapbox\"}], \"scatterpolar\": [{\"marker\": {\"colorbar\": {\"outlinewidth\": 0, \"ticks\": \"\"}}, \"type\": \"scatterpolar\"}], \"scatterpolargl\": [{\"marker\": {\"colorbar\": {\"outlinewidth\": 0, \"ticks\": \"\"}}, \"type\": \"scatterpolargl\"}], \"scatterternary\": [{\"marker\": {\"colorbar\": {\"outlinewidth\": 0, \"ticks\": \"\"}}, \"type\": \"scatterternary\"}], \"surface\": [{\"colorbar\": {\"outlinewidth\": 0, \"ticks\": \"\"}, \"colorscale\": [[0.0, \"#0d0887\"], [0.1111111111111111, \"#46039f\"], [0.2222222222222222, \"#7201a8\"], [0.3333333333333333, \"#9c179e\"], [0.4444444444444444, \"#bd3786\"], [0.5555555555555556, \"#d8576b\"], [0.6666666666666666, \"#ed7953\"], [0.7777777777777778, \"#fb9f3a\"], [0.8888888888888888, \"#fdca26\"], [1.0, \"#f0f921\"]], \"type\": \"surface\"}], \"table\": [{\"cells\": {\"fill\": {\"color\": \"#EBF0F8\"}, \"line\": {\"color\": \"white\"}}, \"header\": {\"fill\": {\"color\": \"#C8D4E3\"}, \"line\": {\"color\": \"white\"}}, \"type\": \"table\"}]}, \"layout\": {\"annotationdefaults\": {\"arrowcolor\": \"#2a3f5f\", \"arrowhead\": 0, \"arrowwidth\": 1}, \"autotypenumbers\": \"strict\", \"coloraxis\": {\"colorbar\": {\"outlinewidth\": 0, \"ticks\": \"\"}}, \"colorscale\": {\"diverging\": [[0, \"#8e0152\"], [0.1, \"#c51b7d\"], [0.2, \"#de77ae\"], [0.3, \"#f1b6da\"], [0.4, \"#fde0ef\"], [0.5, \"#f7f7f7\"], [0.6, \"#e6f5d0\"], [0.7, \"#b8e186\"], [0.8, \"#7fbc41\"], [0.9, \"#4d9221\"], [1, \"#276419\"]], \"sequential\": [[0.0, \"#0d0887\"], [0.1111111111111111, \"#46039f\"], [0.2222222222222222, \"#7201a8\"], [0.3333333333333333, \"#9c179e\"], [0.4444444444444444, \"#bd3786\"], [0.5555555555555556, \"#d8576b\"], [0.6666666666666666, \"#ed7953\"], [0.7777777777777778, \"#fb9f3a\"], [0.8888888888888888, \"#fdca26\"], [1.0, \"#f0f921\"]], \"sequentialminus\": [[0.0, \"#0d0887\"], [0.1111111111111111, \"#46039f\"], [0.2222222222222222, \"#7201a8\"], [0.3333333333333333, \"#9c179e\"], [0.4444444444444444, \"#bd3786\"], [0.5555555555555556, \"#d8576b\"], [0.6666666666666666, \"#ed7953\"], [0.7777777777777778, \"#fb9f3a\"], [0.8888888888888888, \"#fdca26\"], [1.0, \"#f0f921\"]]}, \"colorway\": [\"#636efa\", \"#EF553B\", \"#00cc96\", \"#ab63fa\", \"#FFA15A\", \"#19d3f3\", \"#FF6692\", \"#B6E880\", \"#FF97FF\", \"#FECB52\"], \"font\": {\"color\": \"#2a3f5f\"}, \"geo\": {\"bgcolor\": \"white\", \"lakecolor\": \"white\", \"landcolor\": \"#E5ECF6\", \"showlakes\": true, \"showland\": true, \"subunitcolor\": \"white\"}, \"hoverlabel\": {\"align\": \"left\"}, \"hovermode\": \"closest\", \"mapbox\": {\"style\": \"light\"}, \"paper_bgcolor\": \"white\", \"plot_bgcolor\": \"#E5ECF6\", \"polar\": {\"angularaxis\": {\"gridcolor\": \"white\", \"linecolor\": \"white\", \"ticks\": \"\"}, \"bgcolor\": \"#E5ECF6\", \"radialaxis\": {\"gridcolor\": \"white\", \"linecolor\": \"white\", \"ticks\": \"\"}}, \"scene\": {\"xaxis\": {\"backgroundcolor\": \"#E5ECF6\", \"gridcolor\": \"white\", \"gridwidth\": 2, \"linecolor\": \"white\", \"showbackground\": true, \"ticks\": \"\", \"zerolinecolor\": \"white\"}, \"yaxis\": {\"backgroundcolor\": \"#E5ECF6\", \"gridcolor\": \"white\", \"gridwidth\": 2, \"linecolor\": \"white\", \"showbackground\": true, \"ticks\": \"\", \"zerolinecolor\": \"white\"}, \"zaxis\": {\"backgroundcolor\": \"#E5ECF6\", \"gridcolor\": \"white\", \"gridwidth\": 2, \"linecolor\": \"white\", \"showbackground\": true, \"ticks\": \"\", \"zerolinecolor\": \"white\"}}, \"shapedefaults\": {\"line\": {\"color\": \"#2a3f5f\"}}, \"ternary\": {\"aaxis\": {\"gridcolor\": \"white\", \"linecolor\": \"white\", \"ticks\": \"\"}, \"baxis\": {\"gridcolor\": \"white\", \"linecolor\": \"white\", \"ticks\": \"\"}, \"bgcolor\": \"#E5ECF6\", \"caxis\": {\"gridcolor\": \"white\", \"linecolor\": \"white\", \"ticks\": \"\"}}, \"title\": {\"x\": 0.05}, \"xaxis\": {\"automargin\": true, \"gridcolor\": \"white\", \"linecolor\": \"white\", \"ticks\": \"\", \"title\": {\"standoff\": 15}, \"zerolinecolor\": \"white\", \"zerolinewidth\": 2}, \"yaxis\": {\"automargin\": true, \"gridcolor\": \"white\", \"linecolor\": \"white\", \"ticks\": \"\", \"title\": {\"standoff\": 15}, \"zerolinecolor\": \"white\", \"zerolinewidth\": 2}}}, \"xaxis\": {\"anchor\": \"y\", \"domain\": [0.0, 1.0], \"title\": {\"text\": \"Key\"}}, \"yaxis\": {\"anchor\": \"x\", \"domain\": [0.0, 1.0], \"title\": {\"text\": \"Ocurrence in transactions with MVCC\"}}},                        {\"responsive\": true}                    ).then(function(){\n",
       "                            \n",
       "var gd = document.getElementById('3927c30e-2256-4198-935e-24408d58a26a');\n",
       "var x = new MutationObserver(function (mutations, observer) {{\n",
       "        var display = window.getComputedStyle(gd).display;\n",
       "        if (!display || display === 'none') {{\n",
       "            console.log([gd, 'removed!']);\n",
       "            Plotly.purge(gd);\n",
       "            observer.disconnect();\n",
       "        }}\n",
       "}});\n",
       "\n",
       "// Listen for the removal of the full notebook cells\n",
       "var notebookContainer = gd.closest('#notebook-container');\n",
       "if (notebookContainer) {{\n",
       "    x.observe(notebookContainer, {childList: true});\n",
       "}}\n",
       "\n",
       "// Listen for the clearing of the current output cell\n",
       "var outputEl = gd.closest('.output');\n",
       "if (outputEl) {{\n",
       "    x.observe(outputEl, {childList: true});\n",
       "}}\n",
       "\n",
       "                        })                };                });            </script>        </div>"
      ]
     },
     "metadata": {},
     "output_type": "display_data"
    }
   ],
   "source": [
    "labels={\"x\":\"Validation code\",\"y\":\"Qty\"}\n",
    "codes=txDfr.groupby(['validation_code']).size()\n",
    "df = pd.DataFrame(codes)\n",
    "df = df.reset_index()\n",
    "df.columns = [str(column) for column in df.columns]\n",
    "df = df.sort_values(by=['0'], ascending=[False])\n",
    "labels={\"x\":\"Key\",\"y\":\"Ocurrence in transactions with MVCC\"}\n",
    "fig = px.bar(x=df['validation_code'], y=df['0'],labels=labels)\n",
    "fig"
   ]
  },
  {
   "cell_type": "code",
   "execution_count": 10,
   "metadata": {},
   "outputs": [
    {
     "data": {
      "application/vnd.plotly.v1+json": {
       "config": {
        "plotlyServerURL": "https://plot.ly"
       },
       "data": [
        {
         "alignmentgroup": "True",
         "hovertemplate": "validation_code=MVCC_READ_CONFLICT<br>key=%{x}<br>Quantity=%{y}<extra></extra>",
         "legendgroup": "MVCC_READ_CONFLICT",
         "marker": {
          "color": "#636efa"
         },
         "name": "MVCC_READ_CONFLICT",
         "offsetgroup": "MVCC_READ_CONFLICT",
         "orientation": "v",
         "showlegend": true,
         "textposition": "auto",
         "type": "bar",
         "x": [
          "A0x02e778a99dadc6a96658957ab44af0ff300792d6",
          "A0x032e378b8adfea64782e895294879ae9c626a70b",
          "A0x04b0451cfa41b61975d8f02d92fe49805ae51aa1",
          "A0x04d2f242952d9bb815fba44a0af38d6bef96d555",
          "A0x0609bf26af445f294a6aae69cb3cc075a2e68707",
          "A0x08933d8ee8e4e562a9ed3ca42d4e6e9bd255fe3d",
          "A0x0a0b5c4e689b4f2ac909d83e9ddf8838eadbed4d",
          "A0x0c20d5d370b869dd728b1092d99367262cde9c77",
          "A0x0e085ccc6d804abdff0c704d8ce3e96dffbd1de8",
          "A0x11bff0a264952798dca922bd47ad4b481d116621",
          "A0x124352fad855e20416ceb3df50ceb6084a0fbd72",
          "A0x12488da5c23a2382c2c5671590b23bcc2360123b",
          "A0x1309ca5daf888fc4ebc4204895e2d65b8e4dc775",
          "A0x13aefaeee20d6dc6b57c819ca25fc57dd156fc18",
          "A0x1806efe37becc930700028e73e654f8b51078fd0",
          "A0x18debee65be9cadb3b3e9fb08c83b94557e00edb",
          "A0x18ee7b93cda2e269952ea7365492d0d42604bb2d",
          "A0x19d4773547082d233c8baadc23d38548a8a0a05e",
          "A0x1b1502a4b725b307aa6d2dad6604d1c631e2d24a",
          "A0x1b57a9193495d6cc3355d652c5c1397565b2ec38",
          "A0x1d81ebc3c2b351dad2473a00c54d218ece20ca0d",
          "A0x1dc865311ccd631646abf3160e832a5e106aea40",
          "A0x1f16ec496f67770a95485ae817412e5e972fd3f0",
          "A0x213ce06a3580d126d87978ac72f345ee6072053e",
          "A0x27c3679ec8674e87a44e5e453b069b81e60fc136",
          "A0x27d64af4c23870c5a421f6da0b3869c9a9cb482c",
          "A0x291c06a0cb6af5a67a057749efe04d5c619349e5",
          "A0x297be78d71173f473e793dc4dc228a0082ce7b2c",
          "A0x29ae2d92c17e2324aeb20aa9ddf6fcc788739099",
          "A0x2aafabaa6b764dda5c1b567918d3b621b4bef34a",
          "A0x2ab90eb5b986904c465e7cfee8d54f15dc6458e3",
          "A0x2b1f1adeb10645efa1a7cb26306bfa57117d2266",
          "A0x2d2a95d499911f247203a859aa91be50bf8d2ae1",
          "A0x2d84a437082721461ed4c1cf0c2a19939e7f0059",
          "A0x2fd59c2f49772c4e9ef42a7491290ff3037253d1",
          "A0x31eee26fc04f2d260892874d2d7b2f8aac47c40e",
          "A0x327d476ee7192cf54ff457c9f3a990994a4876d1",
          "A0x34bdb0cd02062d27365ab4d56f2332e405a572ae",
          "A0x34c23638fdbf18bb4e973cb3d6d3b55b2cd42b95",
          "A0x3796818941c68e5888da14b3cacd342bd6e4cefd",
          "A0x3830650ef4e52b6a58a830fb1efee3b2e3e8ad8d",
          "A0x399860889955c6573619a57a138eabe4155b0a63",
          "A0x3ae053323c103b1c7aff9fe8c75b6a7e0126b8aa",
          "A0x3c66165a873e24f5348b8b8ea0fb499d88f3d3c8",
          "A0x3dcaa3605aa8d30d2b434ead05ea4653b29b50b9",
          "A0x3fe329340ead5fff587252304fa012fb43521517",
          "A0x4147644a2ee313152ed302b5b668fe4e6a41e802",
          "A0x41d886eda61871b64c0f46042016c15115c4558a",
          "A0x427e1d84fd7b89e8faeefa9d8d8fc459496a7e53",
          "A0x4516106aa231922658ff2834ca1fb39ceeddf88a",
          "A0x53978e41fb14e4963ab6f15fe641374c76c66b08",
          "A0x547ff01418ac59609ced50067c67f091f0fcd19b",
          "A0x5c0bcd3688421889c39dde697542cdf40fdd932f",
          "A0x5d4ef8a4196f27a81d1b1a471998e6f14daae07e",
          "A0x618621c24c42e6a138f7db0a82dad2a152e5f8c9",
          "A0x61dfc7ad6d199d395d5dc74bf0f393006005789d",
          "A0x62b4671d570d83103ab964d9071a273a5d001fee",
          "A0x6348c71de25feaa41227fc9e2ba3a84be0bb7117",
          "A0x650a1cbda525a273b84d42ee578f479c849f7e32",
          "A0x664f1d0b98f077ffa74e5ddd798bfc6f1fc437d3",
          "A0x666f4569c5a215ce4891e5e8cc5b61ce7a22415d",
          "A0x67d8589793e9155932f9087ff4f03f6c76528254",
          "A0x68415af95b8e704c70a236deb07a47418aa2aa58",
          "A0x6a3e4dacd4be636738bdd385b19068500dbed4d3",
          "A0x6bbbb02aca0851cef054ed1f73c2fa84ba52b1d1",
          "A0x6bf52ef2502c4fb4aaf41b5cd1df640208738fe9",
          "A0x6d631080e8daef28463e6b5c4c125a6df03bf1e5",
          "A0x7050849edd9ae8631d0984c9f6beaedcca505175",
          "A0x73ba416ebcb00a81a9f94beb3995d8d257eb3c1c",
          "A0x74aa18b2ac25287356e55a05cf536a6e90cb2d5c",
          "A0x75b595abe8093f097d826f3ecf5484a9163e892c",
          "A0x7629a88b72c521e860b9abfddd38a16631ddc170",
          "A0x7690a5351bb887949b0d676ad4fb03a096caf8a9",
          "A0x7a5d41ce24afc33459ad9600bcf6ae586636d8b9",
          "A0x7a671755d21b5fb4e2bdca61be8cda8a0482363c",
          "A0x7bc741576c17970a309df156d73978ccd1aa45f0",
          "A0x7c8c1f9081244c7d3835f162a61dad68a3f5c247",
          "A0x7d2a87e3714922a0c52ba0096ccb501d9585a492",
          "A0x7d3449ec07b776ec75c4ebca96f41a59d7da5881",
          "A0x7da7b51c8ff0551ee6f80b4b29c80708ea30871a",
          "A0x7dd01d254074db8e926e4f0c6d6ba8b4f6c7c809",
          "A0x831e364c22b5f20e7be3aaf48d60e965da067472",
          "A0x8a04864db111d27aade3a955b06d4babfc312ec6",
          "A0x8c23dd5326261def14aa29eab9085de810f68301",
          "A0x8cc1b870aa785254f0aace6e8b71160ec1e72a16",
          "A0x8d9b5dd881b373f1eb9f9bcd4f1c892c9c9c7d9d",
          "A0x924d8ac1f0673994ad95e27afa3288635a3ed2e5",
          "A0x9349aa6c6e72fe86a83e72e15fd1c9c4dd2987b3",
          "A0x945f1fdf01a6127ffac0af4773e61e68955017c4",
          "A0x9479bb1b65b5ec578fe970c45d0ca82ecef427bd",
          "A0x979bfa220d2ae311d3e7fae200f387abdfcbf8de",
          "A0x97f26e31acc1bf35cd8706f87c6b70a11eb2ce50",
          "A0x9c17ce07fe0f3969ac12cb0784d426f64b98b0b2",
          "A0x9d32eae47d32b52a161c3eec8c92fa8021fbe15d",
          "A0x9f806eb85af2e8a00b22499966d450c277064343",
          "A0x9f983750d09650afe3822dea047b96f97065915a",
          "A0xa0c5af67f246d7bda1da64948abc5f1cfa8d0787",
          "A0xa10e856fff434c6290b0507514b57908b79c75fc",
          "A0xa1892bdfeee38914bab98c74f730600b6c1d7b7d",
          "A0xa3be17a089d05578b82ceb0f61b01570855c71c6",
          "A0xa42fb67f20cb24e175b0c1c060738305856710fa",
          "A0xa715e36063182c9854123f9c649e75059be2d8aa",
          "A0xa786797e0adb67871dd6b6cfbded649a20c14739",
          "A0xa8a8885e7bc2c575139380f3d5d707b8e20e7574",
          "A0xa8bfc75daf5989f7da100025b60554838aa72409",
          "A0xab787dc6bb494bb1159b52705b18b90c46752be5",
          "A0xaca9a990390f22f73b04132cac6d6afdc494279f",
          "A0xb095fb897149b08a1b29a6ca74bb66f55d30d6f2",
          "A0xb58bcd432d285b0b62c61b3cc651e3651241fad1",
          "A0xb7c027e32b5dcfa44ed481dcadf41778b8f24cdc",
          "A0xb7e8d8cff92adaa5e568c88cdd80196e070bc1f3",
          "A0xb96484250607bf42c7841e056dd333a4f90b8dcc",
          "A0xbca33cc14108595949f856b4fd307bbcf2e29f7b",
          "A0xbca9fbdcc84ff2ddde35f1992b4448c7ecb2e619",
          "A0xbd98dcdb4c33c360a1ad056243f8483f93144619",
          "A0xbe70d4544b35e435b8ee1aa24dc6f0271b12ccd3",
          "A0xbf0ec4d5b5ff3d7d789824238590b030cbf11ef9",
          "A0xbf45b32208988a2a02f9a4e0989c7fd6b121130f",
          "A0xbf65a1d1c1f56e6507bd847ba7aced70ecce0cda",
          "A0xc4267c3d2a5ae47ad329633438c20f1c73a7c849",
          "A0xc4e76b8e93569ed1cbc702635a4e04aa036bdd4f",
          "A0xc5ca9702ea21eeaef22abe6e5c98ce27fe0890fb",
          "A0xc5fa7e4f4caa5bfb8315350ba663bf0d329b5065",
          "A0xc6770aae5b9565ddd942253126365e0da725f048",
          "A0xc7fd85a482959b8c56958cd91b127a45171c19b7",
          "A0xc887549295bda98cb91a41cef27fab706d7eea03",
          "A0xcc0ed3a331cea379c0a43ca7783507bc726ec016",
          "A0xcd032b158e95e01d6938e4c45fca9a116d1069c6",
          "A0xcd6891ea7ea976689e0ab33ce1dee20d51708ebb",
          "A0xce6862563d7fe971e77a0f798e176d2d471c4c0c",
          "A0xcfb9ea2f484399e68e99fed4bce1c2da0ece92e1",
          "A0xd13cb0faf2fed2d27e485075a8e1ef96f2bf249f",
          "A0xd1c0b781fb4e33c936a1b9c82c34ad67bf060e61",
          "A0xd35b6a327d9616ea49b8aafeeab5deb02079d6e4",
          "A0xd48e13ada40330ca515a3648bc1bff2e7eb9af49",
          "A0xd4a0760f2abc986554915a08a0e12a46e14b655e",
          "A0xd72b576e6c42e2b9f20feb1097b8d413a01cddb9",
          "A0xd8526a276ecb901685865a0bab5b222608a1849a",
          "A0xd8958a9716cd74062b89c36b5f13abd89a4a502b",
          "A0xdbad20e48e5d7ea50dc78fd33b2457f9e7aa941b",
          "A0xdd2b9ecf1a0a41ea9ef3d5201051759b9ef6f257",
          "A0xdf229c482d3ba4930a2ad72bfe864a80d6007819",
          "A0xe007eff5481ec0cd4ae5a5b71196d8cf8983bd87",
          "A0xe040280fb103744f6b26c15a68fb193040743fc1",
          "A0xe289c8674f7788abbcf2d2f5775ba96cf73cf8bd",
          "A0xe5c1dbc76b0962cf29ab5772fc1934d0bbb7ac68",
          "A0xea4e09f9c8778403edf3c79a8225b298acfdbb1d",
          "A0xea8d69bd2fb64968cdb05238fbbdeb918c62f6a4",
          "A0xeae39848c40aecc6abd11cd88e0a7c020ce8666a",
          "A0xeeafc639dc16596fac574e318803d799db8b8de4",
          "A0xf6bd3b92489777c0ae41adb868e5624df65bd1ab",
          "A0xfa3a79bfec22aa4debaf8d03b90f84546b4c1f63",
          "A0xfa3d15572db66b98bfb29c0ccbefd04db1a6abe8",
          "A0xfde9aea364294c9da1697471df052c7adc377dfe",
          "MFIOrgMSP"
         ],
         "xaxis": "x",
         "y": [
          2,
          2,
          2,
          2,
          2,
          2,
          2,
          2,
          8,
          2,
          6,
          2,
          2,
          2,
          2,
          2,
          2,
          2,
          4,
          4,
          2,
          2,
          10,
          6,
          2,
          2,
          2,
          4,
          2,
          2,
          2,
          6,
          6,
          6,
          2,
          6,
          2,
          2,
          2,
          4,
          2,
          2,
          2,
          2,
          2,
          6,
          2,
          2,
          2,
          6,
          2,
          2,
          6,
          2,
          2,
          2,
          2,
          2,
          2,
          4,
          2,
          6,
          6,
          4,
          4,
          2,
          2,
          2,
          4,
          2,
          4,
          2,
          2,
          2,
          2,
          2,
          2,
          8,
          2,
          2,
          2,
          2,
          2,
          2,
          6,
          2,
          2,
          6,
          4,
          2,
          2,
          2,
          2,
          4,
          12,
          2,
          2,
          2,
          2,
          2,
          2,
          2,
          2,
          2,
          2,
          2,
          2,
          6,
          2,
          6,
          2,
          4,
          2,
          2,
          2,
          4,
          2,
          4,
          4,
          2,
          6,
          2,
          4,
          2,
          8,
          6,
          2,
          2,
          2,
          2,
          4,
          4,
          6,
          6,
          2,
          2,
          2,
          2,
          4,
          2,
          2,
          2,
          4,
          4,
          2,
          8,
          6,
          2,
          2,
          8,
          2,
          2,
          2,
          2,
          190
         ],
         "yaxis": "y"
        },
        {
         "alignmentgroup": "True",
         "hovertemplate": "validation_code=VALID<br>key=%{x}<br>Quantity=%{y}<extra></extra>",
         "legendgroup": "VALID",
         "marker": {
          "color": "#EF553B"
         },
         "name": "VALID",
         "offsetgroup": "VALID",
         "orientation": "v",
         "showlegend": true,
         "textposition": "auto",
         "type": "bar",
         "x": [
          "A0x02e778a99dadc6a96658957ab44af0ff300792d6",
          "A0x04b0451cfa41b61975d8f02d92fe49805ae51aa1",
          "A0x0609bf26af445f294a6aae69cb3cc075a2e68707",
          "A0x08933d8ee8e4e562a9ed3ca42d4e6e9bd255fe3d",
          "A0x0a0b5c4e689b4f2ac909d83e9ddf8838eadbed4d",
          "A0x0e085ccc6d804abdff0c704d8ce3e96dffbd1de8",
          "A0x0e0e8b30ca53fdb1a1b78d0d8e804088424078ea",
          "A0x10c264fa3c7a49eceb469dcaa6eecb4e16eb0304",
          "A0x11bff0a264952798dca922bd47ad4b481d116621",
          "A0x124352fad855e20416ceb3df50ceb6084a0fbd72",
          "A0x13aefaeee20d6dc6b57c819ca25fc57dd156fc18",
          "A0x16e0464b67e95eed311f2654936add548c00ec62",
          "A0x18debee65be9cadb3b3e9fb08c83b94557e00edb",
          "A0x18ee7b93cda2e269952ea7365492d0d42604bb2d",
          "A0x19d4773547082d233c8baadc23d38548a8a0a05e",
          "A0x1b1502a4b725b307aa6d2dad6604d1c631e2d24a",
          "A0x1b57a9193495d6cc3355d652c5c1397565b2ec38",
          "A0x1db60780fae6d93aab523d82be5418800759869a",
          "A0x1dc865311ccd631646abf3160e832a5e106aea40",
          "A0x1f16ec496f67770a95485ae817412e5e972fd3f0",
          "A0x213ce06a3580d126d87978ac72f345ee6072053e",
          "A0x291c06a0cb6af5a67a057749efe04d5c619349e5",
          "A0x297be78d71173f473e793dc4dc228a0082ce7b2c",
          "A0x2aafabaa6b764dda5c1b567918d3b621b4bef34a",
          "A0x2ab90eb5b986904c465e7cfee8d54f15dc6458e3",
          "A0x2b1f1adeb10645efa1a7cb26306bfa57117d2266",
          "A0x2d84a437082721461ed4c1cf0c2a19939e7f0059",
          "A0x31eee26fc04f2d260892874d2d7b2f8aac47c40e",
          "A0x3796818941c68e5888da14b3cacd342bd6e4cefd",
          "A0x3830650ef4e52b6a58a830fb1efee3b2e3e8ad8d",
          "A0x399860889955c6573619a57a138eabe4155b0a63",
          "A0x3fe329340ead5fff587252304fa012fb43521517",
          "A0x4147644a2ee313152ed302b5b668fe4e6a41e802",
          "A0x41d886eda61871b64c0f46042016c15115c4558a",
          "A0x4516106aa231922658ff2834ca1fb39ceeddf88a",
          "A0x45dc40853174f09f1510bff4a37b93a0377a95d2",
          "A0x47bcda4d240c456198c861022f30e16f3e8e8173",
          "A0x48fc11486d3ccb3d863fed58ba12f7be7f63a2ca",
          "A0x51413253eacd1953f918bb30273fabe0a58c6928",
          "A0x56fece89b531dd8cb8ff924d531fabd5530c73fb",
          "A0x5c0bcd3688421889c39dde697542cdf40fdd932f",
          "A0x5fa7c7927b806090725841b9eafdea2238003460",
          "A0x61dfc7ad6d199d395d5dc74bf0f393006005789d",
          "A0x6258efcf7368388f0ad132ed9b40e377ff201c0a",
          "A0x62b4671d570d83103ab964d9071a273a5d001fee",
          "A0x6331434cce34419719caf6dcd787c41ecab56c1b",
          "A0x6443a7fe6aefd8c43c624431d19897ac8f942bf0",
          "A0x664f1d0b98f077ffa74e5ddd798bfc6f1fc437d3",
          "A0x666f4569c5a215ce4891e5e8cc5b61ce7a22415d",
          "A0x67d8589793e9155932f9087ff4f03f6c76528254",
          "A0x68415af95b8e704c70a236deb07a47418aa2aa58",
          "A0x6a3e4dacd4be636738bdd385b19068500dbed4d3",
          "A0x6bbbb02aca0851cef054ed1f73c2fa84ba52b1d1",
          "A0x7050849edd9ae8631d0984c9f6beaedcca505175",
          "A0x73ba416ebcb00a81a9f94beb3995d8d257eb3c1c",
          "A0x74aa18b2ac25287356e55a05cf536a6e90cb2d5c",
          "A0x75b595abe8093f097d826f3ecf5484a9163e892c",
          "A0x7629a88b72c521e860b9abfddd38a16631ddc170",
          "A0x7a5d41ce24afc33459ad9600bcf6ae586636d8b9",
          "A0x7a671755d21b5fb4e2bdca61be8cda8a0482363c",
          "A0x7bc741576c17970a309df156d73978ccd1aa45f0",
          "A0x7d2a87e3714922a0c52ba0096ccb501d9585a492",
          "A0x7da7b51c8ff0551ee6f80b4b29c80708ea30871a",
          "A0x8d9b5dd881b373f1eb9f9bcd4f1c892c9c9c7d9d",
          "A0x8dde22fa2ede10d42db13d344bf817b67d5b8f8f",
          "A0x924d8ac1f0673994ad95e27afa3288635a3ed2e5",
          "A0x945f1fdf01a6127ffac0af4773e61e68955017c4",
          "A0x9479bb1b65b5ec578fe970c45d0ca82ecef427bd",
          "A0x979bfa220d2ae311d3e7fae200f387abdfcbf8de",
          "A0x97f26e31acc1bf35cd8706f87c6b70a11eb2ce50",
          "A0x9c17ce07fe0f3969ac12cb0784d426f64b98b0b2",
          "A0x9f806eb85af2e8a00b22499966d450c277064343",
          "A0xa0c5af67f246d7bda1da64948abc5f1cfa8d0787",
          "A0xa3be17a089d05578b82ceb0f61b01570855c71c6",
          "A0xa42fb67f20cb24e175b0c1c060738305856710fa",
          "A0xa7b7e9bc992068625357f84a93275b9c8fbaf175",
          "A0xa8bfc75daf5989f7da100025b60554838aa72409",
          "A0xb095fb897149b08a1b29a6ca74bb66f55d30d6f2",
          "A0xb7c027e32b5dcfa44ed481dcadf41778b8f24cdc",
          "A0xb8e29712346ac4a2d8f44ea9c8008c3f4bf79831",
          "A0xb96484250607bf42c7841e056dd333a4f90b8dcc",
          "A0xbc6d5b83e75c2d6bb85d9d7177f2b2b97eb237bc",
          "A0xbd98dcdb4c33c360a1ad056243f8483f93144619",
          "A0xbe70d4544b35e435b8ee1aa24dc6f0271b12ccd3",
          "A0xbf0ec4d5b5ff3d7d789824238590b030cbf11ef9",
          "A0xbf168810ed85f240d565273768c62cb383f2130a",
          "A0xbf45b32208988a2a02f9a4e0989c7fd6b121130f",
          "A0xbf65a1d1c1f56e6507bd847ba7aced70ecce0cda",
          "A0xc4267c3d2a5ae47ad329633438c20f1c73a7c849",
          "A0xc4e76b8e93569ed1cbc702635a4e04aa036bdd4f",
          "A0xc5fa7e4f4caa5bfb8315350ba663bf0d329b5065",
          "A0xc6770aae5b9565ddd942253126365e0da725f048",
          "A0xc7fd85a482959b8c56958cd91b127a45171c19b7",
          "A0xcc0ed3a331cea379c0a43ca7783507bc726ec016",
          "A0xcd032b158e95e01d6938e4c45fca9a116d1069c6",
          "A0xcd6891ea7ea976689e0ab33ce1dee20d51708ebb",
          "A0xce6862563d7fe971e77a0f798e176d2d471c4c0c",
          "A0xcfb9ea2f484399e68e99fed4bce1c2da0ece92e1",
          "A0xd13cb0faf2fed2d27e485075a8e1ef96f2bf249f",
          "A0xd185cbc8d2773a731ec1396559d4b9778297569d",
          "A0xd1c0b781fb4e33c936a1b9c82c34ad67bf060e61",
          "A0xd307fa9296118538c9ef3fb4f4bbbb9f79c1a202",
          "A0xd35b6a327d9616ea49b8aafeeab5deb02079d6e4",
          "A0xd36a21c511621c71a6d01336db005d5997c18882",
          "A0xd72b576e6c42e2b9f20feb1097b8d413a01cddb9",
          "A0xd8958a9716cd74062b89c36b5f13abd89a4a502b",
          "A0xdae57a345a6af516b210500e4f4569721d3c6e28",
          "A0xdd2b9ecf1a0a41ea9ef3d5201051759b9ef6f257",
          "A0xdf229c482d3ba4930a2ad72bfe864a80d6007819",
          "A0xe007eff5481ec0cd4ae5a5b71196d8cf8983bd87",
          "A0xe040280fb103744f6b26c15a68fb193040743fc1",
          "A0xe289c8674f7788abbcf2d2f5775ba96cf73cf8bd",
          "A0xe5c1dbc76b0962cf29ab5772fc1934d0bbb7ac68",
          "A0xe6c689b3268f297e4c269f99d6b970944e7f433f",
          "A0xe826cc045021e88f5e942a010753f66bd4430ba3",
          "A0xea8d69bd2fb64968cdb05238fbbdeb918c62f6a4",
          "A0xeeafc639dc16596fac574e318803d799db8b8de4",
          "A0xf1dbc9e8dfaccadcb7ccff1e03c7663819e36191",
          "A0xf6bd3b92489777c0ae41adb868e5624df65bd1ab",
          "A0xf95f6e4e95b14f86d2af7ee5d54fcc8baa6fc721",
          "A0xfa3d15572db66b98bfb29c0ccbefd04db1a6abe8",
          "A0xfac184ecc4afe6cc570ebb07a33936918ea5e53d",
          "A0xfad922de28a0202404cda237e99cc3edd5525eba",
          "A0xfb8ff2fcd599a8c6c0384c2446f49a7a613f66d2",
          "A0xfea2f9fef7e7af0fb3c8f74dd3654a26e902bb27",
          "MFIOrgMSP"
         ],
         "xaxis": "x",
         "y": [
          6,
          6,
          2,
          4,
          2,
          8,
          10,
          2,
          2,
          2,
          4,
          10,
          2,
          2,
          4,
          6,
          8,
          4,
          2,
          6,
          4,
          2,
          6,
          2,
          2,
          8,
          8,
          2,
          10,
          10,
          2,
          8,
          2,
          4,
          4,
          6,
          4,
          6,
          4,
          4,
          8,
          4,
          6,
          6,
          6,
          4,
          4,
          8,
          4,
          6,
          6,
          6,
          8,
          4,
          4,
          6,
          6,
          8,
          6,
          6,
          4,
          6,
          6,
          4,
          4,
          2,
          6,
          8,
          2,
          8,
          6,
          8,
          2,
          4,
          4,
          4,
          6,
          6,
          10,
          8,
          6,
          4,
          6,
          8,
          6,
          4,
          8,
          6,
          2,
          6,
          4,
          2,
          8,
          2,
          8,
          2,
          8,
          8,
          4,
          4,
          6,
          4,
          6,
          4,
          2,
          4,
          4,
          8,
          2,
          6,
          2,
          6,
          4,
          2,
          4,
          2,
          6,
          4,
          2,
          4,
          4,
          2,
          4,
          4,
          4,
          200
         ],
         "yaxis": "y"
        },
        {
         "alignmentgroup": "True",
         "hovertemplate": "validation_code=ENDORSEMENT_POLICY_FAILURE<br>key=%{x}<br>Quantity=%{y}<extra></extra>",
         "legendgroup": "ENDORSEMENT_POLICY_FAILURE",
         "marker": {
          "color": "#00cc96"
         },
         "name": "ENDORSEMENT_POLICY_FAILURE",
         "offsetgroup": "ENDORSEMENT_POLICY_FAILURE",
         "orientation": "v",
         "showlegend": true,
         "textposition": "auto",
         "type": "bar",
         "x": [
          "A0x032e378b8adfea64782e895294879ae9c626a70b",
          "A0x47bcda4d240c456198c861022f30e16f3e8e8173",
          "A0x7da7b51c8ff0551ee6f80b4b29c80708ea30871a",
          "A0x7dd01d254074db8e926e4f0c6d6ba8b4f6c7c809",
          "A0x831e364c22b5f20e7be3aaf48d60e965da067472",
          "A0xa1892bdfeee38914bab98c74f730600b6c1d7b7d",
          "A0xa8bfc75daf5989f7da100025b60554838aa72409",
          "A0xbf65a1d1c1f56e6507bd847ba7aced70ecce0cda",
          "A0xe826cc045021e88f5e942a010753f66bd4430ba3",
          "A0xf1dbc9e8dfaccadcb7ccff1e03c7663819e36191"
         ],
         "xaxis": "x",
         "y": [
          2,
          2,
          2,
          2,
          2,
          2,
          2,
          2,
          2,
          2
         ],
         "yaxis": "y"
        }
       ],
       "layout": {
        "barmode": "group",
        "legend": {
         "title": {
          "text": "validation_code"
         },
         "tracegroupgap": 0
        },
        "margin": {
         "t": 60
        },
        "template": {
         "data": {
          "bar": [
           {
            "error_x": {
             "color": "#2a3f5f"
            },
            "error_y": {
             "color": "#2a3f5f"
            },
            "marker": {
             "line": {
              "color": "#E5ECF6",
              "width": 0.5
             }
            },
            "type": "bar"
           }
          ],
          "barpolar": [
           {
            "marker": {
             "line": {
              "color": "#E5ECF6",
              "width": 0.5
             }
            },
            "type": "barpolar"
           }
          ],
          "carpet": [
           {
            "aaxis": {
             "endlinecolor": "#2a3f5f",
             "gridcolor": "white",
             "linecolor": "white",
             "minorgridcolor": "white",
             "startlinecolor": "#2a3f5f"
            },
            "baxis": {
             "endlinecolor": "#2a3f5f",
             "gridcolor": "white",
             "linecolor": "white",
             "minorgridcolor": "white",
             "startlinecolor": "#2a3f5f"
            },
            "type": "carpet"
           }
          ],
          "choropleth": [
           {
            "colorbar": {
             "outlinewidth": 0,
             "ticks": ""
            },
            "type": "choropleth"
           }
          ],
          "contour": [
           {
            "colorbar": {
             "outlinewidth": 0,
             "ticks": ""
            },
            "colorscale": [
             [
              0,
              "#0d0887"
             ],
             [
              0.1111111111111111,
              "#46039f"
             ],
             [
              0.2222222222222222,
              "#7201a8"
             ],
             [
              0.3333333333333333,
              "#9c179e"
             ],
             [
              0.4444444444444444,
              "#bd3786"
             ],
             [
              0.5555555555555556,
              "#d8576b"
             ],
             [
              0.6666666666666666,
              "#ed7953"
             ],
             [
              0.7777777777777778,
              "#fb9f3a"
             ],
             [
              0.8888888888888888,
              "#fdca26"
             ],
             [
              1,
              "#f0f921"
             ]
            ],
            "type": "contour"
           }
          ],
          "contourcarpet": [
           {
            "colorbar": {
             "outlinewidth": 0,
             "ticks": ""
            },
            "type": "contourcarpet"
           }
          ],
          "heatmap": [
           {
            "colorbar": {
             "outlinewidth": 0,
             "ticks": ""
            },
            "colorscale": [
             [
              0,
              "#0d0887"
             ],
             [
              0.1111111111111111,
              "#46039f"
             ],
             [
              0.2222222222222222,
              "#7201a8"
             ],
             [
              0.3333333333333333,
              "#9c179e"
             ],
             [
              0.4444444444444444,
              "#bd3786"
             ],
             [
              0.5555555555555556,
              "#d8576b"
             ],
             [
              0.6666666666666666,
              "#ed7953"
             ],
             [
              0.7777777777777778,
              "#fb9f3a"
             ],
             [
              0.8888888888888888,
              "#fdca26"
             ],
             [
              1,
              "#f0f921"
             ]
            ],
            "type": "heatmap"
           }
          ],
          "heatmapgl": [
           {
            "colorbar": {
             "outlinewidth": 0,
             "ticks": ""
            },
            "colorscale": [
             [
              0,
              "#0d0887"
             ],
             [
              0.1111111111111111,
              "#46039f"
             ],
             [
              0.2222222222222222,
              "#7201a8"
             ],
             [
              0.3333333333333333,
              "#9c179e"
             ],
             [
              0.4444444444444444,
              "#bd3786"
             ],
             [
              0.5555555555555556,
              "#d8576b"
             ],
             [
              0.6666666666666666,
              "#ed7953"
             ],
             [
              0.7777777777777778,
              "#fb9f3a"
             ],
             [
              0.8888888888888888,
              "#fdca26"
             ],
             [
              1,
              "#f0f921"
             ]
            ],
            "type": "heatmapgl"
           }
          ],
          "histogram": [
           {
            "marker": {
             "colorbar": {
              "outlinewidth": 0,
              "ticks": ""
             }
            },
            "type": "histogram"
           }
          ],
          "histogram2d": [
           {
            "colorbar": {
             "outlinewidth": 0,
             "ticks": ""
            },
            "colorscale": [
             [
              0,
              "#0d0887"
             ],
             [
              0.1111111111111111,
              "#46039f"
             ],
             [
              0.2222222222222222,
              "#7201a8"
             ],
             [
              0.3333333333333333,
              "#9c179e"
             ],
             [
              0.4444444444444444,
              "#bd3786"
             ],
             [
              0.5555555555555556,
              "#d8576b"
             ],
             [
              0.6666666666666666,
              "#ed7953"
             ],
             [
              0.7777777777777778,
              "#fb9f3a"
             ],
             [
              0.8888888888888888,
              "#fdca26"
             ],
             [
              1,
              "#f0f921"
             ]
            ],
            "type": "histogram2d"
           }
          ],
          "histogram2dcontour": [
           {
            "colorbar": {
             "outlinewidth": 0,
             "ticks": ""
            },
            "colorscale": [
             [
              0,
              "#0d0887"
             ],
             [
              0.1111111111111111,
              "#46039f"
             ],
             [
              0.2222222222222222,
              "#7201a8"
             ],
             [
              0.3333333333333333,
              "#9c179e"
             ],
             [
              0.4444444444444444,
              "#bd3786"
             ],
             [
              0.5555555555555556,
              "#d8576b"
             ],
             [
              0.6666666666666666,
              "#ed7953"
             ],
             [
              0.7777777777777778,
              "#fb9f3a"
             ],
             [
              0.8888888888888888,
              "#fdca26"
             ],
             [
              1,
              "#f0f921"
             ]
            ],
            "type": "histogram2dcontour"
           }
          ],
          "mesh3d": [
           {
            "colorbar": {
             "outlinewidth": 0,
             "ticks": ""
            },
            "type": "mesh3d"
           }
          ],
          "parcoords": [
           {
            "line": {
             "colorbar": {
              "outlinewidth": 0,
              "ticks": ""
             }
            },
            "type": "parcoords"
           }
          ],
          "pie": [
           {
            "automargin": true,
            "type": "pie"
           }
          ],
          "scatter": [
           {
            "marker": {
             "colorbar": {
              "outlinewidth": 0,
              "ticks": ""
             }
            },
            "type": "scatter"
           }
          ],
          "scatter3d": [
           {
            "line": {
             "colorbar": {
              "outlinewidth": 0,
              "ticks": ""
             }
            },
            "marker": {
             "colorbar": {
              "outlinewidth": 0,
              "ticks": ""
             }
            },
            "type": "scatter3d"
           }
          ],
          "scattercarpet": [
           {
            "marker": {
             "colorbar": {
              "outlinewidth": 0,
              "ticks": ""
             }
            },
            "type": "scattercarpet"
           }
          ],
          "scattergeo": [
           {
            "marker": {
             "colorbar": {
              "outlinewidth": 0,
              "ticks": ""
             }
            },
            "type": "scattergeo"
           }
          ],
          "scattergl": [
           {
            "marker": {
             "colorbar": {
              "outlinewidth": 0,
              "ticks": ""
             }
            },
            "type": "scattergl"
           }
          ],
          "scattermapbox": [
           {
            "marker": {
             "colorbar": {
              "outlinewidth": 0,
              "ticks": ""
             }
            },
            "type": "scattermapbox"
           }
          ],
          "scatterpolar": [
           {
            "marker": {
             "colorbar": {
              "outlinewidth": 0,
              "ticks": ""
             }
            },
            "type": "scatterpolar"
           }
          ],
          "scatterpolargl": [
           {
            "marker": {
             "colorbar": {
              "outlinewidth": 0,
              "ticks": ""
             }
            },
            "type": "scatterpolargl"
           }
          ],
          "scatterternary": [
           {
            "marker": {
             "colorbar": {
              "outlinewidth": 0,
              "ticks": ""
             }
            },
            "type": "scatterternary"
           }
          ],
          "surface": [
           {
            "colorbar": {
             "outlinewidth": 0,
             "ticks": ""
            },
            "colorscale": [
             [
              0,
              "#0d0887"
             ],
             [
              0.1111111111111111,
              "#46039f"
             ],
             [
              0.2222222222222222,
              "#7201a8"
             ],
             [
              0.3333333333333333,
              "#9c179e"
             ],
             [
              0.4444444444444444,
              "#bd3786"
             ],
             [
              0.5555555555555556,
              "#d8576b"
             ],
             [
              0.6666666666666666,
              "#ed7953"
             ],
             [
              0.7777777777777778,
              "#fb9f3a"
             ],
             [
              0.8888888888888888,
              "#fdca26"
             ],
             [
              1,
              "#f0f921"
             ]
            ],
            "type": "surface"
           }
          ],
          "table": [
           {
            "cells": {
             "fill": {
              "color": "#EBF0F8"
             },
             "line": {
              "color": "white"
             }
            },
            "header": {
             "fill": {
              "color": "#C8D4E3"
             },
             "line": {
              "color": "white"
             }
            },
            "type": "table"
           }
          ]
         },
         "layout": {
          "annotationdefaults": {
           "arrowcolor": "#2a3f5f",
           "arrowhead": 0,
           "arrowwidth": 1
          },
          "autotypenumbers": "strict",
          "coloraxis": {
           "colorbar": {
            "outlinewidth": 0,
            "ticks": ""
           }
          },
          "colorscale": {
           "diverging": [
            [
             0,
             "#8e0152"
            ],
            [
             0.1,
             "#c51b7d"
            ],
            [
             0.2,
             "#de77ae"
            ],
            [
             0.3,
             "#f1b6da"
            ],
            [
             0.4,
             "#fde0ef"
            ],
            [
             0.5,
             "#f7f7f7"
            ],
            [
             0.6,
             "#e6f5d0"
            ],
            [
             0.7,
             "#b8e186"
            ],
            [
             0.8,
             "#7fbc41"
            ],
            [
             0.9,
             "#4d9221"
            ],
            [
             1,
             "#276419"
            ]
           ],
           "sequential": [
            [
             0,
             "#0d0887"
            ],
            [
             0.1111111111111111,
             "#46039f"
            ],
            [
             0.2222222222222222,
             "#7201a8"
            ],
            [
             0.3333333333333333,
             "#9c179e"
            ],
            [
             0.4444444444444444,
             "#bd3786"
            ],
            [
             0.5555555555555556,
             "#d8576b"
            ],
            [
             0.6666666666666666,
             "#ed7953"
            ],
            [
             0.7777777777777778,
             "#fb9f3a"
            ],
            [
             0.8888888888888888,
             "#fdca26"
            ],
            [
             1,
             "#f0f921"
            ]
           ],
           "sequentialminus": [
            [
             0,
             "#0d0887"
            ],
            [
             0.1111111111111111,
             "#46039f"
            ],
            [
             0.2222222222222222,
             "#7201a8"
            ],
            [
             0.3333333333333333,
             "#9c179e"
            ],
            [
             0.4444444444444444,
             "#bd3786"
            ],
            [
             0.5555555555555556,
             "#d8576b"
            ],
            [
             0.6666666666666666,
             "#ed7953"
            ],
            [
             0.7777777777777778,
             "#fb9f3a"
            ],
            [
             0.8888888888888888,
             "#fdca26"
            ],
            [
             1,
             "#f0f921"
            ]
           ]
          },
          "colorway": [
           "#636efa",
           "#EF553B",
           "#00cc96",
           "#ab63fa",
           "#FFA15A",
           "#19d3f3",
           "#FF6692",
           "#B6E880",
           "#FF97FF",
           "#FECB52"
          ],
          "font": {
           "color": "#2a3f5f"
          },
          "geo": {
           "bgcolor": "white",
           "lakecolor": "white",
           "landcolor": "#E5ECF6",
           "showlakes": true,
           "showland": true,
           "subunitcolor": "white"
          },
          "hoverlabel": {
           "align": "left"
          },
          "hovermode": "closest",
          "mapbox": {
           "style": "light"
          },
          "paper_bgcolor": "white",
          "plot_bgcolor": "#E5ECF6",
          "polar": {
           "angularaxis": {
            "gridcolor": "white",
            "linecolor": "white",
            "ticks": ""
           },
           "bgcolor": "#E5ECF6",
           "radialaxis": {
            "gridcolor": "white",
            "linecolor": "white",
            "ticks": ""
           }
          },
          "scene": {
           "xaxis": {
            "backgroundcolor": "#E5ECF6",
            "gridcolor": "white",
            "gridwidth": 2,
            "linecolor": "white",
            "showbackground": true,
            "ticks": "",
            "zerolinecolor": "white"
           },
           "yaxis": {
            "backgroundcolor": "#E5ECF6",
            "gridcolor": "white",
            "gridwidth": 2,
            "linecolor": "white",
            "showbackground": true,
            "ticks": "",
            "zerolinecolor": "white"
           },
           "zaxis": {
            "backgroundcolor": "#E5ECF6",
            "gridcolor": "white",
            "gridwidth": 2,
            "linecolor": "white",
            "showbackground": true,
            "ticks": "",
            "zerolinecolor": "white"
           }
          },
          "shapedefaults": {
           "line": {
            "color": "#2a3f5f"
           }
          },
          "ternary": {
           "aaxis": {
            "gridcolor": "white",
            "linecolor": "white",
            "ticks": ""
           },
           "baxis": {
            "gridcolor": "white",
            "linecolor": "white",
            "ticks": ""
           },
           "bgcolor": "#E5ECF6",
           "caxis": {
            "gridcolor": "white",
            "linecolor": "white",
            "ticks": ""
           }
          },
          "title": {
           "x": 0.05
          },
          "xaxis": {
           "automargin": true,
           "gridcolor": "white",
           "linecolor": "white",
           "ticks": "",
           "title": {
            "standoff": 15
           },
           "zerolinecolor": "white",
           "zerolinewidth": 2
          },
          "yaxis": {
           "automargin": true,
           "gridcolor": "white",
           "linecolor": "white",
           "ticks": "",
           "title": {
            "standoff": 15
           },
           "zerolinecolor": "white",
           "zerolinewidth": 2
          }
         }
        },
        "xaxis": {
         "anchor": "y",
         "domain": [
          0,
          1
         ],
         "title": {
          "text": "key"
         }
        },
        "yaxis": {
         "anchor": "x",
         "domain": [
          0,
          1
         ],
         "title": {
          "text": "Quantity"
         }
        }
       }
      },
      "text/html": [
       "<div>                            <div id=\"1e94a9eb-7ae3-4d15-b701-75cc7b250d39\" class=\"plotly-graph-div\" style=\"height:525px; width:100%;\"></div>            <script type=\"text/javascript\">                require([\"plotly\"], function(Plotly) {                    window.PLOTLYENV=window.PLOTLYENV || {};                                    if (document.getElementById(\"1e94a9eb-7ae3-4d15-b701-75cc7b250d39\")) {                    Plotly.newPlot(                        \"1e94a9eb-7ae3-4d15-b701-75cc7b250d39\",                        [{\"alignmentgroup\": \"True\", \"hovertemplate\": \"validation_code=MVCC_READ_CONFLICT<br>key=%{x}<br>Quantity=%{y}<extra></extra>\", \"legendgroup\": \"MVCC_READ_CONFLICT\", \"marker\": {\"color\": \"#636efa\"}, \"name\": \"MVCC_READ_CONFLICT\", \"offsetgroup\": \"MVCC_READ_CONFLICT\", \"orientation\": \"v\", \"showlegend\": true, \"textposition\": \"auto\", \"type\": \"bar\", \"x\": [\"A0x02e778a99dadc6a96658957ab44af0ff300792d6\", \"A0x032e378b8adfea64782e895294879ae9c626a70b\", \"A0x04b0451cfa41b61975d8f02d92fe49805ae51aa1\", \"A0x04d2f242952d9bb815fba44a0af38d6bef96d555\", \"A0x0609bf26af445f294a6aae69cb3cc075a2e68707\", \"A0x08933d8ee8e4e562a9ed3ca42d4e6e9bd255fe3d\", \"A0x0a0b5c4e689b4f2ac909d83e9ddf8838eadbed4d\", \"A0x0c20d5d370b869dd728b1092d99367262cde9c77\", \"A0x0e085ccc6d804abdff0c704d8ce3e96dffbd1de8\", \"A0x11bff0a264952798dca922bd47ad4b481d116621\", \"A0x124352fad855e20416ceb3df50ceb6084a0fbd72\", \"A0x12488da5c23a2382c2c5671590b23bcc2360123b\", \"A0x1309ca5daf888fc4ebc4204895e2d65b8e4dc775\", \"A0x13aefaeee20d6dc6b57c819ca25fc57dd156fc18\", \"A0x1806efe37becc930700028e73e654f8b51078fd0\", \"A0x18debee65be9cadb3b3e9fb08c83b94557e00edb\", \"A0x18ee7b93cda2e269952ea7365492d0d42604bb2d\", \"A0x19d4773547082d233c8baadc23d38548a8a0a05e\", \"A0x1b1502a4b725b307aa6d2dad6604d1c631e2d24a\", \"A0x1b57a9193495d6cc3355d652c5c1397565b2ec38\", \"A0x1d81ebc3c2b351dad2473a00c54d218ece20ca0d\", \"A0x1dc865311ccd631646abf3160e832a5e106aea40\", \"A0x1f16ec496f67770a95485ae817412e5e972fd3f0\", \"A0x213ce06a3580d126d87978ac72f345ee6072053e\", \"A0x27c3679ec8674e87a44e5e453b069b81e60fc136\", \"A0x27d64af4c23870c5a421f6da0b3869c9a9cb482c\", \"A0x291c06a0cb6af5a67a057749efe04d5c619349e5\", \"A0x297be78d71173f473e793dc4dc228a0082ce7b2c\", \"A0x29ae2d92c17e2324aeb20aa9ddf6fcc788739099\", \"A0x2aafabaa6b764dda5c1b567918d3b621b4bef34a\", \"A0x2ab90eb5b986904c465e7cfee8d54f15dc6458e3\", \"A0x2b1f1adeb10645efa1a7cb26306bfa57117d2266\", \"A0x2d2a95d499911f247203a859aa91be50bf8d2ae1\", \"A0x2d84a437082721461ed4c1cf0c2a19939e7f0059\", \"A0x2fd59c2f49772c4e9ef42a7491290ff3037253d1\", \"A0x31eee26fc04f2d260892874d2d7b2f8aac47c40e\", \"A0x327d476ee7192cf54ff457c9f3a990994a4876d1\", \"A0x34bdb0cd02062d27365ab4d56f2332e405a572ae\", \"A0x34c23638fdbf18bb4e973cb3d6d3b55b2cd42b95\", \"A0x3796818941c68e5888da14b3cacd342bd6e4cefd\", \"A0x3830650ef4e52b6a58a830fb1efee3b2e3e8ad8d\", \"A0x399860889955c6573619a57a138eabe4155b0a63\", \"A0x3ae053323c103b1c7aff9fe8c75b6a7e0126b8aa\", \"A0x3c66165a873e24f5348b8b8ea0fb499d88f3d3c8\", \"A0x3dcaa3605aa8d30d2b434ead05ea4653b29b50b9\", \"A0x3fe329340ead5fff587252304fa012fb43521517\", \"A0x4147644a2ee313152ed302b5b668fe4e6a41e802\", \"A0x41d886eda61871b64c0f46042016c15115c4558a\", \"A0x427e1d84fd7b89e8faeefa9d8d8fc459496a7e53\", \"A0x4516106aa231922658ff2834ca1fb39ceeddf88a\", \"A0x53978e41fb14e4963ab6f15fe641374c76c66b08\", \"A0x547ff01418ac59609ced50067c67f091f0fcd19b\", \"A0x5c0bcd3688421889c39dde697542cdf40fdd932f\", \"A0x5d4ef8a4196f27a81d1b1a471998e6f14daae07e\", \"A0x618621c24c42e6a138f7db0a82dad2a152e5f8c9\", \"A0x61dfc7ad6d199d395d5dc74bf0f393006005789d\", \"A0x62b4671d570d83103ab964d9071a273a5d001fee\", \"A0x6348c71de25feaa41227fc9e2ba3a84be0bb7117\", \"A0x650a1cbda525a273b84d42ee578f479c849f7e32\", \"A0x664f1d0b98f077ffa74e5ddd798bfc6f1fc437d3\", \"A0x666f4569c5a215ce4891e5e8cc5b61ce7a22415d\", \"A0x67d8589793e9155932f9087ff4f03f6c76528254\", \"A0x68415af95b8e704c70a236deb07a47418aa2aa58\", \"A0x6a3e4dacd4be636738bdd385b19068500dbed4d3\", \"A0x6bbbb02aca0851cef054ed1f73c2fa84ba52b1d1\", \"A0x6bf52ef2502c4fb4aaf41b5cd1df640208738fe9\", \"A0x6d631080e8daef28463e6b5c4c125a6df03bf1e5\", \"A0x7050849edd9ae8631d0984c9f6beaedcca505175\", \"A0x73ba416ebcb00a81a9f94beb3995d8d257eb3c1c\", \"A0x74aa18b2ac25287356e55a05cf536a6e90cb2d5c\", \"A0x75b595abe8093f097d826f3ecf5484a9163e892c\", \"A0x7629a88b72c521e860b9abfddd38a16631ddc170\", \"A0x7690a5351bb887949b0d676ad4fb03a096caf8a9\", \"A0x7a5d41ce24afc33459ad9600bcf6ae586636d8b9\", \"A0x7a671755d21b5fb4e2bdca61be8cda8a0482363c\", \"A0x7bc741576c17970a309df156d73978ccd1aa45f0\", \"A0x7c8c1f9081244c7d3835f162a61dad68a3f5c247\", \"A0x7d2a87e3714922a0c52ba0096ccb501d9585a492\", \"A0x7d3449ec07b776ec75c4ebca96f41a59d7da5881\", \"A0x7da7b51c8ff0551ee6f80b4b29c80708ea30871a\", \"A0x7dd01d254074db8e926e4f0c6d6ba8b4f6c7c809\", \"A0x831e364c22b5f20e7be3aaf48d60e965da067472\", \"A0x8a04864db111d27aade3a955b06d4babfc312ec6\", \"A0x8c23dd5326261def14aa29eab9085de810f68301\", \"A0x8cc1b870aa785254f0aace6e8b71160ec1e72a16\", \"A0x8d9b5dd881b373f1eb9f9bcd4f1c892c9c9c7d9d\", \"A0x924d8ac1f0673994ad95e27afa3288635a3ed2e5\", \"A0x9349aa6c6e72fe86a83e72e15fd1c9c4dd2987b3\", \"A0x945f1fdf01a6127ffac0af4773e61e68955017c4\", \"A0x9479bb1b65b5ec578fe970c45d0ca82ecef427bd\", \"A0x979bfa220d2ae311d3e7fae200f387abdfcbf8de\", \"A0x97f26e31acc1bf35cd8706f87c6b70a11eb2ce50\", \"A0x9c17ce07fe0f3969ac12cb0784d426f64b98b0b2\", \"A0x9d32eae47d32b52a161c3eec8c92fa8021fbe15d\", \"A0x9f806eb85af2e8a00b22499966d450c277064343\", \"A0x9f983750d09650afe3822dea047b96f97065915a\", \"A0xa0c5af67f246d7bda1da64948abc5f1cfa8d0787\", \"A0xa10e856fff434c6290b0507514b57908b79c75fc\", \"A0xa1892bdfeee38914bab98c74f730600b6c1d7b7d\", \"A0xa3be17a089d05578b82ceb0f61b01570855c71c6\", \"A0xa42fb67f20cb24e175b0c1c060738305856710fa\", \"A0xa715e36063182c9854123f9c649e75059be2d8aa\", \"A0xa786797e0adb67871dd6b6cfbded649a20c14739\", \"A0xa8a8885e7bc2c575139380f3d5d707b8e20e7574\", \"A0xa8bfc75daf5989f7da100025b60554838aa72409\", \"A0xab787dc6bb494bb1159b52705b18b90c46752be5\", \"A0xaca9a990390f22f73b04132cac6d6afdc494279f\", \"A0xb095fb897149b08a1b29a6ca74bb66f55d30d6f2\", \"A0xb58bcd432d285b0b62c61b3cc651e3651241fad1\", \"A0xb7c027e32b5dcfa44ed481dcadf41778b8f24cdc\", \"A0xb7e8d8cff92adaa5e568c88cdd80196e070bc1f3\", \"A0xb96484250607bf42c7841e056dd333a4f90b8dcc\", \"A0xbca33cc14108595949f856b4fd307bbcf2e29f7b\", \"A0xbca9fbdcc84ff2ddde35f1992b4448c7ecb2e619\", \"A0xbd98dcdb4c33c360a1ad056243f8483f93144619\", \"A0xbe70d4544b35e435b8ee1aa24dc6f0271b12ccd3\", \"A0xbf0ec4d5b5ff3d7d789824238590b030cbf11ef9\", \"A0xbf45b32208988a2a02f9a4e0989c7fd6b121130f\", \"A0xbf65a1d1c1f56e6507bd847ba7aced70ecce0cda\", \"A0xc4267c3d2a5ae47ad329633438c20f1c73a7c849\", \"A0xc4e76b8e93569ed1cbc702635a4e04aa036bdd4f\", \"A0xc5ca9702ea21eeaef22abe6e5c98ce27fe0890fb\", \"A0xc5fa7e4f4caa5bfb8315350ba663bf0d329b5065\", \"A0xc6770aae5b9565ddd942253126365e0da725f048\", \"A0xc7fd85a482959b8c56958cd91b127a45171c19b7\", \"A0xc887549295bda98cb91a41cef27fab706d7eea03\", \"A0xcc0ed3a331cea379c0a43ca7783507bc726ec016\", \"A0xcd032b158e95e01d6938e4c45fca9a116d1069c6\", \"A0xcd6891ea7ea976689e0ab33ce1dee20d51708ebb\", \"A0xce6862563d7fe971e77a0f798e176d2d471c4c0c\", \"A0xcfb9ea2f484399e68e99fed4bce1c2da0ece92e1\", \"A0xd13cb0faf2fed2d27e485075a8e1ef96f2bf249f\", \"A0xd1c0b781fb4e33c936a1b9c82c34ad67bf060e61\", \"A0xd35b6a327d9616ea49b8aafeeab5deb02079d6e4\", \"A0xd48e13ada40330ca515a3648bc1bff2e7eb9af49\", \"A0xd4a0760f2abc986554915a08a0e12a46e14b655e\", \"A0xd72b576e6c42e2b9f20feb1097b8d413a01cddb9\", \"A0xd8526a276ecb901685865a0bab5b222608a1849a\", \"A0xd8958a9716cd74062b89c36b5f13abd89a4a502b\", \"A0xdbad20e48e5d7ea50dc78fd33b2457f9e7aa941b\", \"A0xdd2b9ecf1a0a41ea9ef3d5201051759b9ef6f257\", \"A0xdf229c482d3ba4930a2ad72bfe864a80d6007819\", \"A0xe007eff5481ec0cd4ae5a5b71196d8cf8983bd87\", \"A0xe040280fb103744f6b26c15a68fb193040743fc1\", \"A0xe289c8674f7788abbcf2d2f5775ba96cf73cf8bd\", \"A0xe5c1dbc76b0962cf29ab5772fc1934d0bbb7ac68\", \"A0xea4e09f9c8778403edf3c79a8225b298acfdbb1d\", \"A0xea8d69bd2fb64968cdb05238fbbdeb918c62f6a4\", \"A0xeae39848c40aecc6abd11cd88e0a7c020ce8666a\", \"A0xeeafc639dc16596fac574e318803d799db8b8de4\", \"A0xf6bd3b92489777c0ae41adb868e5624df65bd1ab\", \"A0xfa3a79bfec22aa4debaf8d03b90f84546b4c1f63\", \"A0xfa3d15572db66b98bfb29c0ccbefd04db1a6abe8\", \"A0xfde9aea364294c9da1697471df052c7adc377dfe\", \"MFIOrgMSP\"], \"xaxis\": \"x\", \"y\": [2, 2, 2, 2, 2, 2, 2, 2, 8, 2, 6, 2, 2, 2, 2, 2, 2, 2, 4, 4, 2, 2, 10, 6, 2, 2, 2, 4, 2, 2, 2, 6, 6, 6, 2, 6, 2, 2, 2, 4, 2, 2, 2, 2, 2, 6, 2, 2, 2, 6, 2, 2, 6, 2, 2, 2, 2, 2, 2, 4, 2, 6, 6, 4, 4, 2, 2, 2, 4, 2, 4, 2, 2, 2, 2, 2, 2, 8, 2, 2, 2, 2, 2, 2, 6, 2, 2, 6, 4, 2, 2, 2, 2, 4, 12, 2, 2, 2, 2, 2, 2, 2, 2, 2, 2, 2, 2, 6, 2, 6, 2, 4, 2, 2, 2, 4, 2, 4, 4, 2, 6, 2, 4, 2, 8, 6, 2, 2, 2, 2, 4, 4, 6, 6, 2, 2, 2, 2, 4, 2, 2, 2, 4, 4, 2, 8, 6, 2, 2, 8, 2, 2, 2, 2, 190], \"yaxis\": \"y\"}, {\"alignmentgroup\": \"True\", \"hovertemplate\": \"validation_code=VALID<br>key=%{x}<br>Quantity=%{y}<extra></extra>\", \"legendgroup\": \"VALID\", \"marker\": {\"color\": \"#EF553B\"}, \"name\": \"VALID\", \"offsetgroup\": \"VALID\", \"orientation\": \"v\", \"showlegend\": true, \"textposition\": \"auto\", \"type\": \"bar\", \"x\": [\"A0x02e778a99dadc6a96658957ab44af0ff300792d6\", \"A0x04b0451cfa41b61975d8f02d92fe49805ae51aa1\", \"A0x0609bf26af445f294a6aae69cb3cc075a2e68707\", \"A0x08933d8ee8e4e562a9ed3ca42d4e6e9bd255fe3d\", \"A0x0a0b5c4e689b4f2ac909d83e9ddf8838eadbed4d\", \"A0x0e085ccc6d804abdff0c704d8ce3e96dffbd1de8\", \"A0x0e0e8b30ca53fdb1a1b78d0d8e804088424078ea\", \"A0x10c264fa3c7a49eceb469dcaa6eecb4e16eb0304\", \"A0x11bff0a264952798dca922bd47ad4b481d116621\", \"A0x124352fad855e20416ceb3df50ceb6084a0fbd72\", \"A0x13aefaeee20d6dc6b57c819ca25fc57dd156fc18\", \"A0x16e0464b67e95eed311f2654936add548c00ec62\", \"A0x18debee65be9cadb3b3e9fb08c83b94557e00edb\", \"A0x18ee7b93cda2e269952ea7365492d0d42604bb2d\", \"A0x19d4773547082d233c8baadc23d38548a8a0a05e\", \"A0x1b1502a4b725b307aa6d2dad6604d1c631e2d24a\", \"A0x1b57a9193495d6cc3355d652c5c1397565b2ec38\", \"A0x1db60780fae6d93aab523d82be5418800759869a\", \"A0x1dc865311ccd631646abf3160e832a5e106aea40\", \"A0x1f16ec496f67770a95485ae817412e5e972fd3f0\", \"A0x213ce06a3580d126d87978ac72f345ee6072053e\", \"A0x291c06a0cb6af5a67a057749efe04d5c619349e5\", \"A0x297be78d71173f473e793dc4dc228a0082ce7b2c\", \"A0x2aafabaa6b764dda5c1b567918d3b621b4bef34a\", \"A0x2ab90eb5b986904c465e7cfee8d54f15dc6458e3\", \"A0x2b1f1adeb10645efa1a7cb26306bfa57117d2266\", \"A0x2d84a437082721461ed4c1cf0c2a19939e7f0059\", \"A0x31eee26fc04f2d260892874d2d7b2f8aac47c40e\", \"A0x3796818941c68e5888da14b3cacd342bd6e4cefd\", \"A0x3830650ef4e52b6a58a830fb1efee3b2e3e8ad8d\", \"A0x399860889955c6573619a57a138eabe4155b0a63\", \"A0x3fe329340ead5fff587252304fa012fb43521517\", \"A0x4147644a2ee313152ed302b5b668fe4e6a41e802\", \"A0x41d886eda61871b64c0f46042016c15115c4558a\", \"A0x4516106aa231922658ff2834ca1fb39ceeddf88a\", \"A0x45dc40853174f09f1510bff4a37b93a0377a95d2\", \"A0x47bcda4d240c456198c861022f30e16f3e8e8173\", \"A0x48fc11486d3ccb3d863fed58ba12f7be7f63a2ca\", \"A0x51413253eacd1953f918bb30273fabe0a58c6928\", \"A0x56fece89b531dd8cb8ff924d531fabd5530c73fb\", \"A0x5c0bcd3688421889c39dde697542cdf40fdd932f\", \"A0x5fa7c7927b806090725841b9eafdea2238003460\", \"A0x61dfc7ad6d199d395d5dc74bf0f393006005789d\", \"A0x6258efcf7368388f0ad132ed9b40e377ff201c0a\", \"A0x62b4671d570d83103ab964d9071a273a5d001fee\", \"A0x6331434cce34419719caf6dcd787c41ecab56c1b\", \"A0x6443a7fe6aefd8c43c624431d19897ac8f942bf0\", \"A0x664f1d0b98f077ffa74e5ddd798bfc6f1fc437d3\", \"A0x666f4569c5a215ce4891e5e8cc5b61ce7a22415d\", \"A0x67d8589793e9155932f9087ff4f03f6c76528254\", \"A0x68415af95b8e704c70a236deb07a47418aa2aa58\", \"A0x6a3e4dacd4be636738bdd385b19068500dbed4d3\", \"A0x6bbbb02aca0851cef054ed1f73c2fa84ba52b1d1\", \"A0x7050849edd9ae8631d0984c9f6beaedcca505175\", \"A0x73ba416ebcb00a81a9f94beb3995d8d257eb3c1c\", \"A0x74aa18b2ac25287356e55a05cf536a6e90cb2d5c\", \"A0x75b595abe8093f097d826f3ecf5484a9163e892c\", \"A0x7629a88b72c521e860b9abfddd38a16631ddc170\", \"A0x7a5d41ce24afc33459ad9600bcf6ae586636d8b9\", \"A0x7a671755d21b5fb4e2bdca61be8cda8a0482363c\", \"A0x7bc741576c17970a309df156d73978ccd1aa45f0\", \"A0x7d2a87e3714922a0c52ba0096ccb501d9585a492\", \"A0x7da7b51c8ff0551ee6f80b4b29c80708ea30871a\", \"A0x8d9b5dd881b373f1eb9f9bcd4f1c892c9c9c7d9d\", \"A0x8dde22fa2ede10d42db13d344bf817b67d5b8f8f\", \"A0x924d8ac1f0673994ad95e27afa3288635a3ed2e5\", \"A0x945f1fdf01a6127ffac0af4773e61e68955017c4\", \"A0x9479bb1b65b5ec578fe970c45d0ca82ecef427bd\", \"A0x979bfa220d2ae311d3e7fae200f387abdfcbf8de\", \"A0x97f26e31acc1bf35cd8706f87c6b70a11eb2ce50\", \"A0x9c17ce07fe0f3969ac12cb0784d426f64b98b0b2\", \"A0x9f806eb85af2e8a00b22499966d450c277064343\", \"A0xa0c5af67f246d7bda1da64948abc5f1cfa8d0787\", \"A0xa3be17a089d05578b82ceb0f61b01570855c71c6\", \"A0xa42fb67f20cb24e175b0c1c060738305856710fa\", \"A0xa7b7e9bc992068625357f84a93275b9c8fbaf175\", \"A0xa8bfc75daf5989f7da100025b60554838aa72409\", \"A0xb095fb897149b08a1b29a6ca74bb66f55d30d6f2\", \"A0xb7c027e32b5dcfa44ed481dcadf41778b8f24cdc\", \"A0xb8e29712346ac4a2d8f44ea9c8008c3f4bf79831\", \"A0xb96484250607bf42c7841e056dd333a4f90b8dcc\", \"A0xbc6d5b83e75c2d6bb85d9d7177f2b2b97eb237bc\", \"A0xbd98dcdb4c33c360a1ad056243f8483f93144619\", \"A0xbe70d4544b35e435b8ee1aa24dc6f0271b12ccd3\", \"A0xbf0ec4d5b5ff3d7d789824238590b030cbf11ef9\", \"A0xbf168810ed85f240d565273768c62cb383f2130a\", \"A0xbf45b32208988a2a02f9a4e0989c7fd6b121130f\", \"A0xbf65a1d1c1f56e6507bd847ba7aced70ecce0cda\", \"A0xc4267c3d2a5ae47ad329633438c20f1c73a7c849\", \"A0xc4e76b8e93569ed1cbc702635a4e04aa036bdd4f\", \"A0xc5fa7e4f4caa5bfb8315350ba663bf0d329b5065\", \"A0xc6770aae5b9565ddd942253126365e0da725f048\", \"A0xc7fd85a482959b8c56958cd91b127a45171c19b7\", \"A0xcc0ed3a331cea379c0a43ca7783507bc726ec016\", \"A0xcd032b158e95e01d6938e4c45fca9a116d1069c6\", \"A0xcd6891ea7ea976689e0ab33ce1dee20d51708ebb\", \"A0xce6862563d7fe971e77a0f798e176d2d471c4c0c\", \"A0xcfb9ea2f484399e68e99fed4bce1c2da0ece92e1\", \"A0xd13cb0faf2fed2d27e485075a8e1ef96f2bf249f\", \"A0xd185cbc8d2773a731ec1396559d4b9778297569d\", \"A0xd1c0b781fb4e33c936a1b9c82c34ad67bf060e61\", \"A0xd307fa9296118538c9ef3fb4f4bbbb9f79c1a202\", \"A0xd35b6a327d9616ea49b8aafeeab5deb02079d6e4\", \"A0xd36a21c511621c71a6d01336db005d5997c18882\", \"A0xd72b576e6c42e2b9f20feb1097b8d413a01cddb9\", \"A0xd8958a9716cd74062b89c36b5f13abd89a4a502b\", \"A0xdae57a345a6af516b210500e4f4569721d3c6e28\", \"A0xdd2b9ecf1a0a41ea9ef3d5201051759b9ef6f257\", \"A0xdf229c482d3ba4930a2ad72bfe864a80d6007819\", \"A0xe007eff5481ec0cd4ae5a5b71196d8cf8983bd87\", \"A0xe040280fb103744f6b26c15a68fb193040743fc1\", \"A0xe289c8674f7788abbcf2d2f5775ba96cf73cf8bd\", \"A0xe5c1dbc76b0962cf29ab5772fc1934d0bbb7ac68\", \"A0xe6c689b3268f297e4c269f99d6b970944e7f433f\", \"A0xe826cc045021e88f5e942a010753f66bd4430ba3\", \"A0xea8d69bd2fb64968cdb05238fbbdeb918c62f6a4\", \"A0xeeafc639dc16596fac574e318803d799db8b8de4\", \"A0xf1dbc9e8dfaccadcb7ccff1e03c7663819e36191\", \"A0xf6bd3b92489777c0ae41adb868e5624df65bd1ab\", \"A0xf95f6e4e95b14f86d2af7ee5d54fcc8baa6fc721\", \"A0xfa3d15572db66b98bfb29c0ccbefd04db1a6abe8\", \"A0xfac184ecc4afe6cc570ebb07a33936918ea5e53d\", \"A0xfad922de28a0202404cda237e99cc3edd5525eba\", \"A0xfb8ff2fcd599a8c6c0384c2446f49a7a613f66d2\", \"A0xfea2f9fef7e7af0fb3c8f74dd3654a26e902bb27\", \"MFIOrgMSP\"], \"xaxis\": \"x\", \"y\": [6, 6, 2, 4, 2, 8, 10, 2, 2, 2, 4, 10, 2, 2, 4, 6, 8, 4, 2, 6, 4, 2, 6, 2, 2, 8, 8, 2, 10, 10, 2, 8, 2, 4, 4, 6, 4, 6, 4, 4, 8, 4, 6, 6, 6, 4, 4, 8, 4, 6, 6, 6, 8, 4, 4, 6, 6, 8, 6, 6, 4, 6, 6, 4, 4, 2, 6, 8, 2, 8, 6, 8, 2, 4, 4, 4, 6, 6, 10, 8, 6, 4, 6, 8, 6, 4, 8, 6, 2, 6, 4, 2, 8, 2, 8, 2, 8, 8, 4, 4, 6, 4, 6, 4, 2, 4, 4, 8, 2, 6, 2, 6, 4, 2, 4, 2, 6, 4, 2, 4, 4, 2, 4, 4, 4, 200], \"yaxis\": \"y\"}, {\"alignmentgroup\": \"True\", \"hovertemplate\": \"validation_code=ENDORSEMENT_POLICY_FAILURE<br>key=%{x}<br>Quantity=%{y}<extra></extra>\", \"legendgroup\": \"ENDORSEMENT_POLICY_FAILURE\", \"marker\": {\"color\": \"#00cc96\"}, \"name\": \"ENDORSEMENT_POLICY_FAILURE\", \"offsetgroup\": \"ENDORSEMENT_POLICY_FAILURE\", \"orientation\": \"v\", \"showlegend\": true, \"textposition\": \"auto\", \"type\": \"bar\", \"x\": [\"A0x032e378b8adfea64782e895294879ae9c626a70b\", \"A0x47bcda4d240c456198c861022f30e16f3e8e8173\", \"A0x7da7b51c8ff0551ee6f80b4b29c80708ea30871a\", \"A0x7dd01d254074db8e926e4f0c6d6ba8b4f6c7c809\", \"A0x831e364c22b5f20e7be3aaf48d60e965da067472\", \"A0xa1892bdfeee38914bab98c74f730600b6c1d7b7d\", \"A0xa8bfc75daf5989f7da100025b60554838aa72409\", \"A0xbf65a1d1c1f56e6507bd847ba7aced70ecce0cda\", \"A0xe826cc045021e88f5e942a010753f66bd4430ba3\", \"A0xf1dbc9e8dfaccadcb7ccff1e03c7663819e36191\"], \"xaxis\": \"x\", \"y\": [2, 2, 2, 2, 2, 2, 2, 2, 2, 2], \"yaxis\": \"y\"}],                        {\"barmode\": \"group\", \"legend\": {\"title\": {\"text\": \"validation_code\"}, \"tracegroupgap\": 0}, \"margin\": {\"t\": 60}, \"template\": {\"data\": {\"bar\": [{\"error_x\": {\"color\": \"#2a3f5f\"}, \"error_y\": {\"color\": \"#2a3f5f\"}, \"marker\": {\"line\": {\"color\": \"#E5ECF6\", \"width\": 0.5}}, \"type\": \"bar\"}], \"barpolar\": [{\"marker\": {\"line\": {\"color\": \"#E5ECF6\", \"width\": 0.5}}, \"type\": \"barpolar\"}], \"carpet\": [{\"aaxis\": {\"endlinecolor\": \"#2a3f5f\", \"gridcolor\": \"white\", \"linecolor\": \"white\", \"minorgridcolor\": \"white\", \"startlinecolor\": \"#2a3f5f\"}, \"baxis\": {\"endlinecolor\": \"#2a3f5f\", \"gridcolor\": \"white\", \"linecolor\": \"white\", \"minorgridcolor\": \"white\", \"startlinecolor\": \"#2a3f5f\"}, \"type\": \"carpet\"}], \"choropleth\": [{\"colorbar\": {\"outlinewidth\": 0, \"ticks\": \"\"}, \"type\": \"choropleth\"}], \"contour\": [{\"colorbar\": {\"outlinewidth\": 0, \"ticks\": \"\"}, \"colorscale\": [[0.0, \"#0d0887\"], [0.1111111111111111, \"#46039f\"], [0.2222222222222222, \"#7201a8\"], [0.3333333333333333, \"#9c179e\"], [0.4444444444444444, \"#bd3786\"], [0.5555555555555556, \"#d8576b\"], [0.6666666666666666, \"#ed7953\"], [0.7777777777777778, \"#fb9f3a\"], [0.8888888888888888, \"#fdca26\"], [1.0, \"#f0f921\"]], \"type\": \"contour\"}], \"contourcarpet\": [{\"colorbar\": {\"outlinewidth\": 0, \"ticks\": \"\"}, \"type\": \"contourcarpet\"}], \"heatmap\": [{\"colorbar\": {\"outlinewidth\": 0, \"ticks\": \"\"}, \"colorscale\": [[0.0, \"#0d0887\"], [0.1111111111111111, \"#46039f\"], [0.2222222222222222, \"#7201a8\"], [0.3333333333333333, \"#9c179e\"], [0.4444444444444444, \"#bd3786\"], [0.5555555555555556, \"#d8576b\"], [0.6666666666666666, \"#ed7953\"], [0.7777777777777778, \"#fb9f3a\"], [0.8888888888888888, \"#fdca26\"], [1.0, \"#f0f921\"]], \"type\": \"heatmap\"}], \"heatmapgl\": [{\"colorbar\": {\"outlinewidth\": 0, \"ticks\": \"\"}, \"colorscale\": [[0.0, \"#0d0887\"], [0.1111111111111111, \"#46039f\"], [0.2222222222222222, \"#7201a8\"], [0.3333333333333333, \"#9c179e\"], [0.4444444444444444, \"#bd3786\"], [0.5555555555555556, \"#d8576b\"], [0.6666666666666666, \"#ed7953\"], [0.7777777777777778, \"#fb9f3a\"], [0.8888888888888888, \"#fdca26\"], [1.0, \"#f0f921\"]], \"type\": \"heatmapgl\"}], \"histogram\": [{\"marker\": {\"colorbar\": {\"outlinewidth\": 0, \"ticks\": \"\"}}, \"type\": \"histogram\"}], \"histogram2d\": [{\"colorbar\": {\"outlinewidth\": 0, \"ticks\": \"\"}, \"colorscale\": [[0.0, \"#0d0887\"], [0.1111111111111111, \"#46039f\"], [0.2222222222222222, \"#7201a8\"], [0.3333333333333333, \"#9c179e\"], [0.4444444444444444, \"#bd3786\"], [0.5555555555555556, \"#d8576b\"], [0.6666666666666666, \"#ed7953\"], [0.7777777777777778, \"#fb9f3a\"], [0.8888888888888888, \"#fdca26\"], [1.0, \"#f0f921\"]], \"type\": \"histogram2d\"}], \"histogram2dcontour\": [{\"colorbar\": {\"outlinewidth\": 0, \"ticks\": \"\"}, \"colorscale\": [[0.0, \"#0d0887\"], [0.1111111111111111, \"#46039f\"], [0.2222222222222222, \"#7201a8\"], [0.3333333333333333, \"#9c179e\"], [0.4444444444444444, \"#bd3786\"], [0.5555555555555556, \"#d8576b\"], [0.6666666666666666, \"#ed7953\"], [0.7777777777777778, \"#fb9f3a\"], [0.8888888888888888, \"#fdca26\"], [1.0, \"#f0f921\"]], \"type\": \"histogram2dcontour\"}], \"mesh3d\": [{\"colorbar\": {\"outlinewidth\": 0, \"ticks\": \"\"}, \"type\": \"mesh3d\"}], \"parcoords\": [{\"line\": {\"colorbar\": {\"outlinewidth\": 0, \"ticks\": \"\"}}, \"type\": \"parcoords\"}], \"pie\": [{\"automargin\": true, \"type\": \"pie\"}], \"scatter\": [{\"marker\": {\"colorbar\": {\"outlinewidth\": 0, \"ticks\": \"\"}}, \"type\": \"scatter\"}], \"scatter3d\": [{\"line\": {\"colorbar\": {\"outlinewidth\": 0, \"ticks\": \"\"}}, \"marker\": {\"colorbar\": {\"outlinewidth\": 0, \"ticks\": \"\"}}, \"type\": \"scatter3d\"}], \"scattercarpet\": [{\"marker\": {\"colorbar\": {\"outlinewidth\": 0, \"ticks\": \"\"}}, \"type\": \"scattercarpet\"}], \"scattergeo\": [{\"marker\": {\"colorbar\": {\"outlinewidth\": 0, \"ticks\": \"\"}}, \"type\": \"scattergeo\"}], \"scattergl\": [{\"marker\": {\"colorbar\": {\"outlinewidth\": 0, \"ticks\": \"\"}}, \"type\": \"scattergl\"}], \"scattermapbox\": [{\"marker\": {\"colorbar\": {\"outlinewidth\": 0, \"ticks\": \"\"}}, \"type\": \"scattermapbox\"}], \"scatterpolar\": [{\"marker\": {\"colorbar\": {\"outlinewidth\": 0, \"ticks\": \"\"}}, \"type\": \"scatterpolar\"}], \"scatterpolargl\": [{\"marker\": {\"colorbar\": {\"outlinewidth\": 0, \"ticks\": \"\"}}, \"type\": \"scatterpolargl\"}], \"scatterternary\": [{\"marker\": {\"colorbar\": {\"outlinewidth\": 0, \"ticks\": \"\"}}, \"type\": \"scatterternary\"}], \"surface\": [{\"colorbar\": {\"outlinewidth\": 0, \"ticks\": \"\"}, \"colorscale\": [[0.0, \"#0d0887\"], [0.1111111111111111, \"#46039f\"], [0.2222222222222222, \"#7201a8\"], [0.3333333333333333, \"#9c179e\"], [0.4444444444444444, \"#bd3786\"], [0.5555555555555556, \"#d8576b\"], [0.6666666666666666, \"#ed7953\"], [0.7777777777777778, \"#fb9f3a\"], [0.8888888888888888, \"#fdca26\"], [1.0, \"#f0f921\"]], \"type\": \"surface\"}], \"table\": [{\"cells\": {\"fill\": {\"color\": \"#EBF0F8\"}, \"line\": {\"color\": \"white\"}}, \"header\": {\"fill\": {\"color\": \"#C8D4E3\"}, \"line\": {\"color\": \"white\"}}, \"type\": \"table\"}]}, \"layout\": {\"annotationdefaults\": {\"arrowcolor\": \"#2a3f5f\", \"arrowhead\": 0, \"arrowwidth\": 1}, \"autotypenumbers\": \"strict\", \"coloraxis\": {\"colorbar\": {\"outlinewidth\": 0, \"ticks\": \"\"}}, \"colorscale\": {\"diverging\": [[0, \"#8e0152\"], [0.1, \"#c51b7d\"], [0.2, \"#de77ae\"], [0.3, \"#f1b6da\"], [0.4, \"#fde0ef\"], [0.5, \"#f7f7f7\"], [0.6, \"#e6f5d0\"], [0.7, \"#b8e186\"], [0.8, \"#7fbc41\"], [0.9, \"#4d9221\"], [1, \"#276419\"]], \"sequential\": [[0.0, \"#0d0887\"], [0.1111111111111111, \"#46039f\"], [0.2222222222222222, \"#7201a8\"], [0.3333333333333333, \"#9c179e\"], [0.4444444444444444, \"#bd3786\"], [0.5555555555555556, \"#d8576b\"], [0.6666666666666666, \"#ed7953\"], [0.7777777777777778, \"#fb9f3a\"], [0.8888888888888888, \"#fdca26\"], [1.0, \"#f0f921\"]], \"sequentialminus\": [[0.0, \"#0d0887\"], [0.1111111111111111, \"#46039f\"], [0.2222222222222222, \"#7201a8\"], [0.3333333333333333, \"#9c179e\"], [0.4444444444444444, \"#bd3786\"], [0.5555555555555556, \"#d8576b\"], [0.6666666666666666, \"#ed7953\"], [0.7777777777777778, \"#fb9f3a\"], [0.8888888888888888, \"#fdca26\"], [1.0, \"#f0f921\"]]}, \"colorway\": [\"#636efa\", \"#EF553B\", \"#00cc96\", \"#ab63fa\", \"#FFA15A\", \"#19d3f3\", \"#FF6692\", \"#B6E880\", \"#FF97FF\", \"#FECB52\"], \"font\": {\"color\": \"#2a3f5f\"}, \"geo\": {\"bgcolor\": \"white\", \"lakecolor\": \"white\", \"landcolor\": \"#E5ECF6\", \"showlakes\": true, \"showland\": true, \"subunitcolor\": \"white\"}, \"hoverlabel\": {\"align\": \"left\"}, \"hovermode\": \"closest\", \"mapbox\": {\"style\": \"light\"}, \"paper_bgcolor\": \"white\", \"plot_bgcolor\": \"#E5ECF6\", \"polar\": {\"angularaxis\": {\"gridcolor\": \"white\", \"linecolor\": \"white\", \"ticks\": \"\"}, \"bgcolor\": \"#E5ECF6\", \"radialaxis\": {\"gridcolor\": \"white\", \"linecolor\": \"white\", \"ticks\": \"\"}}, \"scene\": {\"xaxis\": {\"backgroundcolor\": \"#E5ECF6\", \"gridcolor\": \"white\", \"gridwidth\": 2, \"linecolor\": \"white\", \"showbackground\": true, \"ticks\": \"\", \"zerolinecolor\": \"white\"}, \"yaxis\": {\"backgroundcolor\": \"#E5ECF6\", \"gridcolor\": \"white\", \"gridwidth\": 2, \"linecolor\": \"white\", \"showbackground\": true, \"ticks\": \"\", \"zerolinecolor\": \"white\"}, \"zaxis\": {\"backgroundcolor\": \"#E5ECF6\", \"gridcolor\": \"white\", \"gridwidth\": 2, \"linecolor\": \"white\", \"showbackground\": true, \"ticks\": \"\", \"zerolinecolor\": \"white\"}}, \"shapedefaults\": {\"line\": {\"color\": \"#2a3f5f\"}}, \"ternary\": {\"aaxis\": {\"gridcolor\": \"white\", \"linecolor\": \"white\", \"ticks\": \"\"}, \"baxis\": {\"gridcolor\": \"white\", \"linecolor\": \"white\", \"ticks\": \"\"}, \"bgcolor\": \"#E5ECF6\", \"caxis\": {\"gridcolor\": \"white\", \"linecolor\": \"white\", \"ticks\": \"\"}}, \"title\": {\"x\": 0.05}, \"xaxis\": {\"automargin\": true, \"gridcolor\": \"white\", \"linecolor\": \"white\", \"ticks\": \"\", \"title\": {\"standoff\": 15}, \"zerolinecolor\": \"white\", \"zerolinewidth\": 2}, \"yaxis\": {\"automargin\": true, \"gridcolor\": \"white\", \"linecolor\": \"white\", \"ticks\": \"\", \"title\": {\"standoff\": 15}, \"zerolinecolor\": \"white\", \"zerolinewidth\": 2}}}, \"xaxis\": {\"anchor\": \"y\", \"domain\": [0.0, 1.0], \"title\": {\"text\": \"key\"}}, \"yaxis\": {\"anchor\": \"x\", \"domain\": [0.0, 1.0], \"title\": {\"text\": \"Quantity\"}}},                        {\"responsive\": true}                    ).then(function(){\n",
       "                            \n",
       "var gd = document.getElementById('1e94a9eb-7ae3-4d15-b701-75cc7b250d39');\n",
       "var x = new MutationObserver(function (mutations, observer) {{\n",
       "        var display = window.getComputedStyle(gd).display;\n",
       "        if (!display || display === 'none') {{\n",
       "            console.log([gd, 'removed!']);\n",
       "            Plotly.purge(gd);\n",
       "            observer.disconnect();\n",
       "        }}\n",
       "}});\n",
       "\n",
       "// Listen for the removal of the full notebook cells\n",
       "var notebookContainer = gd.closest('#notebook-container');\n",
       "if (notebookContainer) {{\n",
       "    x.observe(notebookContainer, {childList: true});\n",
       "}}\n",
       "\n",
       "// Listen for the clearing of the current output cell\n",
       "var outputEl = gd.closest('.output');\n",
       "if (outputEl) {{\n",
       "    x.observe(outputEl, {childList: true});\n",
       "}}\n",
       "\n",
       "                        })                };                });            </script>        </div>"
      ]
     },
     "metadata": {},
     "output_type": "display_data"
    }
   ],
   "source": [
    "df = pd.DataFrame(txDfr.groupby(['key','validation_code']).size())\n",
    "df = df.reset_index()\n",
    "df.columns = [str(column) for column in df.columns]\n",
    "# import plotly.express as px\n",
    "fig = px.bar(df, x='key', y='0', color='validation_code', barmode='group',labels={'0':\"Quantity\"})\n",
    "fig"
   ]
  },
  {
   "cell_type": "code",
   "execution_count": 11,
   "metadata": {},
   "outputs": [
    {
     "data": {
      "application/vnd.plotly.v1+json": {
       "config": {
        "plotlyServerURL": "https://plot.ly"
       },
       "data": [
        {
         "alignmentgroup": "True",
         "hovertemplate": "key=%{x}<br>ratio=%{y}<extra></extra>",
         "legendgroup": "",
         "marker": {
          "color": "#636efa"
         },
         "name": "",
         "offsetgroup": "",
         "orientation": "v",
         "showlegend": false,
         "textposition": "auto",
         "type": "bar",
         "x": [
          "A0xd8526a276ecb901685865a0bab5b222608a1849a",
          "A0x327d476ee7192cf54ff457c9f3a990994a4876d1",
          "A0x6348c71de25feaa41227fc9e2ba3a84be0bb7117",
          "A0xa786797e0adb67871dd6b6cfbded649a20c14739",
          "A0xdbad20e48e5d7ea50dc78fd33b2457f9e7aa941b",
          "A0x618621c24c42e6a138f7db0a82dad2a152e5f8c9",
          "A0xc887549295bda98cb91a41cef27fab706d7eea03",
          "A0x5d4ef8a4196f27a81d1b1a471998e6f14daae07e",
          "A0xa8a8885e7bc2c575139380f3d5d707b8e20e7574",
          "A0x547ff01418ac59609ced50067c67f091f0fcd19b",
          "A0x53978e41fb14e4963ab6f15fe641374c76c66b08",
          "A0xea4e09f9c8778403edf3c79a8225b298acfdbb1d",
          "A0x427e1d84fd7b89e8faeefa9d8d8fc459496a7e53",
          "A0xaca9a990390f22f73b04132cac6d6afdc494279f",
          "A0x3dcaa3605aa8d30d2b434ead05ea4653b29b50b9",
          "A0x3c66165a873e24f5348b8b8ea0fb499d88f3d3c8",
          "A0x3ae053323c103b1c7aff9fe8c75b6a7e0126b8aa",
          "A0xeae39848c40aecc6abd11cd88e0a7c020ce8666a",
          "A0x34c23638fdbf18bb4e973cb3d6d3b55b2cd42b95",
          "A0x650a1cbda525a273b84d42ee578f479c849f7e32",
          "A0xa715e36063182c9854123f9c649e75059be2d8aa",
          "A0xa1892bdfeee38914bab98c74f730600b6c1d7b7d",
          "A0x7d3449ec07b776ec75c4ebca96f41a59d7da5881",
          "A0x9349aa6c6e72fe86a83e72e15fd1c9c4dd2987b3",
          "A0x8cc1b870aa785254f0aace6e8b71160ec1e72a16",
          "A0x8c23dd5326261def14aa29eab9085de810f68301",
          "A0x8a04864db111d27aade3a955b06d4babfc312ec6",
          "A0x831e364c22b5f20e7be3aaf48d60e965da067472",
          "A0x7dd01d254074db8e926e4f0c6d6ba8b4f6c7c809",
          "A0x032e378b8adfea64782e895294879ae9c626a70b",
          "A0x7c8c1f9081244c7d3835f162a61dad68a3f5c247",
          "A0xa10e856fff434c6290b0507514b57908b79c75fc",
          "A0x9d32eae47d32b52a161c3eec8c92fa8021fbe15d",
          "A0x7690a5351bb887949b0d676ad4fb03a096caf8a9",
          "A0xd48e13ada40330ca515a3648bc1bff2e7eb9af49",
          "A0xd4a0760f2abc986554915a08a0e12a46e14b655e",
          "A0x9f983750d09650afe3822dea047b96f97065915a",
          "A0x6d631080e8daef28463e6b5c4c125a6df03bf1e5",
          "A0x6bf52ef2502c4fb4aaf41b5cd1df640208738fe9",
          "A0x34bdb0cd02062d27365ab4d56f2332e405a572ae",
          "A0xab787dc6bb494bb1159b52705b18b90c46752be5",
          "A0xbca9fbdcc84ff2ddde35f1992b4448c7ecb2e619",
          "A0x12488da5c23a2382c2c5671590b23bcc2360123b",
          "A0x1d81ebc3c2b351dad2473a00c54d218ece20ca0d",
          "A0xbca33cc14108595949f856b4fd307bbcf2e29f7b",
          "A0x2fd59c2f49772c4e9ef42a7491290ff3037253d1",
          "A0x1806efe37becc930700028e73e654f8b51078fd0",
          "A0xc5ca9702ea21eeaef22abe6e5c98ce27fe0890fb",
          "A0x1309ca5daf888fc4ebc4204895e2d65b8e4dc775",
          "A0x29ae2d92c17e2324aeb20aa9ddf6fcc788739099",
          "A0x27d64af4c23870c5a421f6da0b3869c9a9cb482c",
          "A0x27c3679ec8674e87a44e5e453b069b81e60fc136",
          "A0xfa3a79bfec22aa4debaf8d03b90f84546b4c1f63",
          "A0x0c20d5d370b869dd728b1092d99367262cde9c77",
          "A0xb7e8d8cff92adaa5e568c88cdd80196e070bc1f3",
          "A0x2d2a95d499911f247203a859aa91be50bf8d2ae1",
          "A0x04d2f242952d9bb815fba44a0af38d6bef96d555",
          "A0xb58bcd432d285b0b62c61b3cc651e3651241fad1",
          "A0xfde9aea364294c9da1697471df052c7adc377dfe",
          "A0x124352fad855e20416ceb3df50ceb6084a0fbd72",
          "A0x31eee26fc04f2d260892874d2d7b2f8aac47c40e",
          "A0xe040280fb103744f6b26c15a68fb193040743fc1",
          "A0xe5c1dbc76b0962cf29ab5772fc1934d0bbb7ac68",
          "A0x1f16ec496f67770a95485ae817412e5e972fd3f0",
          "A0x9f806eb85af2e8a00b22499966d450c277064343",
          "A0x213ce06a3580d126d87978ac72f345ee6072053e",
          "A0x4516106aa231922658ff2834ca1fb39ceeddf88a",
          "A0x7d2a87e3714922a0c52ba0096ccb501d9585a492",
          "A0xeeafc639dc16596fac574e318803d799db8b8de4",
          "A0xd8958a9716cd74062b89c36b5f13abd89a4a502b",
          "A0x0a0b5c4e689b4f2ac909d83e9ddf8838eadbed4d",
          "A0x11bff0a264952798dca922bd47ad4b481d116621",
          "A0x2aafabaa6b764dda5c1b567918d3b621b4bef34a",
          "A0xc4e76b8e93569ed1cbc702635a4e04aa036bdd4f",
          "A0x0e085ccc6d804abdff0c704d8ce3e96dffbd1de8",
          "A0x2ab90eb5b986904c465e7cfee8d54f15dc6458e3",
          "A0xc4267c3d2a5ae47ad329633438c20f1c73a7c849",
          "A0xd35b6a327d9616ea49b8aafeeab5deb02079d6e4",
          "A0x0609bf26af445f294a6aae69cb3cc075a2e68707",
          "A0x399860889955c6573619a57a138eabe4155b0a63",
          "A0xcc0ed3a331cea379c0a43ca7783507bc726ec016",
          "A0xd13cb0faf2fed2d27e485075a8e1ef96f2bf249f",
          "A0x924d8ac1f0673994ad95e27afa3288635a3ed2e5",
          "A0xb095fb897149b08a1b29a6ca74bb66f55d30d6f2",
          "A0xd1c0b781fb4e33c936a1b9c82c34ad67bf060e61",
          "A0x4147644a2ee313152ed302b5b668fe4e6a41e802",
          "A0x291c06a0cb6af5a67a057749efe04d5c619349e5",
          "A0x18debee65be9cadb3b3e9fb08c83b94557e00edb",
          "A0xc5fa7e4f4caa5bfb8315350ba663bf0d329b5065",
          "A0xd72b576e6c42e2b9f20feb1097b8d413a01cddb9",
          "A0xc7fd85a482959b8c56958cd91b127a45171c19b7",
          "A0x18ee7b93cda2e269952ea7365492d0d42604bb2d",
          "A0x67d8589793e9155932f9087ff4f03f6c76528254",
          "A0x68415af95b8e704c70a236deb07a47418aa2aa58",
          "A0xa0c5af67f246d7bda1da64948abc5f1cfa8d0787",
          "A0x979bfa220d2ae311d3e7fae200f387abdfcbf8de",
          "A0xc6770aae5b9565ddd942253126365e0da725f048",
          "A0xf6bd3b92489777c0ae41adb868e5624df65bd1ab",
          "A0xea8d69bd2fb64968cdb05238fbbdeb918c62f6a4",
          "A0x73ba416ebcb00a81a9f94beb3995d8d257eb3c1c",
          "A0xdf229c482d3ba4930a2ad72bfe864a80d6007819",
          "A0x1dc865311ccd631646abf3160e832a5e106aea40",
          "A0xcd6891ea7ea976689e0ab33ce1dee20d51708ebb",
          "MFIOrgMSP",
          "A0x2d84a437082721461ed4c1cf0c2a19939e7f0059",
          "A0x2b1f1adeb10645efa1a7cb26306bfa57117d2266",
          "A0x3fe329340ead5fff587252304fa012fb43521517",
          "A0x5c0bcd3688421889c39dde697542cdf40fdd932f",
          "A0xe007eff5481ec0cd4ae5a5b71196d8cf8983bd87",
          "A0x75b595abe8093f097d826f3ecf5484a9163e892c",
          "A0x945f1fdf01a6127ffac0af4773e61e68955017c4",
          "A0x297be78d71173f473e793dc4dc228a0082ce7b2c",
          "A0x6a3e4dacd4be636738bdd385b19068500dbed4d3",
          "A0x1b1502a4b725b307aa6d2dad6604d1c631e2d24a",
          "A0xb96484250607bf42c7841e056dd333a4f90b8dcc",
          "A0xbf65a1d1c1f56e6507bd847ba7aced70ecce0cda",
          "A0xb7c027e32b5dcfa44ed481dcadf41778b8f24cdc",
          "A0xcfb9ea2f484399e68e99fed4bce1c2da0ece92e1",
          "A0x19d4773547082d233c8baadc23d38548a8a0a05e",
          "A0x13aefaeee20d6dc6b57c819ca25fc57dd156fc18",
          "A0xbe70d4544b35e435b8ee1aa24dc6f0271b12ccd3",
          "A0xfa3d15572db66b98bfb29c0ccbefd04db1a6abe8",
          "A0x08933d8ee8e4e562a9ed3ca42d4e6e9bd255fe3d",
          "A0x1b57a9193495d6cc3355d652c5c1397565b2ec38",
          "A0x41d886eda61871b64c0f46042016c15115c4558a",
          "A0x664f1d0b98f077ffa74e5ddd798bfc6f1fc437d3",
          "A0xa42fb67f20cb24e175b0c1c060738305856710fa",
          "A0xa3be17a089d05578b82ceb0f61b01570855c71c6",
          "A0x666f4569c5a215ce4891e5e8cc5b61ce7a22415d",
          "A0x6bbbb02aca0851cef054ed1f73c2fa84ba52b1d1",
          "A0x7050849edd9ae8631d0984c9f6beaedcca505175",
          "A0x7bc741576c17970a309df156d73978ccd1aa45f0",
          "A0x8d9b5dd881b373f1eb9f9bcd4f1c892c9c9c7d9d",
          "A0xbf45b32208988a2a02f9a4e0989c7fd6b121130f",
          "A0x3796818941c68e5888da14b3cacd342bd6e4cefd",
          "A0xe289c8674f7788abbcf2d2f5775ba96cf73cf8bd",
          "A0x02e778a99dadc6a96658957ab44af0ff300792d6",
          "A0x7da7b51c8ff0551ee6f80b4b29c80708ea30871a",
          "A0x61dfc7ad6d199d395d5dc74bf0f393006005789d",
          "A0xbd98dcdb4c33c360a1ad056243f8483f93144619",
          "A0x74aa18b2ac25287356e55a05cf536a6e90cb2d5c",
          "A0x04b0451cfa41b61975d8f02d92fe49805ae51aa1",
          "A0xa8bfc75daf5989f7da100025b60554838aa72409",
          "A0x9c17ce07fe0f3969ac12cb0784d426f64b98b0b2",
          "A0xbf0ec4d5b5ff3d7d789824238590b030cbf11ef9",
          "A0x7a5d41ce24afc33459ad9600bcf6ae586636d8b9",
          "A0x62b4671d570d83103ab964d9071a273a5d001fee",
          "A0x7a671755d21b5fb4e2bdca61be8cda8a0482363c",
          "A0x7629a88b72c521e860b9abfddd38a16631ddc170",
          "A0xdd2b9ecf1a0a41ea9ef3d5201051759b9ef6f257",
          "A0xce6862563d7fe971e77a0f798e176d2d471c4c0c",
          "A0x9479bb1b65b5ec578fe970c45d0ca82ecef427bd",
          "A0x97f26e31acc1bf35cd8706f87c6b70a11eb2ce50",
          "A0xcd032b158e95e01d6938e4c45fca9a116d1069c6",
          "A0x3830650ef4e52b6a58a830fb1efee3b2e3e8ad8d",
          "A0x1db60780fae6d93aab523d82be5418800759869a",
          "A0x45dc40853174f09f1510bff4a37b93a0377a95d2",
          "A0xf1dbc9e8dfaccadcb7ccff1e03c7663819e36191",
          "A0x0e0e8b30ca53fdb1a1b78d0d8e804088424078ea",
          "A0x16e0464b67e95eed311f2654936add548c00ec62",
          "A0xf95f6e4e95b14f86d2af7ee5d54fcc8baa6fc721",
          "A0x10c264fa3c7a49eceb469dcaa6eecb4e16eb0304",
          "A0xe826cc045021e88f5e942a010753f66bd4430ba3",
          "A0xfac184ecc4afe6cc570ebb07a33936918ea5e53d",
          "A0xfad922de28a0202404cda237e99cc3edd5525eba",
          "A0xfb8ff2fcd599a8c6c0384c2446f49a7a613f66d2",
          "A0xfea2f9fef7e7af0fb3c8f74dd3654a26e902bb27",
          "A0x47bcda4d240c456198c861022f30e16f3e8e8173",
          "A0xbf168810ed85f240d565273768c62cb383f2130a",
          "A0xe6c689b3268f297e4c269f99d6b970944e7f433f",
          "A0x48fc11486d3ccb3d863fed58ba12f7be7f63a2ca",
          "A0x51413253eacd1953f918bb30273fabe0a58c6928",
          "A0x56fece89b531dd8cb8ff924d531fabd5530c73fb",
          "A0x5fa7c7927b806090725841b9eafdea2238003460",
          "A0xdae57a345a6af516b210500e4f4569721d3c6e28",
          "A0x6331434cce34419719caf6dcd787c41ecab56c1b",
          "A0x6443a7fe6aefd8c43c624431d19897ac8f942bf0",
          "A0xd36a21c511621c71a6d01336db005d5997c18882",
          "A0xd307fa9296118538c9ef3fb4f4bbbb9f79c1a202",
          "A0xd185cbc8d2773a731ec1396559d4b9778297569d",
          "A0x8dde22fa2ede10d42db13d344bf817b67d5b8f8f",
          "A0xa7b7e9bc992068625357f84a93275b9c8fbaf175",
          "A0xb8e29712346ac4a2d8f44ea9c8008c3f4bf79831",
          "A0xbc6d5b83e75c2d6bb85d9d7177f2b2b97eb237bc",
          "A0x6258efcf7368388f0ad132ed9b40e377ff201c0a"
         ],
         "xaxis": "x",
         "y": [
          null,
          null,
          null,
          null,
          null,
          null,
          null,
          null,
          null,
          null,
          null,
          null,
          null,
          null,
          null,
          null,
          null,
          null,
          null,
          null,
          null,
          null,
          null,
          null,
          null,
          null,
          null,
          null,
          null,
          null,
          null,
          null,
          null,
          null,
          null,
          null,
          null,
          null,
          null,
          null,
          null,
          null,
          null,
          null,
          null,
          null,
          null,
          null,
          null,
          null,
          null,
          null,
          null,
          null,
          null,
          null,
          null,
          null,
          null,
          3,
          3,
          2,
          2,
          1.6666666666666667,
          1.5,
          1.5,
          1.5,
          1.3333333333333333,
          1.3333333333333333,
          1,
          1,
          1,
          1,
          1,
          1,
          1,
          1,
          1,
          1,
          1,
          1,
          1,
          1,
          1,
          1,
          1,
          1,
          1,
          1,
          1,
          1,
          1,
          1,
          1,
          1,
          1,
          1,
          1,
          1,
          1,
          1,
          1,
          1,
          0.95,
          0.75,
          0.75,
          0.75,
          0.75,
          0.6666666666666666,
          0.6666666666666666,
          0.6666666666666666,
          0.6666666666666666,
          0.6666666666666666,
          0.6666666666666666,
          0.6666666666666666,
          0.6666666666666666,
          0.6,
          0.5,
          0.5,
          0.5,
          0.5,
          0.5,
          0.5,
          0.5,
          0.5,
          0.5,
          0.5,
          0.5,
          0.5,
          0.5,
          0.5,
          0.5,
          0.5,
          0.5,
          0.4,
          0.3333333333333333,
          0.3333333333333333,
          0.3333333333333333,
          0.3333333333333333,
          0.3333333333333333,
          0.3333333333333333,
          0.3333333333333333,
          0.3333333333333333,
          0.3333333333333333,
          0.3333333333333333,
          0.3333333333333333,
          0.3333333333333333,
          0.3333333333333333,
          0.25,
          0.25,
          0.25,
          0.25,
          0.25,
          0.25,
          0.2,
          0,
          0,
          0,
          0,
          0,
          0,
          0,
          0,
          0,
          0,
          0,
          0,
          0,
          0,
          0,
          0,
          0,
          0,
          0,
          0,
          0,
          0,
          0,
          0,
          0,
          0,
          0,
          0,
          0,
          0
         ],
         "yaxis": "y"
        }
       ],
       "layout": {
        "barmode": "relative",
        "legend": {
         "tracegroupgap": 0
        },
        "template": {
         "data": {
          "bar": [
           {
            "error_x": {
             "color": "#2a3f5f"
            },
            "error_y": {
             "color": "#2a3f5f"
            },
            "marker": {
             "line": {
              "color": "#E5ECF6",
              "width": 0.5
             }
            },
            "type": "bar"
           }
          ],
          "barpolar": [
           {
            "marker": {
             "line": {
              "color": "#E5ECF6",
              "width": 0.5
             }
            },
            "type": "barpolar"
           }
          ],
          "carpet": [
           {
            "aaxis": {
             "endlinecolor": "#2a3f5f",
             "gridcolor": "white",
             "linecolor": "white",
             "minorgridcolor": "white",
             "startlinecolor": "#2a3f5f"
            },
            "baxis": {
             "endlinecolor": "#2a3f5f",
             "gridcolor": "white",
             "linecolor": "white",
             "minorgridcolor": "white",
             "startlinecolor": "#2a3f5f"
            },
            "type": "carpet"
           }
          ],
          "choropleth": [
           {
            "colorbar": {
             "outlinewidth": 0,
             "ticks": ""
            },
            "type": "choropleth"
           }
          ],
          "contour": [
           {
            "colorbar": {
             "outlinewidth": 0,
             "ticks": ""
            },
            "colorscale": [
             [
              0,
              "#0d0887"
             ],
             [
              0.1111111111111111,
              "#46039f"
             ],
             [
              0.2222222222222222,
              "#7201a8"
             ],
             [
              0.3333333333333333,
              "#9c179e"
             ],
             [
              0.4444444444444444,
              "#bd3786"
             ],
             [
              0.5555555555555556,
              "#d8576b"
             ],
             [
              0.6666666666666666,
              "#ed7953"
             ],
             [
              0.7777777777777778,
              "#fb9f3a"
             ],
             [
              0.8888888888888888,
              "#fdca26"
             ],
             [
              1,
              "#f0f921"
             ]
            ],
            "type": "contour"
           }
          ],
          "contourcarpet": [
           {
            "colorbar": {
             "outlinewidth": 0,
             "ticks": ""
            },
            "type": "contourcarpet"
           }
          ],
          "heatmap": [
           {
            "colorbar": {
             "outlinewidth": 0,
             "ticks": ""
            },
            "colorscale": [
             [
              0,
              "#0d0887"
             ],
             [
              0.1111111111111111,
              "#46039f"
             ],
             [
              0.2222222222222222,
              "#7201a8"
             ],
             [
              0.3333333333333333,
              "#9c179e"
             ],
             [
              0.4444444444444444,
              "#bd3786"
             ],
             [
              0.5555555555555556,
              "#d8576b"
             ],
             [
              0.6666666666666666,
              "#ed7953"
             ],
             [
              0.7777777777777778,
              "#fb9f3a"
             ],
             [
              0.8888888888888888,
              "#fdca26"
             ],
             [
              1,
              "#f0f921"
             ]
            ],
            "type": "heatmap"
           }
          ],
          "heatmapgl": [
           {
            "colorbar": {
             "outlinewidth": 0,
             "ticks": ""
            },
            "colorscale": [
             [
              0,
              "#0d0887"
             ],
             [
              0.1111111111111111,
              "#46039f"
             ],
             [
              0.2222222222222222,
              "#7201a8"
             ],
             [
              0.3333333333333333,
              "#9c179e"
             ],
             [
              0.4444444444444444,
              "#bd3786"
             ],
             [
              0.5555555555555556,
              "#d8576b"
             ],
             [
              0.6666666666666666,
              "#ed7953"
             ],
             [
              0.7777777777777778,
              "#fb9f3a"
             ],
             [
              0.8888888888888888,
              "#fdca26"
             ],
             [
              1,
              "#f0f921"
             ]
            ],
            "type": "heatmapgl"
           }
          ],
          "histogram": [
           {
            "marker": {
             "colorbar": {
              "outlinewidth": 0,
              "ticks": ""
             }
            },
            "type": "histogram"
           }
          ],
          "histogram2d": [
           {
            "colorbar": {
             "outlinewidth": 0,
             "ticks": ""
            },
            "colorscale": [
             [
              0,
              "#0d0887"
             ],
             [
              0.1111111111111111,
              "#46039f"
             ],
             [
              0.2222222222222222,
              "#7201a8"
             ],
             [
              0.3333333333333333,
              "#9c179e"
             ],
             [
              0.4444444444444444,
              "#bd3786"
             ],
             [
              0.5555555555555556,
              "#d8576b"
             ],
             [
              0.6666666666666666,
              "#ed7953"
             ],
             [
              0.7777777777777778,
              "#fb9f3a"
             ],
             [
              0.8888888888888888,
              "#fdca26"
             ],
             [
              1,
              "#f0f921"
             ]
            ],
            "type": "histogram2d"
           }
          ],
          "histogram2dcontour": [
           {
            "colorbar": {
             "outlinewidth": 0,
             "ticks": ""
            },
            "colorscale": [
             [
              0,
              "#0d0887"
             ],
             [
              0.1111111111111111,
              "#46039f"
             ],
             [
              0.2222222222222222,
              "#7201a8"
             ],
             [
              0.3333333333333333,
              "#9c179e"
             ],
             [
              0.4444444444444444,
              "#bd3786"
             ],
             [
              0.5555555555555556,
              "#d8576b"
             ],
             [
              0.6666666666666666,
              "#ed7953"
             ],
             [
              0.7777777777777778,
              "#fb9f3a"
             ],
             [
              0.8888888888888888,
              "#fdca26"
             ],
             [
              1,
              "#f0f921"
             ]
            ],
            "type": "histogram2dcontour"
           }
          ],
          "mesh3d": [
           {
            "colorbar": {
             "outlinewidth": 0,
             "ticks": ""
            },
            "type": "mesh3d"
           }
          ],
          "parcoords": [
           {
            "line": {
             "colorbar": {
              "outlinewidth": 0,
              "ticks": ""
             }
            },
            "type": "parcoords"
           }
          ],
          "pie": [
           {
            "automargin": true,
            "type": "pie"
           }
          ],
          "scatter": [
           {
            "marker": {
             "colorbar": {
              "outlinewidth": 0,
              "ticks": ""
             }
            },
            "type": "scatter"
           }
          ],
          "scatter3d": [
           {
            "line": {
             "colorbar": {
              "outlinewidth": 0,
              "ticks": ""
             }
            },
            "marker": {
             "colorbar": {
              "outlinewidth": 0,
              "ticks": ""
             }
            },
            "type": "scatter3d"
           }
          ],
          "scattercarpet": [
           {
            "marker": {
             "colorbar": {
              "outlinewidth": 0,
              "ticks": ""
             }
            },
            "type": "scattercarpet"
           }
          ],
          "scattergeo": [
           {
            "marker": {
             "colorbar": {
              "outlinewidth": 0,
              "ticks": ""
             }
            },
            "type": "scattergeo"
           }
          ],
          "scattergl": [
           {
            "marker": {
             "colorbar": {
              "outlinewidth": 0,
              "ticks": ""
             }
            },
            "type": "scattergl"
           }
          ],
          "scattermapbox": [
           {
            "marker": {
             "colorbar": {
              "outlinewidth": 0,
              "ticks": ""
             }
            },
            "type": "scattermapbox"
           }
          ],
          "scatterpolar": [
           {
            "marker": {
             "colorbar": {
              "outlinewidth": 0,
              "ticks": ""
             }
            },
            "type": "scatterpolar"
           }
          ],
          "scatterpolargl": [
           {
            "marker": {
             "colorbar": {
              "outlinewidth": 0,
              "ticks": ""
             }
            },
            "type": "scatterpolargl"
           }
          ],
          "scatterternary": [
           {
            "marker": {
             "colorbar": {
              "outlinewidth": 0,
              "ticks": ""
             }
            },
            "type": "scatterternary"
           }
          ],
          "surface": [
           {
            "colorbar": {
             "outlinewidth": 0,
             "ticks": ""
            },
            "colorscale": [
             [
              0,
              "#0d0887"
             ],
             [
              0.1111111111111111,
              "#46039f"
             ],
             [
              0.2222222222222222,
              "#7201a8"
             ],
             [
              0.3333333333333333,
              "#9c179e"
             ],
             [
              0.4444444444444444,
              "#bd3786"
             ],
             [
              0.5555555555555556,
              "#d8576b"
             ],
             [
              0.6666666666666666,
              "#ed7953"
             ],
             [
              0.7777777777777778,
              "#fb9f3a"
             ],
             [
              0.8888888888888888,
              "#fdca26"
             ],
             [
              1,
              "#f0f921"
             ]
            ],
            "type": "surface"
           }
          ],
          "table": [
           {
            "cells": {
             "fill": {
              "color": "#EBF0F8"
             },
             "line": {
              "color": "white"
             }
            },
            "header": {
             "fill": {
              "color": "#C8D4E3"
             },
             "line": {
              "color": "white"
             }
            },
            "type": "table"
           }
          ]
         },
         "layout": {
          "annotationdefaults": {
           "arrowcolor": "#2a3f5f",
           "arrowhead": 0,
           "arrowwidth": 1
          },
          "autotypenumbers": "strict",
          "coloraxis": {
           "colorbar": {
            "outlinewidth": 0,
            "ticks": ""
           }
          },
          "colorscale": {
           "diverging": [
            [
             0,
             "#8e0152"
            ],
            [
             0.1,
             "#c51b7d"
            ],
            [
             0.2,
             "#de77ae"
            ],
            [
             0.3,
             "#f1b6da"
            ],
            [
             0.4,
             "#fde0ef"
            ],
            [
             0.5,
             "#f7f7f7"
            ],
            [
             0.6,
             "#e6f5d0"
            ],
            [
             0.7,
             "#b8e186"
            ],
            [
             0.8,
             "#7fbc41"
            ],
            [
             0.9,
             "#4d9221"
            ],
            [
             1,
             "#276419"
            ]
           ],
           "sequential": [
            [
             0,
             "#0d0887"
            ],
            [
             0.1111111111111111,
             "#46039f"
            ],
            [
             0.2222222222222222,
             "#7201a8"
            ],
            [
             0.3333333333333333,
             "#9c179e"
            ],
            [
             0.4444444444444444,
             "#bd3786"
            ],
            [
             0.5555555555555556,
             "#d8576b"
            ],
            [
             0.6666666666666666,
             "#ed7953"
            ],
            [
             0.7777777777777778,
             "#fb9f3a"
            ],
            [
             0.8888888888888888,
             "#fdca26"
            ],
            [
             1,
             "#f0f921"
            ]
           ],
           "sequentialminus": [
            [
             0,
             "#0d0887"
            ],
            [
             0.1111111111111111,
             "#46039f"
            ],
            [
             0.2222222222222222,
             "#7201a8"
            ],
            [
             0.3333333333333333,
             "#9c179e"
            ],
            [
             0.4444444444444444,
             "#bd3786"
            ],
            [
             0.5555555555555556,
             "#d8576b"
            ],
            [
             0.6666666666666666,
             "#ed7953"
            ],
            [
             0.7777777777777778,
             "#fb9f3a"
            ],
            [
             0.8888888888888888,
             "#fdca26"
            ],
            [
             1,
             "#f0f921"
            ]
           ]
          },
          "colorway": [
           "#636efa",
           "#EF553B",
           "#00cc96",
           "#ab63fa",
           "#FFA15A",
           "#19d3f3",
           "#FF6692",
           "#B6E880",
           "#FF97FF",
           "#FECB52"
          ],
          "font": {
           "color": "#2a3f5f"
          },
          "geo": {
           "bgcolor": "white",
           "lakecolor": "white",
           "landcolor": "#E5ECF6",
           "showlakes": true,
           "showland": true,
           "subunitcolor": "white"
          },
          "hoverlabel": {
           "align": "left"
          },
          "hovermode": "closest",
          "mapbox": {
           "style": "light"
          },
          "paper_bgcolor": "white",
          "plot_bgcolor": "#E5ECF6",
          "polar": {
           "angularaxis": {
            "gridcolor": "white",
            "linecolor": "white",
            "ticks": ""
           },
           "bgcolor": "#E5ECF6",
           "radialaxis": {
            "gridcolor": "white",
            "linecolor": "white",
            "ticks": ""
           }
          },
          "scene": {
           "xaxis": {
            "backgroundcolor": "#E5ECF6",
            "gridcolor": "white",
            "gridwidth": 2,
            "linecolor": "white",
            "showbackground": true,
            "ticks": "",
            "zerolinecolor": "white"
           },
           "yaxis": {
            "backgroundcolor": "#E5ECF6",
            "gridcolor": "white",
            "gridwidth": 2,
            "linecolor": "white",
            "showbackground": true,
            "ticks": "",
            "zerolinecolor": "white"
           },
           "zaxis": {
            "backgroundcolor": "#E5ECF6",
            "gridcolor": "white",
            "gridwidth": 2,
            "linecolor": "white",
            "showbackground": true,
            "ticks": "",
            "zerolinecolor": "white"
           }
          },
          "shapedefaults": {
           "line": {
            "color": "#2a3f5f"
           }
          },
          "ternary": {
           "aaxis": {
            "gridcolor": "white",
            "linecolor": "white",
            "ticks": ""
           },
           "baxis": {
            "gridcolor": "white",
            "linecolor": "white",
            "ticks": ""
           },
           "bgcolor": "#E5ECF6",
           "caxis": {
            "gridcolor": "white",
            "linecolor": "white",
            "ticks": ""
           }
          },
          "title": {
           "x": 0.05
          },
          "xaxis": {
           "automargin": true,
           "gridcolor": "white",
           "linecolor": "white",
           "ticks": "",
           "title": {
            "standoff": 15
           },
           "zerolinecolor": "white",
           "zerolinewidth": 2
          },
          "yaxis": {
           "automargin": true,
           "gridcolor": "white",
           "linecolor": "white",
           "ticks": "",
           "title": {
            "standoff": 15
           },
           "zerolinecolor": "white",
           "zerolinewidth": 2
          }
         }
        },
        "title": {
         "text": "Ratio of MVCC/Valid"
        },
        "xaxis": {
         "anchor": "y",
         "domain": [
          0,
          1
         ],
         "title": {
          "text": "key"
         }
        },
        "yaxis": {
         "anchor": "x",
         "domain": [
          0,
          1
         ],
         "title": {
          "text": "ratio"
         }
        }
       }
      },
      "text/html": [
       "<div>                            <div id=\"920f658f-3342-400d-b8ab-65bb490b14e0\" class=\"plotly-graph-div\" style=\"height:525px; width:100%;\"></div>            <script type=\"text/javascript\">                require([\"plotly\"], function(Plotly) {                    window.PLOTLYENV=window.PLOTLYENV || {};                                    if (document.getElementById(\"920f658f-3342-400d-b8ab-65bb490b14e0\")) {                    Plotly.newPlot(                        \"920f658f-3342-400d-b8ab-65bb490b14e0\",                        [{\"alignmentgroup\": \"True\", \"hovertemplate\": \"key=%{x}<br>ratio=%{y}<extra></extra>\", \"legendgroup\": \"\", \"marker\": {\"color\": \"#636efa\"}, \"name\": \"\", \"offsetgroup\": \"\", \"orientation\": \"v\", \"showlegend\": false, \"textposition\": \"auto\", \"type\": \"bar\", \"x\": [\"A0xd8526a276ecb901685865a0bab5b222608a1849a\", \"A0x327d476ee7192cf54ff457c9f3a990994a4876d1\", \"A0x6348c71de25feaa41227fc9e2ba3a84be0bb7117\", \"A0xa786797e0adb67871dd6b6cfbded649a20c14739\", \"A0xdbad20e48e5d7ea50dc78fd33b2457f9e7aa941b\", \"A0x618621c24c42e6a138f7db0a82dad2a152e5f8c9\", \"A0xc887549295bda98cb91a41cef27fab706d7eea03\", \"A0x5d4ef8a4196f27a81d1b1a471998e6f14daae07e\", \"A0xa8a8885e7bc2c575139380f3d5d707b8e20e7574\", \"A0x547ff01418ac59609ced50067c67f091f0fcd19b\", \"A0x53978e41fb14e4963ab6f15fe641374c76c66b08\", \"A0xea4e09f9c8778403edf3c79a8225b298acfdbb1d\", \"A0x427e1d84fd7b89e8faeefa9d8d8fc459496a7e53\", \"A0xaca9a990390f22f73b04132cac6d6afdc494279f\", \"A0x3dcaa3605aa8d30d2b434ead05ea4653b29b50b9\", \"A0x3c66165a873e24f5348b8b8ea0fb499d88f3d3c8\", \"A0x3ae053323c103b1c7aff9fe8c75b6a7e0126b8aa\", \"A0xeae39848c40aecc6abd11cd88e0a7c020ce8666a\", \"A0x34c23638fdbf18bb4e973cb3d6d3b55b2cd42b95\", \"A0x650a1cbda525a273b84d42ee578f479c849f7e32\", \"A0xa715e36063182c9854123f9c649e75059be2d8aa\", \"A0xa1892bdfeee38914bab98c74f730600b6c1d7b7d\", \"A0x7d3449ec07b776ec75c4ebca96f41a59d7da5881\", \"A0x9349aa6c6e72fe86a83e72e15fd1c9c4dd2987b3\", \"A0x8cc1b870aa785254f0aace6e8b71160ec1e72a16\", \"A0x8c23dd5326261def14aa29eab9085de810f68301\", \"A0x8a04864db111d27aade3a955b06d4babfc312ec6\", \"A0x831e364c22b5f20e7be3aaf48d60e965da067472\", \"A0x7dd01d254074db8e926e4f0c6d6ba8b4f6c7c809\", \"A0x032e378b8adfea64782e895294879ae9c626a70b\", \"A0x7c8c1f9081244c7d3835f162a61dad68a3f5c247\", \"A0xa10e856fff434c6290b0507514b57908b79c75fc\", \"A0x9d32eae47d32b52a161c3eec8c92fa8021fbe15d\", \"A0x7690a5351bb887949b0d676ad4fb03a096caf8a9\", \"A0xd48e13ada40330ca515a3648bc1bff2e7eb9af49\", \"A0xd4a0760f2abc986554915a08a0e12a46e14b655e\", \"A0x9f983750d09650afe3822dea047b96f97065915a\", \"A0x6d631080e8daef28463e6b5c4c125a6df03bf1e5\", \"A0x6bf52ef2502c4fb4aaf41b5cd1df640208738fe9\", \"A0x34bdb0cd02062d27365ab4d56f2332e405a572ae\", \"A0xab787dc6bb494bb1159b52705b18b90c46752be5\", \"A0xbca9fbdcc84ff2ddde35f1992b4448c7ecb2e619\", \"A0x12488da5c23a2382c2c5671590b23bcc2360123b\", \"A0x1d81ebc3c2b351dad2473a00c54d218ece20ca0d\", \"A0xbca33cc14108595949f856b4fd307bbcf2e29f7b\", \"A0x2fd59c2f49772c4e9ef42a7491290ff3037253d1\", \"A0x1806efe37becc930700028e73e654f8b51078fd0\", \"A0xc5ca9702ea21eeaef22abe6e5c98ce27fe0890fb\", \"A0x1309ca5daf888fc4ebc4204895e2d65b8e4dc775\", \"A0x29ae2d92c17e2324aeb20aa9ddf6fcc788739099\", \"A0x27d64af4c23870c5a421f6da0b3869c9a9cb482c\", \"A0x27c3679ec8674e87a44e5e453b069b81e60fc136\", \"A0xfa3a79bfec22aa4debaf8d03b90f84546b4c1f63\", \"A0x0c20d5d370b869dd728b1092d99367262cde9c77\", \"A0xb7e8d8cff92adaa5e568c88cdd80196e070bc1f3\", \"A0x2d2a95d499911f247203a859aa91be50bf8d2ae1\", \"A0x04d2f242952d9bb815fba44a0af38d6bef96d555\", \"A0xb58bcd432d285b0b62c61b3cc651e3651241fad1\", \"A0xfde9aea364294c9da1697471df052c7adc377dfe\", \"A0x124352fad855e20416ceb3df50ceb6084a0fbd72\", \"A0x31eee26fc04f2d260892874d2d7b2f8aac47c40e\", \"A0xe040280fb103744f6b26c15a68fb193040743fc1\", \"A0xe5c1dbc76b0962cf29ab5772fc1934d0bbb7ac68\", \"A0x1f16ec496f67770a95485ae817412e5e972fd3f0\", \"A0x9f806eb85af2e8a00b22499966d450c277064343\", \"A0x213ce06a3580d126d87978ac72f345ee6072053e\", \"A0x4516106aa231922658ff2834ca1fb39ceeddf88a\", \"A0x7d2a87e3714922a0c52ba0096ccb501d9585a492\", \"A0xeeafc639dc16596fac574e318803d799db8b8de4\", \"A0xd8958a9716cd74062b89c36b5f13abd89a4a502b\", \"A0x0a0b5c4e689b4f2ac909d83e9ddf8838eadbed4d\", \"A0x11bff0a264952798dca922bd47ad4b481d116621\", \"A0x2aafabaa6b764dda5c1b567918d3b621b4bef34a\", \"A0xc4e76b8e93569ed1cbc702635a4e04aa036bdd4f\", \"A0x0e085ccc6d804abdff0c704d8ce3e96dffbd1de8\", \"A0x2ab90eb5b986904c465e7cfee8d54f15dc6458e3\", \"A0xc4267c3d2a5ae47ad329633438c20f1c73a7c849\", \"A0xd35b6a327d9616ea49b8aafeeab5deb02079d6e4\", \"A0x0609bf26af445f294a6aae69cb3cc075a2e68707\", \"A0x399860889955c6573619a57a138eabe4155b0a63\", \"A0xcc0ed3a331cea379c0a43ca7783507bc726ec016\", \"A0xd13cb0faf2fed2d27e485075a8e1ef96f2bf249f\", \"A0x924d8ac1f0673994ad95e27afa3288635a3ed2e5\", \"A0xb095fb897149b08a1b29a6ca74bb66f55d30d6f2\", \"A0xd1c0b781fb4e33c936a1b9c82c34ad67bf060e61\", \"A0x4147644a2ee313152ed302b5b668fe4e6a41e802\", \"A0x291c06a0cb6af5a67a057749efe04d5c619349e5\", \"A0x18debee65be9cadb3b3e9fb08c83b94557e00edb\", \"A0xc5fa7e4f4caa5bfb8315350ba663bf0d329b5065\", \"A0xd72b576e6c42e2b9f20feb1097b8d413a01cddb9\", \"A0xc7fd85a482959b8c56958cd91b127a45171c19b7\", \"A0x18ee7b93cda2e269952ea7365492d0d42604bb2d\", \"A0x67d8589793e9155932f9087ff4f03f6c76528254\", \"A0x68415af95b8e704c70a236deb07a47418aa2aa58\", \"A0xa0c5af67f246d7bda1da64948abc5f1cfa8d0787\", \"A0x979bfa220d2ae311d3e7fae200f387abdfcbf8de\", \"A0xc6770aae5b9565ddd942253126365e0da725f048\", \"A0xf6bd3b92489777c0ae41adb868e5624df65bd1ab\", \"A0xea8d69bd2fb64968cdb05238fbbdeb918c62f6a4\", \"A0x73ba416ebcb00a81a9f94beb3995d8d257eb3c1c\", \"A0xdf229c482d3ba4930a2ad72bfe864a80d6007819\", \"A0x1dc865311ccd631646abf3160e832a5e106aea40\", \"A0xcd6891ea7ea976689e0ab33ce1dee20d51708ebb\", \"MFIOrgMSP\", \"A0x2d84a437082721461ed4c1cf0c2a19939e7f0059\", \"A0x2b1f1adeb10645efa1a7cb26306bfa57117d2266\", \"A0x3fe329340ead5fff587252304fa012fb43521517\", \"A0x5c0bcd3688421889c39dde697542cdf40fdd932f\", \"A0xe007eff5481ec0cd4ae5a5b71196d8cf8983bd87\", \"A0x75b595abe8093f097d826f3ecf5484a9163e892c\", \"A0x945f1fdf01a6127ffac0af4773e61e68955017c4\", \"A0x297be78d71173f473e793dc4dc228a0082ce7b2c\", \"A0x6a3e4dacd4be636738bdd385b19068500dbed4d3\", \"A0x1b1502a4b725b307aa6d2dad6604d1c631e2d24a\", \"A0xb96484250607bf42c7841e056dd333a4f90b8dcc\", \"A0xbf65a1d1c1f56e6507bd847ba7aced70ecce0cda\", \"A0xb7c027e32b5dcfa44ed481dcadf41778b8f24cdc\", \"A0xcfb9ea2f484399e68e99fed4bce1c2da0ece92e1\", \"A0x19d4773547082d233c8baadc23d38548a8a0a05e\", \"A0x13aefaeee20d6dc6b57c819ca25fc57dd156fc18\", \"A0xbe70d4544b35e435b8ee1aa24dc6f0271b12ccd3\", \"A0xfa3d15572db66b98bfb29c0ccbefd04db1a6abe8\", \"A0x08933d8ee8e4e562a9ed3ca42d4e6e9bd255fe3d\", \"A0x1b57a9193495d6cc3355d652c5c1397565b2ec38\", \"A0x41d886eda61871b64c0f46042016c15115c4558a\", \"A0x664f1d0b98f077ffa74e5ddd798bfc6f1fc437d3\", \"A0xa42fb67f20cb24e175b0c1c060738305856710fa\", \"A0xa3be17a089d05578b82ceb0f61b01570855c71c6\", \"A0x666f4569c5a215ce4891e5e8cc5b61ce7a22415d\", \"A0x6bbbb02aca0851cef054ed1f73c2fa84ba52b1d1\", \"A0x7050849edd9ae8631d0984c9f6beaedcca505175\", \"A0x7bc741576c17970a309df156d73978ccd1aa45f0\", \"A0x8d9b5dd881b373f1eb9f9bcd4f1c892c9c9c7d9d\", \"A0xbf45b32208988a2a02f9a4e0989c7fd6b121130f\", \"A0x3796818941c68e5888da14b3cacd342bd6e4cefd\", \"A0xe289c8674f7788abbcf2d2f5775ba96cf73cf8bd\", \"A0x02e778a99dadc6a96658957ab44af0ff300792d6\", \"A0x7da7b51c8ff0551ee6f80b4b29c80708ea30871a\", \"A0x61dfc7ad6d199d395d5dc74bf0f393006005789d\", \"A0xbd98dcdb4c33c360a1ad056243f8483f93144619\", \"A0x74aa18b2ac25287356e55a05cf536a6e90cb2d5c\", \"A0x04b0451cfa41b61975d8f02d92fe49805ae51aa1\", \"A0xa8bfc75daf5989f7da100025b60554838aa72409\", \"A0x9c17ce07fe0f3969ac12cb0784d426f64b98b0b2\", \"A0xbf0ec4d5b5ff3d7d789824238590b030cbf11ef9\", \"A0x7a5d41ce24afc33459ad9600bcf6ae586636d8b9\", \"A0x62b4671d570d83103ab964d9071a273a5d001fee\", \"A0x7a671755d21b5fb4e2bdca61be8cda8a0482363c\", \"A0x7629a88b72c521e860b9abfddd38a16631ddc170\", \"A0xdd2b9ecf1a0a41ea9ef3d5201051759b9ef6f257\", \"A0xce6862563d7fe971e77a0f798e176d2d471c4c0c\", \"A0x9479bb1b65b5ec578fe970c45d0ca82ecef427bd\", \"A0x97f26e31acc1bf35cd8706f87c6b70a11eb2ce50\", \"A0xcd032b158e95e01d6938e4c45fca9a116d1069c6\", \"A0x3830650ef4e52b6a58a830fb1efee3b2e3e8ad8d\", \"A0x1db60780fae6d93aab523d82be5418800759869a\", \"A0x45dc40853174f09f1510bff4a37b93a0377a95d2\", \"A0xf1dbc9e8dfaccadcb7ccff1e03c7663819e36191\", \"A0x0e0e8b30ca53fdb1a1b78d0d8e804088424078ea\", \"A0x16e0464b67e95eed311f2654936add548c00ec62\", \"A0xf95f6e4e95b14f86d2af7ee5d54fcc8baa6fc721\", \"A0x10c264fa3c7a49eceb469dcaa6eecb4e16eb0304\", \"A0xe826cc045021e88f5e942a010753f66bd4430ba3\", \"A0xfac184ecc4afe6cc570ebb07a33936918ea5e53d\", \"A0xfad922de28a0202404cda237e99cc3edd5525eba\", \"A0xfb8ff2fcd599a8c6c0384c2446f49a7a613f66d2\", \"A0xfea2f9fef7e7af0fb3c8f74dd3654a26e902bb27\", \"A0x47bcda4d240c456198c861022f30e16f3e8e8173\", \"A0xbf168810ed85f240d565273768c62cb383f2130a\", \"A0xe6c689b3268f297e4c269f99d6b970944e7f433f\", \"A0x48fc11486d3ccb3d863fed58ba12f7be7f63a2ca\", \"A0x51413253eacd1953f918bb30273fabe0a58c6928\", \"A0x56fece89b531dd8cb8ff924d531fabd5530c73fb\", \"A0x5fa7c7927b806090725841b9eafdea2238003460\", \"A0xdae57a345a6af516b210500e4f4569721d3c6e28\", \"A0x6331434cce34419719caf6dcd787c41ecab56c1b\", \"A0x6443a7fe6aefd8c43c624431d19897ac8f942bf0\", \"A0xd36a21c511621c71a6d01336db005d5997c18882\", \"A0xd307fa9296118538c9ef3fb4f4bbbb9f79c1a202\", \"A0xd185cbc8d2773a731ec1396559d4b9778297569d\", \"A0x8dde22fa2ede10d42db13d344bf817b67d5b8f8f\", \"A0xa7b7e9bc992068625357f84a93275b9c8fbaf175\", \"A0xb8e29712346ac4a2d8f44ea9c8008c3f4bf79831\", \"A0xbc6d5b83e75c2d6bb85d9d7177f2b2b97eb237bc\", \"A0x6258efcf7368388f0ad132ed9b40e377ff201c0a\"], \"xaxis\": \"x\", \"y\": [null, null, null, null, null, null, null, null, null, null, null, null, null, null, null, null, null, null, null, null, null, null, null, null, null, null, null, null, null, null, null, null, null, null, null, null, null, null, null, null, null, null, null, null, null, null, null, null, null, null, null, null, null, null, null, null, null, null, null, 3.0, 3.0, 2.0, 2.0, 1.6666666666666667, 1.5, 1.5, 1.5, 1.3333333333333333, 1.3333333333333333, 1.0, 1.0, 1.0, 1.0, 1.0, 1.0, 1.0, 1.0, 1.0, 1.0, 1.0, 1.0, 1.0, 1.0, 1.0, 1.0, 1.0, 1.0, 1.0, 1.0, 1.0, 1.0, 1.0, 1.0, 1.0, 1.0, 1.0, 1.0, 1.0, 1.0, 1.0, 1.0, 1.0, 1.0, 0.95, 0.75, 0.75, 0.75, 0.75, 0.6666666666666666, 0.6666666666666666, 0.6666666666666666, 0.6666666666666666, 0.6666666666666666, 0.6666666666666666, 0.6666666666666666, 0.6666666666666666, 0.6, 0.5, 0.5, 0.5, 0.5, 0.5, 0.5, 0.5, 0.5, 0.5, 0.5, 0.5, 0.5, 0.5, 0.5, 0.5, 0.5, 0.5, 0.4, 0.3333333333333333, 0.3333333333333333, 0.3333333333333333, 0.3333333333333333, 0.3333333333333333, 0.3333333333333333, 0.3333333333333333, 0.3333333333333333, 0.3333333333333333, 0.3333333333333333, 0.3333333333333333, 0.3333333333333333, 0.3333333333333333, 0.25, 0.25, 0.25, 0.25, 0.25, 0.25, 0.2, 0.0, 0.0, 0.0, 0.0, 0.0, 0.0, 0.0, 0.0, 0.0, 0.0, 0.0, 0.0, 0.0, 0.0, 0.0, 0.0, 0.0, 0.0, 0.0, 0.0, 0.0, 0.0, 0.0, 0.0, 0.0, 0.0, 0.0, 0.0, 0.0, 0.0], \"yaxis\": \"y\"}],                        {\"barmode\": \"relative\", \"legend\": {\"tracegroupgap\": 0}, \"template\": {\"data\": {\"bar\": [{\"error_x\": {\"color\": \"#2a3f5f\"}, \"error_y\": {\"color\": \"#2a3f5f\"}, \"marker\": {\"line\": {\"color\": \"#E5ECF6\", \"width\": 0.5}}, \"type\": \"bar\"}], \"barpolar\": [{\"marker\": {\"line\": {\"color\": \"#E5ECF6\", \"width\": 0.5}}, \"type\": \"barpolar\"}], \"carpet\": [{\"aaxis\": {\"endlinecolor\": \"#2a3f5f\", \"gridcolor\": \"white\", \"linecolor\": \"white\", \"minorgridcolor\": \"white\", \"startlinecolor\": \"#2a3f5f\"}, \"baxis\": {\"endlinecolor\": \"#2a3f5f\", \"gridcolor\": \"white\", \"linecolor\": \"white\", \"minorgridcolor\": \"white\", \"startlinecolor\": \"#2a3f5f\"}, \"type\": \"carpet\"}], \"choropleth\": [{\"colorbar\": {\"outlinewidth\": 0, \"ticks\": \"\"}, \"type\": \"choropleth\"}], \"contour\": [{\"colorbar\": {\"outlinewidth\": 0, \"ticks\": \"\"}, \"colorscale\": [[0.0, \"#0d0887\"], [0.1111111111111111, \"#46039f\"], [0.2222222222222222, \"#7201a8\"], [0.3333333333333333, \"#9c179e\"], [0.4444444444444444, \"#bd3786\"], [0.5555555555555556, \"#d8576b\"], [0.6666666666666666, \"#ed7953\"], [0.7777777777777778, \"#fb9f3a\"], [0.8888888888888888, \"#fdca26\"], [1.0, \"#f0f921\"]], \"type\": \"contour\"}], \"contourcarpet\": [{\"colorbar\": {\"outlinewidth\": 0, \"ticks\": \"\"}, \"type\": \"contourcarpet\"}], \"heatmap\": [{\"colorbar\": {\"outlinewidth\": 0, \"ticks\": \"\"}, \"colorscale\": [[0.0, \"#0d0887\"], [0.1111111111111111, \"#46039f\"], [0.2222222222222222, \"#7201a8\"], [0.3333333333333333, \"#9c179e\"], [0.4444444444444444, \"#bd3786\"], [0.5555555555555556, \"#d8576b\"], [0.6666666666666666, \"#ed7953\"], [0.7777777777777778, \"#fb9f3a\"], [0.8888888888888888, \"#fdca26\"], [1.0, \"#f0f921\"]], \"type\": \"heatmap\"}], \"heatmapgl\": [{\"colorbar\": {\"outlinewidth\": 0, \"ticks\": \"\"}, \"colorscale\": [[0.0, \"#0d0887\"], [0.1111111111111111, \"#46039f\"], [0.2222222222222222, \"#7201a8\"], [0.3333333333333333, \"#9c179e\"], [0.4444444444444444, \"#bd3786\"], [0.5555555555555556, \"#d8576b\"], [0.6666666666666666, \"#ed7953\"], [0.7777777777777778, \"#fb9f3a\"], [0.8888888888888888, \"#fdca26\"], [1.0, \"#f0f921\"]], \"type\": \"heatmapgl\"}], \"histogram\": [{\"marker\": {\"colorbar\": {\"outlinewidth\": 0, \"ticks\": \"\"}}, \"type\": \"histogram\"}], \"histogram2d\": [{\"colorbar\": {\"outlinewidth\": 0, \"ticks\": \"\"}, \"colorscale\": [[0.0, \"#0d0887\"], [0.1111111111111111, \"#46039f\"], [0.2222222222222222, \"#7201a8\"], [0.3333333333333333, \"#9c179e\"], [0.4444444444444444, \"#bd3786\"], [0.5555555555555556, \"#d8576b\"], [0.6666666666666666, \"#ed7953\"], [0.7777777777777778, \"#fb9f3a\"], [0.8888888888888888, \"#fdca26\"], [1.0, \"#f0f921\"]], \"type\": \"histogram2d\"}], \"histogram2dcontour\": [{\"colorbar\": {\"outlinewidth\": 0, \"ticks\": \"\"}, \"colorscale\": [[0.0, \"#0d0887\"], [0.1111111111111111, \"#46039f\"], [0.2222222222222222, \"#7201a8\"], [0.3333333333333333, \"#9c179e\"], [0.4444444444444444, \"#bd3786\"], [0.5555555555555556, \"#d8576b\"], [0.6666666666666666, \"#ed7953\"], [0.7777777777777778, \"#fb9f3a\"], [0.8888888888888888, \"#fdca26\"], [1.0, \"#f0f921\"]], \"type\": \"histogram2dcontour\"}], \"mesh3d\": [{\"colorbar\": {\"outlinewidth\": 0, \"ticks\": \"\"}, \"type\": \"mesh3d\"}], \"parcoords\": [{\"line\": {\"colorbar\": {\"outlinewidth\": 0, \"ticks\": \"\"}}, \"type\": \"parcoords\"}], \"pie\": [{\"automargin\": true, \"type\": \"pie\"}], \"scatter\": [{\"marker\": {\"colorbar\": {\"outlinewidth\": 0, \"ticks\": \"\"}}, \"type\": \"scatter\"}], \"scatter3d\": [{\"line\": {\"colorbar\": {\"outlinewidth\": 0, \"ticks\": \"\"}}, \"marker\": {\"colorbar\": {\"outlinewidth\": 0, \"ticks\": \"\"}}, \"type\": \"scatter3d\"}], \"scattercarpet\": [{\"marker\": {\"colorbar\": {\"outlinewidth\": 0, \"ticks\": \"\"}}, \"type\": \"scattercarpet\"}], \"scattergeo\": [{\"marker\": {\"colorbar\": {\"outlinewidth\": 0, \"ticks\": \"\"}}, \"type\": \"scattergeo\"}], \"scattergl\": [{\"marker\": {\"colorbar\": {\"outlinewidth\": 0, \"ticks\": \"\"}}, \"type\": \"scattergl\"}], \"scattermapbox\": [{\"marker\": {\"colorbar\": {\"outlinewidth\": 0, \"ticks\": \"\"}}, \"type\": \"scattermapbox\"}], \"scatterpolar\": [{\"marker\": {\"colorbar\": {\"outlinewidth\": 0, \"ticks\": \"\"}}, \"type\": \"scatterpolar\"}], \"scatterpolargl\": [{\"marker\": {\"colorbar\": {\"outlinewidth\": 0, \"ticks\": \"\"}}, \"type\": \"scatterpolargl\"}], \"scatterternary\": [{\"marker\": {\"colorbar\": {\"outlinewidth\": 0, \"ticks\": \"\"}}, \"type\": \"scatterternary\"}], \"surface\": [{\"colorbar\": {\"outlinewidth\": 0, \"ticks\": \"\"}, \"colorscale\": [[0.0, \"#0d0887\"], [0.1111111111111111, \"#46039f\"], [0.2222222222222222, \"#7201a8\"], [0.3333333333333333, \"#9c179e\"], [0.4444444444444444, \"#bd3786\"], [0.5555555555555556, \"#d8576b\"], [0.6666666666666666, \"#ed7953\"], [0.7777777777777778, \"#fb9f3a\"], [0.8888888888888888, \"#fdca26\"], [1.0, \"#f0f921\"]], \"type\": \"surface\"}], \"table\": [{\"cells\": {\"fill\": {\"color\": \"#EBF0F8\"}, \"line\": {\"color\": \"white\"}}, \"header\": {\"fill\": {\"color\": \"#C8D4E3\"}, \"line\": {\"color\": \"white\"}}, \"type\": \"table\"}]}, \"layout\": {\"annotationdefaults\": {\"arrowcolor\": \"#2a3f5f\", \"arrowhead\": 0, \"arrowwidth\": 1}, \"autotypenumbers\": \"strict\", \"coloraxis\": {\"colorbar\": {\"outlinewidth\": 0, \"ticks\": \"\"}}, \"colorscale\": {\"diverging\": [[0, \"#8e0152\"], [0.1, \"#c51b7d\"], [0.2, \"#de77ae\"], [0.3, \"#f1b6da\"], [0.4, \"#fde0ef\"], [0.5, \"#f7f7f7\"], [0.6, \"#e6f5d0\"], [0.7, \"#b8e186\"], [0.8, \"#7fbc41\"], [0.9, \"#4d9221\"], [1, \"#276419\"]], \"sequential\": [[0.0, \"#0d0887\"], [0.1111111111111111, \"#46039f\"], [0.2222222222222222, \"#7201a8\"], [0.3333333333333333, \"#9c179e\"], [0.4444444444444444, \"#bd3786\"], [0.5555555555555556, \"#d8576b\"], [0.6666666666666666, \"#ed7953\"], [0.7777777777777778, \"#fb9f3a\"], [0.8888888888888888, \"#fdca26\"], [1.0, \"#f0f921\"]], \"sequentialminus\": [[0.0, \"#0d0887\"], [0.1111111111111111, \"#46039f\"], [0.2222222222222222, \"#7201a8\"], [0.3333333333333333, \"#9c179e\"], [0.4444444444444444, \"#bd3786\"], [0.5555555555555556, \"#d8576b\"], [0.6666666666666666, \"#ed7953\"], [0.7777777777777778, \"#fb9f3a\"], [0.8888888888888888, \"#fdca26\"], [1.0, \"#f0f921\"]]}, \"colorway\": [\"#636efa\", \"#EF553B\", \"#00cc96\", \"#ab63fa\", \"#FFA15A\", \"#19d3f3\", \"#FF6692\", \"#B6E880\", \"#FF97FF\", \"#FECB52\"], \"font\": {\"color\": \"#2a3f5f\"}, \"geo\": {\"bgcolor\": \"white\", \"lakecolor\": \"white\", \"landcolor\": \"#E5ECF6\", \"showlakes\": true, \"showland\": true, \"subunitcolor\": \"white\"}, \"hoverlabel\": {\"align\": \"left\"}, \"hovermode\": \"closest\", \"mapbox\": {\"style\": \"light\"}, \"paper_bgcolor\": \"white\", \"plot_bgcolor\": \"#E5ECF6\", \"polar\": {\"angularaxis\": {\"gridcolor\": \"white\", \"linecolor\": \"white\", \"ticks\": \"\"}, \"bgcolor\": \"#E5ECF6\", \"radialaxis\": {\"gridcolor\": \"white\", \"linecolor\": \"white\", \"ticks\": \"\"}}, \"scene\": {\"xaxis\": {\"backgroundcolor\": \"#E5ECF6\", \"gridcolor\": \"white\", \"gridwidth\": 2, \"linecolor\": \"white\", \"showbackground\": true, \"ticks\": \"\", \"zerolinecolor\": \"white\"}, \"yaxis\": {\"backgroundcolor\": \"#E5ECF6\", \"gridcolor\": \"white\", \"gridwidth\": 2, \"linecolor\": \"white\", \"showbackground\": true, \"ticks\": \"\", \"zerolinecolor\": \"white\"}, \"zaxis\": {\"backgroundcolor\": \"#E5ECF6\", \"gridcolor\": \"white\", \"gridwidth\": 2, \"linecolor\": \"white\", \"showbackground\": true, \"ticks\": \"\", \"zerolinecolor\": \"white\"}}, \"shapedefaults\": {\"line\": {\"color\": \"#2a3f5f\"}}, \"ternary\": {\"aaxis\": {\"gridcolor\": \"white\", \"linecolor\": \"white\", \"ticks\": \"\"}, \"baxis\": {\"gridcolor\": \"white\", \"linecolor\": \"white\", \"ticks\": \"\"}, \"bgcolor\": \"#E5ECF6\", \"caxis\": {\"gridcolor\": \"white\", \"linecolor\": \"white\", \"ticks\": \"\"}}, \"title\": {\"x\": 0.05}, \"xaxis\": {\"automargin\": true, \"gridcolor\": \"white\", \"linecolor\": \"white\", \"ticks\": \"\", \"title\": {\"standoff\": 15}, \"zerolinecolor\": \"white\", \"zerolinewidth\": 2}, \"yaxis\": {\"automargin\": true, \"gridcolor\": \"white\", \"linecolor\": \"white\", \"ticks\": \"\", \"title\": {\"standoff\": 15}, \"zerolinecolor\": \"white\", \"zerolinewidth\": 2}}}, \"title\": {\"text\": \"Ratio of MVCC/Valid\"}, \"xaxis\": {\"anchor\": \"y\", \"domain\": [0.0, 1.0], \"title\": {\"text\": \"key\"}}, \"yaxis\": {\"anchor\": \"x\", \"domain\": [0.0, 1.0], \"title\": {\"text\": \"ratio\"}}},                        {\"responsive\": true}                    ).then(function(){\n",
       "                            \n",
       "var gd = document.getElementById('920f658f-3342-400d-b8ab-65bb490b14e0');\n",
       "var x = new MutationObserver(function (mutations, observer) {{\n",
       "        var display = window.getComputedStyle(gd).display;\n",
       "        if (!display || display === 'none') {{\n",
       "            console.log([gd, 'removed!']);\n",
       "            Plotly.purge(gd);\n",
       "            observer.disconnect();\n",
       "        }}\n",
       "}});\n",
       "\n",
       "// Listen for the removal of the full notebook cells\n",
       "var notebookContainer = gd.closest('#notebook-container');\n",
       "if (notebookContainer) {{\n",
       "    x.observe(notebookContainer, {childList: true});\n",
       "}}\n",
       "\n",
       "// Listen for the clearing of the current output cell\n",
       "var outputEl = gd.closest('.output');\n",
       "if (outputEl) {{\n",
       "    x.observe(outputEl, {childList: true});\n",
       "}}\n",
       "\n",
       "                        })                };                });            </script>        </div>"
      ]
     },
     "metadata": {},
     "output_type": "display_data"
    }
   ],
   "source": [
    "ratio = df.loc[~(df['validation_code'].isin(['ENDORSEMENT_POLICY_FAILURE']))]\n",
    "ratio = ratio.pivot_table(index=['key'], \n",
    "            columns=['validation_code'], values='0').fillna(0)\n",
    "ratio['ratio']=ratio['MVCC_READ_CONFLICT']/ratio['VALID']\n",
    "ratio = ratio.reset_index()\n",
    "# Step: Sort column(s) ratio descending (Z-A)\n",
    "ratio = ratio.sort_values(by=['ratio'], ascending=[False])\n",
    "ratio\n",
    "import plotly.express as px\n",
    "fig = px.bar(ratio, x='key', y='ratio',title='Ratio of MVCC/Valid')\n",
    "fig"
   ]
  },
  {
   "cell_type": "code",
   "execution_count": 12,
   "metadata": {},
   "outputs": [
    {
     "data": {
      "application/vnd.plotly.v1+json": {
       "config": {
        "plotlyServerURL": "https://plot.ly"
       },
       "data": [
        {
         "alignmentgroup": "True",
         "hovertemplate": "Key=%{x}<br>Ocurrence in transactions with MVCC=%{y}<extra></extra>",
         "legendgroup": "",
         "marker": {
          "color": "#636efa"
         },
         "name": "",
         "offsetgroup": "",
         "orientation": "v",
         "showlegend": false,
         "textposition": "auto",
         "type": "bar",
         "x": [
          "MFIOrgMSP",
          "A0x9f806eb85af2e8a00b22499966d450c277064343",
          "A0x1f16ec496f67770a95485ae817412e5e972fd3f0",
          "A0x0e085ccc6d804abdff0c704d8ce3e96dffbd1de8",
          "A0xeeafc639dc16596fac574e318803d799db8b8de4",
          "A0xe5c1dbc76b0962cf29ab5772fc1934d0bbb7ac68",
          "A0xc7fd85a482959b8c56958cd91b127a45171c19b7",
          "A0x7d2a87e3714922a0c52ba0096ccb501d9585a492",
          "A0xc887549295bda98cb91a41cef27fab706d7eea03",
          "A0x213ce06a3580d126d87978ac72f345ee6072053e",
          "A0x4516106aa231922658ff2834ca1fb39ceeddf88a",
          "A0x5c0bcd3688421889c39dde697542cdf40fdd932f",
          "A0xb7c027e32b5dcfa44ed481dcadf41778b8f24cdc",
          "A0x3fe329340ead5fff587252304fa012fb43521517",
          "A0xd1c0b781fb4e33c936a1b9c82c34ad67bf060e61",
          "A0xd35b6a327d9616ea49b8aafeeab5deb02079d6e4",
          "A0xb095fb897149b08a1b29a6ca74bb66f55d30d6f2",
          "A0x31eee26fc04f2d260892874d2d7b2f8aac47c40e",
          "A0x2d84a437082721461ed4c1cf0c2a19939e7f0059",
          "A0x2d2a95d499911f247203a859aa91be50bf8d2ae1",
          "A0x2b1f1adeb10645efa1a7cb26306bfa57117d2266",
          "A0xc4e76b8e93569ed1cbc702635a4e04aa036bdd4f",
          "A0x67d8589793e9155932f9087ff4f03f6c76528254",
          "A0x124352fad855e20416ceb3df50ceb6084a0fbd72",
          "A0x68415af95b8e704c70a236deb07a47418aa2aa58",
          "A0xea4e09f9c8778403edf3c79a8225b298acfdbb1d",
          "A0x9349aa6c6e72fe86a83e72e15fd1c9c4dd2987b3",
          "A0x8cc1b870aa785254f0aace6e8b71160ec1e72a16",
          "A0x664f1d0b98f077ffa74e5ddd798bfc6f1fc437d3",
          "A0xb96484250607bf42c7841e056dd333a4f90b8dcc",
          "A0x6bbbb02aca0851cef054ed1f73c2fa84ba52b1d1",
          "A0x6a3e4dacd4be636738bdd385b19068500dbed4d3",
          "A0x75b595abe8093f097d826f3ecf5484a9163e892c",
          "A0xcfb9ea2f484399e68e99fed4bce1c2da0ece92e1",
          "A0xd13cb0faf2fed2d27e485075a8e1ef96f2bf249f",
          "A0x945f1fdf01a6127ffac0af4773e61e68955017c4",
          "A0x3796818941c68e5888da14b3cacd342bd6e4cefd",
          "A0xc5fa7e4f4caa5bfb8315350ba663bf0d329b5065",
          "A0xbe70d4544b35e435b8ee1aa24dc6f0271b12ccd3",
          "A0xbf45b32208988a2a02f9a4e0989c7fd6b121130f",
          "A0x1b1502a4b725b307aa6d2dad6604d1c631e2d24a",
          "A0x1b57a9193495d6cc3355d652c5c1397565b2ec38",
          "A0xd8958a9716cd74062b89c36b5f13abd89a4a502b",
          "A0x73ba416ebcb00a81a9f94beb3995d8d257eb3c1c",
          "A0x297be78d71173f473e793dc4dc228a0082ce7b2c",
          "A0xbf65a1d1c1f56e6507bd847ba7aced70ecce0cda",
          "A0xe007eff5481ec0cd4ae5a5b71196d8cf8983bd87",
          "A0xe040280fb103744f6b26c15a68fb193040743fc1",
          "A0x9d32eae47d32b52a161c3eec8c92fa8021fbe15d",
          "A0xbca9fbdcc84ff2ddde35f1992b4448c7ecb2e619",
          "A0xbca33cc14108595949f856b4fd307bbcf2e29f7b",
          "A0xaca9a990390f22f73b04132cac6d6afdc494279f",
          "A0xb7e8d8cff92adaa5e568c88cdd80196e070bc1f3",
          "A0xb58bcd432d285b0b62c61b3cc651e3651241fad1",
          "A0xab787dc6bb494bb1159b52705b18b90c46752be5",
          "A0xa8bfc75daf5989f7da100025b60554838aa72409",
          "A0xa8a8885e7bc2c575139380f3d5d707b8e20e7574",
          "A0xa786797e0adb67871dd6b6cfbded649a20c14739",
          "A0xa715e36063182c9854123f9c649e75059be2d8aa",
          "A0xa42fb67f20cb24e175b0c1c060738305856710fa",
          "A0xa3be17a089d05578b82ceb0f61b01570855c71c6",
          "A0xa1892bdfeee38914bab98c74f730600b6c1d7b7d",
          "A0xa10e856fff434c6290b0507514b57908b79c75fc",
          "A0xa0c5af67f246d7bda1da64948abc5f1cfa8d0787",
          "A0x9f983750d09650afe3822dea047b96f97065915a",
          "A0xbd98dcdb4c33c360a1ad056243f8483f93144619",
          "A0x0c20d5d370b869dd728b1092d99367262cde9c77",
          "A0xbf0ec4d5b5ff3d7d789824238590b030cbf11ef9",
          "A0xc4267c3d2a5ae47ad329633438c20f1c73a7c849",
          "A0xfde9aea364294c9da1697471df052c7adc377dfe",
          "A0xfa3d15572db66b98bfb29c0ccbefd04db1a6abe8",
          "A0xfa3a79bfec22aa4debaf8d03b90f84546b4c1f63",
          "A0xf6bd3b92489777c0ae41adb868e5624df65bd1ab",
          "A0x04b0451cfa41b61975d8f02d92fe49805ae51aa1",
          "A0xeae39848c40aecc6abd11cd88e0a7c020ce8666a",
          "A0xea8d69bd2fb64968cdb05238fbbdeb918c62f6a4",
          "A0x04d2f242952d9bb815fba44a0af38d6bef96d555",
          "A0xe289c8674f7788abbcf2d2f5775ba96cf73cf8bd",
          "A0xdf229c482d3ba4930a2ad72bfe864a80d6007819",
          "A0xdd2b9ecf1a0a41ea9ef3d5201051759b9ef6f257",
          "A0xdbad20e48e5d7ea50dc78fd33b2457f9e7aa941b",
          "A0xd8526a276ecb901685865a0bab5b222608a1849a",
          "A0xd72b576e6c42e2b9f20feb1097b8d413a01cddb9",
          "A0xd4a0760f2abc986554915a08a0e12a46e14b655e",
          "A0xd48e13ada40330ca515a3648bc1bff2e7eb9af49",
          "A0xce6862563d7fe971e77a0f798e176d2d471c4c0c",
          "A0xcd6891ea7ea976689e0ab33ce1dee20d51708ebb",
          "A0xcd032b158e95e01d6938e4c45fca9a116d1069c6",
          "A0xcc0ed3a331cea379c0a43ca7783507bc726ec016",
          "A0x0609bf26af445f294a6aae69cb3cc075a2e68707",
          "A0xc6770aae5b9565ddd942253126365e0da725f048",
          "A0xc5ca9702ea21eeaef22abe6e5c98ce27fe0890fb",
          "A0x08933d8ee8e4e562a9ed3ca42d4e6e9bd255fe3d",
          "A0x831e364c22b5f20e7be3aaf48d60e965da067472",
          "A0x9c17ce07fe0f3969ac12cb0784d426f64b98b0b2",
          "A0x53978e41fb14e4963ab6f15fe641374c76c66b08",
          "A0x41d886eda61871b64c0f46042016c15115c4558a",
          "A0x4147644a2ee313152ed302b5b668fe4e6a41e802",
          "A0x3dcaa3605aa8d30d2b434ead05ea4653b29b50b9",
          "A0x3c66165a873e24f5348b8b8ea0fb499d88f3d3c8",
          "A0x3ae053323c103b1c7aff9fe8c75b6a7e0126b8aa",
          "A0x399860889955c6573619a57a138eabe4155b0a63",
          "A0x3830650ef4e52b6a58a830fb1efee3b2e3e8ad8d",
          "A0x34c23638fdbf18bb4e973cb3d6d3b55b2cd42b95",
          "A0x34bdb0cd02062d27365ab4d56f2332e405a572ae",
          "A0x327d476ee7192cf54ff457c9f3a990994a4876d1",
          "A0x2fd59c2f49772c4e9ef42a7491290ff3037253d1",
          "A0x2ab90eb5b986904c465e7cfee8d54f15dc6458e3",
          "A0x2aafabaa6b764dda5c1b567918d3b621b4bef34a",
          "A0x29ae2d92c17e2324aeb20aa9ddf6fcc788739099",
          "A0x291c06a0cb6af5a67a057749efe04d5c619349e5",
          "A0x27d64af4c23870c5a421f6da0b3869c9a9cb482c",
          "A0x27c3679ec8674e87a44e5e453b069b81e60fc136",
          "A0x0a0b5c4e689b4f2ac909d83e9ddf8838eadbed4d",
          "A0x1dc865311ccd631646abf3160e832a5e106aea40",
          "A0x1d81ebc3c2b351dad2473a00c54d218ece20ca0d",
          "A0x19d4773547082d233c8baadc23d38548a8a0a05e",
          "A0x18ee7b93cda2e269952ea7365492d0d42604bb2d",
          "A0x18debee65be9cadb3b3e9fb08c83b94557e00edb",
          "A0x1806efe37becc930700028e73e654f8b51078fd0",
          "A0x13aefaeee20d6dc6b57c819ca25fc57dd156fc18",
          "A0x1309ca5daf888fc4ebc4204895e2d65b8e4dc775",
          "A0x12488da5c23a2382c2c5671590b23bcc2360123b",
          "A0x427e1d84fd7b89e8faeefa9d8d8fc459496a7e53",
          "A0x547ff01418ac59609ced50067c67f091f0fcd19b",
          "A0x97f26e31acc1bf35cd8706f87c6b70a11eb2ce50",
          "A0x5d4ef8a4196f27a81d1b1a471998e6f14daae07e",
          "A0x979bfa220d2ae311d3e7fae200f387abdfcbf8de",
          "A0x9479bb1b65b5ec578fe970c45d0ca82ecef427bd",
          "A0x924d8ac1f0673994ad95e27afa3288635a3ed2e5",
          "A0x8d9b5dd881b373f1eb9f9bcd4f1c892c9c9c7d9d",
          "A0x8c23dd5326261def14aa29eab9085de810f68301",
          "A0x8a04864db111d27aade3a955b06d4babfc312ec6",
          "A0x11bff0a264952798dca922bd47ad4b481d116621",
          "A0x7dd01d254074db8e926e4f0c6d6ba8b4f6c7c809",
          "A0x7da7b51c8ff0551ee6f80b4b29c80708ea30871a",
          "A0x7d3449ec07b776ec75c4ebca96f41a59d7da5881",
          "A0x032e378b8adfea64782e895294879ae9c626a70b",
          "A0x7c8c1f9081244c7d3835f162a61dad68a3f5c247",
          "A0x7bc741576c17970a309df156d73978ccd1aa45f0",
          "A0x7a671755d21b5fb4e2bdca61be8cda8a0482363c",
          "A0x7a5d41ce24afc33459ad9600bcf6ae586636d8b9",
          "A0x7690a5351bb887949b0d676ad4fb03a096caf8a9",
          "A0x7629a88b72c521e860b9abfddd38a16631ddc170",
          "A0x74aa18b2ac25287356e55a05cf536a6e90cb2d5c",
          "A0x7050849edd9ae8631d0984c9f6beaedcca505175",
          "A0x6d631080e8daef28463e6b5c4c125a6df03bf1e5",
          "A0x6bf52ef2502c4fb4aaf41b5cd1df640208738fe9",
          "A0x666f4569c5a215ce4891e5e8cc5b61ce7a22415d",
          "A0x650a1cbda525a273b84d42ee578f479c849f7e32",
          "A0x6348c71de25feaa41227fc9e2ba3a84be0bb7117",
          "A0x62b4671d570d83103ab964d9071a273a5d001fee",
          "A0x61dfc7ad6d199d395d5dc74bf0f393006005789d",
          "A0x618621c24c42e6a138f7db0a82dad2a152e5f8c9",
          "A0x02e778a99dadc6a96658957ab44af0ff300792d6"
         ],
         "xaxis": "x",
         "y": [
          190,
          12,
          10,
          8,
          8,
          8,
          8,
          8,
          6,
          6,
          6,
          6,
          6,
          6,
          6,
          6,
          6,
          6,
          6,
          6,
          6,
          6,
          6,
          6,
          6,
          6,
          6,
          6,
          4,
          4,
          4,
          4,
          4,
          4,
          4,
          4,
          4,
          4,
          4,
          4,
          4,
          4,
          4,
          4,
          4,
          4,
          4,
          4,
          4,
          2,
          2,
          2,
          2,
          2,
          2,
          2,
          2,
          2,
          2,
          2,
          2,
          2,
          2,
          2,
          2,
          2,
          2,
          2,
          2,
          2,
          2,
          2,
          2,
          2,
          2,
          2,
          2,
          2,
          2,
          2,
          2,
          2,
          2,
          2,
          2,
          2,
          2,
          2,
          2,
          2,
          2,
          2,
          2,
          2,
          2,
          2,
          2,
          2,
          2,
          2,
          2,
          2,
          2,
          2,
          2,
          2,
          2,
          2,
          2,
          2,
          2,
          2,
          2,
          2,
          2,
          2,
          2,
          2,
          2,
          2,
          2,
          2,
          2,
          2,
          2,
          2,
          2,
          2,
          2,
          2,
          2,
          2,
          2,
          2,
          2,
          2,
          2,
          2,
          2,
          2,
          2,
          2,
          2,
          2,
          2,
          2,
          2,
          2,
          2,
          2,
          2,
          2,
          2,
          2,
          2
         ],
         "yaxis": "y"
        }
       ],
       "layout": {
        "barmode": "relative",
        "legend": {
         "tracegroupgap": 0
        },
        "margin": {
         "t": 60
        },
        "template": {
         "data": {
          "bar": [
           {
            "error_x": {
             "color": "#2a3f5f"
            },
            "error_y": {
             "color": "#2a3f5f"
            },
            "marker": {
             "line": {
              "color": "#E5ECF6",
              "width": 0.5
             }
            },
            "type": "bar"
           }
          ],
          "barpolar": [
           {
            "marker": {
             "line": {
              "color": "#E5ECF6",
              "width": 0.5
             }
            },
            "type": "barpolar"
           }
          ],
          "carpet": [
           {
            "aaxis": {
             "endlinecolor": "#2a3f5f",
             "gridcolor": "white",
             "linecolor": "white",
             "minorgridcolor": "white",
             "startlinecolor": "#2a3f5f"
            },
            "baxis": {
             "endlinecolor": "#2a3f5f",
             "gridcolor": "white",
             "linecolor": "white",
             "minorgridcolor": "white",
             "startlinecolor": "#2a3f5f"
            },
            "type": "carpet"
           }
          ],
          "choropleth": [
           {
            "colorbar": {
             "outlinewidth": 0,
             "ticks": ""
            },
            "type": "choropleth"
           }
          ],
          "contour": [
           {
            "colorbar": {
             "outlinewidth": 0,
             "ticks": ""
            },
            "colorscale": [
             [
              0,
              "#0d0887"
             ],
             [
              0.1111111111111111,
              "#46039f"
             ],
             [
              0.2222222222222222,
              "#7201a8"
             ],
             [
              0.3333333333333333,
              "#9c179e"
             ],
             [
              0.4444444444444444,
              "#bd3786"
             ],
             [
              0.5555555555555556,
              "#d8576b"
             ],
             [
              0.6666666666666666,
              "#ed7953"
             ],
             [
              0.7777777777777778,
              "#fb9f3a"
             ],
             [
              0.8888888888888888,
              "#fdca26"
             ],
             [
              1,
              "#f0f921"
             ]
            ],
            "type": "contour"
           }
          ],
          "contourcarpet": [
           {
            "colorbar": {
             "outlinewidth": 0,
             "ticks": ""
            },
            "type": "contourcarpet"
           }
          ],
          "heatmap": [
           {
            "colorbar": {
             "outlinewidth": 0,
             "ticks": ""
            },
            "colorscale": [
             [
              0,
              "#0d0887"
             ],
             [
              0.1111111111111111,
              "#46039f"
             ],
             [
              0.2222222222222222,
              "#7201a8"
             ],
             [
              0.3333333333333333,
              "#9c179e"
             ],
             [
              0.4444444444444444,
              "#bd3786"
             ],
             [
              0.5555555555555556,
              "#d8576b"
             ],
             [
              0.6666666666666666,
              "#ed7953"
             ],
             [
              0.7777777777777778,
              "#fb9f3a"
             ],
             [
              0.8888888888888888,
              "#fdca26"
             ],
             [
              1,
              "#f0f921"
             ]
            ],
            "type": "heatmap"
           }
          ],
          "heatmapgl": [
           {
            "colorbar": {
             "outlinewidth": 0,
             "ticks": ""
            },
            "colorscale": [
             [
              0,
              "#0d0887"
             ],
             [
              0.1111111111111111,
              "#46039f"
             ],
             [
              0.2222222222222222,
              "#7201a8"
             ],
             [
              0.3333333333333333,
              "#9c179e"
             ],
             [
              0.4444444444444444,
              "#bd3786"
             ],
             [
              0.5555555555555556,
              "#d8576b"
             ],
             [
              0.6666666666666666,
              "#ed7953"
             ],
             [
              0.7777777777777778,
              "#fb9f3a"
             ],
             [
              0.8888888888888888,
              "#fdca26"
             ],
             [
              1,
              "#f0f921"
             ]
            ],
            "type": "heatmapgl"
           }
          ],
          "histogram": [
           {
            "marker": {
             "colorbar": {
              "outlinewidth": 0,
              "ticks": ""
             }
            },
            "type": "histogram"
           }
          ],
          "histogram2d": [
           {
            "colorbar": {
             "outlinewidth": 0,
             "ticks": ""
            },
            "colorscale": [
             [
              0,
              "#0d0887"
             ],
             [
              0.1111111111111111,
              "#46039f"
             ],
             [
              0.2222222222222222,
              "#7201a8"
             ],
             [
              0.3333333333333333,
              "#9c179e"
             ],
             [
              0.4444444444444444,
              "#bd3786"
             ],
             [
              0.5555555555555556,
              "#d8576b"
             ],
             [
              0.6666666666666666,
              "#ed7953"
             ],
             [
              0.7777777777777778,
              "#fb9f3a"
             ],
             [
              0.8888888888888888,
              "#fdca26"
             ],
             [
              1,
              "#f0f921"
             ]
            ],
            "type": "histogram2d"
           }
          ],
          "histogram2dcontour": [
           {
            "colorbar": {
             "outlinewidth": 0,
             "ticks": ""
            },
            "colorscale": [
             [
              0,
              "#0d0887"
             ],
             [
              0.1111111111111111,
              "#46039f"
             ],
             [
              0.2222222222222222,
              "#7201a8"
             ],
             [
              0.3333333333333333,
              "#9c179e"
             ],
             [
              0.4444444444444444,
              "#bd3786"
             ],
             [
              0.5555555555555556,
              "#d8576b"
             ],
             [
              0.6666666666666666,
              "#ed7953"
             ],
             [
              0.7777777777777778,
              "#fb9f3a"
             ],
             [
              0.8888888888888888,
              "#fdca26"
             ],
             [
              1,
              "#f0f921"
             ]
            ],
            "type": "histogram2dcontour"
           }
          ],
          "mesh3d": [
           {
            "colorbar": {
             "outlinewidth": 0,
             "ticks": ""
            },
            "type": "mesh3d"
           }
          ],
          "parcoords": [
           {
            "line": {
             "colorbar": {
              "outlinewidth": 0,
              "ticks": ""
             }
            },
            "type": "parcoords"
           }
          ],
          "pie": [
           {
            "automargin": true,
            "type": "pie"
           }
          ],
          "scatter": [
           {
            "marker": {
             "colorbar": {
              "outlinewidth": 0,
              "ticks": ""
             }
            },
            "type": "scatter"
           }
          ],
          "scatter3d": [
           {
            "line": {
             "colorbar": {
              "outlinewidth": 0,
              "ticks": ""
             }
            },
            "marker": {
             "colorbar": {
              "outlinewidth": 0,
              "ticks": ""
             }
            },
            "type": "scatter3d"
           }
          ],
          "scattercarpet": [
           {
            "marker": {
             "colorbar": {
              "outlinewidth": 0,
              "ticks": ""
             }
            },
            "type": "scattercarpet"
           }
          ],
          "scattergeo": [
           {
            "marker": {
             "colorbar": {
              "outlinewidth": 0,
              "ticks": ""
             }
            },
            "type": "scattergeo"
           }
          ],
          "scattergl": [
           {
            "marker": {
             "colorbar": {
              "outlinewidth": 0,
              "ticks": ""
             }
            },
            "type": "scattergl"
           }
          ],
          "scattermapbox": [
           {
            "marker": {
             "colorbar": {
              "outlinewidth": 0,
              "ticks": ""
             }
            },
            "type": "scattermapbox"
           }
          ],
          "scatterpolar": [
           {
            "marker": {
             "colorbar": {
              "outlinewidth": 0,
              "ticks": ""
             }
            },
            "type": "scatterpolar"
           }
          ],
          "scatterpolargl": [
           {
            "marker": {
             "colorbar": {
              "outlinewidth": 0,
              "ticks": ""
             }
            },
            "type": "scatterpolargl"
           }
          ],
          "scatterternary": [
           {
            "marker": {
             "colorbar": {
              "outlinewidth": 0,
              "ticks": ""
             }
            },
            "type": "scatterternary"
           }
          ],
          "surface": [
           {
            "colorbar": {
             "outlinewidth": 0,
             "ticks": ""
            },
            "colorscale": [
             [
              0,
              "#0d0887"
             ],
             [
              0.1111111111111111,
              "#46039f"
             ],
             [
              0.2222222222222222,
              "#7201a8"
             ],
             [
              0.3333333333333333,
              "#9c179e"
             ],
             [
              0.4444444444444444,
              "#bd3786"
             ],
             [
              0.5555555555555556,
              "#d8576b"
             ],
             [
              0.6666666666666666,
              "#ed7953"
             ],
             [
              0.7777777777777778,
              "#fb9f3a"
             ],
             [
              0.8888888888888888,
              "#fdca26"
             ],
             [
              1,
              "#f0f921"
             ]
            ],
            "type": "surface"
           }
          ],
          "table": [
           {
            "cells": {
             "fill": {
              "color": "#EBF0F8"
             },
             "line": {
              "color": "white"
             }
            },
            "header": {
             "fill": {
              "color": "#C8D4E3"
             },
             "line": {
              "color": "white"
             }
            },
            "type": "table"
           }
          ]
         },
         "layout": {
          "annotationdefaults": {
           "arrowcolor": "#2a3f5f",
           "arrowhead": 0,
           "arrowwidth": 1
          },
          "autotypenumbers": "strict",
          "coloraxis": {
           "colorbar": {
            "outlinewidth": 0,
            "ticks": ""
           }
          },
          "colorscale": {
           "diverging": [
            [
             0,
             "#8e0152"
            ],
            [
             0.1,
             "#c51b7d"
            ],
            [
             0.2,
             "#de77ae"
            ],
            [
             0.3,
             "#f1b6da"
            ],
            [
             0.4,
             "#fde0ef"
            ],
            [
             0.5,
             "#f7f7f7"
            ],
            [
             0.6,
             "#e6f5d0"
            ],
            [
             0.7,
             "#b8e186"
            ],
            [
             0.8,
             "#7fbc41"
            ],
            [
             0.9,
             "#4d9221"
            ],
            [
             1,
             "#276419"
            ]
           ],
           "sequential": [
            [
             0,
             "#0d0887"
            ],
            [
             0.1111111111111111,
             "#46039f"
            ],
            [
             0.2222222222222222,
             "#7201a8"
            ],
            [
             0.3333333333333333,
             "#9c179e"
            ],
            [
             0.4444444444444444,
             "#bd3786"
            ],
            [
             0.5555555555555556,
             "#d8576b"
            ],
            [
             0.6666666666666666,
             "#ed7953"
            ],
            [
             0.7777777777777778,
             "#fb9f3a"
            ],
            [
             0.8888888888888888,
             "#fdca26"
            ],
            [
             1,
             "#f0f921"
            ]
           ],
           "sequentialminus": [
            [
             0,
             "#0d0887"
            ],
            [
             0.1111111111111111,
             "#46039f"
            ],
            [
             0.2222222222222222,
             "#7201a8"
            ],
            [
             0.3333333333333333,
             "#9c179e"
            ],
            [
             0.4444444444444444,
             "#bd3786"
            ],
            [
             0.5555555555555556,
             "#d8576b"
            ],
            [
             0.6666666666666666,
             "#ed7953"
            ],
            [
             0.7777777777777778,
             "#fb9f3a"
            ],
            [
             0.8888888888888888,
             "#fdca26"
            ],
            [
             1,
             "#f0f921"
            ]
           ]
          },
          "colorway": [
           "#636efa",
           "#EF553B",
           "#00cc96",
           "#ab63fa",
           "#FFA15A",
           "#19d3f3",
           "#FF6692",
           "#B6E880",
           "#FF97FF",
           "#FECB52"
          ],
          "font": {
           "color": "#2a3f5f"
          },
          "geo": {
           "bgcolor": "white",
           "lakecolor": "white",
           "landcolor": "#E5ECF6",
           "showlakes": true,
           "showland": true,
           "subunitcolor": "white"
          },
          "hoverlabel": {
           "align": "left"
          },
          "hovermode": "closest",
          "mapbox": {
           "style": "light"
          },
          "paper_bgcolor": "white",
          "plot_bgcolor": "#E5ECF6",
          "polar": {
           "angularaxis": {
            "gridcolor": "white",
            "linecolor": "white",
            "ticks": ""
           },
           "bgcolor": "#E5ECF6",
           "radialaxis": {
            "gridcolor": "white",
            "linecolor": "white",
            "ticks": ""
           }
          },
          "scene": {
           "xaxis": {
            "backgroundcolor": "#E5ECF6",
            "gridcolor": "white",
            "gridwidth": 2,
            "linecolor": "white",
            "showbackground": true,
            "ticks": "",
            "zerolinecolor": "white"
           },
           "yaxis": {
            "backgroundcolor": "#E5ECF6",
            "gridcolor": "white",
            "gridwidth": 2,
            "linecolor": "white",
            "showbackground": true,
            "ticks": "",
            "zerolinecolor": "white"
           },
           "zaxis": {
            "backgroundcolor": "#E5ECF6",
            "gridcolor": "white",
            "gridwidth": 2,
            "linecolor": "white",
            "showbackground": true,
            "ticks": "",
            "zerolinecolor": "white"
           }
          },
          "shapedefaults": {
           "line": {
            "color": "#2a3f5f"
           }
          },
          "ternary": {
           "aaxis": {
            "gridcolor": "white",
            "linecolor": "white",
            "ticks": ""
           },
           "baxis": {
            "gridcolor": "white",
            "linecolor": "white",
            "ticks": ""
           },
           "bgcolor": "#E5ECF6",
           "caxis": {
            "gridcolor": "white",
            "linecolor": "white",
            "ticks": ""
           }
          },
          "title": {
           "x": 0.05
          },
          "xaxis": {
           "automargin": true,
           "gridcolor": "white",
           "linecolor": "white",
           "ticks": "",
           "title": {
            "standoff": 15
           },
           "zerolinecolor": "white",
           "zerolinewidth": 2
          },
          "yaxis": {
           "automargin": true,
           "gridcolor": "white",
           "linecolor": "white",
           "ticks": "",
           "title": {
            "standoff": 15
           },
           "zerolinecolor": "white",
           "zerolinewidth": 2
          }
         }
        },
        "xaxis": {
         "anchor": "y",
         "domain": [
          0,
          1
         ],
         "title": {
          "text": "Key"
         }
        },
        "yaxis": {
         "anchor": "x",
         "domain": [
          0,
          1
         ],
         "title": {
          "text": "Ocurrence in transactions with MVCC"
         }
        }
       }
      },
      "text/html": [
       "<div>                            <div id=\"357eb910-0271-493e-97f2-5085d7a01c5e\" class=\"plotly-graph-div\" style=\"height:525px; width:100%;\"></div>            <script type=\"text/javascript\">                require([\"plotly\"], function(Plotly) {                    window.PLOTLYENV=window.PLOTLYENV || {};                                    if (document.getElementById(\"357eb910-0271-493e-97f2-5085d7a01c5e\")) {                    Plotly.newPlot(                        \"357eb910-0271-493e-97f2-5085d7a01c5e\",                        [{\"alignmentgroup\": \"True\", \"hovertemplate\": \"Key=%{x}<br>Ocurrence in transactions with MVCC=%{y}<extra></extra>\", \"legendgroup\": \"\", \"marker\": {\"color\": \"#636efa\"}, \"name\": \"\", \"offsetgroup\": \"\", \"orientation\": \"v\", \"showlegend\": false, \"textposition\": \"auto\", \"type\": \"bar\", \"x\": [\"MFIOrgMSP\", \"A0x9f806eb85af2e8a00b22499966d450c277064343\", \"A0x1f16ec496f67770a95485ae817412e5e972fd3f0\", \"A0x0e085ccc6d804abdff0c704d8ce3e96dffbd1de8\", \"A0xeeafc639dc16596fac574e318803d799db8b8de4\", \"A0xe5c1dbc76b0962cf29ab5772fc1934d0bbb7ac68\", \"A0xc7fd85a482959b8c56958cd91b127a45171c19b7\", \"A0x7d2a87e3714922a0c52ba0096ccb501d9585a492\", \"A0xc887549295bda98cb91a41cef27fab706d7eea03\", \"A0x213ce06a3580d126d87978ac72f345ee6072053e\", \"A0x4516106aa231922658ff2834ca1fb39ceeddf88a\", \"A0x5c0bcd3688421889c39dde697542cdf40fdd932f\", \"A0xb7c027e32b5dcfa44ed481dcadf41778b8f24cdc\", \"A0x3fe329340ead5fff587252304fa012fb43521517\", \"A0xd1c0b781fb4e33c936a1b9c82c34ad67bf060e61\", \"A0xd35b6a327d9616ea49b8aafeeab5deb02079d6e4\", \"A0xb095fb897149b08a1b29a6ca74bb66f55d30d6f2\", \"A0x31eee26fc04f2d260892874d2d7b2f8aac47c40e\", \"A0x2d84a437082721461ed4c1cf0c2a19939e7f0059\", \"A0x2d2a95d499911f247203a859aa91be50bf8d2ae1\", \"A0x2b1f1adeb10645efa1a7cb26306bfa57117d2266\", \"A0xc4e76b8e93569ed1cbc702635a4e04aa036bdd4f\", \"A0x67d8589793e9155932f9087ff4f03f6c76528254\", \"A0x124352fad855e20416ceb3df50ceb6084a0fbd72\", \"A0x68415af95b8e704c70a236deb07a47418aa2aa58\", \"A0xea4e09f9c8778403edf3c79a8225b298acfdbb1d\", \"A0x9349aa6c6e72fe86a83e72e15fd1c9c4dd2987b3\", \"A0x8cc1b870aa785254f0aace6e8b71160ec1e72a16\", \"A0x664f1d0b98f077ffa74e5ddd798bfc6f1fc437d3\", \"A0xb96484250607bf42c7841e056dd333a4f90b8dcc\", \"A0x6bbbb02aca0851cef054ed1f73c2fa84ba52b1d1\", \"A0x6a3e4dacd4be636738bdd385b19068500dbed4d3\", \"A0x75b595abe8093f097d826f3ecf5484a9163e892c\", \"A0xcfb9ea2f484399e68e99fed4bce1c2da0ece92e1\", \"A0xd13cb0faf2fed2d27e485075a8e1ef96f2bf249f\", \"A0x945f1fdf01a6127ffac0af4773e61e68955017c4\", \"A0x3796818941c68e5888da14b3cacd342bd6e4cefd\", \"A0xc5fa7e4f4caa5bfb8315350ba663bf0d329b5065\", \"A0xbe70d4544b35e435b8ee1aa24dc6f0271b12ccd3\", \"A0xbf45b32208988a2a02f9a4e0989c7fd6b121130f\", \"A0x1b1502a4b725b307aa6d2dad6604d1c631e2d24a\", \"A0x1b57a9193495d6cc3355d652c5c1397565b2ec38\", \"A0xd8958a9716cd74062b89c36b5f13abd89a4a502b\", \"A0x73ba416ebcb00a81a9f94beb3995d8d257eb3c1c\", \"A0x297be78d71173f473e793dc4dc228a0082ce7b2c\", \"A0xbf65a1d1c1f56e6507bd847ba7aced70ecce0cda\", \"A0xe007eff5481ec0cd4ae5a5b71196d8cf8983bd87\", \"A0xe040280fb103744f6b26c15a68fb193040743fc1\", \"A0x9d32eae47d32b52a161c3eec8c92fa8021fbe15d\", \"A0xbca9fbdcc84ff2ddde35f1992b4448c7ecb2e619\", \"A0xbca33cc14108595949f856b4fd307bbcf2e29f7b\", \"A0xaca9a990390f22f73b04132cac6d6afdc494279f\", \"A0xb7e8d8cff92adaa5e568c88cdd80196e070bc1f3\", \"A0xb58bcd432d285b0b62c61b3cc651e3651241fad1\", \"A0xab787dc6bb494bb1159b52705b18b90c46752be5\", \"A0xa8bfc75daf5989f7da100025b60554838aa72409\", \"A0xa8a8885e7bc2c575139380f3d5d707b8e20e7574\", \"A0xa786797e0adb67871dd6b6cfbded649a20c14739\", \"A0xa715e36063182c9854123f9c649e75059be2d8aa\", \"A0xa42fb67f20cb24e175b0c1c060738305856710fa\", \"A0xa3be17a089d05578b82ceb0f61b01570855c71c6\", \"A0xa1892bdfeee38914bab98c74f730600b6c1d7b7d\", \"A0xa10e856fff434c6290b0507514b57908b79c75fc\", \"A0xa0c5af67f246d7bda1da64948abc5f1cfa8d0787\", \"A0x9f983750d09650afe3822dea047b96f97065915a\", \"A0xbd98dcdb4c33c360a1ad056243f8483f93144619\", \"A0x0c20d5d370b869dd728b1092d99367262cde9c77\", \"A0xbf0ec4d5b5ff3d7d789824238590b030cbf11ef9\", \"A0xc4267c3d2a5ae47ad329633438c20f1c73a7c849\", \"A0xfde9aea364294c9da1697471df052c7adc377dfe\", \"A0xfa3d15572db66b98bfb29c0ccbefd04db1a6abe8\", \"A0xfa3a79bfec22aa4debaf8d03b90f84546b4c1f63\", \"A0xf6bd3b92489777c0ae41adb868e5624df65bd1ab\", \"A0x04b0451cfa41b61975d8f02d92fe49805ae51aa1\", \"A0xeae39848c40aecc6abd11cd88e0a7c020ce8666a\", \"A0xea8d69bd2fb64968cdb05238fbbdeb918c62f6a4\", \"A0x04d2f242952d9bb815fba44a0af38d6bef96d555\", \"A0xe289c8674f7788abbcf2d2f5775ba96cf73cf8bd\", \"A0xdf229c482d3ba4930a2ad72bfe864a80d6007819\", \"A0xdd2b9ecf1a0a41ea9ef3d5201051759b9ef6f257\", \"A0xdbad20e48e5d7ea50dc78fd33b2457f9e7aa941b\", \"A0xd8526a276ecb901685865a0bab5b222608a1849a\", \"A0xd72b576e6c42e2b9f20feb1097b8d413a01cddb9\", \"A0xd4a0760f2abc986554915a08a0e12a46e14b655e\", \"A0xd48e13ada40330ca515a3648bc1bff2e7eb9af49\", \"A0xce6862563d7fe971e77a0f798e176d2d471c4c0c\", \"A0xcd6891ea7ea976689e0ab33ce1dee20d51708ebb\", \"A0xcd032b158e95e01d6938e4c45fca9a116d1069c6\", \"A0xcc0ed3a331cea379c0a43ca7783507bc726ec016\", \"A0x0609bf26af445f294a6aae69cb3cc075a2e68707\", \"A0xc6770aae5b9565ddd942253126365e0da725f048\", \"A0xc5ca9702ea21eeaef22abe6e5c98ce27fe0890fb\", \"A0x08933d8ee8e4e562a9ed3ca42d4e6e9bd255fe3d\", \"A0x831e364c22b5f20e7be3aaf48d60e965da067472\", \"A0x9c17ce07fe0f3969ac12cb0784d426f64b98b0b2\", \"A0x53978e41fb14e4963ab6f15fe641374c76c66b08\", \"A0x41d886eda61871b64c0f46042016c15115c4558a\", \"A0x4147644a2ee313152ed302b5b668fe4e6a41e802\", \"A0x3dcaa3605aa8d30d2b434ead05ea4653b29b50b9\", \"A0x3c66165a873e24f5348b8b8ea0fb499d88f3d3c8\", \"A0x3ae053323c103b1c7aff9fe8c75b6a7e0126b8aa\", \"A0x399860889955c6573619a57a138eabe4155b0a63\", \"A0x3830650ef4e52b6a58a830fb1efee3b2e3e8ad8d\", \"A0x34c23638fdbf18bb4e973cb3d6d3b55b2cd42b95\", \"A0x34bdb0cd02062d27365ab4d56f2332e405a572ae\", \"A0x327d476ee7192cf54ff457c9f3a990994a4876d1\", \"A0x2fd59c2f49772c4e9ef42a7491290ff3037253d1\", \"A0x2ab90eb5b986904c465e7cfee8d54f15dc6458e3\", \"A0x2aafabaa6b764dda5c1b567918d3b621b4bef34a\", \"A0x29ae2d92c17e2324aeb20aa9ddf6fcc788739099\", \"A0x291c06a0cb6af5a67a057749efe04d5c619349e5\", \"A0x27d64af4c23870c5a421f6da0b3869c9a9cb482c\", \"A0x27c3679ec8674e87a44e5e453b069b81e60fc136\", \"A0x0a0b5c4e689b4f2ac909d83e9ddf8838eadbed4d\", \"A0x1dc865311ccd631646abf3160e832a5e106aea40\", \"A0x1d81ebc3c2b351dad2473a00c54d218ece20ca0d\", \"A0x19d4773547082d233c8baadc23d38548a8a0a05e\", \"A0x18ee7b93cda2e269952ea7365492d0d42604bb2d\", \"A0x18debee65be9cadb3b3e9fb08c83b94557e00edb\", \"A0x1806efe37becc930700028e73e654f8b51078fd0\", \"A0x13aefaeee20d6dc6b57c819ca25fc57dd156fc18\", \"A0x1309ca5daf888fc4ebc4204895e2d65b8e4dc775\", \"A0x12488da5c23a2382c2c5671590b23bcc2360123b\", \"A0x427e1d84fd7b89e8faeefa9d8d8fc459496a7e53\", \"A0x547ff01418ac59609ced50067c67f091f0fcd19b\", \"A0x97f26e31acc1bf35cd8706f87c6b70a11eb2ce50\", \"A0x5d4ef8a4196f27a81d1b1a471998e6f14daae07e\", \"A0x979bfa220d2ae311d3e7fae200f387abdfcbf8de\", \"A0x9479bb1b65b5ec578fe970c45d0ca82ecef427bd\", \"A0x924d8ac1f0673994ad95e27afa3288635a3ed2e5\", \"A0x8d9b5dd881b373f1eb9f9bcd4f1c892c9c9c7d9d\", \"A0x8c23dd5326261def14aa29eab9085de810f68301\", \"A0x8a04864db111d27aade3a955b06d4babfc312ec6\", \"A0x11bff0a264952798dca922bd47ad4b481d116621\", \"A0x7dd01d254074db8e926e4f0c6d6ba8b4f6c7c809\", \"A0x7da7b51c8ff0551ee6f80b4b29c80708ea30871a\", \"A0x7d3449ec07b776ec75c4ebca96f41a59d7da5881\", \"A0x032e378b8adfea64782e895294879ae9c626a70b\", \"A0x7c8c1f9081244c7d3835f162a61dad68a3f5c247\", \"A0x7bc741576c17970a309df156d73978ccd1aa45f0\", \"A0x7a671755d21b5fb4e2bdca61be8cda8a0482363c\", \"A0x7a5d41ce24afc33459ad9600bcf6ae586636d8b9\", \"A0x7690a5351bb887949b0d676ad4fb03a096caf8a9\", \"A0x7629a88b72c521e860b9abfddd38a16631ddc170\", \"A0x74aa18b2ac25287356e55a05cf536a6e90cb2d5c\", \"A0x7050849edd9ae8631d0984c9f6beaedcca505175\", \"A0x6d631080e8daef28463e6b5c4c125a6df03bf1e5\", \"A0x6bf52ef2502c4fb4aaf41b5cd1df640208738fe9\", \"A0x666f4569c5a215ce4891e5e8cc5b61ce7a22415d\", \"A0x650a1cbda525a273b84d42ee578f479c849f7e32\", \"A0x6348c71de25feaa41227fc9e2ba3a84be0bb7117\", \"A0x62b4671d570d83103ab964d9071a273a5d001fee\", \"A0x61dfc7ad6d199d395d5dc74bf0f393006005789d\", \"A0x618621c24c42e6a138f7db0a82dad2a152e5f8c9\", \"A0x02e778a99dadc6a96658957ab44af0ff300792d6\"], \"xaxis\": \"x\", \"y\": [190, 12, 10, 8, 8, 8, 8, 8, 6, 6, 6, 6, 6, 6, 6, 6, 6, 6, 6, 6, 6, 6, 6, 6, 6, 6, 6, 6, 4, 4, 4, 4, 4, 4, 4, 4, 4, 4, 4, 4, 4, 4, 4, 4, 4, 4, 4, 4, 4, 2, 2, 2, 2, 2, 2, 2, 2, 2, 2, 2, 2, 2, 2, 2, 2, 2, 2, 2, 2, 2, 2, 2, 2, 2, 2, 2, 2, 2, 2, 2, 2, 2, 2, 2, 2, 2, 2, 2, 2, 2, 2, 2, 2, 2, 2, 2, 2, 2, 2, 2, 2, 2, 2, 2, 2, 2, 2, 2, 2, 2, 2, 2, 2, 2, 2, 2, 2, 2, 2, 2, 2, 2, 2, 2, 2, 2, 2, 2, 2, 2, 2, 2, 2, 2, 2, 2, 2, 2, 2, 2, 2, 2, 2, 2, 2, 2, 2, 2, 2, 2, 2, 2, 2, 2, 2], \"yaxis\": \"y\"}],                        {\"barmode\": \"relative\", \"legend\": {\"tracegroupgap\": 0}, \"margin\": {\"t\": 60}, \"template\": {\"data\": {\"bar\": [{\"error_x\": {\"color\": \"#2a3f5f\"}, \"error_y\": {\"color\": \"#2a3f5f\"}, \"marker\": {\"line\": {\"color\": \"#E5ECF6\", \"width\": 0.5}}, \"type\": \"bar\"}], \"barpolar\": [{\"marker\": {\"line\": {\"color\": \"#E5ECF6\", \"width\": 0.5}}, \"type\": \"barpolar\"}], \"carpet\": [{\"aaxis\": {\"endlinecolor\": \"#2a3f5f\", \"gridcolor\": \"white\", \"linecolor\": \"white\", \"minorgridcolor\": \"white\", \"startlinecolor\": \"#2a3f5f\"}, \"baxis\": {\"endlinecolor\": \"#2a3f5f\", \"gridcolor\": \"white\", \"linecolor\": \"white\", \"minorgridcolor\": \"white\", \"startlinecolor\": \"#2a3f5f\"}, \"type\": \"carpet\"}], \"choropleth\": [{\"colorbar\": {\"outlinewidth\": 0, \"ticks\": \"\"}, \"type\": \"choropleth\"}], \"contour\": [{\"colorbar\": {\"outlinewidth\": 0, \"ticks\": \"\"}, \"colorscale\": [[0.0, \"#0d0887\"], [0.1111111111111111, \"#46039f\"], [0.2222222222222222, \"#7201a8\"], [0.3333333333333333, \"#9c179e\"], [0.4444444444444444, \"#bd3786\"], [0.5555555555555556, \"#d8576b\"], [0.6666666666666666, \"#ed7953\"], [0.7777777777777778, \"#fb9f3a\"], [0.8888888888888888, \"#fdca26\"], [1.0, \"#f0f921\"]], \"type\": \"contour\"}], \"contourcarpet\": [{\"colorbar\": {\"outlinewidth\": 0, \"ticks\": \"\"}, \"type\": \"contourcarpet\"}], \"heatmap\": [{\"colorbar\": {\"outlinewidth\": 0, \"ticks\": \"\"}, \"colorscale\": [[0.0, \"#0d0887\"], [0.1111111111111111, \"#46039f\"], [0.2222222222222222, \"#7201a8\"], [0.3333333333333333, \"#9c179e\"], [0.4444444444444444, \"#bd3786\"], [0.5555555555555556, \"#d8576b\"], [0.6666666666666666, \"#ed7953\"], [0.7777777777777778, \"#fb9f3a\"], [0.8888888888888888, \"#fdca26\"], [1.0, \"#f0f921\"]], \"type\": \"heatmap\"}], \"heatmapgl\": [{\"colorbar\": {\"outlinewidth\": 0, \"ticks\": \"\"}, \"colorscale\": [[0.0, \"#0d0887\"], [0.1111111111111111, \"#46039f\"], [0.2222222222222222, \"#7201a8\"], [0.3333333333333333, \"#9c179e\"], [0.4444444444444444, \"#bd3786\"], [0.5555555555555556, \"#d8576b\"], [0.6666666666666666, \"#ed7953\"], [0.7777777777777778, \"#fb9f3a\"], [0.8888888888888888, \"#fdca26\"], [1.0, \"#f0f921\"]], \"type\": \"heatmapgl\"}], \"histogram\": [{\"marker\": {\"colorbar\": {\"outlinewidth\": 0, \"ticks\": \"\"}}, \"type\": \"histogram\"}], \"histogram2d\": [{\"colorbar\": {\"outlinewidth\": 0, \"ticks\": \"\"}, \"colorscale\": [[0.0, \"#0d0887\"], [0.1111111111111111, \"#46039f\"], [0.2222222222222222, \"#7201a8\"], [0.3333333333333333, \"#9c179e\"], [0.4444444444444444, \"#bd3786\"], [0.5555555555555556, \"#d8576b\"], [0.6666666666666666, \"#ed7953\"], [0.7777777777777778, \"#fb9f3a\"], [0.8888888888888888, \"#fdca26\"], [1.0, \"#f0f921\"]], \"type\": \"histogram2d\"}], \"histogram2dcontour\": [{\"colorbar\": {\"outlinewidth\": 0, \"ticks\": \"\"}, \"colorscale\": [[0.0, \"#0d0887\"], [0.1111111111111111, \"#46039f\"], [0.2222222222222222, \"#7201a8\"], [0.3333333333333333, \"#9c179e\"], [0.4444444444444444, \"#bd3786\"], [0.5555555555555556, \"#d8576b\"], [0.6666666666666666, \"#ed7953\"], [0.7777777777777778, \"#fb9f3a\"], [0.8888888888888888, \"#fdca26\"], [1.0, \"#f0f921\"]], \"type\": \"histogram2dcontour\"}], \"mesh3d\": [{\"colorbar\": {\"outlinewidth\": 0, \"ticks\": \"\"}, \"type\": \"mesh3d\"}], \"parcoords\": [{\"line\": {\"colorbar\": {\"outlinewidth\": 0, \"ticks\": \"\"}}, \"type\": \"parcoords\"}], \"pie\": [{\"automargin\": true, \"type\": \"pie\"}], \"scatter\": [{\"marker\": {\"colorbar\": {\"outlinewidth\": 0, \"ticks\": \"\"}}, \"type\": \"scatter\"}], \"scatter3d\": [{\"line\": {\"colorbar\": {\"outlinewidth\": 0, \"ticks\": \"\"}}, \"marker\": {\"colorbar\": {\"outlinewidth\": 0, \"ticks\": \"\"}}, \"type\": \"scatter3d\"}], \"scattercarpet\": [{\"marker\": {\"colorbar\": {\"outlinewidth\": 0, \"ticks\": \"\"}}, \"type\": \"scattercarpet\"}], \"scattergeo\": [{\"marker\": {\"colorbar\": {\"outlinewidth\": 0, \"ticks\": \"\"}}, \"type\": \"scattergeo\"}], \"scattergl\": [{\"marker\": {\"colorbar\": {\"outlinewidth\": 0, \"ticks\": \"\"}}, \"type\": \"scattergl\"}], \"scattermapbox\": [{\"marker\": {\"colorbar\": {\"outlinewidth\": 0, \"ticks\": \"\"}}, \"type\": \"scattermapbox\"}], \"scatterpolar\": [{\"marker\": {\"colorbar\": {\"outlinewidth\": 0, \"ticks\": \"\"}}, \"type\": \"scatterpolar\"}], \"scatterpolargl\": [{\"marker\": {\"colorbar\": {\"outlinewidth\": 0, \"ticks\": \"\"}}, \"type\": \"scatterpolargl\"}], \"scatterternary\": [{\"marker\": {\"colorbar\": {\"outlinewidth\": 0, \"ticks\": \"\"}}, \"type\": \"scatterternary\"}], \"surface\": [{\"colorbar\": {\"outlinewidth\": 0, \"ticks\": \"\"}, \"colorscale\": [[0.0, \"#0d0887\"], [0.1111111111111111, \"#46039f\"], [0.2222222222222222, \"#7201a8\"], [0.3333333333333333, \"#9c179e\"], [0.4444444444444444, \"#bd3786\"], [0.5555555555555556, \"#d8576b\"], [0.6666666666666666, \"#ed7953\"], [0.7777777777777778, \"#fb9f3a\"], [0.8888888888888888, \"#fdca26\"], [1.0, \"#f0f921\"]], \"type\": \"surface\"}], \"table\": [{\"cells\": {\"fill\": {\"color\": \"#EBF0F8\"}, \"line\": {\"color\": \"white\"}}, \"header\": {\"fill\": {\"color\": \"#C8D4E3\"}, \"line\": {\"color\": \"white\"}}, \"type\": \"table\"}]}, \"layout\": {\"annotationdefaults\": {\"arrowcolor\": \"#2a3f5f\", \"arrowhead\": 0, \"arrowwidth\": 1}, \"autotypenumbers\": \"strict\", \"coloraxis\": {\"colorbar\": {\"outlinewidth\": 0, \"ticks\": \"\"}}, \"colorscale\": {\"diverging\": [[0, \"#8e0152\"], [0.1, \"#c51b7d\"], [0.2, \"#de77ae\"], [0.3, \"#f1b6da\"], [0.4, \"#fde0ef\"], [0.5, \"#f7f7f7\"], [0.6, \"#e6f5d0\"], [0.7, \"#b8e186\"], [0.8, \"#7fbc41\"], [0.9, \"#4d9221\"], [1, \"#276419\"]], \"sequential\": [[0.0, \"#0d0887\"], [0.1111111111111111, \"#46039f\"], [0.2222222222222222, \"#7201a8\"], [0.3333333333333333, \"#9c179e\"], [0.4444444444444444, \"#bd3786\"], [0.5555555555555556, \"#d8576b\"], [0.6666666666666666, \"#ed7953\"], [0.7777777777777778, \"#fb9f3a\"], [0.8888888888888888, \"#fdca26\"], [1.0, \"#f0f921\"]], \"sequentialminus\": [[0.0, \"#0d0887\"], [0.1111111111111111, \"#46039f\"], [0.2222222222222222, \"#7201a8\"], [0.3333333333333333, \"#9c179e\"], [0.4444444444444444, \"#bd3786\"], [0.5555555555555556, \"#d8576b\"], [0.6666666666666666, \"#ed7953\"], [0.7777777777777778, \"#fb9f3a\"], [0.8888888888888888, \"#fdca26\"], [1.0, \"#f0f921\"]]}, \"colorway\": [\"#636efa\", \"#EF553B\", \"#00cc96\", \"#ab63fa\", \"#FFA15A\", \"#19d3f3\", \"#FF6692\", \"#B6E880\", \"#FF97FF\", \"#FECB52\"], \"font\": {\"color\": \"#2a3f5f\"}, \"geo\": {\"bgcolor\": \"white\", \"lakecolor\": \"white\", \"landcolor\": \"#E5ECF6\", \"showlakes\": true, \"showland\": true, \"subunitcolor\": \"white\"}, \"hoverlabel\": {\"align\": \"left\"}, \"hovermode\": \"closest\", \"mapbox\": {\"style\": \"light\"}, \"paper_bgcolor\": \"white\", \"plot_bgcolor\": \"#E5ECF6\", \"polar\": {\"angularaxis\": {\"gridcolor\": \"white\", \"linecolor\": \"white\", \"ticks\": \"\"}, \"bgcolor\": \"#E5ECF6\", \"radialaxis\": {\"gridcolor\": \"white\", \"linecolor\": \"white\", \"ticks\": \"\"}}, \"scene\": {\"xaxis\": {\"backgroundcolor\": \"#E5ECF6\", \"gridcolor\": \"white\", \"gridwidth\": 2, \"linecolor\": \"white\", \"showbackground\": true, \"ticks\": \"\", \"zerolinecolor\": \"white\"}, \"yaxis\": {\"backgroundcolor\": \"#E5ECF6\", \"gridcolor\": \"white\", \"gridwidth\": 2, \"linecolor\": \"white\", \"showbackground\": true, \"ticks\": \"\", \"zerolinecolor\": \"white\"}, \"zaxis\": {\"backgroundcolor\": \"#E5ECF6\", \"gridcolor\": \"white\", \"gridwidth\": 2, \"linecolor\": \"white\", \"showbackground\": true, \"ticks\": \"\", \"zerolinecolor\": \"white\"}}, \"shapedefaults\": {\"line\": {\"color\": \"#2a3f5f\"}}, \"ternary\": {\"aaxis\": {\"gridcolor\": \"white\", \"linecolor\": \"white\", \"ticks\": \"\"}, \"baxis\": {\"gridcolor\": \"white\", \"linecolor\": \"white\", \"ticks\": \"\"}, \"bgcolor\": \"#E5ECF6\", \"caxis\": {\"gridcolor\": \"white\", \"linecolor\": \"white\", \"ticks\": \"\"}}, \"title\": {\"x\": 0.05}, \"xaxis\": {\"automargin\": true, \"gridcolor\": \"white\", \"linecolor\": \"white\", \"ticks\": \"\", \"title\": {\"standoff\": 15}, \"zerolinecolor\": \"white\", \"zerolinewidth\": 2}, \"yaxis\": {\"automargin\": true, \"gridcolor\": \"white\", \"linecolor\": \"white\", \"ticks\": \"\", \"title\": {\"standoff\": 15}, \"zerolinecolor\": \"white\", \"zerolinewidth\": 2}}}, \"xaxis\": {\"anchor\": \"y\", \"domain\": [0.0, 1.0], \"title\": {\"text\": \"Key\"}}, \"yaxis\": {\"anchor\": \"x\", \"domain\": [0.0, 1.0], \"title\": {\"text\": \"Ocurrence in transactions with MVCC\"}}},                        {\"responsive\": true}                    ).then(function(){\n",
       "                            \n",
       "var gd = document.getElementById('357eb910-0271-493e-97f2-5085d7a01c5e');\n",
       "var x = new MutationObserver(function (mutations, observer) {{\n",
       "        var display = window.getComputedStyle(gd).display;\n",
       "        if (!display || display === 'none') {{\n",
       "            console.log([gd, 'removed!']);\n",
       "            Plotly.purge(gd);\n",
       "            observer.disconnect();\n",
       "        }}\n",
       "}});\n",
       "\n",
       "// Listen for the removal of the full notebook cells\n",
       "var notebookContainer = gd.closest('#notebook-container');\n",
       "if (notebookContainer) {{\n",
       "    x.observe(notebookContainer, {childList: true});\n",
       "}}\n",
       "\n",
       "// Listen for the clearing of the current output cell\n",
       "var outputEl = gd.closest('.output');\n",
       "if (outputEl) {{\n",
       "    x.observe(outputEl, {childList: true});\n",
       "}}\n",
       "\n",
       "                        })                };                });            </script>        </div>"
      ]
     },
     "metadata": {},
     "output_type": "display_data"
    }
   ],
   "source": [
    "mvcc=txDfr[txDfr['validation_code']=='MVCC_READ_CONFLICT'].groupby(['key']).size()\n",
    "df = pd.DataFrame(mvcc)\n",
    "df = df.reset_index()\n",
    "df.columns = [str(column) for column in df.columns]\n",
    "df = df.sort_values(by=['0'], ascending=[False])\n",
    "labels={\"x\":\"Key\",\"y\":\"Ocurrence in transactions with MVCC\"}\n",
    "fig = px.bar(x=df['key'], y=df['0'], labels=labels)\n",
    "fig"
   ]
  },
  {
   "cell_type": "code",
   "execution_count": 13,
   "metadata": {},
   "outputs": [
    {
     "data": {
      "application/vnd.jupyter.widget-view+json": {
       "model_id": "8a15b91ef06f463191190c40c8438edb"
      },
      "text/plain": [
       "      txid  blockid  status creator_msp_id validation_code  \\\n",
       "396    208      105   200.0       FIOrgMSP           VALID   \n",
       "397    208      105   200.0       FIOrgMSP           VALID   \n",
       "398    208      105   200.0       FIOrgMSP           VALID   \n",
       "399    208      105   200.0       FIOrgMSP           VALID   \n",
       "402    209      106   200.0       FIOrgMSP           VALID   \n",
       "...    ...      ...     ...            ...             ...   \n",
       "2657   587      227   200.0       FIOrgMSP           VALID   \n",
       "2660   588      228   200.0       FIOrgMSP           VALID   \n",
       "2661   588      228   200.0       FIOrgMSP           VALID   \n",
       "2662   588      228   200.0       FIOrgMSP           VALID   \n",
       "2663   588      228   200.0       FIOrgMSP           VALID   \n",
       "\n",
       "                               chaincode_proposal_input chaincode  \\\n",
       "396   069074550697473,307837336261343136656263623030...      cbdc   \n",
       "397   069074550697473,307837336261343136656263623030...      cbdc   \n",
       "398   069074550697473,307837336261343136656263623030...      cbdc   \n",
       "399   069074550697473,307837336261343136656263623030...      cbdc   \n",
       "402   069074550697473,307862386532393731323334366163...      cbdc   \n",
       "...                                                 ...       ...   \n",
       "2657  747261073666572,307830653065386233306361353366...      cbdc   \n",
       "2660  747261073666572,307830653065386233306361353366...      cbdc   \n",
       "2661  747261073666572,307830653065386233306361353366...      cbdc   \n",
       "2662  747261073666572,307830653065386233306361353366...      cbdc   \n",
       "2663  747261073666572,307830653065386233306361353366...      cbdc   \n",
       "\n",
       "                                              key access_type  version_block  \\\n",
       "396   A0x73ba416ebcb00a81a9f94beb3995d8d257eb3c1c        READ            5.0   \n",
       "397                                     MFIOrgMSP        READ            8.0   \n",
       "398   A0x73ba416ebcb00a81a9f94beb3995d8d257eb3c1c        READ            5.0   \n",
       "399                                     MFIOrgMSP        READ            8.0   \n",
       "402   A0xb8e29712346ac4a2d8f44ea9c8008c3f4bf79831        READ            6.0   \n",
       "...                                           ...         ...            ...   \n",
       "2657  A0x3830650ef4e52b6a58a830fb1efee3b2e3e8ad8d        READ          214.0   \n",
       "2660  A0x0e0e8b30ca53fdb1a1b78d0d8e804088424078ea        READ          227.0   \n",
       "2661  A0x5fa7c7927b806090725841b9eafdea2238003460        READ          218.0   \n",
       "2662  A0x0e0e8b30ca53fdb1a1b78d0d8e804088424078ea        READ          227.0   \n",
       "2663  A0x5fa7c7927b806090725841b9eafdea2238003460        READ          218.0   \n",
       "\n",
       "      version_tx  \n",
       "396          0.0  \n",
       "397          1.0  \n",
       "398          0.0  \n",
       "399          1.0  \n",
       "402          0.0  \n",
       "...          ...  \n",
       "2657        19.0  \n",
       "2660         0.0  \n",
       "2661         9.0  \n",
       "2662         0.0  \n",
       "2663         9.0  \n",
       "\n",
       "[1508 rows x 11 columns]"
      ]
     },
     "metadata": {},
     "output_type": "display_data"
    }
   ],
   "source": [
    "txDfr"
   ]
  },
  {
   "cell_type": "code",
   "execution_count": 14,
   "metadata": {
    "scrolled": true
   },
   "outputs": [
    {
     "data": {
      "application/vnd.plotly.v1+json": {
       "config": {
        "plotlyServerURL": "https://plot.ly"
       },
       "data": [
        {
         "alignmentgroup": "True",
         "hovertemplate": "Chaincode=%{x}<br>Key reads=%{y}<extra></extra>",
         "legendgroup": "",
         "marker": {
          "color": "#636efa"
         },
         "name": "",
         "offsetgroup": "",
         "orientation": "v",
         "showlegend": false,
         "textposition": "auto",
         "type": "bar",
         "x": [
          "cbdc"
         ],
         "xaxis": "x",
         "y": [
          1508
         ],
         "yaxis": "y"
        }
       ],
       "layout": {
        "barmode": "relative",
        "legend": {
         "tracegroupgap": 0
        },
        "margin": {
         "t": 60
        },
        "template": {
         "data": {
          "bar": [
           {
            "error_x": {
             "color": "#2a3f5f"
            },
            "error_y": {
             "color": "#2a3f5f"
            },
            "marker": {
             "line": {
              "color": "#E5ECF6",
              "width": 0.5
             }
            },
            "type": "bar"
           }
          ],
          "barpolar": [
           {
            "marker": {
             "line": {
              "color": "#E5ECF6",
              "width": 0.5
             }
            },
            "type": "barpolar"
           }
          ],
          "carpet": [
           {
            "aaxis": {
             "endlinecolor": "#2a3f5f",
             "gridcolor": "white",
             "linecolor": "white",
             "minorgridcolor": "white",
             "startlinecolor": "#2a3f5f"
            },
            "baxis": {
             "endlinecolor": "#2a3f5f",
             "gridcolor": "white",
             "linecolor": "white",
             "minorgridcolor": "white",
             "startlinecolor": "#2a3f5f"
            },
            "type": "carpet"
           }
          ],
          "choropleth": [
           {
            "colorbar": {
             "outlinewidth": 0,
             "ticks": ""
            },
            "type": "choropleth"
           }
          ],
          "contour": [
           {
            "colorbar": {
             "outlinewidth": 0,
             "ticks": ""
            },
            "colorscale": [
             [
              0,
              "#0d0887"
             ],
             [
              0.1111111111111111,
              "#46039f"
             ],
             [
              0.2222222222222222,
              "#7201a8"
             ],
             [
              0.3333333333333333,
              "#9c179e"
             ],
             [
              0.4444444444444444,
              "#bd3786"
             ],
             [
              0.5555555555555556,
              "#d8576b"
             ],
             [
              0.6666666666666666,
              "#ed7953"
             ],
             [
              0.7777777777777778,
              "#fb9f3a"
             ],
             [
              0.8888888888888888,
              "#fdca26"
             ],
             [
              1,
              "#f0f921"
             ]
            ],
            "type": "contour"
           }
          ],
          "contourcarpet": [
           {
            "colorbar": {
             "outlinewidth": 0,
             "ticks": ""
            },
            "type": "contourcarpet"
           }
          ],
          "heatmap": [
           {
            "colorbar": {
             "outlinewidth": 0,
             "ticks": ""
            },
            "colorscale": [
             [
              0,
              "#0d0887"
             ],
             [
              0.1111111111111111,
              "#46039f"
             ],
             [
              0.2222222222222222,
              "#7201a8"
             ],
             [
              0.3333333333333333,
              "#9c179e"
             ],
             [
              0.4444444444444444,
              "#bd3786"
             ],
             [
              0.5555555555555556,
              "#d8576b"
             ],
             [
              0.6666666666666666,
              "#ed7953"
             ],
             [
              0.7777777777777778,
              "#fb9f3a"
             ],
             [
              0.8888888888888888,
              "#fdca26"
             ],
             [
              1,
              "#f0f921"
             ]
            ],
            "type": "heatmap"
           }
          ],
          "heatmapgl": [
           {
            "colorbar": {
             "outlinewidth": 0,
             "ticks": ""
            },
            "colorscale": [
             [
              0,
              "#0d0887"
             ],
             [
              0.1111111111111111,
              "#46039f"
             ],
             [
              0.2222222222222222,
              "#7201a8"
             ],
             [
              0.3333333333333333,
              "#9c179e"
             ],
             [
              0.4444444444444444,
              "#bd3786"
             ],
             [
              0.5555555555555556,
              "#d8576b"
             ],
             [
              0.6666666666666666,
              "#ed7953"
             ],
             [
              0.7777777777777778,
              "#fb9f3a"
             ],
             [
              0.8888888888888888,
              "#fdca26"
             ],
             [
              1,
              "#f0f921"
             ]
            ],
            "type": "heatmapgl"
           }
          ],
          "histogram": [
           {
            "marker": {
             "colorbar": {
              "outlinewidth": 0,
              "ticks": ""
             }
            },
            "type": "histogram"
           }
          ],
          "histogram2d": [
           {
            "colorbar": {
             "outlinewidth": 0,
             "ticks": ""
            },
            "colorscale": [
             [
              0,
              "#0d0887"
             ],
             [
              0.1111111111111111,
              "#46039f"
             ],
             [
              0.2222222222222222,
              "#7201a8"
             ],
             [
              0.3333333333333333,
              "#9c179e"
             ],
             [
              0.4444444444444444,
              "#bd3786"
             ],
             [
              0.5555555555555556,
              "#d8576b"
             ],
             [
              0.6666666666666666,
              "#ed7953"
             ],
             [
              0.7777777777777778,
              "#fb9f3a"
             ],
             [
              0.8888888888888888,
              "#fdca26"
             ],
             [
              1,
              "#f0f921"
             ]
            ],
            "type": "histogram2d"
           }
          ],
          "histogram2dcontour": [
           {
            "colorbar": {
             "outlinewidth": 0,
             "ticks": ""
            },
            "colorscale": [
             [
              0,
              "#0d0887"
             ],
             [
              0.1111111111111111,
              "#46039f"
             ],
             [
              0.2222222222222222,
              "#7201a8"
             ],
             [
              0.3333333333333333,
              "#9c179e"
             ],
             [
              0.4444444444444444,
              "#bd3786"
             ],
             [
              0.5555555555555556,
              "#d8576b"
             ],
             [
              0.6666666666666666,
              "#ed7953"
             ],
             [
              0.7777777777777778,
              "#fb9f3a"
             ],
             [
              0.8888888888888888,
              "#fdca26"
             ],
             [
              1,
              "#f0f921"
             ]
            ],
            "type": "histogram2dcontour"
           }
          ],
          "mesh3d": [
           {
            "colorbar": {
             "outlinewidth": 0,
             "ticks": ""
            },
            "type": "mesh3d"
           }
          ],
          "parcoords": [
           {
            "line": {
             "colorbar": {
              "outlinewidth": 0,
              "ticks": ""
             }
            },
            "type": "parcoords"
           }
          ],
          "pie": [
           {
            "automargin": true,
            "type": "pie"
           }
          ],
          "scatter": [
           {
            "marker": {
             "colorbar": {
              "outlinewidth": 0,
              "ticks": ""
             }
            },
            "type": "scatter"
           }
          ],
          "scatter3d": [
           {
            "line": {
             "colorbar": {
              "outlinewidth": 0,
              "ticks": ""
             }
            },
            "marker": {
             "colorbar": {
              "outlinewidth": 0,
              "ticks": ""
             }
            },
            "type": "scatter3d"
           }
          ],
          "scattercarpet": [
           {
            "marker": {
             "colorbar": {
              "outlinewidth": 0,
              "ticks": ""
             }
            },
            "type": "scattercarpet"
           }
          ],
          "scattergeo": [
           {
            "marker": {
             "colorbar": {
              "outlinewidth": 0,
              "ticks": ""
             }
            },
            "type": "scattergeo"
           }
          ],
          "scattergl": [
           {
            "marker": {
             "colorbar": {
              "outlinewidth": 0,
              "ticks": ""
             }
            },
            "type": "scattergl"
           }
          ],
          "scattermapbox": [
           {
            "marker": {
             "colorbar": {
              "outlinewidth": 0,
              "ticks": ""
             }
            },
            "type": "scattermapbox"
           }
          ],
          "scatterpolar": [
           {
            "marker": {
             "colorbar": {
              "outlinewidth": 0,
              "ticks": ""
             }
            },
            "type": "scatterpolar"
           }
          ],
          "scatterpolargl": [
           {
            "marker": {
             "colorbar": {
              "outlinewidth": 0,
              "ticks": ""
             }
            },
            "type": "scatterpolargl"
           }
          ],
          "scatterternary": [
           {
            "marker": {
             "colorbar": {
              "outlinewidth": 0,
              "ticks": ""
             }
            },
            "type": "scatterternary"
           }
          ],
          "surface": [
           {
            "colorbar": {
             "outlinewidth": 0,
             "ticks": ""
            },
            "colorscale": [
             [
              0,
              "#0d0887"
             ],
             [
              0.1111111111111111,
              "#46039f"
             ],
             [
              0.2222222222222222,
              "#7201a8"
             ],
             [
              0.3333333333333333,
              "#9c179e"
             ],
             [
              0.4444444444444444,
              "#bd3786"
             ],
             [
              0.5555555555555556,
              "#d8576b"
             ],
             [
              0.6666666666666666,
              "#ed7953"
             ],
             [
              0.7777777777777778,
              "#fb9f3a"
             ],
             [
              0.8888888888888888,
              "#fdca26"
             ],
             [
              1,
              "#f0f921"
             ]
            ],
            "type": "surface"
           }
          ],
          "table": [
           {
            "cells": {
             "fill": {
              "color": "#EBF0F8"
             },
             "line": {
              "color": "white"
             }
            },
            "header": {
             "fill": {
              "color": "#C8D4E3"
             },
             "line": {
              "color": "white"
             }
            },
            "type": "table"
           }
          ]
         },
         "layout": {
          "annotationdefaults": {
           "arrowcolor": "#2a3f5f",
           "arrowhead": 0,
           "arrowwidth": 1
          },
          "autotypenumbers": "strict",
          "coloraxis": {
           "colorbar": {
            "outlinewidth": 0,
            "ticks": ""
           }
          },
          "colorscale": {
           "diverging": [
            [
             0,
             "#8e0152"
            ],
            [
             0.1,
             "#c51b7d"
            ],
            [
             0.2,
             "#de77ae"
            ],
            [
             0.3,
             "#f1b6da"
            ],
            [
             0.4,
             "#fde0ef"
            ],
            [
             0.5,
             "#f7f7f7"
            ],
            [
             0.6,
             "#e6f5d0"
            ],
            [
             0.7,
             "#b8e186"
            ],
            [
             0.8,
             "#7fbc41"
            ],
            [
             0.9,
             "#4d9221"
            ],
            [
             1,
             "#276419"
            ]
           ],
           "sequential": [
            [
             0,
             "#0d0887"
            ],
            [
             0.1111111111111111,
             "#46039f"
            ],
            [
             0.2222222222222222,
             "#7201a8"
            ],
            [
             0.3333333333333333,
             "#9c179e"
            ],
            [
             0.4444444444444444,
             "#bd3786"
            ],
            [
             0.5555555555555556,
             "#d8576b"
            ],
            [
             0.6666666666666666,
             "#ed7953"
            ],
            [
             0.7777777777777778,
             "#fb9f3a"
            ],
            [
             0.8888888888888888,
             "#fdca26"
            ],
            [
             1,
             "#f0f921"
            ]
           ],
           "sequentialminus": [
            [
             0,
             "#0d0887"
            ],
            [
             0.1111111111111111,
             "#46039f"
            ],
            [
             0.2222222222222222,
             "#7201a8"
            ],
            [
             0.3333333333333333,
             "#9c179e"
            ],
            [
             0.4444444444444444,
             "#bd3786"
            ],
            [
             0.5555555555555556,
             "#d8576b"
            ],
            [
             0.6666666666666666,
             "#ed7953"
            ],
            [
             0.7777777777777778,
             "#fb9f3a"
            ],
            [
             0.8888888888888888,
             "#fdca26"
            ],
            [
             1,
             "#f0f921"
            ]
           ]
          },
          "colorway": [
           "#636efa",
           "#EF553B",
           "#00cc96",
           "#ab63fa",
           "#FFA15A",
           "#19d3f3",
           "#FF6692",
           "#B6E880",
           "#FF97FF",
           "#FECB52"
          ],
          "font": {
           "color": "#2a3f5f"
          },
          "geo": {
           "bgcolor": "white",
           "lakecolor": "white",
           "landcolor": "#E5ECF6",
           "showlakes": true,
           "showland": true,
           "subunitcolor": "white"
          },
          "hoverlabel": {
           "align": "left"
          },
          "hovermode": "closest",
          "mapbox": {
           "style": "light"
          },
          "paper_bgcolor": "white",
          "plot_bgcolor": "#E5ECF6",
          "polar": {
           "angularaxis": {
            "gridcolor": "white",
            "linecolor": "white",
            "ticks": ""
           },
           "bgcolor": "#E5ECF6",
           "radialaxis": {
            "gridcolor": "white",
            "linecolor": "white",
            "ticks": ""
           }
          },
          "scene": {
           "xaxis": {
            "backgroundcolor": "#E5ECF6",
            "gridcolor": "white",
            "gridwidth": 2,
            "linecolor": "white",
            "showbackground": true,
            "ticks": "",
            "zerolinecolor": "white"
           },
           "yaxis": {
            "backgroundcolor": "#E5ECF6",
            "gridcolor": "white",
            "gridwidth": 2,
            "linecolor": "white",
            "showbackground": true,
            "ticks": "",
            "zerolinecolor": "white"
           },
           "zaxis": {
            "backgroundcolor": "#E5ECF6",
            "gridcolor": "white",
            "gridwidth": 2,
            "linecolor": "white",
            "showbackground": true,
            "ticks": "",
            "zerolinecolor": "white"
           }
          },
          "shapedefaults": {
           "line": {
            "color": "#2a3f5f"
           }
          },
          "ternary": {
           "aaxis": {
            "gridcolor": "white",
            "linecolor": "white",
            "ticks": ""
           },
           "baxis": {
            "gridcolor": "white",
            "linecolor": "white",
            "ticks": ""
           },
           "bgcolor": "#E5ECF6",
           "caxis": {
            "gridcolor": "white",
            "linecolor": "white",
            "ticks": ""
           }
          },
          "title": {
           "x": 0.05
          },
          "xaxis": {
           "automargin": true,
           "gridcolor": "white",
           "linecolor": "white",
           "ticks": "",
           "title": {
            "standoff": 15
           },
           "zerolinecolor": "white",
           "zerolinewidth": 2
          },
          "yaxis": {
           "automargin": true,
           "gridcolor": "white",
           "linecolor": "white",
           "ticks": "",
           "title": {
            "standoff": 15
           },
           "zerolinecolor": "white",
           "zerolinewidth": 2
          }
         }
        },
        "xaxis": {
         "anchor": "y",
         "domain": [
          0,
          1
         ],
         "title": {
          "text": "Chaincode"
         }
        },
        "yaxis": {
         "anchor": "x",
         "domain": [
          0,
          1
         ],
         "title": {
          "text": "Key reads"
         }
        }
       }
      },
      "text/html": [
       "<div>                            <div id=\"de22170d-c396-492f-9e64-8c0682bd5f8d\" class=\"plotly-graph-div\" style=\"height:525px; width:100%;\"></div>            <script type=\"text/javascript\">                require([\"plotly\"], function(Plotly) {                    window.PLOTLYENV=window.PLOTLYENV || {};                                    if (document.getElementById(\"de22170d-c396-492f-9e64-8c0682bd5f8d\")) {                    Plotly.newPlot(                        \"de22170d-c396-492f-9e64-8c0682bd5f8d\",                        [{\"alignmentgroup\": \"True\", \"hovertemplate\": \"Chaincode=%{x}<br>Key reads=%{y}<extra></extra>\", \"legendgroup\": \"\", \"marker\": {\"color\": \"#636efa\"}, \"name\": \"\", \"offsetgroup\": \"\", \"orientation\": \"v\", \"showlegend\": false, \"textposition\": \"auto\", \"type\": \"bar\", \"x\": [\"cbdc\"], \"xaxis\": \"x\", \"y\": [1508], \"yaxis\": \"y\"}],                        {\"barmode\": \"relative\", \"legend\": {\"tracegroupgap\": 0}, \"margin\": {\"t\": 60}, \"template\": {\"data\": {\"bar\": [{\"error_x\": {\"color\": \"#2a3f5f\"}, \"error_y\": {\"color\": \"#2a3f5f\"}, \"marker\": {\"line\": {\"color\": \"#E5ECF6\", \"width\": 0.5}}, \"type\": \"bar\"}], \"barpolar\": [{\"marker\": {\"line\": {\"color\": \"#E5ECF6\", \"width\": 0.5}}, \"type\": \"barpolar\"}], \"carpet\": [{\"aaxis\": {\"endlinecolor\": \"#2a3f5f\", \"gridcolor\": \"white\", \"linecolor\": \"white\", \"minorgridcolor\": \"white\", \"startlinecolor\": \"#2a3f5f\"}, \"baxis\": {\"endlinecolor\": \"#2a3f5f\", \"gridcolor\": \"white\", \"linecolor\": \"white\", \"minorgridcolor\": \"white\", \"startlinecolor\": \"#2a3f5f\"}, \"type\": \"carpet\"}], \"choropleth\": [{\"colorbar\": {\"outlinewidth\": 0, \"ticks\": \"\"}, \"type\": \"choropleth\"}], \"contour\": [{\"colorbar\": {\"outlinewidth\": 0, \"ticks\": \"\"}, \"colorscale\": [[0.0, \"#0d0887\"], [0.1111111111111111, \"#46039f\"], [0.2222222222222222, \"#7201a8\"], [0.3333333333333333, \"#9c179e\"], [0.4444444444444444, \"#bd3786\"], [0.5555555555555556, \"#d8576b\"], [0.6666666666666666, \"#ed7953\"], [0.7777777777777778, \"#fb9f3a\"], [0.8888888888888888, \"#fdca26\"], [1.0, \"#f0f921\"]], \"type\": \"contour\"}], \"contourcarpet\": [{\"colorbar\": {\"outlinewidth\": 0, \"ticks\": \"\"}, \"type\": \"contourcarpet\"}], \"heatmap\": [{\"colorbar\": {\"outlinewidth\": 0, \"ticks\": \"\"}, \"colorscale\": [[0.0, \"#0d0887\"], [0.1111111111111111, \"#46039f\"], [0.2222222222222222, \"#7201a8\"], [0.3333333333333333, \"#9c179e\"], [0.4444444444444444, \"#bd3786\"], [0.5555555555555556, \"#d8576b\"], [0.6666666666666666, \"#ed7953\"], [0.7777777777777778, \"#fb9f3a\"], [0.8888888888888888, \"#fdca26\"], [1.0, \"#f0f921\"]], \"type\": \"heatmap\"}], \"heatmapgl\": [{\"colorbar\": {\"outlinewidth\": 0, \"ticks\": \"\"}, \"colorscale\": [[0.0, \"#0d0887\"], [0.1111111111111111, \"#46039f\"], [0.2222222222222222, \"#7201a8\"], [0.3333333333333333, \"#9c179e\"], [0.4444444444444444, \"#bd3786\"], [0.5555555555555556, \"#d8576b\"], [0.6666666666666666, \"#ed7953\"], [0.7777777777777778, \"#fb9f3a\"], [0.8888888888888888, \"#fdca26\"], [1.0, \"#f0f921\"]], \"type\": \"heatmapgl\"}], \"histogram\": [{\"marker\": {\"colorbar\": {\"outlinewidth\": 0, \"ticks\": \"\"}}, \"type\": \"histogram\"}], \"histogram2d\": [{\"colorbar\": {\"outlinewidth\": 0, \"ticks\": \"\"}, \"colorscale\": [[0.0, \"#0d0887\"], [0.1111111111111111, \"#46039f\"], [0.2222222222222222, \"#7201a8\"], [0.3333333333333333, \"#9c179e\"], [0.4444444444444444, \"#bd3786\"], [0.5555555555555556, \"#d8576b\"], [0.6666666666666666, \"#ed7953\"], [0.7777777777777778, \"#fb9f3a\"], [0.8888888888888888, \"#fdca26\"], [1.0, \"#f0f921\"]], \"type\": \"histogram2d\"}], \"histogram2dcontour\": [{\"colorbar\": {\"outlinewidth\": 0, \"ticks\": \"\"}, \"colorscale\": [[0.0, \"#0d0887\"], [0.1111111111111111, \"#46039f\"], [0.2222222222222222, \"#7201a8\"], [0.3333333333333333, \"#9c179e\"], [0.4444444444444444, \"#bd3786\"], [0.5555555555555556, \"#d8576b\"], [0.6666666666666666, \"#ed7953\"], [0.7777777777777778, \"#fb9f3a\"], [0.8888888888888888, \"#fdca26\"], [1.0, \"#f0f921\"]], \"type\": \"histogram2dcontour\"}], \"mesh3d\": [{\"colorbar\": {\"outlinewidth\": 0, \"ticks\": \"\"}, \"type\": \"mesh3d\"}], \"parcoords\": [{\"line\": {\"colorbar\": {\"outlinewidth\": 0, \"ticks\": \"\"}}, \"type\": \"parcoords\"}], \"pie\": [{\"automargin\": true, \"type\": \"pie\"}], \"scatter\": [{\"marker\": {\"colorbar\": {\"outlinewidth\": 0, \"ticks\": \"\"}}, \"type\": \"scatter\"}], \"scatter3d\": [{\"line\": {\"colorbar\": {\"outlinewidth\": 0, \"ticks\": \"\"}}, \"marker\": {\"colorbar\": {\"outlinewidth\": 0, \"ticks\": \"\"}}, \"type\": \"scatter3d\"}], \"scattercarpet\": [{\"marker\": {\"colorbar\": {\"outlinewidth\": 0, \"ticks\": \"\"}}, \"type\": \"scattercarpet\"}], \"scattergeo\": [{\"marker\": {\"colorbar\": {\"outlinewidth\": 0, \"ticks\": \"\"}}, \"type\": \"scattergeo\"}], \"scattergl\": [{\"marker\": {\"colorbar\": {\"outlinewidth\": 0, \"ticks\": \"\"}}, \"type\": \"scattergl\"}], \"scattermapbox\": [{\"marker\": {\"colorbar\": {\"outlinewidth\": 0, \"ticks\": \"\"}}, \"type\": \"scattermapbox\"}], \"scatterpolar\": [{\"marker\": {\"colorbar\": {\"outlinewidth\": 0, \"ticks\": \"\"}}, \"type\": \"scatterpolar\"}], \"scatterpolargl\": [{\"marker\": {\"colorbar\": {\"outlinewidth\": 0, \"ticks\": \"\"}}, \"type\": \"scatterpolargl\"}], \"scatterternary\": [{\"marker\": {\"colorbar\": {\"outlinewidth\": 0, \"ticks\": \"\"}}, \"type\": \"scatterternary\"}], \"surface\": [{\"colorbar\": {\"outlinewidth\": 0, \"ticks\": \"\"}, \"colorscale\": [[0.0, \"#0d0887\"], [0.1111111111111111, \"#46039f\"], [0.2222222222222222, \"#7201a8\"], [0.3333333333333333, \"#9c179e\"], [0.4444444444444444, \"#bd3786\"], [0.5555555555555556, \"#d8576b\"], [0.6666666666666666, \"#ed7953\"], [0.7777777777777778, \"#fb9f3a\"], [0.8888888888888888, \"#fdca26\"], [1.0, \"#f0f921\"]], \"type\": \"surface\"}], \"table\": [{\"cells\": {\"fill\": {\"color\": \"#EBF0F8\"}, \"line\": {\"color\": \"white\"}}, \"header\": {\"fill\": {\"color\": \"#C8D4E3\"}, \"line\": {\"color\": \"white\"}}, \"type\": \"table\"}]}, \"layout\": {\"annotationdefaults\": {\"arrowcolor\": \"#2a3f5f\", \"arrowhead\": 0, \"arrowwidth\": 1}, \"autotypenumbers\": \"strict\", \"coloraxis\": {\"colorbar\": {\"outlinewidth\": 0, \"ticks\": \"\"}}, \"colorscale\": {\"diverging\": [[0, \"#8e0152\"], [0.1, \"#c51b7d\"], [0.2, \"#de77ae\"], [0.3, \"#f1b6da\"], [0.4, \"#fde0ef\"], [0.5, \"#f7f7f7\"], [0.6, \"#e6f5d0\"], [0.7, \"#b8e186\"], [0.8, \"#7fbc41\"], [0.9, \"#4d9221\"], [1, \"#276419\"]], \"sequential\": [[0.0, \"#0d0887\"], [0.1111111111111111, \"#46039f\"], [0.2222222222222222, \"#7201a8\"], [0.3333333333333333, \"#9c179e\"], [0.4444444444444444, \"#bd3786\"], [0.5555555555555556, \"#d8576b\"], [0.6666666666666666, \"#ed7953\"], [0.7777777777777778, \"#fb9f3a\"], [0.8888888888888888, \"#fdca26\"], [1.0, \"#f0f921\"]], \"sequentialminus\": [[0.0, \"#0d0887\"], [0.1111111111111111, \"#46039f\"], [0.2222222222222222, \"#7201a8\"], [0.3333333333333333, \"#9c179e\"], [0.4444444444444444, \"#bd3786\"], [0.5555555555555556, \"#d8576b\"], [0.6666666666666666, \"#ed7953\"], [0.7777777777777778, \"#fb9f3a\"], [0.8888888888888888, \"#fdca26\"], [1.0, \"#f0f921\"]]}, \"colorway\": [\"#636efa\", \"#EF553B\", \"#00cc96\", \"#ab63fa\", \"#FFA15A\", \"#19d3f3\", \"#FF6692\", \"#B6E880\", \"#FF97FF\", \"#FECB52\"], \"font\": {\"color\": \"#2a3f5f\"}, \"geo\": {\"bgcolor\": \"white\", \"lakecolor\": \"white\", \"landcolor\": \"#E5ECF6\", \"showlakes\": true, \"showland\": true, \"subunitcolor\": \"white\"}, \"hoverlabel\": {\"align\": \"left\"}, \"hovermode\": \"closest\", \"mapbox\": {\"style\": \"light\"}, \"paper_bgcolor\": \"white\", \"plot_bgcolor\": \"#E5ECF6\", \"polar\": {\"angularaxis\": {\"gridcolor\": \"white\", \"linecolor\": \"white\", \"ticks\": \"\"}, \"bgcolor\": \"#E5ECF6\", \"radialaxis\": {\"gridcolor\": \"white\", \"linecolor\": \"white\", \"ticks\": \"\"}}, \"scene\": {\"xaxis\": {\"backgroundcolor\": \"#E5ECF6\", \"gridcolor\": \"white\", \"gridwidth\": 2, \"linecolor\": \"white\", \"showbackground\": true, \"ticks\": \"\", \"zerolinecolor\": \"white\"}, \"yaxis\": {\"backgroundcolor\": \"#E5ECF6\", \"gridcolor\": \"white\", \"gridwidth\": 2, \"linecolor\": \"white\", \"showbackground\": true, \"ticks\": \"\", \"zerolinecolor\": \"white\"}, \"zaxis\": {\"backgroundcolor\": \"#E5ECF6\", \"gridcolor\": \"white\", \"gridwidth\": 2, \"linecolor\": \"white\", \"showbackground\": true, \"ticks\": \"\", \"zerolinecolor\": \"white\"}}, \"shapedefaults\": {\"line\": {\"color\": \"#2a3f5f\"}}, \"ternary\": {\"aaxis\": {\"gridcolor\": \"white\", \"linecolor\": \"white\", \"ticks\": \"\"}, \"baxis\": {\"gridcolor\": \"white\", \"linecolor\": \"white\", \"ticks\": \"\"}, \"bgcolor\": \"#E5ECF6\", \"caxis\": {\"gridcolor\": \"white\", \"linecolor\": \"white\", \"ticks\": \"\"}}, \"title\": {\"x\": 0.05}, \"xaxis\": {\"automargin\": true, \"gridcolor\": \"white\", \"linecolor\": \"white\", \"ticks\": \"\", \"title\": {\"standoff\": 15}, \"zerolinecolor\": \"white\", \"zerolinewidth\": 2}, \"yaxis\": {\"automargin\": true, \"gridcolor\": \"white\", \"linecolor\": \"white\", \"ticks\": \"\", \"title\": {\"standoff\": 15}, \"zerolinecolor\": \"white\", \"zerolinewidth\": 2}}}, \"xaxis\": {\"anchor\": \"y\", \"domain\": [0.0, 1.0], \"title\": {\"text\": \"Chaincode\"}}, \"yaxis\": {\"anchor\": \"x\", \"domain\": [0.0, 1.0], \"title\": {\"text\": \"Key reads\"}}},                        {\"responsive\": true}                    ).then(function(){\n",
       "                            \n",
       "var gd = document.getElementById('de22170d-c396-492f-9e64-8c0682bd5f8d');\n",
       "var x = new MutationObserver(function (mutations, observer) {{\n",
       "        var display = window.getComputedStyle(gd).display;\n",
       "        if (!display || display === 'none') {{\n",
       "            console.log([gd, 'removed!']);\n",
       "            Plotly.purge(gd);\n",
       "            observer.disconnect();\n",
       "        }}\n",
       "}});\n",
       "\n",
       "// Listen for the removal of the full notebook cells\n",
       "var notebookContainer = gd.closest('#notebook-container');\n",
       "if (notebookContainer) {{\n",
       "    x.observe(notebookContainer, {childList: true});\n",
       "}}\n",
       "\n",
       "// Listen for the clearing of the current output cell\n",
       "var outputEl = gd.closest('.output');\n",
       "if (outputEl) {{\n",
       "    x.observe(outputEl, {childList: true});\n",
       "}}\n",
       "\n",
       "                        })                };                });            </script>        </div>"
      ]
     },
     "metadata": {},
     "output_type": "display_data"
    }
   ],
   "source": [
    "labels={\"x\":\"Chaincode\",\"y\":\"Key reads\"}\n",
    "fig = px.bar(x=txDfr['chaincode'].unique(),y=txDfr['chaincode'].value_counts(),labels=labels)\n",
    "fig"
   ]
  },
  {
   "cell_type": "code",
   "execution_count": 15,
   "metadata": {},
   "outputs": [
    {
     "data": {
      "application/vnd.plotly.v1+json": {
       "config": {
        "plotlyServerURL": "https://plot.ly"
       },
       "data": [
        {
         "alignmentgroup": "True",
         "hovertemplate": "Chaincode=%{x}<br>Key writes=%{y}<extra></extra>",
         "legendgroup": "",
         "marker": {
          "color": "#636efa"
         },
         "name": "",
         "offsetgroup": "",
         "orientation": "v",
         "showlegend": false,
         "textposition": "auto",
         "type": "bar",
         "x": [
          "cbdc"
         ],
         "xaxis": "x",
         "y": [
          1910
         ],
         "yaxis": "y"
        }
       ],
       "layout": {
        "barmode": "relative",
        "legend": {
         "tracegroupgap": 0
        },
        "margin": {
         "t": 60
        },
        "template": {
         "data": {
          "bar": [
           {
            "error_x": {
             "color": "#2a3f5f"
            },
            "error_y": {
             "color": "#2a3f5f"
            },
            "marker": {
             "line": {
              "color": "#E5ECF6",
              "width": 0.5
             }
            },
            "type": "bar"
           }
          ],
          "barpolar": [
           {
            "marker": {
             "line": {
              "color": "#E5ECF6",
              "width": 0.5
             }
            },
            "type": "barpolar"
           }
          ],
          "carpet": [
           {
            "aaxis": {
             "endlinecolor": "#2a3f5f",
             "gridcolor": "white",
             "linecolor": "white",
             "minorgridcolor": "white",
             "startlinecolor": "#2a3f5f"
            },
            "baxis": {
             "endlinecolor": "#2a3f5f",
             "gridcolor": "white",
             "linecolor": "white",
             "minorgridcolor": "white",
             "startlinecolor": "#2a3f5f"
            },
            "type": "carpet"
           }
          ],
          "choropleth": [
           {
            "colorbar": {
             "outlinewidth": 0,
             "ticks": ""
            },
            "type": "choropleth"
           }
          ],
          "contour": [
           {
            "colorbar": {
             "outlinewidth": 0,
             "ticks": ""
            },
            "colorscale": [
             [
              0,
              "#0d0887"
             ],
             [
              0.1111111111111111,
              "#46039f"
             ],
             [
              0.2222222222222222,
              "#7201a8"
             ],
             [
              0.3333333333333333,
              "#9c179e"
             ],
             [
              0.4444444444444444,
              "#bd3786"
             ],
             [
              0.5555555555555556,
              "#d8576b"
             ],
             [
              0.6666666666666666,
              "#ed7953"
             ],
             [
              0.7777777777777778,
              "#fb9f3a"
             ],
             [
              0.8888888888888888,
              "#fdca26"
             ],
             [
              1,
              "#f0f921"
             ]
            ],
            "type": "contour"
           }
          ],
          "contourcarpet": [
           {
            "colorbar": {
             "outlinewidth": 0,
             "ticks": ""
            },
            "type": "contourcarpet"
           }
          ],
          "heatmap": [
           {
            "colorbar": {
             "outlinewidth": 0,
             "ticks": ""
            },
            "colorscale": [
             [
              0,
              "#0d0887"
             ],
             [
              0.1111111111111111,
              "#46039f"
             ],
             [
              0.2222222222222222,
              "#7201a8"
             ],
             [
              0.3333333333333333,
              "#9c179e"
             ],
             [
              0.4444444444444444,
              "#bd3786"
             ],
             [
              0.5555555555555556,
              "#d8576b"
             ],
             [
              0.6666666666666666,
              "#ed7953"
             ],
             [
              0.7777777777777778,
              "#fb9f3a"
             ],
             [
              0.8888888888888888,
              "#fdca26"
             ],
             [
              1,
              "#f0f921"
             ]
            ],
            "type": "heatmap"
           }
          ],
          "heatmapgl": [
           {
            "colorbar": {
             "outlinewidth": 0,
             "ticks": ""
            },
            "colorscale": [
             [
              0,
              "#0d0887"
             ],
             [
              0.1111111111111111,
              "#46039f"
             ],
             [
              0.2222222222222222,
              "#7201a8"
             ],
             [
              0.3333333333333333,
              "#9c179e"
             ],
             [
              0.4444444444444444,
              "#bd3786"
             ],
             [
              0.5555555555555556,
              "#d8576b"
             ],
             [
              0.6666666666666666,
              "#ed7953"
             ],
             [
              0.7777777777777778,
              "#fb9f3a"
             ],
             [
              0.8888888888888888,
              "#fdca26"
             ],
             [
              1,
              "#f0f921"
             ]
            ],
            "type": "heatmapgl"
           }
          ],
          "histogram": [
           {
            "marker": {
             "colorbar": {
              "outlinewidth": 0,
              "ticks": ""
             }
            },
            "type": "histogram"
           }
          ],
          "histogram2d": [
           {
            "colorbar": {
             "outlinewidth": 0,
             "ticks": ""
            },
            "colorscale": [
             [
              0,
              "#0d0887"
             ],
             [
              0.1111111111111111,
              "#46039f"
             ],
             [
              0.2222222222222222,
              "#7201a8"
             ],
             [
              0.3333333333333333,
              "#9c179e"
             ],
             [
              0.4444444444444444,
              "#bd3786"
             ],
             [
              0.5555555555555556,
              "#d8576b"
             ],
             [
              0.6666666666666666,
              "#ed7953"
             ],
             [
              0.7777777777777778,
              "#fb9f3a"
             ],
             [
              0.8888888888888888,
              "#fdca26"
             ],
             [
              1,
              "#f0f921"
             ]
            ],
            "type": "histogram2d"
           }
          ],
          "histogram2dcontour": [
           {
            "colorbar": {
             "outlinewidth": 0,
             "ticks": ""
            },
            "colorscale": [
             [
              0,
              "#0d0887"
             ],
             [
              0.1111111111111111,
              "#46039f"
             ],
             [
              0.2222222222222222,
              "#7201a8"
             ],
             [
              0.3333333333333333,
              "#9c179e"
             ],
             [
              0.4444444444444444,
              "#bd3786"
             ],
             [
              0.5555555555555556,
              "#d8576b"
             ],
             [
              0.6666666666666666,
              "#ed7953"
             ],
             [
              0.7777777777777778,
              "#fb9f3a"
             ],
             [
              0.8888888888888888,
              "#fdca26"
             ],
             [
              1,
              "#f0f921"
             ]
            ],
            "type": "histogram2dcontour"
           }
          ],
          "mesh3d": [
           {
            "colorbar": {
             "outlinewidth": 0,
             "ticks": ""
            },
            "type": "mesh3d"
           }
          ],
          "parcoords": [
           {
            "line": {
             "colorbar": {
              "outlinewidth": 0,
              "ticks": ""
             }
            },
            "type": "parcoords"
           }
          ],
          "pie": [
           {
            "automargin": true,
            "type": "pie"
           }
          ],
          "scatter": [
           {
            "marker": {
             "colorbar": {
              "outlinewidth": 0,
              "ticks": ""
             }
            },
            "type": "scatter"
           }
          ],
          "scatter3d": [
           {
            "line": {
             "colorbar": {
              "outlinewidth": 0,
              "ticks": ""
             }
            },
            "marker": {
             "colorbar": {
              "outlinewidth": 0,
              "ticks": ""
             }
            },
            "type": "scatter3d"
           }
          ],
          "scattercarpet": [
           {
            "marker": {
             "colorbar": {
              "outlinewidth": 0,
              "ticks": ""
             }
            },
            "type": "scattercarpet"
           }
          ],
          "scattergeo": [
           {
            "marker": {
             "colorbar": {
              "outlinewidth": 0,
              "ticks": ""
             }
            },
            "type": "scattergeo"
           }
          ],
          "scattergl": [
           {
            "marker": {
             "colorbar": {
              "outlinewidth": 0,
              "ticks": ""
             }
            },
            "type": "scattergl"
           }
          ],
          "scattermapbox": [
           {
            "marker": {
             "colorbar": {
              "outlinewidth": 0,
              "ticks": ""
             }
            },
            "type": "scattermapbox"
           }
          ],
          "scatterpolar": [
           {
            "marker": {
             "colorbar": {
              "outlinewidth": 0,
              "ticks": ""
             }
            },
            "type": "scatterpolar"
           }
          ],
          "scatterpolargl": [
           {
            "marker": {
             "colorbar": {
              "outlinewidth": 0,
              "ticks": ""
             }
            },
            "type": "scatterpolargl"
           }
          ],
          "scatterternary": [
           {
            "marker": {
             "colorbar": {
              "outlinewidth": 0,
              "ticks": ""
             }
            },
            "type": "scatterternary"
           }
          ],
          "surface": [
           {
            "colorbar": {
             "outlinewidth": 0,
             "ticks": ""
            },
            "colorscale": [
             [
              0,
              "#0d0887"
             ],
             [
              0.1111111111111111,
              "#46039f"
             ],
             [
              0.2222222222222222,
              "#7201a8"
             ],
             [
              0.3333333333333333,
              "#9c179e"
             ],
             [
              0.4444444444444444,
              "#bd3786"
             ],
             [
              0.5555555555555556,
              "#d8576b"
             ],
             [
              0.6666666666666666,
              "#ed7953"
             ],
             [
              0.7777777777777778,
              "#fb9f3a"
             ],
             [
              0.8888888888888888,
              "#fdca26"
             ],
             [
              1,
              "#f0f921"
             ]
            ],
            "type": "surface"
           }
          ],
          "table": [
           {
            "cells": {
             "fill": {
              "color": "#EBF0F8"
             },
             "line": {
              "color": "white"
             }
            },
            "header": {
             "fill": {
              "color": "#C8D4E3"
             },
             "line": {
              "color": "white"
             }
            },
            "type": "table"
           }
          ]
         },
         "layout": {
          "annotationdefaults": {
           "arrowcolor": "#2a3f5f",
           "arrowhead": 0,
           "arrowwidth": 1
          },
          "autotypenumbers": "strict",
          "coloraxis": {
           "colorbar": {
            "outlinewidth": 0,
            "ticks": ""
           }
          },
          "colorscale": {
           "diverging": [
            [
             0,
             "#8e0152"
            ],
            [
             0.1,
             "#c51b7d"
            ],
            [
             0.2,
             "#de77ae"
            ],
            [
             0.3,
             "#f1b6da"
            ],
            [
             0.4,
             "#fde0ef"
            ],
            [
             0.5,
             "#f7f7f7"
            ],
            [
             0.6,
             "#e6f5d0"
            ],
            [
             0.7,
             "#b8e186"
            ],
            [
             0.8,
             "#7fbc41"
            ],
            [
             0.9,
             "#4d9221"
            ],
            [
             1,
             "#276419"
            ]
           ],
           "sequential": [
            [
             0,
             "#0d0887"
            ],
            [
             0.1111111111111111,
             "#46039f"
            ],
            [
             0.2222222222222222,
             "#7201a8"
            ],
            [
             0.3333333333333333,
             "#9c179e"
            ],
            [
             0.4444444444444444,
             "#bd3786"
            ],
            [
             0.5555555555555556,
             "#d8576b"
            ],
            [
             0.6666666666666666,
             "#ed7953"
            ],
            [
             0.7777777777777778,
             "#fb9f3a"
            ],
            [
             0.8888888888888888,
             "#fdca26"
            ],
            [
             1,
             "#f0f921"
            ]
           ],
           "sequentialminus": [
            [
             0,
             "#0d0887"
            ],
            [
             0.1111111111111111,
             "#46039f"
            ],
            [
             0.2222222222222222,
             "#7201a8"
            ],
            [
             0.3333333333333333,
             "#9c179e"
            ],
            [
             0.4444444444444444,
             "#bd3786"
            ],
            [
             0.5555555555555556,
             "#d8576b"
            ],
            [
             0.6666666666666666,
             "#ed7953"
            ],
            [
             0.7777777777777778,
             "#fb9f3a"
            ],
            [
             0.8888888888888888,
             "#fdca26"
            ],
            [
             1,
             "#f0f921"
            ]
           ]
          },
          "colorway": [
           "#636efa",
           "#EF553B",
           "#00cc96",
           "#ab63fa",
           "#FFA15A",
           "#19d3f3",
           "#FF6692",
           "#B6E880",
           "#FF97FF",
           "#FECB52"
          ],
          "font": {
           "color": "#2a3f5f"
          },
          "geo": {
           "bgcolor": "white",
           "lakecolor": "white",
           "landcolor": "#E5ECF6",
           "showlakes": true,
           "showland": true,
           "subunitcolor": "white"
          },
          "hoverlabel": {
           "align": "left"
          },
          "hovermode": "closest",
          "mapbox": {
           "style": "light"
          },
          "paper_bgcolor": "white",
          "plot_bgcolor": "#E5ECF6",
          "polar": {
           "angularaxis": {
            "gridcolor": "white",
            "linecolor": "white",
            "ticks": ""
           },
           "bgcolor": "#E5ECF6",
           "radialaxis": {
            "gridcolor": "white",
            "linecolor": "white",
            "ticks": ""
           }
          },
          "scene": {
           "xaxis": {
            "backgroundcolor": "#E5ECF6",
            "gridcolor": "white",
            "gridwidth": 2,
            "linecolor": "white",
            "showbackground": true,
            "ticks": "",
            "zerolinecolor": "white"
           },
           "yaxis": {
            "backgroundcolor": "#E5ECF6",
            "gridcolor": "white",
            "gridwidth": 2,
            "linecolor": "white",
            "showbackground": true,
            "ticks": "",
            "zerolinecolor": "white"
           },
           "zaxis": {
            "backgroundcolor": "#E5ECF6",
            "gridcolor": "white",
            "gridwidth": 2,
            "linecolor": "white",
            "showbackground": true,
            "ticks": "",
            "zerolinecolor": "white"
           }
          },
          "shapedefaults": {
           "line": {
            "color": "#2a3f5f"
           }
          },
          "ternary": {
           "aaxis": {
            "gridcolor": "white",
            "linecolor": "white",
            "ticks": ""
           },
           "baxis": {
            "gridcolor": "white",
            "linecolor": "white",
            "ticks": ""
           },
           "bgcolor": "#E5ECF6",
           "caxis": {
            "gridcolor": "white",
            "linecolor": "white",
            "ticks": ""
           }
          },
          "title": {
           "x": 0.05
          },
          "xaxis": {
           "automargin": true,
           "gridcolor": "white",
           "linecolor": "white",
           "ticks": "",
           "title": {
            "standoff": 15
           },
           "zerolinecolor": "white",
           "zerolinewidth": 2
          },
          "yaxis": {
           "automargin": true,
           "gridcolor": "white",
           "linecolor": "white",
           "ticks": "",
           "title": {
            "standoff": 15
           },
           "zerolinecolor": "white",
           "zerolinewidth": 2
          }
         }
        },
        "xaxis": {
         "anchor": "y",
         "domain": [
          0,
          1
         ],
         "title": {
          "text": "Chaincode"
         }
        },
        "yaxis": {
         "anchor": "x",
         "domain": [
          0,
          1
         ],
         "title": {
          "text": "Key writes"
         }
        }
       }
      },
      "text/html": [
       "<div>                            <div id=\"1bea3db6-e036-4002-a0ca-de2bced5da3c\" class=\"plotly-graph-div\" style=\"height:525px; width:100%;\"></div>            <script type=\"text/javascript\">                require([\"plotly\"], function(Plotly) {                    window.PLOTLYENV=window.PLOTLYENV || {};                                    if (document.getElementById(\"1bea3db6-e036-4002-a0ca-de2bced5da3c\")) {                    Plotly.newPlot(                        \"1bea3db6-e036-4002-a0ca-de2bced5da3c\",                        [{\"alignmentgroup\": \"True\", \"hovertemplate\": \"Chaincode=%{x}<br>Key writes=%{y}<extra></extra>\", \"legendgroup\": \"\", \"marker\": {\"color\": \"#636efa\"}, \"name\": \"\", \"offsetgroup\": \"\", \"orientation\": \"v\", \"showlegend\": false, \"textposition\": \"auto\", \"type\": \"bar\", \"x\": [\"cbdc\"], \"xaxis\": \"x\", \"y\": [1910], \"yaxis\": \"y\"}],                        {\"barmode\": \"relative\", \"legend\": {\"tracegroupgap\": 0}, \"margin\": {\"t\": 60}, \"template\": {\"data\": {\"bar\": [{\"error_x\": {\"color\": \"#2a3f5f\"}, \"error_y\": {\"color\": \"#2a3f5f\"}, \"marker\": {\"line\": {\"color\": \"#E5ECF6\", \"width\": 0.5}}, \"type\": \"bar\"}], \"barpolar\": [{\"marker\": {\"line\": {\"color\": \"#E5ECF6\", \"width\": 0.5}}, \"type\": \"barpolar\"}], \"carpet\": [{\"aaxis\": {\"endlinecolor\": \"#2a3f5f\", \"gridcolor\": \"white\", \"linecolor\": \"white\", \"minorgridcolor\": \"white\", \"startlinecolor\": \"#2a3f5f\"}, \"baxis\": {\"endlinecolor\": \"#2a3f5f\", \"gridcolor\": \"white\", \"linecolor\": \"white\", \"minorgridcolor\": \"white\", \"startlinecolor\": \"#2a3f5f\"}, \"type\": \"carpet\"}], \"choropleth\": [{\"colorbar\": {\"outlinewidth\": 0, \"ticks\": \"\"}, \"type\": \"choropleth\"}], \"contour\": [{\"colorbar\": {\"outlinewidth\": 0, \"ticks\": \"\"}, \"colorscale\": [[0.0, \"#0d0887\"], [0.1111111111111111, \"#46039f\"], [0.2222222222222222, \"#7201a8\"], [0.3333333333333333, \"#9c179e\"], [0.4444444444444444, \"#bd3786\"], [0.5555555555555556, \"#d8576b\"], [0.6666666666666666, \"#ed7953\"], [0.7777777777777778, \"#fb9f3a\"], [0.8888888888888888, \"#fdca26\"], [1.0, \"#f0f921\"]], \"type\": \"contour\"}], \"contourcarpet\": [{\"colorbar\": {\"outlinewidth\": 0, \"ticks\": \"\"}, \"type\": \"contourcarpet\"}], \"heatmap\": [{\"colorbar\": {\"outlinewidth\": 0, \"ticks\": \"\"}, \"colorscale\": [[0.0, \"#0d0887\"], [0.1111111111111111, \"#46039f\"], [0.2222222222222222, \"#7201a8\"], [0.3333333333333333, \"#9c179e\"], [0.4444444444444444, \"#bd3786\"], [0.5555555555555556, \"#d8576b\"], [0.6666666666666666, \"#ed7953\"], [0.7777777777777778, \"#fb9f3a\"], [0.8888888888888888, \"#fdca26\"], [1.0, \"#f0f921\"]], \"type\": \"heatmap\"}], \"heatmapgl\": [{\"colorbar\": {\"outlinewidth\": 0, \"ticks\": \"\"}, \"colorscale\": [[0.0, \"#0d0887\"], [0.1111111111111111, \"#46039f\"], [0.2222222222222222, \"#7201a8\"], [0.3333333333333333, \"#9c179e\"], [0.4444444444444444, \"#bd3786\"], [0.5555555555555556, \"#d8576b\"], [0.6666666666666666, \"#ed7953\"], [0.7777777777777778, \"#fb9f3a\"], [0.8888888888888888, \"#fdca26\"], [1.0, \"#f0f921\"]], \"type\": \"heatmapgl\"}], \"histogram\": [{\"marker\": {\"colorbar\": {\"outlinewidth\": 0, \"ticks\": \"\"}}, \"type\": \"histogram\"}], \"histogram2d\": [{\"colorbar\": {\"outlinewidth\": 0, \"ticks\": \"\"}, \"colorscale\": [[0.0, \"#0d0887\"], [0.1111111111111111, \"#46039f\"], [0.2222222222222222, \"#7201a8\"], [0.3333333333333333, \"#9c179e\"], [0.4444444444444444, \"#bd3786\"], [0.5555555555555556, \"#d8576b\"], [0.6666666666666666, \"#ed7953\"], [0.7777777777777778, \"#fb9f3a\"], [0.8888888888888888, \"#fdca26\"], [1.0, \"#f0f921\"]], \"type\": \"histogram2d\"}], \"histogram2dcontour\": [{\"colorbar\": {\"outlinewidth\": 0, \"ticks\": \"\"}, \"colorscale\": [[0.0, \"#0d0887\"], [0.1111111111111111, \"#46039f\"], [0.2222222222222222, \"#7201a8\"], [0.3333333333333333, \"#9c179e\"], [0.4444444444444444, \"#bd3786\"], [0.5555555555555556, \"#d8576b\"], [0.6666666666666666, \"#ed7953\"], [0.7777777777777778, \"#fb9f3a\"], [0.8888888888888888, \"#fdca26\"], [1.0, \"#f0f921\"]], \"type\": \"histogram2dcontour\"}], \"mesh3d\": [{\"colorbar\": {\"outlinewidth\": 0, \"ticks\": \"\"}, \"type\": \"mesh3d\"}], \"parcoords\": [{\"line\": {\"colorbar\": {\"outlinewidth\": 0, \"ticks\": \"\"}}, \"type\": \"parcoords\"}], \"pie\": [{\"automargin\": true, \"type\": \"pie\"}], \"scatter\": [{\"marker\": {\"colorbar\": {\"outlinewidth\": 0, \"ticks\": \"\"}}, \"type\": \"scatter\"}], \"scatter3d\": [{\"line\": {\"colorbar\": {\"outlinewidth\": 0, \"ticks\": \"\"}}, \"marker\": {\"colorbar\": {\"outlinewidth\": 0, \"ticks\": \"\"}}, \"type\": \"scatter3d\"}], \"scattercarpet\": [{\"marker\": {\"colorbar\": {\"outlinewidth\": 0, \"ticks\": \"\"}}, \"type\": \"scattercarpet\"}], \"scattergeo\": [{\"marker\": {\"colorbar\": {\"outlinewidth\": 0, \"ticks\": \"\"}}, \"type\": \"scattergeo\"}], \"scattergl\": [{\"marker\": {\"colorbar\": {\"outlinewidth\": 0, \"ticks\": \"\"}}, \"type\": \"scattergl\"}], \"scattermapbox\": [{\"marker\": {\"colorbar\": {\"outlinewidth\": 0, \"ticks\": \"\"}}, \"type\": \"scattermapbox\"}], \"scatterpolar\": [{\"marker\": {\"colorbar\": {\"outlinewidth\": 0, \"ticks\": \"\"}}, \"type\": \"scatterpolar\"}], \"scatterpolargl\": [{\"marker\": {\"colorbar\": {\"outlinewidth\": 0, \"ticks\": \"\"}}, \"type\": \"scatterpolargl\"}], \"scatterternary\": [{\"marker\": {\"colorbar\": {\"outlinewidth\": 0, \"ticks\": \"\"}}, \"type\": \"scatterternary\"}], \"surface\": [{\"colorbar\": {\"outlinewidth\": 0, \"ticks\": \"\"}, \"colorscale\": [[0.0, \"#0d0887\"], [0.1111111111111111, \"#46039f\"], [0.2222222222222222, \"#7201a8\"], [0.3333333333333333, \"#9c179e\"], [0.4444444444444444, \"#bd3786\"], [0.5555555555555556, \"#d8576b\"], [0.6666666666666666, \"#ed7953\"], [0.7777777777777778, \"#fb9f3a\"], [0.8888888888888888, \"#fdca26\"], [1.0, \"#f0f921\"]], \"type\": \"surface\"}], \"table\": [{\"cells\": {\"fill\": {\"color\": \"#EBF0F8\"}, \"line\": {\"color\": \"white\"}}, \"header\": {\"fill\": {\"color\": \"#C8D4E3\"}, \"line\": {\"color\": \"white\"}}, \"type\": \"table\"}]}, \"layout\": {\"annotationdefaults\": {\"arrowcolor\": \"#2a3f5f\", \"arrowhead\": 0, \"arrowwidth\": 1}, \"autotypenumbers\": \"strict\", \"coloraxis\": {\"colorbar\": {\"outlinewidth\": 0, \"ticks\": \"\"}}, \"colorscale\": {\"diverging\": [[0, \"#8e0152\"], [0.1, \"#c51b7d\"], [0.2, \"#de77ae\"], [0.3, \"#f1b6da\"], [0.4, \"#fde0ef\"], [0.5, \"#f7f7f7\"], [0.6, \"#e6f5d0\"], [0.7, \"#b8e186\"], [0.8, \"#7fbc41\"], [0.9, \"#4d9221\"], [1, \"#276419\"]], \"sequential\": [[0.0, \"#0d0887\"], [0.1111111111111111, \"#46039f\"], [0.2222222222222222, \"#7201a8\"], [0.3333333333333333, \"#9c179e\"], [0.4444444444444444, \"#bd3786\"], [0.5555555555555556, \"#d8576b\"], [0.6666666666666666, \"#ed7953\"], [0.7777777777777778, \"#fb9f3a\"], [0.8888888888888888, \"#fdca26\"], [1.0, \"#f0f921\"]], \"sequentialminus\": [[0.0, \"#0d0887\"], [0.1111111111111111, \"#46039f\"], [0.2222222222222222, \"#7201a8\"], [0.3333333333333333, \"#9c179e\"], [0.4444444444444444, \"#bd3786\"], [0.5555555555555556, \"#d8576b\"], [0.6666666666666666, \"#ed7953\"], [0.7777777777777778, \"#fb9f3a\"], [0.8888888888888888, \"#fdca26\"], [1.0, \"#f0f921\"]]}, \"colorway\": [\"#636efa\", \"#EF553B\", \"#00cc96\", \"#ab63fa\", \"#FFA15A\", \"#19d3f3\", \"#FF6692\", \"#B6E880\", \"#FF97FF\", \"#FECB52\"], \"font\": {\"color\": \"#2a3f5f\"}, \"geo\": {\"bgcolor\": \"white\", \"lakecolor\": \"white\", \"landcolor\": \"#E5ECF6\", \"showlakes\": true, \"showland\": true, \"subunitcolor\": \"white\"}, \"hoverlabel\": {\"align\": \"left\"}, \"hovermode\": \"closest\", \"mapbox\": {\"style\": \"light\"}, \"paper_bgcolor\": \"white\", \"plot_bgcolor\": \"#E5ECF6\", \"polar\": {\"angularaxis\": {\"gridcolor\": \"white\", \"linecolor\": \"white\", \"ticks\": \"\"}, \"bgcolor\": \"#E5ECF6\", \"radialaxis\": {\"gridcolor\": \"white\", \"linecolor\": \"white\", \"ticks\": \"\"}}, \"scene\": {\"xaxis\": {\"backgroundcolor\": \"#E5ECF6\", \"gridcolor\": \"white\", \"gridwidth\": 2, \"linecolor\": \"white\", \"showbackground\": true, \"ticks\": \"\", \"zerolinecolor\": \"white\"}, \"yaxis\": {\"backgroundcolor\": \"#E5ECF6\", \"gridcolor\": \"white\", \"gridwidth\": 2, \"linecolor\": \"white\", \"showbackground\": true, \"ticks\": \"\", \"zerolinecolor\": \"white\"}, \"zaxis\": {\"backgroundcolor\": \"#E5ECF6\", \"gridcolor\": \"white\", \"gridwidth\": 2, \"linecolor\": \"white\", \"showbackground\": true, \"ticks\": \"\", \"zerolinecolor\": \"white\"}}, \"shapedefaults\": {\"line\": {\"color\": \"#2a3f5f\"}}, \"ternary\": {\"aaxis\": {\"gridcolor\": \"white\", \"linecolor\": \"white\", \"ticks\": \"\"}, \"baxis\": {\"gridcolor\": \"white\", \"linecolor\": \"white\", \"ticks\": \"\"}, \"bgcolor\": \"#E5ECF6\", \"caxis\": {\"gridcolor\": \"white\", \"linecolor\": \"white\", \"ticks\": \"\"}}, \"title\": {\"x\": 0.05}, \"xaxis\": {\"automargin\": true, \"gridcolor\": \"white\", \"linecolor\": \"white\", \"ticks\": \"\", \"title\": {\"standoff\": 15}, \"zerolinecolor\": \"white\", \"zerolinewidth\": 2}, \"yaxis\": {\"automargin\": true, \"gridcolor\": \"white\", \"linecolor\": \"white\", \"ticks\": \"\", \"title\": {\"standoff\": 15}, \"zerolinecolor\": \"white\", \"zerolinewidth\": 2}}}, \"xaxis\": {\"anchor\": \"y\", \"domain\": [0.0, 1.0], \"title\": {\"text\": \"Chaincode\"}}, \"yaxis\": {\"anchor\": \"x\", \"domain\": [0.0, 1.0], \"title\": {\"text\": \"Key writes\"}}},                        {\"responsive\": true}                    ).then(function(){\n",
       "                            \n",
       "var gd = document.getElementById('1bea3db6-e036-4002-a0ca-de2bced5da3c');\n",
       "var x = new MutationObserver(function (mutations, observer) {{\n",
       "        var display = window.getComputedStyle(gd).display;\n",
       "        if (!display || display === 'none') {{\n",
       "            console.log([gd, 'removed!']);\n",
       "            Plotly.purge(gd);\n",
       "            observer.disconnect();\n",
       "        }}\n",
       "}});\n",
       "\n",
       "// Listen for the removal of the full notebook cells\n",
       "var notebookContainer = gd.closest('#notebook-container');\n",
       "if (notebookContainer) {{\n",
       "    x.observe(notebookContainer, {childList: true});\n",
       "}}\n",
       "\n",
       "// Listen for the clearing of the current output cell\n",
       "var outputEl = gd.closest('.output');\n",
       "if (outputEl) {{\n",
       "    x.observe(outputEl, {childList: true});\n",
       "}}\n",
       "\n",
       "                        })                };                });            </script>        </div>"
      ]
     },
     "metadata": {},
     "output_type": "display_data"
    }
   ],
   "source": [
    "labels={\"x\":\"Chaincode\",\"y\":\"Key writes\"}\n",
    "fig = px.bar(x=txDfw['chaincode'].unique(),y=txDfw['chaincode'].value_counts(),labels=labels)\n",
    "fig"
   ]
  },
  {
   "cell_type": "code",
   "execution_count": 16,
   "metadata": {},
   "outputs": [
    {
     "data": {
      "application/vnd.jupyter.widget-view+json": {
       "model_id": "e83c7ed4dda14ea5a6d622ec0b1fad14"
      },
      "text/plain": [
       "  schemaname           tablename tableowner tablespace  hasindexes  hasrules  \\\n",
       "0     public              blocks      hppoc       None        True     False   \n",
       "1     public          chaincodes      hppoc       None        True     False   \n",
       "2     public             channel      hppoc       None        True     False   \n",
       "3     public             orderer      hppoc       None        True     False   \n",
       "4     public                peer      hppoc       None        True     False   \n",
       "5     public  peer_ref_chaincode      hppoc       None        True     False   \n",
       "6     public    peer_ref_channel      hppoc       None        True     False   \n",
       "7     public        transactions      hppoc       None        True     False   \n",
       "8     public               users      hppoc       None        True     False   \n",
       "9     public          write_lock      hppoc       None        True     False   \n",
       "\n",
       "   hastriggers  rowsecurity  \n",
       "0        False        False  \n",
       "1        False        False  \n",
       "2        False        False  \n",
       "3        False        False  \n",
       "4        False        False  \n",
       "5        False        False  \n",
       "6        False        False  \n",
       "7        False        False  \n",
       "8        False        False  \n",
       "9        False        False  "
      ]
     },
     "metadata": {},
     "output_type": "display_data"
    }
   ],
   "source": [
    "query = \"SELECT * FROM pg_catalog.pg_tables WHERE schemaname != 'information_schema' AND schemaname != 'pg_catalog';\"\n",
    "# query = \"select * from peer\"\n",
    "idkdf = pd.read_sql(query,con=engine)\n",
    "idkdf"
   ]
  },
  {
   "cell_type": "code",
   "execution_count": 17,
   "metadata": {},
   "outputs": [
    {
     "name": "stdout",
     "output_type": "stream",
     "text": [
      "690760065\n"
     ]
    }
   ],
   "source": [
    "import binascii\n",
    "import curses\n",
    "# binascii.hexlify('a'.encode('utf8'))\n",
    "# \"e\".encode('utf8').hex()\n",
    "# bytes.fromhex('69').decode()\n",
    "# bytes.fromhex('690760065').decode('utf8')\n",
    "# binascii.unhexlify('6900760065').decode('utf8')\n",
    "print(str(b\"690760065\",'utf8'))"
   ]
  }
 ],
 "metadata": {
  "interpreter": {
   "hash": "e7370f93d1d0cde622a1f8e1c04877d8463912d04d973331ad4851f04de6915a"
  },
  "kernelspec": {
   "display_name": "Python 3 (ipykernel)",
   "language": "python",
   "name": "python3"
  },
  "language_info": {
   "codemirror_mode": {
    "name": "ipython",
    "version": 3
   },
   "file_extension": ".py",
   "mimetype": "text/x-python",
   "name": "python",
   "nbconvert_exporter": "python",
   "pygments_lexer": "ipython3",
   "version": "3.9.7"
  }
 },
 "nbformat": 4,
 "nbformat_minor": 2
}
