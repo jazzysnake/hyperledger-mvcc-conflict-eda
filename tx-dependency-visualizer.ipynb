{
 "cells": [
  {
   "cell_type": "code",
   "execution_count": 82,
   "metadata": {},
   "outputs": [
    {
     "data": {
      "application/vnd.jupyter.widget-view+json": {
       "model_id": "f37c3c00fb4e4e8d9f1bef59461b59b4"
      },
      "text/plain": [
       "        id  blockid chaincodename  status    creator_msp_id  \\\n",
       "0        6        6        simple   200.0  org0-example-com   \n",
       "10      16       10      samplecc   200.0  org0-example-com   \n",
       "11      17       11      samplecc   200.0  org0-example-com   \n",
       "12      18       11      samplecc   200.0  org0-example-com   \n",
       "13      19       11      samplecc   200.0  org0-example-com   \n",
       "...    ...      ...           ...     ...               ...   \n",
       "9898  9904     1001      samplecc   200.0  org0-example-com   \n",
       "9899  9905     1001      samplecc   200.0  org0-example-com   \n",
       "9900  9906     1001      samplecc   200.0  org0-example-com   \n",
       "9901  9907     1002      samplecc   200.0  org0-example-com   \n",
       "9902  9908     1002      samplecc   200.0  org0-example-com   \n",
       "\n",
       "                                               read_set  \\\n",
       "0     [{'chaincode': '_lifecycle', 'set': [{'key': '...   \n",
       "10    [{'chaincode': '_lifecycle', 'set': [{'key': '...   \n",
       "11    [{'chaincode': '_lifecycle', 'set': [{'key': '...   \n",
       "12    [{'chaincode': '_lifecycle', 'set': [{'key': '...   \n",
       "13    [{'chaincode': '_lifecycle', 'set': [{'key': '...   \n",
       "...                                                 ...   \n",
       "9898  [{'chaincode': '_lifecycle', 'set': [{'key': '...   \n",
       "9899  [{'chaincode': '_lifecycle', 'set': [{'key': '...   \n",
       "9900  [{'chaincode': '_lifecycle', 'set': [{'key': '...   \n",
       "9901  [{'chaincode': '_lifecycle', 'set': [{'key': '...   \n",
       "9902  [{'chaincode': '_lifecycle', 'set': [{'key': '...   \n",
       "\n",
       "                                              write_set validation_code  \\\n",
       "0     [{'chaincode': '_lifecycle', 'set': []}, {'cha...           VALID   \n",
       "10    [{'chaincode': '_lifecycle', 'set': []}, {'cha...           VALID   \n",
       "11    [{'chaincode': '_lifecycle', 'set': []}, {'cha...           VALID   \n",
       "12    [{'chaincode': '_lifecycle', 'set': []}, {'cha...           VALID   \n",
       "13    [{'chaincode': '_lifecycle', 'set': []}, {'cha...           VALID   \n",
       "...                                                 ...             ...   \n",
       "9898  [{'chaincode': '_lifecycle', 'set': []}, {'cha...           VALID   \n",
       "9899  [{'chaincode': '_lifecycle', 'set': []}, {'cha...           VALID   \n",
       "9900  [{'chaincode': '_lifecycle', 'set': []}, {'cha...           VALID   \n",
       "9901  [{'chaincode': '_lifecycle', 'set': []}, {'cha...           VALID   \n",
       "9902  [{'chaincode': '_lifecycle', 'set': []}, {'cha...           VALID   \n",
       "\n",
       "                               chaincode_proposal_input  \n",
       "0                           6906974,61,323030,62,333030  \n",
       "10                                                       \n",
       "11    690760065,707574,30030034353335323738,30034353...  \n",
       "12    690760065,707574,310300383630373537,3103836303...  \n",
       "13    690760065,707574,30030032343231313436,30032343...  \n",
       "...                                                 ...  \n",
       "9898  690760065,707574,30030034313131343634,30034313...  \n",
       "9899  690760065,707574,30030031313930313931,30031313...  \n",
       "9900  690760065,707574,30030034353032363139,30034353...  \n",
       "9901  690760065,707574,30030034313531343732,30034313...  \n",
       "9902  690760065,707574,30030031313236343037,30031313...  \n",
       "\n",
       "[9894 rows x 9 columns]"
      ]
     },
     "metadata": {},
     "output_type": "display_data"
    }
   ],
   "source": [
    "DATABASE_HOST=\"172.20.0.16\"\n",
    "# DATABASE_HOST=\"172.20.0.3\"\n",
    "DATABASE_DATABASE=\"fabricexplorer\"\n",
    "DATABASE_USERNAME=\"hppoc\"\n",
    "DATABASE_PASSWORD=\"password\"\n",
    "import pandas as pd\n",
    "import numpy as np\n",
    "from sqlalchemy import create_engine\n",
    "import bamboolib as bam\n",
    "# import hiplot as hip\n",
    "import matplotlib.pyplot as ptlib\n",
    "import plotly.express as px\n",
    "import json\n",
    "\n",
    "# to get the ips of docker containers\n",
    "# docker ps -q | xargs -n 1 docker inspect --format '{{ .Name }} {{range .NetworkSettings.Networks}} {{.IPAddress}}{{end}}' | sed 's#^/##';\n",
    "# list all user defined tables and schemas\n",
    "# \"SELECT * FROM pg_catalog.pg_tables WHERE schemaname != 'information_schema' AND schemaname != 'pg_catalog';\"\n",
    "\n",
    "#initializing resources\n",
    "engine = create_engine('postgresql://'+DATABASE_USERNAME+':'+DATABASE_PASSWORD+'@'+DATABASE_HOST+':5432/'+DATABASE_DATABASE)\n",
    "\n",
    "txQuery = \"SELECT * FROM transactions\"\n",
    "txDf = pd.read_sql(txQuery,con=engine)\n",
    "# txDf.to_csv('backup.csv')\n",
    "txDf=txDf[txDf['read_set'].isna()==False]\n",
    "txDf=txDf[txDf['chaincodename'].str.contains('_lifecycle')==False]\n",
    "txDf=txDf[txDf['type'].str.contains('CONFIG')==False]\n",
    "txDf=txDf.drop(columns=[\"txhash\",\"chaincode_id\",\"endorser_msp_id\",\"type\",\"createdt\",\"channel_genesis_hash\",\"envelope_signature\",\"creator_id_bytes\", \"creator_nonce\", \"payload_extension\",\"tx_response\",\"payload_proposal_hash\",\"endorser_id_bytes\",\"endorser_signature\", \"network_name\"])\n",
    "txDf"
   ]
  },
  {
   "cell_type": "code",
   "execution_count": 83,
   "metadata": {},
   "outputs": [],
   "source": [
    "read_set=txDf[\"read_set\"]\n",
    "write_set=txDf[\"write_set\"]\n",
    "for item in read_set:\n",
    "    item.pop(0)\n",
    "for item in write_set:\n",
    "    item.pop(0)"
   ]
  },
  {
   "cell_type": "code",
   "execution_count": 84,
   "metadata": {
    "scrolled": true
   },
   "outputs": [
    {
     "data": {
      "application/vnd.jupyter.widget-view+json": {
       "model_id": "21d42639ee5e41ce8579937390743f56"
      },
      "text/plain": [
       "        id  blockid chaincodename  status    creator_msp_id  \\\n",
       "11      17       11      samplecc   200.0  org0-example-com   \n",
       "12      18       11      samplecc   200.0  org0-example-com   \n",
       "13      19       11      samplecc   200.0  org0-example-com   \n",
       "14      20       11      samplecc   200.0  org0-example-com   \n",
       "15      21       11      samplecc   200.0  org0-example-com   \n",
       "...    ...      ...           ...     ...               ...   \n",
       "9898  9904     1001      samplecc   200.0  org0-example-com   \n",
       "9899  9905     1001      samplecc   200.0  org0-example-com   \n",
       "9900  9906     1001      samplecc   200.0  org0-example-com   \n",
       "9901  9907     1002      samplecc   200.0  org0-example-com   \n",
       "9902  9908     1002      samplecc   200.0  org0-example-com   \n",
       "\n",
       "                                               read_set  \\\n",
       "11    {'chaincode': 'samplecc', 'set': [{'key': '\u0000􏿿i...   \n",
       "12    {'chaincode': 'samplecc', 'set': [{'key': '\u0000􏿿i...   \n",
       "13    {'chaincode': 'samplecc', 'set': [{'key': '\u0000􏿿i...   \n",
       "14    {'chaincode': 'samplecc', 'set': [{'key': '\u0000􏿿i...   \n",
       "15    {'chaincode': 'samplecc', 'set': [{'key': '\u0000􏿿i...   \n",
       "...                                                 ...   \n",
       "9898  {'chaincode': 'samplecc', 'set': [{'key': '\u0000􏿿i...   \n",
       "9899  {'chaincode': 'samplecc', 'set': [{'key': '\u0000􏿿i...   \n",
       "9900  {'chaincode': 'samplecc', 'set': [{'key': '\u0000􏿿i...   \n",
       "9901  {'chaincode': 'samplecc', 'set': [{'key': '\u0000􏿿i...   \n",
       "9902  {'chaincode': 'samplecc', 'set': [{'key': '\u0000􏿿i...   \n",
       "\n",
       "                                              write_set validation_code  \\\n",
       "11    {'chaincode': 'samplecc', 'set': [{'key': '0_0...           VALID   \n",
       "12    {'chaincode': 'samplecc', 'set': [{'key': '1_0...           VALID   \n",
       "13    {'chaincode': 'samplecc', 'set': [{'key': '0_0...           VALID   \n",
       "14    {'chaincode': 'samplecc', 'set': [{'key': '1_0...           VALID   \n",
       "15    {'chaincode': 'samplecc', 'set': [{'key': '0_0...           VALID   \n",
       "...                                                 ...             ...   \n",
       "9898  {'chaincode': 'samplecc', 'set': [{'key': '0_0...           VALID   \n",
       "9899  {'chaincode': 'samplecc', 'set': [{'key': '0_0...           VALID   \n",
       "9900  {'chaincode': 'samplecc', 'set': [{'key': '0_0...           VALID   \n",
       "9901  {'chaincode': 'samplecc', 'set': [{'key': '0_0...           VALID   \n",
       "9902  {'chaincode': 'samplecc', 'set': [{'key': '0_0...           VALID   \n",
       "\n",
       "                               chaincode_proposal_input  \n",
       "11    690760065,707574,30030034353335323738,30034353...  \n",
       "12    690760065,707574,310300383630373537,3103836303...  \n",
       "13    690760065,707574,30030032343231313436,30032343...  \n",
       "14    690760065,707574,31030033303832393132,31033303...  \n",
       "15    690760065,707574,30030034323630393030,30034323...  \n",
       "...                                                 ...  \n",
       "9898  690760065,707574,30030034313131343634,30034313...  \n",
       "9899  690760065,707574,30030031313930313931,30031313...  \n",
       "9900  690760065,707574,30030034353032363139,30034353...  \n",
       "9901  690760065,707574,30030034313531343732,30034313...  \n",
       "9902  690760065,707574,30030031313236343037,30031313...  \n",
       "\n",
       "[9892 rows x 9 columns]"
      ]
     },
     "metadata": {},
     "output_type": "display_data"
    }
   ],
   "source": [
    "txDf['read_set']=read_set\n",
    "txDf['write_set']=write_set\n",
    "txDf = txDf.explode('read_set')\n",
    "txDf = txDf.explode('write_set')\n",
    "txDf = txDf.loc[(txDf['read_set'].astype('string').str.contains('version', case=False, regex=False, na=False))]\n",
    "txDf"
   ]
  },
  {
   "cell_type": "code",
   "execution_count": 85,
   "metadata": {
    "scrolled": true
   },
   "outputs": [
    {
     "data": {
      "application/vnd.jupyter.widget-view+json": {
       "model_id": "8c941772d3e04f219c271567cc5923e4"
      },
      "text/plain": [
       "        id  blockid  status    creator_msp_id validation_code  \\\n",
       "11      17       11   200.0  org0-example-com           VALID   \n",
       "12      18       11   200.0  org0-example-com           VALID   \n",
       "13      19       11   200.0  org0-example-com           VALID   \n",
       "14      20       11   200.0  org0-example-com           VALID   \n",
       "15      21       11   200.0  org0-example-com           VALID   \n",
       "...    ...      ...     ...               ...             ...   \n",
       "9898  9904     1001   200.0  org0-example-com           VALID   \n",
       "9899  9905     1001   200.0  org0-example-com           VALID   \n",
       "9900  9906     1001   200.0  org0-example-com           VALID   \n",
       "9901  9907     1002   200.0  org0-example-com           VALID   \n",
       "9902  9908     1002   200.0  org0-example-com           VALID   \n",
       "\n",
       "                               chaincode_proposal_input r_chaincode  \\\n",
       "11    690760065,707574,30030034353335323738,30034353...    samplecc   \n",
       "12    690760065,707574,310300383630373537,3103836303...    samplecc   \n",
       "13    690760065,707574,30030032343231313436,30032343...    samplecc   \n",
       "14    690760065,707574,31030033303832393132,31033303...    samplecc   \n",
       "15    690760065,707574,30030034323630393030,30034323...    samplecc   \n",
       "...                                                 ...         ...   \n",
       "9898  690760065,707574,30030034313131343634,30034313...    samplecc   \n",
       "9899  690760065,707574,30030031313930313931,30031313...    samplecc   \n",
       "9900  690760065,707574,30030034353032363139,30034353...    samplecc   \n",
       "9901  690760065,707574,30030034313531343732,30034313...    samplecc   \n",
       "9902  690760065,707574,30030031313236343037,30031313...    samplecc   \n",
       "\n",
       "                                                     rs w_chaincode  \\\n",
       "11    [{'key': '\u0000􏿿initialized', 'version': {'block_n...    samplecc   \n",
       "12    [{'key': '\u0000􏿿initialized', 'version': {'block_n...    samplecc   \n",
       "13    [{'key': '\u0000􏿿initialized', 'version': {'block_n...    samplecc   \n",
       "14    [{'key': '\u0000􏿿initialized', 'version': {'block_n...    samplecc   \n",
       "15    [{'key': '\u0000􏿿initialized', 'version': {'block_n...    samplecc   \n",
       "...                                                 ...         ...   \n",
       "9898  [{'key': '\u0000􏿿initialized', 'version': {'block_n...    samplecc   \n",
       "9899  [{'key': '\u0000􏿿initialized', 'version': {'block_n...    samplecc   \n",
       "9900  [{'key': '\u0000􏿿initialized', 'version': {'block_n...    samplecc   \n",
       "9901  [{'key': '\u0000􏿿initialized', 'version': {'block_n...    samplecc   \n",
       "9902  [{'key': '\u0000􏿿initialized', 'version': {'block_n...    samplecc   \n",
       "\n",
       "                                                     ws  \n",
       "11    [{'key': '0_0_4535278', 'is_delete': False, 'v...  \n",
       "12    [{'key': '1_0_860757', 'is_delete': False, 'va...  \n",
       "13    [{'key': '0_0_2421146', 'is_delete': False, 'v...  \n",
       "14    [{'key': '1_0_3082912', 'is_delete': False, 'v...  \n",
       "15    [{'key': '0_0_4260900', 'is_delete': False, 'v...  \n",
       "...                                                 ...  \n",
       "9898  [{'key': '0_0_4111464', 'is_delete': False, 'v...  \n",
       "9899  [{'key': '0_0_1190191', 'is_delete': False, 'v...  \n",
       "9900  [{'key': '0_0_4502619', 'is_delete': False, 'v...  \n",
       "9901  [{'key': '0_0_4151472', 'is_delete': False, 'v...  \n",
       "9902  [{'key': '0_0_1126407', 'is_delete': False, 'v...  \n",
       "\n",
       "[9892 rows x 10 columns]"
      ]
     },
     "metadata": {},
     "output_type": "display_data"
    }
   ],
   "source": [
    "txDf['r_chaincode'] =txDf['read_set'].apply(lambda x: x['chaincode'])\n",
    "txDf['rs'] =txDf['read_set'].apply(lambda x: x['set'])\n",
    "txDf = txDf.drop(columns=['chaincodename','read_set'])\n",
    "txDf['w_chaincode'] =txDf['write_set'].apply(lambda x: x['chaincode'])\n",
    "txDf['ws'] =txDf['write_set'].apply(lambda x: x['set'])\n",
    "txDf = txDf.drop(columns=['write_set'])\n",
    "txDf"
   ]
  },
  {
   "cell_type": "code",
   "execution_count": 86,
   "metadata": {},
   "outputs": [],
   "source": [
    "def classifyWrite(ws):\n",
    "    if str(ws)=='nan':\n",
    "        return np.nan\n",
    "    elif ws['is_delete']:\n",
    "        return 'DELETE'\n",
    "    else:\n",
    "        return 'WRITE'\n",
    "txDfr = txDf.drop(columns=['w_chaincode','ws']).explode('rs')\n",
    "txDfr = txDfr.rename(columns={'r_chaincode': 'chaincode','rs':'key'})\n",
    "txDfr['access_type'] = txDfr['key'].apply(lambda x: 'READ')\n",
    "txDfr['version_block'] = txDfr['key'].apply(lambda x: np.nan if str(x) == 'nan' else x['version']['block_num'])\n",
    "txDfr['version_tx'] = txDfr['key'].apply(lambda x: np.nan if str(x) == 'nan' else x['version']['tx_num'])\n",
    "txDfw = txDf.drop(columns=['r_chaincode','rs']).explode('ws')\n",
    "txDfw = txDfw.rename(columns={'w_chaincode': 'chaincode','ws':'key'})\n",
    "txDfw['access_type'] = txDfw['key'].apply(lambda x: classifyWrite(x))\n",
    "txDf = txDfr.append(txDfw).reset_index(drop=True).rename(columns={'id':'txid'})\n",
    "txDf['key']=txDf['key'].apply(lambda x:np.nan if str(x) == 'nan' else x['key'])"
   ]
  },
  {
   "cell_type": "code",
   "execution_count": 87,
   "metadata": {},
   "outputs": [
    {
     "data": {
      "application/vnd.jupyter.widget-view+json": {
       "model_id": "cd255701ef6d46de96b09e770d241cf1"
      },
      "text/plain": [
       "       txid  blockid  status    creator_msp_id validation_code  \\\n",
       "0        17       11   200.0  org0-example-com           VALID   \n",
       "1        18       11   200.0  org0-example-com           VALID   \n",
       "2        19       11   200.0  org0-example-com           VALID   \n",
       "3        20       11   200.0  org0-example-com           VALID   \n",
       "4        21       11   200.0  org0-example-com           VALID   \n",
       "...     ...      ...     ...               ...             ...   \n",
       "19779  9904     1001   200.0  org0-example-com           VALID   \n",
       "19780  9905     1001   200.0  org0-example-com           VALID   \n",
       "19781  9906     1001   200.0  org0-example-com           VALID   \n",
       "19782  9907     1002   200.0  org0-example-com           VALID   \n",
       "19783  9908     1002   200.0  org0-example-com           VALID   \n",
       "\n",
       "                                chaincode_proposal_input chaincode  \\\n",
       "0      690760065,707574,30030034353335323738,30034353...  samplecc   \n",
       "1      690760065,707574,310300383630373537,3103836303...  samplecc   \n",
       "2      690760065,707574,30030032343231313436,30032343...  samplecc   \n",
       "3      690760065,707574,31030033303832393132,31033303...  samplecc   \n",
       "4      690760065,707574,30030034323630393030,30034323...  samplecc   \n",
       "...                                                  ...       ...   \n",
       "19779  690760065,707574,30030034313131343634,30034313...  samplecc   \n",
       "19780  690760065,707574,30030031313930313931,30031313...  samplecc   \n",
       "19781  690760065,707574,30030034353032363139,30034353...  samplecc   \n",
       "19782  690760065,707574,30030034313531343732,30034313...  samplecc   \n",
       "19783  690760065,707574,30030031313236343037,30031313...  samplecc   \n",
       "\n",
       "                 key access_type                             version_block  \\\n",
       "0      \u0000􏿿initialized        READ  {'low': 10, 'high': 0, 'unsigned': True}   \n",
       "1      \u0000􏿿initialized        READ  {'low': 10, 'high': 0, 'unsigned': True}   \n",
       "2      \u0000􏿿initialized        READ  {'low': 10, 'high': 0, 'unsigned': True}   \n",
       "3      \u0000􏿿initialized        READ  {'low': 10, 'high': 0, 'unsigned': True}   \n",
       "4      \u0000􏿿initialized        READ  {'low': 10, 'high': 0, 'unsigned': True}   \n",
       "...              ...         ...                                       ...   \n",
       "19779    0_0_4111464       WRITE                                       NaN   \n",
       "19780    0_0_1190191       WRITE                                       NaN   \n",
       "19781    0_0_4502619       WRITE                                       NaN   \n",
       "19782    0_0_4151472       WRITE                                       NaN   \n",
       "19783    0_0_1126407       WRITE                                       NaN   \n",
       "\n",
       "                                    version_tx  \n",
       "0      {'low': 0, 'high': 0, 'unsigned': True}  \n",
       "1      {'low': 0, 'high': 0, 'unsigned': True}  \n",
       "2      {'low': 0, 'high': 0, 'unsigned': True}  \n",
       "3      {'low': 0, 'high': 0, 'unsigned': True}  \n",
       "4      {'low': 0, 'high': 0, 'unsigned': True}  \n",
       "...                                        ...  \n",
       "19779                                      NaN  \n",
       "19780                                      NaN  \n",
       "19781                                      NaN  \n",
       "19782                                      NaN  \n",
       "19783                                      NaN  \n",
       "\n",
       "[19784 rows x 11 columns]"
      ]
     },
     "metadata": {},
     "output_type": "display_data"
    }
   ],
   "source": [
    "txDf"
   ]
  },
  {
   "cell_type": "code",
   "execution_count": 88,
   "metadata": {},
   "outputs": [
    {
     "data": {
      "application/vnd.jupyter.widget-view+json": {
       "model_id": "7f73ff5a516348bebde7f2ae3072760c"
      },
      "text/plain": [
       "  schemaname           tablename tableowner tablespace  hasindexes  hasrules  \\\n",
       "0     public              blocks      hppoc       None        True     False   \n",
       "1     public          chaincodes      hppoc       None        True     False   \n",
       "2     public  peer_ref_chaincode      hppoc       None        True     False   \n",
       "3     public             channel      hppoc       None        True     False   \n",
       "4     public                peer      hppoc       None        True     False   \n",
       "5     public    peer_ref_channel      hppoc       None        True     False   \n",
       "6     public             orderer      hppoc       None        True     False   \n",
       "7     public        transactions      hppoc       None        True     False   \n",
       "8     public               users      hppoc       None        True     False   \n",
       "9     public          write_lock      hppoc       None        True     False   \n",
       "\n",
       "   hastriggers  rowsecurity  \n",
       "0        False        False  \n",
       "1        False        False  \n",
       "2        False        False  \n",
       "3        False        False  \n",
       "4        False        False  \n",
       "5        False        False  \n",
       "6        False        False  \n",
       "7        False        False  \n",
       "8        False        False  \n",
       "9        False        False  "
      ]
     },
     "metadata": {},
     "output_type": "display_data"
    }
   ],
   "source": [
    "query = \"SELECT * FROM pg_catalog.pg_tables WHERE schemaname != 'information_schema' AND schemaname != 'pg_catalog';\"\n",
    "# query = \"select * from peer\"\n",
    "idkdf = pd.read_sql(query,con=engine)\n",
    "idkdf"
   ]
  }
 ],
 "metadata": {
  "interpreter": {
   "hash": "e7370f93d1d0cde622a1f8e1c04877d8463912d04d973331ad4851f04de6915a"
  },
  "kernelspec": {
   "display_name": "Python 3",
   "language": "python",
   "name": "python3"
  },
  "language_info": {
   "codemirror_mode": {
    "name": "ipython",
    "version": 3
   },
   "file_extension": ".py",
   "mimetype": "text/x-python",
   "name": "python",
   "nbconvert_exporter": "python",
   "pygments_lexer": "ipython3",
   "version": "3.8.8"
  }
 },
 "nbformat": 4,
 "nbformat_minor": 2
}
